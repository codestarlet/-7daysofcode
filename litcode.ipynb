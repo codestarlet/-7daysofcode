{
  "nbformat": 4,
  "nbformat_minor": 0,
  "metadata": {
    "colab": {
      "name": "litcode.ipynb",
      "provenance": [],
      "collapsed_sections": [],
      "toc_visible": true,
      "authorship_tag": "ABX9TyPMWC+PHNtRJbyezTi46uZV",
      "include_colab_link": true
    },
    "kernelspec": {
      "name": "python3",
      "display_name": "Python 3"
    }
  },
  "cells": [
    {
      "cell_type": "markdown",
      "metadata": {
        "id": "view-in-github",
        "colab_type": "text"
      },
      "source": [
        "<a href=\"https://colab.research.google.com/github/codestarlet/-7daysofcode/blob/master/litcode.ipynb\" target=\"_parent\"><img src=\"https://colab.research.google.com/assets/colab-badge.svg\" alt=\"Open In Colab\"/></a>"
      ]
    },
    {
      "cell_type": "markdown",
      "metadata": {
        "id": "d5nXzcOIz7D8"
      },
      "source": [
        "## **Sum of Three Values**\r\n",
        "Given an array of integers and a value, determine if there are any three integers in the array whose sum equals the given value.\r\n",
        "Consider the array and the target sums."
      ]
    },
    {
      "cell_type": "code",
      "metadata": {
        "colab": {
          "base_uri": "https://localhost:8080/"
        },
        "id": "2Q4aho2K0Erv",
        "outputId": "9f69ea7e-d8f9-46e8-8f60-af33490d5f10"
      },
      "source": [
        "def find_sum_of_two(A, val, start):\r\n",
        "  i = start\r\n",
        "  j = len(A) - 1\r\n",
        "  while i < j:\r\n",
        "    s = A[i] + A[j]\r\n",
        "    if s == val:\r\n",
        "      return True\r\n",
        "\r\n",
        "    if s < val:\r\n",
        "      i += 1\r\n",
        "    else:\r\n",
        "      j -= 1\r\n",
        "A = [-25, -10, -7, -3, 2, 4, 8, 10]\r\n",
        "print(find_sum_of_two(A, 6, 0)) "
      ],
      "execution_count": 9,
      "outputs": [
        {
          "output_type": "stream",
          "text": [
            "True\n"
          ],
          "name": "stdout"
        }
      ]
    },
    {
      "cell_type": "markdown",
      "metadata": {
        "id": "xQntdEaAQlYV"
      },
      "source": [
        "## **Find the Duplicate Number**\r\n",
        "Given an array nums containing n + 1 integers where each integer is between 1 and n (inclusive), prove that at least one duplicate number must exist. Assume that there is only one duplicate number, find the duplicate one."
      ]
    },
    {
      "cell_type": "code",
      "metadata": {
        "id": "vKDY9qpeQn7t"
      },
      "source": [
        "class Solution:\r\n",
        "    def findDuplicate(self, nums)\r\n",
        "        slow, fast = nums[0], nums[nums[0]]\r\n",
        "        while slow != fast:\r\n",
        "            slow = nums[slow]\r\n",
        "            fast = nums[nums[fast]]\r\n",
        "        slow = 0\r\n",
        "        while slow != fast:\r\n",
        "            slow = nums[slow]\r\n",
        "            fast = nums[fast]\r\n",
        "        return fast"
      ],
      "execution_count": null,
      "outputs": []
    },
    {
      "cell_type": "markdown",
      "metadata": {
        "id": "jZdj45zwQmRW"
      },
      "source": [
        "## **Game of Life**\r\n",
        "According to Wikipedia’s article: “The Game of Life, also known simply as Life, is a cellular automaton devised by the British mathematician John Horton Conway in 1970.”\r\n",
        "\r\n",
        "The board is made up of an m x n grid of cells, where each cell has an initial state: live (represented by a 1) or dead (represented by a 0). Each cell interacts with its eight neighbors (horizontal, vertical, diagonal) using the following four rules (taken from the above Wikipedia article):\r\n",
        "\r\n",
        "Any live cell with fewer than two live neighbors dies as if caused by under-population.\r\n",
        "Any live cell with two or three live neighbors lives on to the next generation.\r\n",
        "Any live cell with more than three live neighbors dies, as if by over-population.\r\n",
        "Any dead cell with exactly three live neighbors becomes a live cell, as if by reproduction. The next state is created by applying the above rules simultaneously to every cell in the current state, where births and deaths occur simultaneously. Given the current state of the m x n grid board, return the next state.\r\n",
        "Follow up:\r\n",
        "\r\n",
        "Could you solve it in-place? Remember that the board needs to be updated simultaneously: You cannot update some cells first and then use their updated values to update other cells.\r\n",
        "In this question, we represent the board using a 2D array. In principle, the board is infinite, which would cause problems when the active area encroaches upon the border of the array (i.e., live cells reach the border). How would you address these problems?"
      ]
    },
    {
      "cell_type": "markdown",
      "metadata": {
        "id": "g8UMBbuFz2qC"
      },
      "source": [
        ""
      ]
    },
    {
      "cell_type": "code",
      "metadata": {
        "id": "vaUTAHnCdFfC"
      },
      "source": [
        "class Solution:\r\n",
        "    def gameOfLife(self, board): \r\n",
        "        \"\"\" Do not return anything, modify board in-place instead. \"\"\"\r\n",
        "        m = len(board)\r\n",
        "        n = len(board[0])\r\n",
        "        d = [(1, 0), (-1, 0), (0, 1), (0, -1), (-1, -1), (-1, 1), (1, -1), (1, 1)]\r\n",
        "        for i in range(m):\r\n",
        "            for j in range(n):\r\n",
        "                live = 0\r\n",
        "                for tx, ty in d:\r\n",
        "                    x, y = i + tx, j + ty\r\n",
        "                    if x < 0 or x == m or y < 0 or y == n:\r\n",
        "                        continue\r\n",
        "                    if board[x][y] & 1:\r\n",
        "                        live += 1\r\n",
        "                if board[i][j] == 0:\r\n",
        "                    if live == 3:\r\n",
        "                        board[i][j] = 2\r\n",
        "                else:\r\n",
        "                    if 2 <= live <= 3:\r\n",
        "                        board[i][j] = 3\r\n",
        "                    else:\r\n",
        "                        board[i][j] = 1\r\n",
        "        for i in range(m):\r\n",
        "            for j in range(n):\r\n",
        "                board[i][j] >>= 1"
      ],
      "execution_count": null,
      "outputs": []
    },
    {
      "cell_type": "markdown",
      "metadata": {
        "id": "8tN7OmUidS_2"
      },
      "source": [
        "## **Word Pattern**\r\n",
        "Given a pattern and a string str, find if str follows the same pattern.\r\n",
        "\r\n",
        "Here follow means a full match, such that there is a bijection between a letter in pattern and a non-empty word in str."
      ]
    },
    {
      "cell_type": "code",
      "metadata": {
        "id": "c9qTcGYoQont"
      },
      "source": [
        "class Solution:\r\n",
        "    def wordPattern(self, pattern: str, str: str) -> bool:\r\n",
        "        str = str.split(\" \")\r\n",
        "        if len(pattern) != len(str):\r\n",
        "            return False\r\n",
        "        dic1, dic2 = {}, {}\r\n",
        "        for p, w in zip(pattern, str):\r\n",
        "            if p not in dic1:\r\n",
        "                dic1[p] = w\r\n",
        "            elif dic1[p] != w:\r\n",
        "                return False\r\n",
        "            if w not in dic2:\r\n",
        "                dic2[w] = p\r\n",
        "            elif dic2[w] != p:\r\n",
        "                return False\r\n",
        "        return True"
      ],
      "execution_count": null,
      "outputs": []
    },
    {
      "cell_type": "markdown",
      "metadata": {
        "id": "GM9v_4baQmbj"
      },
      "source": [
        "## **Bulls and Cows**\r\n",
        "You are playing the following Bulls and Cows game with your friend: You write down a number and ask your friend to guess what the number is. Each time your friend makes a guess, you provide a hint that indicates how many digits in said guess match your secret number exactly in both digit and position (called “bulls”) and how many digits match the secret number but locate in the wrong position (called “cows”). Your friend will use successive guesses and hints to eventually derive the secret number.\r\n",
        "\r\n",
        "Write a function to return a hint according to the secret number and friend’s guess, use A to indicate the bulls and B to indicate the cows.\r\n",
        "\r\n",
        "Please note that both secret number and friend’s guess may contain duplicate digits.\r\n"
      ]
    },
    {
      "cell_type": "code",
      "metadata": {
        "id": "7fqwN8mEQpUH"
      },
      "source": [
        "class Solution:\r\n",
        "    def getHint(self, secret: str, guess: str) -> str:\r\n",
        "        s1, s2 = defaultdict(int), defaultdict(int)\r\n",
        "        A = B = 0\r\n",
        "        for s, g in zip(secret, guess):\r\n",
        "            if s == g:\r\n",
        "                A += 1\r\n",
        "            else:\r\n",
        "                s1[s] += 1\r\n",
        "                s2[g] += 1\r\n",
        "        for k in s1.keys():\r\n",
        "            if k in s2:\r\n",
        "                B += min(s1[k], s2[k])\r\n",
        "        return \"%sA%sB\" % (A, B)"
      ],
      "execution_count": null,
      "outputs": []
    },
    {
      "cell_type": "markdown",
      "metadata": {
        "id": "vpmjwY3MQmpH"
      },
      "source": [
        "## **Minimum Height Trees**\r\n",
        "A tree is an undirected graph in which any two vertices are connected by exactly one path. In other words, any connected graph without simple cycles is a tree.\r\n",
        "\r\n",
        "Given a tree of n nodes labelled from 0 to n - 1, and an array of n - 1 edges where edges[i] = [ai, bi] indicates that there is an undirected edge between the two nodes ai and bi in the tree, you can choose any node of the tree as the root. When you select a node x as the root, the result tree has height h. Among all possible rooted trees, those with minimum height (i.e. min(h)) are called minimum height trees (MHTs).\r\n",
        "\r\n",
        "Return a list of all MHTs’ root labels. You can return the answer in any order.\r\n",
        "\r\n",
        "The height of a rooted tree is the number of edges on the longest downward path between the root and a leaf."
      ]
    },
    {
      "cell_type": "code",
      "metadata": {
        "id": "EdXZav05Qp8E"
      },
      "source": [
        "class Solution:\r\n",
        "    def findMinHeightTrees(self, n: int, edges: List[List[int]]) -> List[int]:\r\n",
        "        edge = [set() for _ in range(n)]\r\n",
        "        for u, v in edges:\r\n",
        "            edge[u].add(v)\r\n",
        "            edge[v].add(u)\r\n",
        "        q = [x for x in range(n) if len(edge[x]) < 2]\r\n",
        "        tmp = []\r\n",
        "        while True:\r\n",
        "            for node in q:\r\n",
        "                for n in edge[node]:\r\n",
        "                    edge[n].remove(node)\r\n",
        "                    if len(edge[n]) == 1:\r\n",
        "                        tmp.append(n)\r\n",
        "            if not tmp:\r\n",
        "                break\r\n",
        "            tmp, q = [], tmp\r\n",
        "        return q"
      ],
      "execution_count": null,
      "outputs": []
    },
    {
      "cell_type": "markdown",
      "metadata": {
        "id": "5otyJ10tQm2K"
      },
      "source": [
        "## **Burst Balloons**\r\n",
        "Given n balloons, indexed from 0 to n-1. Each balloon is painted with a number on it represented by array nums. You are asked to burst all the balloons. If the you burst balloon i you will get nums[left] * nums[i] * nums[right] coins. Here left and right are adjacent indices of i. After the burst, the left and right then becomes adjacent.\r\n",
        "\r\n",
        "Find the maximum coins you can collect by bursting the balloons wisely.\r\n",
        "\r\n",
        "Note:\r\n",
        "\r\n",
        "You may imagine nums[-1] = nums[n] = 1. They are not real therefore you can not burst them.\r\n",
        "0 ≤ n ≤ 500, 0 ≤ nums[i] ≤ 100"
      ]
    },
    {
      "cell_type": "code",
      "metadata": {
        "id": "uhrIWCBBQrNN"
      },
      "source": [
        "class Solution:\r\n",
        "    def maxCoins(self, nums: List[int]) -> int:\r\n",
        "        nums = [1] + nums + [1]\r\n",
        "        n = len(nums)\r\n",
        "        dp = [[0] * n for _ in range(n)]\r\n",
        "        for i in range(n - 2, -1, -1):\r\n",
        "            for j in range(i + 2, n):\r\n",
        "                for k in range(i + 1, j):\r\n",
        "                    dp[i][j] = max(dp[i][j], nums[i] * nums[k] * nums[j] + dp[i][k] + dp[k][j])\r\n",
        "        return dp[0][n - 1]"
      ],
      "execution_count": null,
      "outputs": []
    },
    {
      "cell_type": "code",
      "metadata": {
        "id": "BGXne--1er_8"
      },
      "source": [
        "class Solution:\r\n",
        "    def maxCoins(self, nums: List[int]) -> int:\r\n",
        "        def dp(i, j):\r\n",
        "            if i + 1 == j:\r\n",
        "                data[i][j] = 0\r\n",
        "                return 0\r\n",
        "            tmp = 0\r\n",
        "            for k in range(i + 1, j):\r\n",
        "                if data[i][k] == -1:\r\n",
        "                    dp(i, k)\r\n",
        "                if data[k][j] == -1:\r\n",
        "                    dp(k, j)\r\n",
        "                tmp = max(tmp, nums[i] * nums[k] * nums[j] + data[i][k] + data[k][j])\r\n",
        "            data[i][j] = tmp\r\n",
        "            return tmp\r\n",
        "        \r\n",
        "        nums = [1] + nums + [1]\r\n",
        "        n = len(nums)\r\n",
        "        data = [[-1]  * n for i in range(n)]\r\n",
        "        return dp(0, n - 1)"
      ],
      "execution_count": null,
      "outputs": []
    },
    {
      "cell_type": "markdown",
      "metadata": {
        "id": "sVsvhmSpe3Mr"
      },
      "source": [
        "##**Remove Duplicate Letters**\r\n",
        "Given a string s, remove duplicate letters so that every letter appears once and only once. You must make sure your result is the smallest in lexicographical order among all possible results.\r\n",
        "\r\n",
        "Note: This question is the same as 1081: https://leetcode.com/problems/smallest-subsequence-of-distinct-characters/"
      ]
    },
    {
      "cell_type": "code",
      "metadata": {
        "id": "LSnMVPH8e-mY"
      },
      "source": [
        "class Solution:\r\n",
        "    def removeDuplicateLetters(self, s) -> int:\r\n",
        "        stack = []\r\n",
        "        seen = set()\r\n",
        "        last = {c: i for i, c in enumerate(s)}\r\n",
        "        for i, c in enumerate(s):\r\n",
        "            if c not in seen:\r\n",
        "                while stack and c < stack[-1] and i < last[stack[-1]]:\r\n",
        "                    seen.remove(stack.pop())\r\n",
        "                seen.add(c)\r\n",
        "                stack.append(c)\r\n",
        "        return ''.join(stack)"
      ],
      "execution_count": null,
      "outputs": []
    },
    {
      "cell_type": "markdown",
      "metadata": {
        "id": "OtkZywsHfCK6"
      },
      "source": [
        "## **Odd Even Linked List**\r\n",
        "Given a singly linked list, group all odd nodes together followed by the even nodes. Please note here we are talking about the node number and not the value in the nodes.\r\n",
        "\r\n",
        "You should try to do it in place. The program should run in O(1) space complexity and O(nodes) time complexity.\r\n",
        "\r\n",
        "The relative order inside both the even and odd groups should remain as it was in the input.\r\n",
        "The first node is considered odd, the second node even and so on …"
      ]
    },
    {
      "cell_type": "code",
      "metadata": {
        "id": "O6vp0AHIfQT-"
      },
      "source": [
        "class Solution:\r\n",
        "    def oddEvenList(self, head: ListNode) -> ListNode:\r\n",
        "        if not head:\r\n",
        "            return head\r\n",
        "        odd, even, even_head = head, head.next, head.next\r\n",
        "        while even and even.next:\r\n",
        "            odd.next = even.next\r\n",
        "            odd = odd.next\r\n",
        "            even.next = odd.next\r\n",
        "            even = even.next\r\n",
        "        odd.next = even_head\r\n",
        "        return head"
      ],
      "execution_count": null,
      "outputs": []
    },
    {
      "cell_type": "markdown",
      "metadata": {
        "id": "R5jTcju8QQx6"
      },
      "source": [
        "## **Largest Continuous Sum**\r\n",
        "Given an array of integers (positive and negative) find the largest continuous sum."
      ]
    },
    {
      "cell_type": "code",
      "metadata": {
        "id": "mNWyKOY7QXH-"
      },
      "source": [
        "def largestContinuousSum(arr):\r\n",
        "    if len(arr)==0:\r\n",
        "        return\r\n",
        "    maxSum=currentSum=arr[0]\r\n",
        "    for num in arr[1:]:\r\n",
        "        currentSum=max(currentSum+num, num)\r\n",
        "        maxSum=max(currentSum, maxSum)\r\n",
        "    return maxSum"
      ],
      "execution_count": null,
      "outputs": []
    },
    {
      "cell_type": "code",
      "metadata": {
        "id": "0z7-3o6ZR1RB"
      },
      "source": [
        "def large_continuous_sum(arr):\r\n",
        "    if len(arr) < 2:\r\n",
        "        return 0\r\n",
        "    current_sum = 0\r\n",
        "    max_sum = []\r\n",
        "    temp = []\r\n",
        "    for num in arr:\r\n",
        "        current_sum += num\r\n",
        "        if current_sum >= 0:\r\n",
        "            temp.append(num)\r\n",
        "            max_sum.append(sum(temp))\r\n",
        "        else:\r\n",
        "            current_sum = 0\r\n",
        "            temp = []\r\n",
        "    return max(max_sum)\r\n",
        "arr=[1, 2, 3, 4, -6, 7, 7, 7]"
      ],
      "execution_count": null,
      "outputs": []
    },
    {
      "cell_type": "code",
      "metadata": {
        "colab": {
          "base_uri": "https://localhost:8080/"
        },
        "id": "WQdS42Z9SwAN",
        "outputId": "6dce5437-123c-43a5-af1d-e36cb725706b"
      },
      "source": [
        "def maxsum(n):\r\n",
        "    current_sum=0\r\n",
        "    max_sum=0\r\n",
        "    for i in n:\r\n",
        "        current_sum=current_sum+i\r\n",
        "        max_sum=max(current_sum,max_sum)\r\n",
        "    if i < 0:\r\n",
        "        current_sum=0\r\n",
        "    return max_sum\r\n",
        "\r\n",
        "arr=[1, 2, 3, 4, -6, 7, 7, 7]\r\n",
        "#[25,34,38,-12,34,23,10]\r\n",
        "print(maxsum(arr))"
      ],
      "execution_count": null,
      "outputs": [
        {
          "output_type": "stream",
          "text": [
            "25\n"
          ],
          "name": "stdout"
        }
      ]
    },
    {
      "cell_type": "markdown",
      "metadata": {
        "id": "C7IVLssin6aF"
      },
      "source": [
        "## **Move Zeroes**\r\n",
        "Given an array nums, write a function to move all 0’s to the end of it while maintaining the relative order of the non-zero elements."
      ]
    },
    {
      "cell_type": "code",
      "metadata": {
        "id": "mL4dos4KoCRi"
      },
      "source": [
        "class Solution:\r\n",
        "    def moveZeroes(self, nums: List[int]) -> None:\r\n",
        "        \"\"\" Do not return anything, modify nums in-place instead. \"\"\"\r\n",
        "        l, r, n = 0, 0, len(nums)\r\n",
        "        while r < n:\r\n",
        "            if nums[r] != 0:\r\n",
        "                nums[l] = nums[r]\r\n",
        "                l += 1\r\n",
        "            r += 1\r\n",
        "        while l < n:\r\n",
        "            nums[l] = 0\r\n",
        "            l += 1"
      ],
      "execution_count": null,
      "outputs": []
    },
    {
      "cell_type": "markdown",
      "metadata": {
        "id": "qgM4eeYagULk"
      },
      "source": [
        "## **Basic Calculator II** \r\n",
        "Implement a basic calculator to evaluate a simple expression string.The expression string contains only non-negative integers, +, -, *, / operators and empty spaces . The integer division should truncate toward zero."
      ]
    },
    {
      "cell_type": "code",
      "metadata": {
        "id": "Oqe6qIm0gc8z"
      },
      "source": [
        "class Solution:\r\n",
        "    def calculate(self, s: str) -> int:\r\n",
        "        stack, cur, op = [], 0, '+'\r\n",
        "        for c in s + '+':\r\n",
        "            if c == \" \":\r\n",
        "                continue\r\n",
        "            elif c.isdigit():\r\n",
        "                cur = (cur * 10) + int(c)\r\n",
        "            else:\r\n",
        "                if op == '-':\r\n",
        "                    stack.append(-cur)\r\n",
        "                elif op == '+':\r\n",
        "                    stack.append(cur)\r\n",
        "                elif op == '*':\r\n",
        "                    stack.append(stack.pop() * cur)\r\n",
        "                elif op == '/':\r\n",
        "                    stack.append(int(stack.pop() / cur))\r\n",
        "                cur, op = 0, c\r\n",
        "        return sum(stack)"
      ],
      "execution_count": null,
      "outputs": []
    },
    {
      "cell_type": "markdown",
      "metadata": {
        "id": "xh_55-reG4Ts"
      },
      "source": [
        "## **Sort Colors**\r\n",
        "Given an array with n objects colored red, white or blue, sort them in-place so that objects of the same color are adjacent, with the colors in the order red, white and blue.\r\n",
        "Here, we will use the integers 0, 1, and 2 to represent the color red, white, and blue respectively.\r\n",
        "Note: You are not suppose to use the library’s sort function for this problem."
      ]
    },
    {
      "cell_type": "code",
      "metadata": {
        "id": "D_iA0tG0G7KM"
      },
      "source": [
        "class Solution:\r\n",
        "    def sortColors(self, nums):\r\n",
        "        \"\"\" Do not return anything, modify nums in-place instead. \"\"\"\r\n",
        "        p0, p1, p2 = 0, 0, len(nums) - 1\r\n",
        "        while p1 <= p2:\r\n",
        "            if nums[p1] == 0:\r\n",
        "                nums[p0], nums[p1] = nums[p1], nums[p0]\r\n",
        "                p0 += 1\r\n",
        "                p1 += 1\r\n",
        "            elif nums[p1] == 2:\r\n",
        "                nums[p1], nums[p2] = nums[p2], nums[p1]\r\n",
        "                p2 -= 1\r\n",
        "            else:\r\n",
        "                p1 += 1"
      ],
      "execution_count": null,
      "outputs": []
    },
    {
      "cell_type": "markdown",
      "metadata": {
        "id": "9SDvVgHzG6JE"
      },
      "source": [
        "## **Subsets**\r\n",
        "Given a set of distinct integers, nums, return all possible subsets (the power set). Note: The solution set must not contain duplicate subsets."
      ]
    },
    {
      "cell_type": "code",
      "metadata": {
        "id": "RL1PhnORG7jt"
      },
      "source": [
        "class Solution:\r\n",
        "    def subsets(self, nums):\r\n",
        "        res = [[]]\r\n",
        "        for num in nums:\r\n",
        "            res += [item+[num] for item in res]\r\n",
        "        return res"
      ],
      "execution_count": null,
      "outputs": []
    },
    {
      "cell_type": "markdown",
      "metadata": {
        "id": "D_WkbaCrG6NG"
      },
      "source": [
        "## **Word Search**\r\n",
        "Given a 2D board and a word, find if the word exists in the grid.\r\n",
        "The word can be constructed from letters of sequentially adjacent cell, where “adjacent” cells are those horizontally or vertically neighboring. The same letter cell may not be used more than once."
      ]
    },
    {
      "cell_type": "code",
      "metadata": {
        "id": "60uWkeKpG8CM"
      },
      "source": [
        "class Solution:\r\n",
        "    def exist(self, board, word):\r\n",
        "        def dfs(x, y, p):\r\n",
        "            if p == l:\r\n",
        "                return True\r\n",
        "            for dirx, diry in [(0, 1), (0, -1), (1, 0), (-1, 0)]:\r\n",
        "                curx, cury = x + dirx, y + diry\r\n",
        "                if 0 <= curx < m and 0 <= cury < n and flag[curx][cury] and board[curx][cury] == word[p]:\r\n",
        "                    flag[curx][cury] = False\r\n",
        "                    if dfs(curx, cury, p + 1):\r\n",
        "                        flag[curx][cury] = True\r\n",
        "                        return True\r\n",
        "                    flag[curx][cury] = True\r\n",
        "            return False\r\n",
        "        m, n = len(board), len(board[0])\r\n",
        "        l = len(word)\r\n",
        "        flag = [[True] * n for _ in range(m)]\r\n",
        "        for i in range(m):\r\n",
        "            for j in range(n):\r\n",
        "                if board[i][j] == word[0]:\r\n",
        "                    flag[i][j] = False\r\n",
        "                    if dfs(i, j, 1):\r\n",
        "                        return True\r\n",
        "                    flag[i][j] = True\r\n",
        "        return False"
      ],
      "execution_count": null,
      "outputs": []
    },
    {
      "cell_type": "markdown",
      "metadata": {
        "id": "b38RMz7ybnfD"
      },
      "source": [
        "## **Word Search II**\r\n",
        "Given a 2D board and a list of words from the dictionary, find all words in the board.Each word must be constructed from letters of sequentially adjacent cell, where “adjacent” cells are those horizontally or vertically neighboring. The same letter cell may not be used more than once in a word."
      ]
    },
    {
      "cell_type": "code",
      "metadata": {
        "id": "HqqlBqFMbzFh"
      },
      "source": [
        "class Solution:\r\n",
        "    def findWords(self, board: List[List[str]], words: List[str]) -> List[str]:\r\n",
        "        def dfs(x, y, root):\r\n",
        "            letter = board[x][y]\r\n",
        "            cur = root[letter]\r\n",
        "            word = cur.pop('#', False)\r\n",
        "            if word:\r\n",
        "                res.append(word)\r\n",
        "            board[x][y] = '*'\r\n",
        "            for dirx, diry in [(0, 1), (0, -1), (1, 0), (-1, 0)]:\r\n",
        "                curx, cury = x + dirx, y + diry\r\n",
        "                if 0 <= curx < m and 0 <= cury < n and board[curx][cury] in cur:\r\n",
        "                    dfs(curx, cury, cur)\r\n",
        "            board[x][y] = letter\r\n",
        "            if not cur:\r\n",
        "                root.pop(letter)\r\n",
        "                \r\n",
        "        trie = {}\r\n",
        "        for word in words:\r\n",
        "            cur = trie\r\n",
        "            for letter in word:\r\n",
        "                cur = cur.setdefault(letter, {})\r\n",
        "            cur['#'] = word\r\n",
        "        m, n = len(board), len(board[0])\r\n",
        "        res = []\r\n",
        "        for i in range(m):\r\n",
        "            for j in range(n):\r\n",
        "                if board[i][j] in trie:\r\n",
        "                    dfs(i, j, trie)\r\n",
        "        return res"
      ],
      "execution_count": null,
      "outputs": []
    },
    {
      "cell_type": "markdown",
      "metadata": {
        "id": "UCDuhKpcG6Q0"
      },
      "source": [
        "## **Remove Duplicates from Sorted Array II**\r\n",
        "Given a sorted array nums, remove the duplicates in-place such that duplicates appeared at most twice and return the new length.Do not allocate extra space for another array; you must do this by modifying the input array in-place with O(1) extra memory."
      ]
    },
    {
      "cell_type": "code",
      "metadata": {
        "id": "TX_Zj306G8gF"
      },
      "source": [
        "class Solution:\r\n",
        "    def removeDuplicates(self, nums):\r\n",
        "        i = 0\r\n",
        "        for n in nums:\r\n",
        "            if i < 2 or n != nums[i - 2]:\r\n",
        "                nums[i] = n\r\n",
        "                i += 1\r\n",
        "        return i"
      ],
      "execution_count": null,
      "outputs": []
    },
    {
      "cell_type": "markdown",
      "metadata": {
        "id": "GtW-6_09G6Zs"
      },
      "source": [
        "## **Merge Sorted Array**\r\n",
        "Given two sorted integer arrays nums1 and nums2, merge nums2 into nums1 as one sorted array. The number of elements initialized in nums1 and nums2 are m and n respectively. You may assume that nums1 has enough space (size that is equal to m + n) to hold additional elements from nums2"
      ]
    },
    {
      "cell_type": "code",
      "metadata": {
        "id": "NDX7unQVG9HH"
      },
      "source": [
        "class Solution:\r\n",
        "    def merge(self, nums1: List[int], m: int, nums2: List[int], n: int) -> None:\r\n",
        "        \"\"\" Do not return anything, modify nums1 in-place instead. \"\"\"\r\n",
        "        i, j, k = m - 1, n - 1, m + n - 1\r\n",
        "        while i >= 0 and j >= 0:\r\n",
        "            if nums1[i] > nums2[j]:\r\n",
        "                nums1[k] = nums1[i]\r\n",
        "                i, k = i - 1, k - 1\r\n",
        "            else:\r\n",
        "                nums1[k] = nums2[j]\r\n",
        "                j, k = j - 1, k - 1\r\n",
        "        while j >= 0:\r\n",
        "            nums1[k] = nums2[j]\r\n",
        "            j, k = j - 1, k - 1"
      ],
      "execution_count": null,
      "outputs": []
    },
    {
      "cell_type": "markdown",
      "metadata": {
        "id": "h2j0O2VqJxD1"
      },
      "source": [
        "## **Unique Binary Search Trees**\r\n",
        "Given n, how many structurally unique BST’s (binary search trees) that store values 1 … n?"
      ]
    },
    {
      "cell_type": "code",
      "metadata": {
        "id": "Y5gBg-igG9j9"
      },
      "source": [
        "class Solution:\r\n",
        "    def numTrees(self, n: int) -> int:\r\n",
        "        res = [0] * (n + 1)\r\n",
        "        res[0] = res[1] = 1\r\n",
        "        for i in range(2, n + 1):\r\n",
        "            tmp = 0\r\n",
        "            for j in range(0, i):\r\n",
        "                tmp += res[j] * res[i - 1 - j]\r\n",
        "            res[i] = tmp\r\n",
        "        return res[n]"
      ],
      "execution_count": null,
      "outputs": []
    },
    {
      "cell_type": "code",
      "metadata": {
        "id": "LBjskxvbKLi6"
      },
      "source": [
        "class Solution:\r\n",
        "    def numTrees(self, n: int) -> int:\r\n",
        "        C = 1\r\n",
        "        for i in range(n):\r\n",
        "            C = C * 2 * (2 * i + 1) // (i + 2)\r\n",
        "        return C"
      ],
      "execution_count": null,
      "outputs": []
    },
    {
      "cell_type": "markdown",
      "metadata": {
        "id": "_ZsdDBIzG6df"
      },
      "source": [
        "## **Validate Binary Search Tree**\r\n",
        "Given the root of a binary tree, determine if it is a valid binary search tree (BST).A valid BST is defined as follows:The left subtree of a node contains only nodes with keys less than the node’s key.\r\n",
        "The right subtree of a node contains only nodes with keys greater than the node’s key.Both the left and right subtrees must also be binary search trees.\r\n"
      ]
    },
    {
      "cell_type": "code",
      "metadata": {
        "id": "cQi08P7jG-A8"
      },
      "source": [
        "class Solution:\r\n",
        "    def isValidBST(self, root: TreeNode) -> bool:\r\n",
        "        def check(root, l, r):\r\n",
        "            if root == None:\r\n",
        "                return True\r\n",
        "            val = root.val\r\n",
        "            if val <= l or val >= r:\r\n",
        "                return False\r\n",
        "            return check(root.left, l, val) and check(root.right, val, r)\r\n",
        "        return check(root, float('-inf'), float('inf'))"
      ],
      "execution_count": null,
      "outputs": []
    },
    {
      "cell_type": "markdown",
      "metadata": {
        "id": "TZZNx0yDG6h2"
      },
      "source": [
        "## **Same Tree**\r\n",
        "Given two binary trees, write a function to check if they are the same or not.\r\n",
        "Two binary trees are considered the same if they are structurally identical and the nodes have the same value."
      ]
    },
    {
      "cell_type": "code",
      "metadata": {
        "id": "J7LVEnpAG4dy"
      },
      "source": [
        "class Solution:\r\n",
        "    def isSameTree(self, p: TreeNode, q: TreeNode) -> bool:\r\n",
        "        if not p and not q:\r\n",
        "            return True\r\n",
        "        if not p or not q:\r\n",
        "            return False\r\n",
        "        return p.val == q.val and self.isSameTree(p.left, q.left) and self.isSameTree(p.right, q.right)"
      ],
      "execution_count": null,
      "outputs": []
    },
    {
      "cell_type": "markdown",
      "metadata": {
        "id": "7kvqjW8_K6Bz"
      },
      "source": [
        "## **Binary Tree Zigzag Level Order Traversal**\r\n",
        "Given a binary tree, return the zigzag level order traversal of its nodes’ values. (ie, from left to right, then right to left for the next level and alternate between)."
      ]
    },
    {
      "cell_type": "code",
      "metadata": {
        "id": "v6jcSAwaK7Xq"
      },
      "source": [
        "class Solution:\r\n",
        "    def zigzagLevelOrder(self, root: TreeNode) -> List[List[int]]:\r\n",
        "        def dfs(root, lev):\r\n",
        "            if lev < len(res):\r\n",
        "                if lev % 2:\r\n",
        "                    res[lev].appendleft(root.val)\r\n",
        "                else:\r\n",
        "                    res[lev].append(root.val)\r\n",
        "            else:\r\n",
        "                res.append(deque([root.val]))\r\n",
        "            if root.left:\r\n",
        "                dfs(root.left, lev + 1)\r\n",
        "            if root.right:\r\n",
        "                dfs(root.right, lev + 1)\r\n",
        "        if not root:\r\n",
        "            return []\r\n",
        "        res = []\r\n",
        "        dfs(root, 0)\r\n",
        "        return res"
      ],
      "execution_count": null,
      "outputs": []
    },
    {
      "cell_type": "markdown",
      "metadata": {
        "id": "52jH2o-TK6Gh"
      },
      "source": [
        "## **Maximum Depth of Binary Tree**\r\n",
        "Given the root of a binary tree, return its maximum depth.A binary tree’s maximum depth is the number of nodes along the longest path from the root node down to the farthest leaf node."
      ]
    },
    {
      "cell_type": "code",
      "metadata": {
        "id": "i8XkiS3aK7yX"
      },
      "source": [
        "class Solution:\r\n",
        "    def maxDepth(self, root: TreeNode) -> int:\r\n",
        "        if not root:\r\n",
        "            return 0\r\n",
        "        q = [root]\r\n",
        "        res = 0\r\n",
        "        while q:\r\n",
        "            tq = []\r\n",
        "            for n in q:\r\n",
        "                if n.left:\r\n",
        "                    tq.append(n.left)\r\n",
        "                if n.right:\r\n",
        "                    tq.append(n.right)\r\n",
        "            q = tq\r\n",
        "            res += 1\r\n",
        "        return res"
      ],
      "execution_count": null,
      "outputs": []
    },
    {
      "cell_type": "code",
      "metadata": {
        "id": "cHSKnnQPLt6K"
      },
      "source": [
        "class Solution:\r\n",
        "    def maxDepth(self, root):\r\n",
        "        return max(self.maxDepth(root.left), self.maxDepth(root.right)) + 1 if root else 0\r\n",
        "        "
      ],
      "execution_count": null,
      "outputs": []
    },
    {
      "cell_type": "markdown",
      "metadata": {
        "id": "5h99osY4fqA2"
      },
      "source": [
        "## **Count Complete Tree Nodes**\r\n",
        "Given a complete binary tree, count the number of nodes."
      ]
    },
    {
      "cell_type": "code",
      "metadata": {
        "id": "8tH7oMB-fvTE"
      },
      "source": [
        "class Solution:\r\n",
        "    def countNodes(self, root: TreeNode) -> int:\r\n",
        "        def get_height(root):\r\n",
        "            return 1 + get_height(root.left) if root else -1\r\n",
        "\r\n",
        "        res = 0\r\n",
        "        h = get_height(root)\r\n",
        "        if h < 0: \r\n",
        "            return 0\r\n",
        "        while root:\r\n",
        "            if get_height(root.right) == h - 1:\r\n",
        "                res += 1 << h\r\n",
        "                root = root.right\r\n",
        "            else:\r\n",
        "                res += 1 << (h - 1)\r\n",
        "                root = root.left\r\n",
        "            h -= 1\r\n",
        "        return res"
      ],
      "execution_count": null,
      "outputs": []
    },
    {
      "cell_type": "markdown",
      "metadata": {
        "id": "5aQaLPfZf7FL"
      },
      "source": [
        "## **Invert Binary Tree**"
      ]
    },
    {
      "cell_type": "code",
      "metadata": {
        "id": "lgNlQL-HgE-G"
      },
      "source": [
        "class Solution:\r\n",
        "    def invertTree(self, root):\r\n",
        "        if root:\r\n",
        "            root.left, root.right = self.invertTree(root.right), self.invertTree(root.left)\r\n",
        "        return root"
      ],
      "execution_count": null,
      "outputs": []
    },
    {
      "cell_type": "markdown",
      "metadata": {
        "id": "g-Hp0k15mtcn"
      },
      "source": [
        "## **Swap every two adjacent nodes**\r\n",
        "Given a non-empty binary search tree and a target value, find the value in the BST that is closest to the target.\r\n",
        "Note:\r\n",
        "Given target value is a floating point.\r\n",
        "You are guaranteed to have only one unique value in the BST that is closest to the target."
      ]
    },
    {
      "cell_type": "code",
      "metadata": {
        "id": "hlz2_O2Fm6Lc"
      },
      "source": [
        "class Solution:\r\n",
        "    def closestValue(self, root: TreeNode, target: float) -> int:\r\n",
        "        res = root.val\r\n",
        "        while root:\r\n",
        "            res = min(res, root.val, key = lambda x: abs(target - x))\r\n",
        "            root = root.left if target < root.val else root.right\r\n",
        "        return res"
      ],
      "execution_count": null,
      "outputs": []
    },
    {
      "cell_type": "markdown",
      "metadata": {
        "id": "mq-AP-H9iH5w"
      },
      "source": [
        "## **Kth Smallest Element in a BST**\r\n",
        "Given a binary search tree, write a function kthSmallest to find the kth smallest element in it.\r\n",
        "Note:\r\n",
        "You may assume k is always valid, 1 ≤ k ≤ BST’s total elements."
      ]
    },
    {
      "cell_type": "code",
      "metadata": {
        "id": "mOONjKLiiQD-"
      },
      "source": [
        "class Solution:\r\n",
        "    def kthSmallest(self, root: TreeNode, k: int) -> int:\r\n",
        "        def inorder(root):\r\n",
        "            if not root:\r\n",
        "                return\r\n",
        "            res = inorder(root.left)\r\n",
        "            if res is not None:\r\n",
        "                return res\r\n",
        "            self.k -= 1\r\n",
        "            if self.k == 0:\r\n",
        "                return root.val\r\n",
        "            else:\r\n",
        "                return inorder(root.right)\r\n",
        "            \r\n",
        "        self.k = k\r\n",
        "        return inorder(root)"
      ],
      "execution_count": null,
      "outputs": []
    },
    {
      "cell_type": "code",
      "metadata": {
        "id": "JkbvZ_o6iTXN"
      },
      "source": [
        "class Solution:\r\n",
        "    def kthSmallest(self, root: TreeNode, k: int) -> int:\r\n",
        "        stack = []\r\n",
        "        while stack or root:\r\n",
        "            while root:\r\n",
        "                stack.append(root)\r\n",
        "                root = root.left\r\n",
        "            root = stack.pop()\r\n",
        "            k -= 1\r\n",
        "            if k == 0:\r\n",
        "                return root.val\r\n",
        "            root = root.right"
      ],
      "execution_count": null,
      "outputs": []
    },
    {
      "cell_type": "markdown",
      "metadata": {
        "id": "2wzCX54mK6Kb"
      },
      "source": [
        "## **Populating Next Right Pointers in Each Node II**\r\n",
        "Given a binary tree\r\n",
        "struct Node {\r\n",
        "  int val;\r\n",
        "  Node *left;\r\n",
        "  Node *right;\r\n",
        "  Node *next;\r\n",
        "}\r\n",
        "Populate each next pointer to point to its next right node. If there is no next right node, the next pointer should be set to NULL.\r\n",
        "Initially, all next pointers are set to NULL.\r\n",
        "Follow up:\r\n",
        "You may only use constant extra space.\r\n",
        "Recursive approach is fine, you may assume implicit stack space does not count as extra space for this problem."
      ]
    },
    {
      "cell_type": "code",
      "metadata": {
        "id": "-TKVVa1EK8QU"
      },
      "source": [
        "class Solution:\r\n",
        "    def connect(self, root: 'Node') -> 'Node':\r\n",
        "        cur = root\r\n",
        "        head, pre = None, None\r\n",
        "        while cur:\r\n",
        "            if cur.left:\r\n",
        "                if pre:\r\n",
        "                    pre.next = cur.left\r\n",
        "                else:\r\n",
        "                    head = cur.left\r\n",
        "                pre = cur.left\r\n",
        "            if cur.right:\r\n",
        "                if pre:\r\n",
        "                    pre.next = cur.right\r\n",
        "                else:\r\n",
        "                    head = cur.right\r\n",
        "                pre = cur.right\r\n",
        "            cur = cur.next\r\n",
        "            if not cur:\r\n",
        "                cur = head\r\n",
        "                pre, head = None, None\r\n",
        "        return root"
      ],
      "execution_count": null,
      "outputs": []
    },
    {
      "cell_type": "markdown",
      "metadata": {
        "id": "RP7AMC3oK6OO"
      },
      "source": [
        "## **Pascal's Triangle II**\r\n",
        "Given a non-negative index k where k ≤ 33, return the kth index row of the Pascal’s triangle.Note that the row index starts from 0."
      ]
    },
    {
      "cell_type": "code",
      "metadata": {
        "id": "nmJknZxtK81a"
      },
      "source": [
        "class Solution:\r\n",
        "    def getRow(self, rowIndex: int) -> List[int]:\r\n",
        "        res = [1]\r\n",
        "        for i in range(rowIndex):\r\n",
        "            for j in range(i, 0, -1):\r\n",
        "                res[j] += res[j - 1]\r\n",
        "            res.append(1)\r\n",
        "        return res"
      ],
      "execution_count": null,
      "outputs": []
    },
    {
      "cell_type": "markdown",
      "metadata": {
        "id": "-hrzVa3ZK6SA"
      },
      "source": [
        "## **Best Time to Buy and Sell Stock** \r\n",
        "Say you have an array for which the ith element is the price of a given stock on day i.If you were only permitted to complete at most one transaction (i.e., buy one and sell one share of the stock), design an algorithm to find the maximum profit.Note that you cannot sell a stock before you buy one."
      ]
    },
    {
      "cell_type": "code",
      "metadata": {
        "id": "RSg-RitSK9i-"
      },
      "source": [
        "class Solution:\r\n",
        "    def maxProfit(self, prices: List[int]) -> int:\r\n",
        "        res, cur_min = 0, float('inf')\r\n",
        "        for p in prices:\r\n",
        "            res = max(res, p - cur_min)\r\n",
        "            cur_min = min(cur_min, p)\r\n",
        "        return res"
      ],
      "execution_count": null,
      "outputs": []
    },
    {
      "cell_type": "markdown",
      "metadata": {
        "id": "xqOkPO_vK6V2"
      },
      "source": [
        "## **Best Time to Buy and Sell Stock II**\r\n",
        "Say you have an array prices for which the ith element is the price of a given stock on day i.Design an algorithm to find the maximum profit. You may complete as many transactions as you like (i.e., buy one and sell one share of the stock multiple times).Note: You may not engage in multiple transactions at the same time (i.e., you must sell the stock before you buy again)."
      ]
    },
    {
      "cell_type": "code",
      "metadata": {
        "id": "m_zasbVCK-HM"
      },
      "source": [
        "class Solution:\r\n",
        "    def maxProfit(self, prices: List[int]) -> int:\r\n",
        "        res = 0\r\n",
        "        for i in range(1, len(prices)):\r\n",
        "            if prices[i] > prices[i - 1]:\r\n",
        "                res += prices[i] - prices[i - 1]\r\n",
        "        return res"
      ],
      "execution_count": null,
      "outputs": []
    },
    {
      "cell_type": "markdown",
      "metadata": {
        "id": "K58a4I8JK6p_"
      },
      "source": [
        "## **Best Time to Buy and Sell Stock III**\r\n",
        "Say you have an array for which the ith element is the price of a given stock on day i.Design an algorithm to find the maximum profit. You may complete at most two transactions. Note: You may not engage in multiple transactions at the same time (i.e., you must sell the stock before you buy again)."
      ]
    },
    {
      "cell_type": "code",
      "metadata": {
        "id": "fZQrpt4KOmTW"
      },
      "source": [
        "buy1[i] = max(buy1[i - 1], -prices[i])\r\n",
        "sell1[i] = max(sell1[i - 1], buy1[i] + prices[i])\r\n",
        "buy2[i] = max(buy2[i - 1], sell1[i - 1] - prices[i])\r\n",
        "sell2[i] = max(sell2[i - 1], buy2[i] + prices[i])"
      ],
      "execution_count": null,
      "outputs": []
    },
    {
      "cell_type": "code",
      "metadata": {
        "id": "TAbNk0mOK-lW"
      },
      "source": [
        "class Solution:\r\n",
        "    def maxProfit(self, prices: List[int]) -> int:\r\n",
        "        sell1 = sell2 = 0\r\n",
        "        buy1 = buy2 = -float('inf')\r\n",
        "        for p in prices:\r\n",
        "            buy1 = max(buy1, -p);\r\n",
        "            sell1 = max(sell1, buy1 + p)\r\n",
        "            buy2 = max(buy2, sell1 - p)\r\n",
        "            sell2 = max(sell2, buy2 + p)\r\n",
        "        return sell2"
      ],
      "execution_count": null,
      "outputs": []
    },
    {
      "cell_type": "markdown",
      "metadata": {
        "id": "r8C1ZdhXXxea"
      },
      "source": [
        "## **Best Time to Buy and Sell Stock IV**\r\n",
        "You are given an integer array prices where prices[i] is the price of a given stock on the ith day.\r\n",
        "\r\n",
        "Design an algorithm to find the maximum profit. You may complete at most k transactions.\r\n",
        "\r\n",
        "Notice that you may not engage in multiple transactions simultaneously (i.e., you must sell the stock before you buy again).\r\n"
      ]
    },
    {
      "cell_type": "code",
      "metadata": {
        "id": "Ed8Xo_4JX651"
      },
      "source": [
        "class Solution:\r\n",
        "    def maxProfit(self, k, prices):\r\n",
        "        if not prices:\r\n",
        "            return 0\r\n",
        "        n = len(prices)\r\n",
        "        if k > n // 2:\r\n",
        "            res = 0\r\n",
        "            for i in range(1, len(prices)):\r\n",
        "                if prices[i] > prices[i - 1]:\r\n",
        "                    res += prices[i] - prices[i - 1]\r\n",
        "            return res\r\n",
        "        n = len(prices)\r\n",
        "        dp = [[0, 0] for _ in range(k + 1)]\r\n",
        "        for i in range(k + 1):\r\n",
        "            dp[i][1] = -prices[0]\r\n",
        "        for i in range(1, n):\r\n",
        "            for j in range(1, k + 1):\r\n",
        "                dp[j - 1][1] = max(dp[j - 1][1], dp[j - 1][0] - prices[i])\r\n",
        "                dp[j][0] = max(dp[j][0], dp[j - 1][1] + prices[i])  \r\n",
        "        return dp[k][0]"
      ],
      "execution_count": null,
      "outputs": []
    },
    {
      "cell_type": "markdown",
      "metadata": {
        "id": "zm9-8XonK6uM"
      },
      "source": [
        "## **Binary Tree Maximum Path Sum**\r\n",
        "Given a non-empty binary tree, find the maximum path sum. For this problem, a path is defined as any sequence of nodes from some starting node to any node in the tree along the parent-child connections. The path must contain at least one node and does not need to go through the root."
      ]
    },
    {
      "cell_type": "code",
      "metadata": {
        "id": "zbivBu8dK_DX"
      },
      "source": [
        "# Definition for a binary tree node. # class TreeNode: # def __init__(self, val=0, left=None, right=None): # self.val = val # self.left = left # self.right = right class Solution:\r\n",
        "    def maxPathSum(self, root: TreeNode) -> int:\r\n",
        "        def traversal(root):\r\n",
        "            if root is None:\r\n",
        "                return 0\r\n",
        "            left = max(0, traversal(root.left))\r\n",
        "            right = max(0, traversal(root.right))\r\n",
        "            self.res = max(self.res, left + right + root.val)\r\n",
        "            return max(left, right, 0) + root.val\r\n",
        "        self.res = float(\"-inf\")\r\n",
        "        traversal(root)\r\n",
        "        return self.res"
      ],
      "execution_count": null,
      "outputs": []
    },
    {
      "cell_type": "markdown",
      "metadata": {
        "id": "rzZThTzUK6yl"
      },
      "source": [
        "## **Valid Palindrome**\r\n",
        "Given a string, determine if it is a palindrome, considering only alphanumeric characters and ignoring cases.Note: For the purpose of this problem, we define empty string as valid palindrome"
      ]
    },
    {
      "cell_type": "code",
      "metadata": {
        "id": "9rG5aBo-K_yJ"
      },
      "source": [
        "class Solution:\r\n",
        "    def isPalindrome(self, s: str) -> bool:\r\n",
        "        l, r = 0, len(s) - 1\r\n",
        "        while l < r:\r\n",
        "            while l < r and not s[l].isalnum():\r\n",
        "                l += 1\r\n",
        "            while l < r and not s[r].isalnum():\r\n",
        "                r -= 1\r\n",
        "            if l < r:\r\n",
        "                if s[l].lower() != s[r].lower():\r\n",
        "                    return False\r\n",
        "                l += 1\r\n",
        "                r -= 1\r\n",
        "        return True"
      ],
      "execution_count": null,
      "outputs": []
    },
    {
      "cell_type": "markdown",
      "metadata": {
        "id": "FzBPimLYPYDo"
      },
      "source": [
        "## **Word Ladder**\r\n",
        "Given two words beginWord and endWord, and a dictionary wordList, return the length of the shortest transformation sequence from beginWord to endWord, such that:\r\n",
        "Only one letter can be changed at a time.\r\n",
        "Each transformed word must exist in the word list. Return 0 if there is no such transformation sequence"
      ]
    },
    {
      "cell_type": "code",
      "metadata": {
        "id": "ZmFtziU9Phia"
      },
      "source": [
        "class Solution:\r\n",
        "    def ladderLength(self, beginWord: str, endWord: str, wordList: List[str]) -> int:\r\n",
        "        wordList = set(wordList)\r\n",
        "        if endWord not in wordList:\r\n",
        "            return 0\r\n",
        "        wordList.add(beginWord)\r\n",
        "        l = len(beginWord)\r\n",
        "        dic = defaultdict(list)\r\n",
        "        for word in wordList:\r\n",
        "            for i in range(l):\r\n",
        "                tmp = word[:i] + '_' + word[i + 1:]\r\n",
        "                dic[tmp].append(word)\r\n",
        "        q1 = deque([beginWord])\r\n",
        "        dis1 = {w: 0 for w in wordList}\r\n",
        "        dis1[beginWord] = 1\r\n",
        "        q2 = deque([endWord])\r\n",
        "        dis2 = {w: 0 for w in wordList}\r\n",
        "        dis2[endWord] = 1\r\n",
        "        flag = True\r\n",
        "        while q1 and q2:\r\n",
        "            if flag:\r\n",
        "                front, dis_front = q1, dis1\r\n",
        "                back, dis_back = q2, dis2\r\n",
        "            else:\r\n",
        "                front, dis_front = q2, dis2\r\n",
        "                back, dis_back = q1, dis1 \r\n",
        "            cur = front.popleft()\r\n",
        "            dist = dis_front[cur]\r\n",
        "            next_word = []\r\n",
        "            for i in range(l):\r\n",
        "                tmp = cur[:i] + '_' + cur[i + 1:]\r\n",
        "                for w in dic[tmp]:\r\n",
        "                    next_word.append(w)\r\n",
        "            for w in next_word:\r\n",
        "                if dis_back[w] > 0:\r\n",
        "                    return dist + dis_back[w]\r\n",
        "                if dis_front[w] == 0:\r\n",
        "                    dis_front[w] = dist + 1\r\n",
        "                    front.append(w)\r\n",
        "            if len(back) < len(front):\r\n",
        "                flag = not flag\r\n",
        "        return 0"
      ],
      "execution_count": null,
      "outputs": []
    },
    {
      "cell_type": "markdown",
      "metadata": {
        "id": "2b5WMnnqP2Rc"
      },
      "source": [
        "## **Sum Root to Leaf Numbers**\r\n",
        "Given a binary tree containing digits from 0-9 only, each root-to-leaf path could represent a number.An example is the root-to-leaf path 1->2->3 which represents the number 123.Find the total sum of all root-to-leaf numbers."
      ]
    },
    {
      "cell_type": "code",
      "metadata": {
        "id": "Sg2zKLoKP9QH"
      },
      "source": [
        "class Solution:\r\n",
        "    def sumNumbers(self, root: TreeNode) -> int:\r\n",
        "        def find(root, n):\r\n",
        "            if root is None:\r\n",
        "                return 0\r\n",
        "            cur = n * 10 + root.val\r\n",
        "            if root.left is None and root.right is None:\r\n",
        "                return cur\r\n",
        "            return find(root.left, cur) + find(root.right, cur)\r\n",
        "        return find(root, 0)"
      ],
      "execution_count": null,
      "outputs": []
    },
    {
      "cell_type": "markdown",
      "metadata": {
        "id": "r6HAN5afQD6V"
      },
      "source": [
        "## **Surrounded Regions**\r\n",
        "Given a 2D board containing ‘X’ and ‘O’ (the letter O), capture all regions surrounded by ‘X’.A region is captured by flipping all ‘O’s into ‘X’s in that surrounded region."
      ]
    },
    {
      "cell_type": "code",
      "metadata": {
        "id": "FhxeBskfQN2U"
      },
      "source": [
        "class Solution:\r\n",
        "    def solve(self, board: List[List[str]]) -> None:\r\n",
        "        \"\"\" Do not return anything, modify board in-place instead. \"\"\"\r\n",
        "        if not board:\r\n",
        "            return\r\n",
        "        m, n = len(board), len(board[0])\r\n",
        "        stack = []\r\n",
        "        for i in range(m):\r\n",
        "            if board[i][0] == 'O':\r\n",
        "                stack.append((i, 0))\r\n",
        "            if board[i][n - 1] == 'O':\r\n",
        "                stack.append((i, n - 1))\r\n",
        "        for i in range(1, n - 1):\r\n",
        "            if board[0][i] == 'O':\r\n",
        "                stack.append((0, i))\r\n",
        "            if board[m - 1][i] == 'O':\r\n",
        "                stack.append((m - 1, i))\r\n",
        "        while stack:\r\n",
        "            i, j = stack.pop()\r\n",
        "            if 0 <= i < m and 0 <= j < n and board[i][j] == 'O':\r\n",
        "                board[i][j] = \"#\"\r\n",
        "                stack += (i, j - 1), (i, j + 1), (i - 1, j), (i + 1, j)\r\n",
        "        board[:] = [['XO'[c == '#'] for c in row] for row in board]"
      ],
      "execution_count": null,
      "outputs": []
    },
    {
      "cell_type": "markdown",
      "metadata": {
        "id": "iAIT0mblQT9B"
      },
      "source": [
        "## **Clone Graph**\r\n",
        "Given a reference of a node in a connected undirected graph.\r\n",
        "Return a deep copy (clone) of the graph.\r\n",
        "Each node in the graph contains a val (int) and a list (List[Node]) of its neighbors.\r\n",
        "class Node {\r\n",
        "    public int val;\r\n",
        "    public List<Node> neighbors;\r\n",
        "}\r\n",
        "Test case format:\r\n",
        "For simplicity sake, each node’s value is the same as the node’s index (1-indexed). For example, the first node with val = 1, the second node with val = 2, and so on. The graph is represented in the test case using an adjacency list.Adjacency list is a collection of unordered lists used to represent a finite graph. Each list describes the set of neighbors of a node in the graph.\r\n",
        "The given node will always be the first node with val = 1. You must return the copy of the given node as a reference to the cloned graph."
      ]
    },
    {
      "cell_type": "code",
      "metadata": {
        "id": "lOlRvGwoQUR9"
      },
      "source": [
        "class Solution:\r\n",
        "    def __init__(self):\r\n",
        "        self.visit = {}\r\n",
        "        \r\n",
        "    def cloneGraph(self, node: 'Node') -> 'Node':\r\n",
        "        if not node:\r\n",
        "            return node\r\n",
        "        if node in self.visit:\r\n",
        "            return self.visit[node]\r\n",
        "        res = Node(node.val, [])\r\n",
        "        self.visit[node] = res\r\n",
        "        if node.neighbors:\r\n",
        "            res.neighbors = [self.cloneGraph(n) for n in node.neighbors]\r\n",
        "        return res"
      ],
      "execution_count": null,
      "outputs": []
    },
    {
      "cell_type": "markdown",
      "metadata": {
        "id": "PgUJrX2wQoTR"
      },
      "source": [
        "## **Gas Station**\r\n",
        "There are N gas stations along a circular route, where the amount of gas at station i is gas[i].You have a car with an unlimited gas tank and it costs cost[i] of gas to travel from station i to its next station (i+1). You begin the journey with an empty tank at one of the gas stations.Return the starting gas station’s index if you can travel around the circuit once in the clockwise direction, otherwise return -1.\r\n",
        "Note:If there exists a solution, it is guaranteed to be unique.Both input arrays are non-empty and have the same length.Each element in the input arrays is a non-negative integer."
      ]
    },
    {
      "cell_type": "code",
      "metadata": {
        "id": "sUlQ9dcLQzM8"
      },
      "source": [
        "class Solution:\r\n",
        "    def canCompleteCircuit(self, gas: List[int], cost: List[int]) -> int:\r\n",
        "        l = len(gas)\r\n",
        "        start = cur = tot = 0\r\n",
        "        for i in range(l):\r\n",
        "            t = gas[i] - cost[i]\r\n",
        "            tot += t\r\n",
        "            cur += t\r\n",
        "            if cur < 0:\r\n",
        "                cur, start = 0, i + 1\r\n",
        "        return -1 if tot < 0 else start"
      ],
      "execution_count": null,
      "outputs": []
    },
    {
      "cell_type": "markdown",
      "metadata": {
        "id": "wMR3EW2ZQ3-g"
      },
      "source": [
        "## **Single Number**\r\n",
        "Given a non-empty array of integers, every element appears twice except for one. Find that single one.\r\n",
        "Note:Your algorithm should have a linear runtime complexity. Could you implement it without using extra memory?"
      ]
    },
    {
      "cell_type": "code",
      "metadata": {
        "id": "pdkWtNiARM_0"
      },
      "source": [
        "import functools\r\n",
        "class Solution:\r\n",
        "    def singleNumber(self, nums):\r\n",
        "        return functools.reduce(lambda x, y: x ^ y, nums)"
      ],
      "execution_count": null,
      "outputs": []
    },
    {
      "cell_type": "markdown",
      "metadata": {
        "id": "kfSl9KNiRbYo"
      },
      "source": [
        "## **Single Number II** \r\n",
        "Given a non-empty array of integers, every element appears three times except for one, which appears exactly once. Find that single one."
      ]
    },
    {
      "cell_type": "code",
      "metadata": {
        "id": "_eYzRYicRkDj"
      },
      "source": [
        "class Solution:\r\n",
        "    def singleNumber(self, nums: List[int]) -> int:\r\n",
        "        return (3 * sum(set(nums)) - sum(nums)) // 2"
      ],
      "execution_count": null,
      "outputs": []
    },
    {
      "cell_type": "code",
      "metadata": {
        "id": "DOLuyysrRkL3"
      },
      "source": [
        "class Solution:\r\n",
        "    def singleNumber(self, nums: List[int]) -> int:\r\n",
        "        res = 0\r\n",
        "        for i in range(32):\r\n",
        "            ct = 0\r\n",
        "            for n in nums:\r\n",
        "                ct += (n >> i) & 1\r\n",
        "            res |= (ct % 3) << i\r\n",
        "        return res - 2**32 if res >> 31 & 1 else res"
      ],
      "execution_count": null,
      "outputs": []
    },
    {
      "cell_type": "code",
      "metadata": {
        "id": "j-GcDwVsRkUI"
      },
      "source": [
        "class Solution:\r\n",
        "    def singleNumber(self, nums: List[int]) -> int:\r\n",
        "        low = high = 0;\r\n",
        "        for n in nums:\r\n",
        "            low = (low ^ n) & ~high;\r\n",
        "            high = (high ^ n) & ~low;\r\n",
        "        return low"
      ],
      "execution_count": null,
      "outputs": []
    },
    {
      "cell_type": "markdown",
      "metadata": {
        "id": "0izHRYncj03D"
      },
      "source": [
        "## **Single Number III**\r\n",
        "Given an array of numbers nums, in which exactly two elements appear only once and all the other elements appear exactly twice. Find the two elements that appear only once."
      ]
    },
    {
      "cell_type": "code",
      "metadata": {
        "id": "mi4f6_8gj7i7"
      },
      "source": [
        "class Solution:\r\n",
        "    def singleNumber(self, nums: List[int]) -> List[int]:\r\n",
        "        bitmask = 0\r\n",
        "        for n in nums:\r\n",
        "            bitmask ^= n\r\n",
        "        diff = bitmask & (-bitmask)\r\n",
        "        x = 0\r\n",
        "        for n in nums:\r\n",
        "            if n & diff:\r\n",
        "                x ^= n\r\n",
        "        return [x, x ^ bitmask]"
      ],
      "execution_count": null,
      "outputs": []
    },
    {
      "cell_type": "markdown",
      "metadata": {
        "id": "donb-X08kBJs"
      },
      "source": [
        "## **Ugly Number II**\r\n",
        "Write a program to find the n-th ugly number.\r\n",
        "Ugly numbers are positive numbers whose prime factors only include 2, 3, 5."
      ]
    },
    {
      "cell_type": "code",
      "metadata": {
        "id": "PYDy03hEkQ5N"
      },
      "source": [
        "import heapq\r\n",
        "class Solution:     \r\n",
        "    def nthUglyNumber(self, n: int) -> int:\r\n",
        "        s = {1, }\r\n",
        "        q = []\r\n",
        "        num = []\r\n",
        "        heapq.heappush(q, 1)\r\n",
        "        for i in range(n):\r\n",
        "            cur = heapq.heappop(q)\r\n",
        "            num.append(cur)\r\n",
        "            for j in [2, 3, 5]:\r\n",
        "                tmp = cur * j\r\n",
        "                if tmp not in s:\r\n",
        "                    s.add(tmp)\r\n",
        "                    heapq.heappush(q, tmp)\r\n",
        "        return num[n - 1]"
      ],
      "execution_count": null,
      "outputs": []
    },
    {
      "cell_type": "code",
      "metadata": {
        "id": "sDATruB3kMCp"
      },
      "source": [
        "class Solution:\r\n",
        "    def nthUglyNumber(self, n: int) -> int:\r\n",
        "        num = [1]\r\n",
        "        p2 = p3 = p5 = 0\r\n",
        "        for i in range(n):\r\n",
        "            tmp = min(num[p2] * 2, num[p3] * 3, num[p5] * 5)\r\n",
        "            num.append(tmp)\r\n",
        "            if tmp == num[p2] * 2: \r\n",
        "                p2 += 1\r\n",
        "            if tmp == num[p3] * 3:\r\n",
        "                p3 += 1\r\n",
        "            if tmp == num[p5] * 5:\r\n",
        "                p5 += 1\r\n",
        "        return num[n - 1]"
      ],
      "execution_count": null,
      "outputs": []
    },
    {
      "cell_type": "markdown",
      "metadata": {
        "id": "VaZTNaR9Rymv"
      },
      "source": [
        "## **Word Break**\r\n",
        "Given a non-empty string s and a dictionary wordDict containing a list of non-empty words, determine if s can be segmented into a space-separated sequence of one or more dictionary words.\r\n",
        "Note:\r\n",
        "The same word in the dictionary may be reused multiple times in the segmentation.\r\n",
        "You may assume the dictionary does not contain duplicate words."
      ]
    },
    {
      "cell_type": "code",
      "metadata": {
        "id": "_n9eH-WkR8mL"
      },
      "source": [
        "class Solution:\r\n",
        "    def wordBreak(self, s, wordDict):\r\n",
        "        n = len(s)\r\n",
        "        dp = [False] * (n + 1)\r\n",
        "        dp[0] = True\r\n",
        "        for i in range(1, n + 1):\r\n",
        "            for w in wordDict:\r\n",
        "                l = len(w)\r\n",
        "                if s[i - l: i] == w and dp[i - l]:\r\n",
        "                    dp[i] = True\r\n",
        "                    break\r\n",
        "        return dp[-1]"
      ],
      "execution_count": null,
      "outputs": []
    },
    {
      "cell_type": "markdown",
      "metadata": {
        "id": "l_SCE4E2SIOB"
      },
      "source": [
        "## **Word Break II**\r\n",
        "Given a non-empty string s and a dictionary wordDict containing a list of non-empty words, add spaces in s to construct a sentence where each word is a valid dictionary word. Return all such possible sentences.\r\n",
        "Note:\r\n",
        "The same word in the dictionary may be reused multiple times in the segmentation.\r\n",
        "You may assume the dictionary does not contain duplicate words."
      ]
    },
    {
      "cell_type": "code",
      "metadata": {
        "id": "xo2bK9NSSQmB"
      },
      "source": [
        "class Solution:\r\n",
        "    def wordBreak(self, s: str, wordDict: List[str]) -> List[str]:\r\n",
        "        def dfs(i):\r\n",
        "            if i in memo:\r\n",
        "                return memo[i]\r\n",
        "            res = []\r\n",
        "            for j in range(i, len(s)):\r\n",
        "                prefix = s[i: j + 1]\r\n",
        "                if prefix in wordDict:\r\n",
        "                    tmp = dfs(j + 1)\r\n",
        "                    for word in tmp:\r\n",
        "                        res.append((prefix + \" \" + word).strip())\r\n",
        "            memo[i] = res\r\n",
        "            return res\r\n",
        "        wordDict = set(wordDict)\r\n",
        "        memo = {len(s): [\"\"]}\r\n",
        "        return dfs(0)"
      ],
      "execution_count": null,
      "outputs": []
    },
    {
      "cell_type": "markdown",
      "metadata": {
        "id": "F1EmyMbiSZK0"
      },
      "source": [
        "## **Linked List Cycle II**\r\n",
        "Given a linked list, return the node where the cycle begins. If there is no cycle, return null.\r\n",
        "There is a cycle in a linked list if there is some node in the list that can be reached again by continuously following the next pointer. Internally, pos is used to denote the index of the node that tail’s next pointer is connected to. Note that pos is not passed as a parameter.\r\n",
        "Notice that you should not modify the linked list.\r\n",
        "Follow up:\r\n",
        "Can you solve it using O(1) (i.e. constant) memory?"
      ]
    },
    {
      "cell_type": "code",
      "metadata": {
        "id": "61cIy9B4SjnQ"
      },
      "source": [
        "class Solution:\r\n",
        "    def detectCycle(self, head):\r\n",
        "        slow = fast = head\r\n",
        "        while fast and fast.next:\r\n",
        "            fast = fast.next.next\r\n",
        "            slow = slow.next\r\n",
        "            if fast == slow:\r\n",
        "                slow2 = head\r\n",
        "                while slow != slow2:\r\n",
        "                    slow = slow.next\r\n",
        "                    slow2 = slow2.next\r\n",
        "                return slow\r\n",
        "        return None"
      ],
      "execution_count": null,
      "outputs": []
    },
    {
      "cell_type": "markdown",
      "metadata": {
        "id": "yTeTHHJ8Sx6a"
      },
      "source": [
        "## **Reorder List**\r\n",
        "Given a singly linked list L: L0→L1→…→Ln-1→Ln, reorder it to: L0→Ln→L1→Ln-1→L2→Ln-2→…\r\n",
        "You may not modify the values in the list’s nodes, only nodes itself may be changed."
      ]
    },
    {
      "cell_type": "code",
      "metadata": {
        "id": "pQkk44_BS53-"
      },
      "source": [
        "class Solution:\r\n",
        "    def reorderList(self, head: ListNode) -> None:\r\n",
        "        if not head or not head.next or not head.next.next:\r\n",
        "            return\r\n",
        "        slow, fast = head, head\r\n",
        "        while fast.next and fast.next.next:\r\n",
        "            slow = slow.next\r\n",
        "            fast = fast.next.next\r\n",
        "        head2 = slow.next\r\n",
        "        slow.next = None\r\n",
        "        dummy = ListNode(0, None)\r\n",
        "        while head2:\r\n",
        "            tmp = head2.next\r\n",
        "            head2.next = dummy.next\r\n",
        "            dummy.next = head2\r\n",
        "            head2 = tmp\r\n",
        "        head1 = head\r\n",
        "        head2 = dummy.next\r\n",
        "        while head1 and head2:\r\n",
        "            tmp = head2\r\n",
        "            head2 = head2.next\r\n",
        "            tmp.next = head1.next\r\n",
        "            head1.next = tmp\r\n",
        "            head1 = head1.next.next"
      ],
      "execution_count": null,
      "outputs": []
    },
    {
      "cell_type": "markdown",
      "metadata": {
        "id": "hdqMzfCtTF0k"
      },
      "source": [
        "## **LRU Cache**\r\n",
        "Design and implement a data structure for Least Recently Used (LRU) cache. It should support the following operations: get and put.\r\n",
        "get(key) - Get the value (will always be positive) of the key if the key exists in the cache, otherwise return -1. put(key, value) - Set or insert the value if the key is not already present. When the cache reached its capacity, it should invalidate the least recently used item before inserting a new item.\r\n",
        "The cache is initialized with a positive capacity.\r\n",
        "Follow up:\r\n",
        "Could you do both operations in O(1) time complexity?"
      ]
    },
    {
      "cell_type": "code",
      "metadata": {
        "id": "9gg25FRiTSBn"
      },
      "source": [
        "class LRUCache:\r\n",
        "    def __init__(self, capacity: int):\r\n",
        "        self.capacity = capacity\r\n",
        "        self.dict = collections.OrderedDict()\r\n",
        "        self.size = 0\r\n",
        "    def get(self, key: int) -> int:\r\n",
        "        if key in self.dict:\r\n",
        "            self.dict.move_to_end(key)\r\n",
        "            return self.dict[key]\r\n",
        "        else:\r\n",
        "            return -1\r\n",
        "    def put(self, key: int, value: int) -> None:\r\n",
        "        if key in self.dict:\r\n",
        "            self.dict[key] = value\r\n",
        "            self.dict.move_to_end(key)\r\n",
        "        else:\r\n",
        "            if self.size < self.capacity:\r\n",
        "                self.dict[key] = value\r\n",
        "                self.size += 1\r\n",
        "            else:\r\n",
        "                self.dict.popitem(False)\r\n",
        "                self.dict[key] = value\r\n",
        "# Your LRUCache object will be instantiated and called as such: # obj = LRUCache(capacity) # param_1 = obj.get(key) # obj.put(key,value)"
      ],
      "execution_count": null,
      "outputs": []
    },
    {
      "cell_type": "markdown",
      "metadata": {
        "id": "1NJNC9TyTYoV"
      },
      "source": [
        "## **Insertion** **Sort** **List** \r\n",
        "Sort a linked list using insertion sort.\r\n",
        "Algorithm of Insertion Sort:\r\n",
        "Insertion sort iterates, consuming one input element each repetition, and growing a sorted output list.\r\n",
        "At each iteration, insertion sort removes one element from the input data, finds the location it belongs within the sorted list, and inserts it there.\r\n",
        "It repeats until no input elements remain."
      ]
    },
    {
      "cell_type": "code",
      "metadata": {
        "id": "evTA9oMpTyd9"
      },
      "source": [
        "class Solution:\r\n",
        "    def insertionSortList(self, head: ListNode) -> ListNode:\r\n",
        "        dummy = ListNode(0)\r\n",
        "        pre = dummy\r\n",
        "        node = head\r\n",
        "        while node:\r\n",
        "            cur = node\r\n",
        "            node = node.next\r\n",
        "            if cur.val < pre.val:\r\n",
        "                pre = dummy\r\n",
        "            while pre.next and cur.val > pre.next.val:\r\n",
        "                pre = pre.next\r\n",
        "            cur.next = pre.next\r\n",
        "            pre.next = cur     \r\n",
        "        return dummy.next"
      ],
      "execution_count": null,
      "outputs": []
    },
    {
      "cell_type": "markdown",
      "metadata": {
        "id": "lJAOoox1T2NI"
      },
      "source": [
        "## **Sort List**\r\n",
        "Given the head of a linked list, return the list after sorting it in ascending order.\r\n",
        "Follow up: Can you sort the linked list in O(n logn) time and O(1) memory (i.e. constant space)?"
      ]
    },
    {
      "cell_type": "code",
      "metadata": {
        "id": "TOCfHadZUAP8"
      },
      "source": [
        "class Solution:\r\n",
        "    def merge(self, h1, h2):\r\n",
        "        dummy = tail = ListNode()\r\n",
        "        while h1 and h2:\r\n",
        "            if h1.val < h2.val:\r\n",
        "                tail.next, tail, h1 = h1, h1, h1.next\r\n",
        "            else:\r\n",
        "                tail.next, tail, h2 = h2, h2, h2.next\r\n",
        "        tail.next = h1 or h2\r\n",
        "        return dummy.next\r\n",
        "    \r\n",
        "    def sortList(self, head: ListNode) -> ListNode:\r\n",
        "        if not head or not head.next:\r\n",
        "            return head\r\n",
        "        pre, slow, fast = None, head, head\r\n",
        "        while fast and fast.next:\r\n",
        "            pre, slow, fast = slow, slow.next, fast.next.next\r\n",
        "        pre.next = None\r\n",
        "        return self.merge(self.sortList(head), self.sortList(slow))"
      ],
      "execution_count": null,
      "outputs": []
    },
    {
      "cell_type": "markdown",
      "metadata": {
        "id": "TRhGf07yUE6i"
      },
      "source": [
        "## **Reverse Words in a String**\r\n",
        "Given an input string, reverse the string word by word."
      ]
    },
    {
      "cell_type": "code",
      "metadata": {
        "id": "eA8EQghkUEVX"
      },
      "source": [
        "class Solution:\r\n",
        "    def reverseWords(self, s: str) -> str:\r\n",
        "        return \" \".join(s.split()[::-1])"
      ],
      "execution_count": null,
      "outputs": []
    },
    {
      "cell_type": "markdown",
      "metadata": {
        "id": "FLCD-jEQUTVG"
      },
      "source": [
        "## **Maximum Product Subarray**\r\n",
        "Given an integer array nums, find the contiguous subarray within an array (containing at least one number) which has the largest product."
      ]
    },
    {
      "cell_type": "code",
      "metadata": {
        "id": "NOMyCeRkU_7U"
      },
      "source": [
        "class Solution:\r\n",
        "    def solve(self, nums):\r\n",
        "        def mul(n):\r\n",
        "            return reduce(lambda x, y: x * y, n, 1)\r\n",
        "        if len(nums) == 0:\r\n",
        "            return 0\r\n",
        "        if len(nums) == 1:\r\n",
        "            return nums[0]\r\n",
        "        firstneg, lastneg, numneg = -1, -1, 0\r\n",
        "        for i, n in enumerate(nums):\r\n",
        "            if n < 0 :\r\n",
        "                if firstneg == -1:\r\n",
        "                    firstneg = i\r\n",
        "                lastneg = i\r\n",
        "                numneg += 1\r\n",
        "        if numneg % 2 == 0:\r\n",
        "            return mul(nums)\r\n",
        "        return max(mul(nums[firstneg + 1:]), mul(nums[:lastneg]))\r\n",
        "    def maxProduct(self, nums: List[int]) -> int:\r\n",
        "        res = float('-inf')\r\n",
        "        pre = 0\r\n",
        "        for i, n in enumerate(nums):\r\n",
        "            if n == 0:\r\n",
        "                res = max(res, self.solve(nums[pre: i]))\r\n",
        "                pre = i + 1\r\n",
        "        res = max(res, self.solve(nums[pre:]))\r\n",
        "        return res if pre == 0 else max(res, 0)"
      ],
      "execution_count": null,
      "outputs": []
    },
    {
      "cell_type": "markdown",
      "metadata": {
        "id": "GyABknnUU4ei"
      },
      "source": [
        "## **Find Minimum in Rotated Sorted Array II**\r\n",
        "Suppose an array sorted in ascending order is rotated at some pivot unknown to you beforehand.\r\n",
        "\r\n",
        "(i.e., [0,1,2,4,5,6,7] might become [4,5,6,7,0,1,2]).\r\n",
        "\r\n",
        "Find the minimum element.\r\n",
        "\r\n",
        "The array may contain duplicates."
      ]
    },
    {
      "cell_type": "code",
      "metadata": {
        "id": "7hkPNoeSU3ce"
      },
      "source": [
        "class Solution:\r\n",
        "    def findMin(self, nums):\r\n",
        "        l, r = 0, len(nums) - 1\r\n",
        "        while l < r:\r\n",
        "            m = (l + r) // 2\r\n",
        "            if nums[m] < nums[r]:\r\n",
        "                r = m\r\n",
        "            elif nums[m] > nums[r]:\r\n",
        "                l = m + 1\r\n",
        "            else:\r\n",
        "                r -= 1\r\n",
        "        return nums[l]"
      ],
      "execution_count": null,
      "outputs": []
    },
    {
      "cell_type": "markdown",
      "metadata": {
        "id": "29wiR7EKUcLE"
      },
      "source": [
        "## **Min Stack**\r\n",
        "Design a stack that supports push, pop, top, and retrieving the minimum element in constant time.\r\n",
        "push(x) – Push element x onto stack.\r\n",
        "pop() – Removes the element on top of the stack.\r\n",
        "top() – Get the top element.\r\n",
        "getMin() – Retrieve the minimum element in the stack."
      ]
    },
    {
      "cell_type": "code",
      "metadata": {
        "id": "lF61pcqdVajV"
      },
      "source": [
        "class MinStack:\r\n",
        "    def __init__(self):\r\n",
        "        \"\"\" initialize your data structure here. \"\"\"\r\n",
        "        self.stack = []\r\n",
        "        self.min_stack = [float('inf')]\r\n",
        "    def push(self, x: int) -> None:\r\n",
        "        self.stack.append(x)\r\n",
        "        if x <= self.min_stack[-1]:\r\n",
        "            self.min_stack.append(x)\r\n",
        "    def pop(self) -> None:\r\n",
        "        if self.stack[-1] == self.min_stack[-1]:\r\n",
        "            self.min_stack.pop()\r\n",
        "        self.stack.pop()\r\n",
        "    def top(self) -> int:\r\n",
        "        return self.stack[-1]\r\n",
        "    def getMin(self) -> int:\r\n",
        "        return self.min_stack[-1]\r\n",
        "# Your MinStack object will be instantiated and called as such: # obj = MinStack() # obj.push(x) # obj.pop() # param_3 = obj.top() # param_4 = obj.getMin("
      ],
      "execution_count": null,
      "outputs": []
    },
    {
      "cell_type": "markdown",
      "metadata": {
        "id": "QyQRUPe0Vjc1"
      },
      "source": [
        "## **Compare Version Numbers**\r\n",
        "Compare two version numbers version1 and version2. If version1 > version2 return 1; if version1 < version2 return -1;otherwise return 0.\r\n",
        "You may assume that the version strings are non-empty and contain only digits and the . character.\r\n",
        "The . character does not represent a decimal point and is used to separate number sequences.\r\n",
        "For instance, 2.5 is not “two and a half” or “half way to version three”, it is the fifth second-level revision of the second first-level revision.\r\n",
        "You may assume the default revision number for each level of a version number to be 0. For example, version number 3.4 has a revision number of 3 and 4 for its first and second level revision number. Its third and fourth level revision number are both 0."
      ]
    },
    {
      "cell_type": "code",
      "metadata": {
        "id": "Lx3iVceGVi0k"
      },
      "source": [
        "class Solution:\r\n",
        "    def compareVersion(self, version1: str, version2: str) -> int:\r\n",
        "        v1, v2 = version1.split('.'), version2.split('.')\r\n",
        "        l1, l2 = len(v1), len(v2)\r\n",
        "        for i in range(max(l1, l2)):\r\n",
        "            p1 = int(v1[i]) if i < l1 else 0\r\n",
        "            p2 = int(v2[i]) if i < l2 else 0\r\n",
        "            if p1 > p2:\r\n",
        "                return 1\r\n",
        "            elif p1 < p2:\r\n",
        "                return -1\r\n",
        "        return 0"
      ],
      "execution_count": null,
      "outputs": []
    },
    {
      "cell_type": "markdown",
      "metadata": {
        "id": "t-EV0A2WVyAx"
      },
      "source": [
        "## **Majority Element**\r\n",
        "Given an array of size n, find the majority element. The majority element is the element that appears more than ⌊ n/2 ⌋ times.\r\n",
        "You may assume that the array is non-empty and the majority element always exist in the array."
      ]
    },
    {
      "cell_type": "code",
      "metadata": {
        "id": "jsXzd78-WBEs"
      },
      "source": [
        "from collections import Counter\r\n",
        "class Solution:\r\n",
        "    def majorityElement(self, nums: List[int]) -> int:\r\n",
        "        ct = Counter(nums)\r\n",
        "        l = len(nums) / 2\r\n",
        "        for key, value in ct.items():\r\n",
        "            if value >= l:\r\n",
        "                return key"
      ],
      "execution_count": null,
      "outputs": []
    },
    {
      "cell_type": "markdown",
      "metadata": {
        "id": "sNgoP_K2h1hn"
      },
      "source": [
        "## **Majority Element II**\r\n",
        "Given an integer array of size n, find all elements that appear more than ⌊ n/3 ⌋ times.Note: The algorithm should run in linear time and in O(1) space."
      ]
    },
    {
      "cell_type": "code",
      "metadata": {
        "id": "LC6sFkPdh8io"
      },
      "source": [
        "class Solution:\r\n",
        "    def majorityElement(self, nums: List[int]) -> List[int]:\r\n",
        "        if not nums:\r\n",
        "            return []\r\n",
        "        count1, count2, candidate1, candidate2 = 0, 0, None, None\r\n",
        "        for n in nums:\r\n",
        "            if candidate1 == n:\r\n",
        "                count1 += 1\r\n",
        "            elif candidate2 == n:\r\n",
        "                count2 += 1\r\n",
        "            elif count1 == 0:\r\n",
        "                candidate1 = n\r\n",
        "                count1 = 1\r\n",
        "            elif count2 == 0:\r\n",
        "                candidate2 = n\r\n",
        "                count2 = 1\r\n",
        "            else:\r\n",
        "                count1 -= 1\r\n",
        "                count2 -= 1\r\n",
        "        res = []\r\n",
        "        for c in [candidate1, candidate2]:\r\n",
        "            if nums.count(c) > len(nums) // 3:\r\n",
        "                res.append(c)\r\n",
        "        return res"
      ],
      "execution_count": null,
      "outputs": []
    },
    {
      "cell_type": "markdown",
      "metadata": {
        "id": "68ZCOelQWJIx"
      },
      "source": [
        "## **Excel Sheet Column Number**\r\n",
        "Given a column title as appear in an Excel sheet, return its corresponding column number."
      ]
    },
    {
      "cell_type": "code",
      "metadata": {
        "id": "1LdTukOKWTaY"
      },
      "source": [
        "class Solution:\r\n",
        "    def titleToNumber(self, s: str) -> int:\r\n",
        "        res = 0\r\n",
        "        for c in s:\r\n",
        "            res = res * 26 + ord(c) - 64\r\n",
        "        return res"
      ],
      "execution_count": null,
      "outputs": []
    },
    {
      "cell_type": "markdown",
      "metadata": {
        "id": "C0fb956xWU7g"
      },
      "source": [
        "## **Binary Search Tree Iterator**\r\n",
        "Implement the BSTIterator class that represents an iterator over the in-order traversal of a binary search tree (BST):\r\n",
        "BSTIterator(TreeNode root) Initializes an object of the BSTIterator class. The root of the BST is given as part of the constructor. The pointer should be initialized to a non-existent number smaller than any element in the BST.\r\n",
        "boolean hasNext() Returns true if there exists a number in the traversal to the right of the pointer, otherwise returns false.\r\n",
        "int next() Moves the pointer to the right, then returns the number at the pointer.\r\n",
        "Notice that by initializing the pointer to a non-existent smallest number, the first call to next() will return the smallest element in the BST.\r\n",
        "You may assume that next() calls will always be valid. That is, there will be at least a next number in the in-order traversal when next() is called."
      ]
    },
    {
      "cell_type": "code",
      "metadata": {
        "id": "o7ZEKG5zWiCz"
      },
      "source": [
        "class BSTIterator:\r\n",
        "    def __init__(self, root):\r\n",
        "        self.stack = []\r\n",
        "        self.do_left(root)\r\n",
        "    def do_left(self, root):\r\n",
        "        while root:\r\n",
        "            self.stack.append(root)\r\n",
        "            root = root.left       \r\n",
        "    def next(self) -> int:\r\n",
        "        ret = self.stack.pop()\r\n",
        "        if ret.right:\r\n",
        "            self.do_left(ret.right)\r\n",
        "        return ret.val\r\n",
        "    def hasNext(self) -> bool:\r\n",
        "        return len(self.stack) > 0"
      ],
      "execution_count": null,
      "outputs": []
    },
    {
      "cell_type": "markdown",
      "metadata": {
        "id": "DrjtnvX1Wt7D"
      },
      "source": [
        "## **Dungeon Game**\r\n",
        "The demons had captured the princess (P) and imprisoned her in the bottom-right corner of a dungeon. The dungeon consists of M x N rooms laid out in a 2D grid. Our valiant knight (K) was initially positioned in the top-left room and must fight his way through the dungeon to rescue the princess.\r\n",
        "\r\n",
        "The knight has an initial health point represented by a positive integer. If at any point his health point drops to 0 or below, he dies immediately.\r\n",
        "\r\n",
        "Some of the rooms are guarded by demons, so the knight loses health (negative integers) upon entering these rooms; other rooms are either empty (0’s) or contain magic orbs that increase the knight’s health (positive integers).\r\n",
        "\r\n",
        "In order to reach the princess as quickly as possible, the knight decides to move only rightward or downward in each step.\r\n",
        "\r\n",
        "Write a function to determine the knight’s minimum initial health so that he is able to rescue the princess.\r\n",
        "\r\n",
        "#####Note:\r\n",
        "\r\n",
        "The knight’s health has no upper bound.\r\n",
        "Any room can contain threats or power-ups, even the first room the knight enters and the bottom-right room where the princess is imprisoned."
      ]
    },
    {
      "cell_type": "code",
      "metadata": {
        "id": "Y8zCgsCtXB4n"
      },
      "source": [
        "dp[m][n] = max(1, 1 - dungeon[-1][-1])\r\n",
        "dp[m][j] = max(1, dp[m][j + 1] - dungeon[m][j])\r\n",
        "dp[i][n] = max(1, dp[i + 1][n] - dungeon[i][n])\r\n",
        "dp[i][j] = max(1, min(dp[i][j + 1], dp[i + 1][j]) - dungeon[i][j])"
      ],
      "execution_count": null,
      "outputs": []
    },
    {
      "cell_type": "code",
      "metadata": {
        "id": "IOhEIiA0W7tl"
      },
      "source": [
        "class Solution:\r\n",
        "    def calculateMinimumHP(self, dungeon: List[List[int]]) -> int:\r\n",
        "        m, n = len(dungeon), len(dungeon[0])\r\n",
        "        dp = [0] * n\r\n",
        "        dp[-1] = max(1, 1 - dungeon[-1][-1])\r\n",
        "        for j in range(n - 2, -1, -1):\r\n",
        "            dp[j] = max(1, dp[j + 1] - dungeon[-1][j])\r\n",
        "        for i in range(m - 2, -1, -1):\r\n",
        "            dp[-1] = max(1, dp[-1] - dungeon[i][-1])\r\n",
        "            for j in range(n - 2, -1, -1):\r\n",
        "                dp[j] = max(1, min(dp[j], dp[j + 1]) - dungeon[i][j])\r\n",
        "        return dp[0]"
      ],
      "execution_count": null,
      "outputs": []
    },
    {
      "cell_type": "markdown",
      "metadata": {
        "id": "g_LSTDWBXG4-"
      },
      "source": [
        "## **Largest Number**\r\n",
        "Given a list of non negative integers, arrange them such that they form the largest number."
      ]
    },
    {
      "cell_type": "code",
      "metadata": {
        "id": "P1LVJQSwXSVI"
      },
      "source": [
        "class Compare(str):\r\n",
        "    def __lt__(x, y):\r\n",
        "        return x + y < y + x\r\n",
        "    \r\n",
        "class Solution:\r\n",
        "    def largestNumber(self, nums):\r\n",
        "        largest_num = ''.join(sorted(map(str, nums), key=Compare, reverse=True))\r\n",
        "        return '0' if largest_num[0] == '0' else largest_num"
      ],
      "execution_count": null,
      "outputs": []
    },
    {
      "cell_type": "markdown",
      "metadata": {
        "id": "ITk4mpPYXWZj"
      },
      "source": [
        "## **Repeated DNA Sequences**\r\n",
        "All DNA is composed of a series of nucleotides abbreviated as ‘A’, ‘C’, ‘G’, and ‘T’, for example: “ACGAATTCCG”. When studying DNA, it is sometimes useful to identify repeated sequences within the DNA.\r\n",
        "Write a function to find all the 10-letter-long sequences (substrings) that occur more than once in a DNA molecule."
      ]
    },
    {
      "cell_type": "code",
      "metadata": {
        "id": "DbBspxB7Xgmt"
      },
      "source": [
        "class Solution:\r\n",
        "    def findRepeatedDnaSequences(self, s: str) -> List[str]:\r\n",
        "        seen = set()\r\n",
        "        res = set()\r\n",
        "        for i in range(len(s) - 9):\r\n",
        "            tmp=s[i: i + 10]\r\n",
        "            if tmp in seen:\r\n",
        "                res.add(tmp)\r\n",
        "            else:\r\n",
        "                seen.add(tmp)\r\n",
        "        return res"
      ],
      "execution_count": null,
      "outputs": []
    },
    {
      "cell_type": "code",
      "metadata": {
        "id": "x9DP8YegXnQZ"
      },
      "source": [
        "class Solution:\r\n",
        "    def findRepeatedDnaSequences(self, s: str) -> List[str]:\r\n",
        "        L, n = 10, len(s)\r\n",
        "        if n <= L:\r\n",
        "            return []\r\n",
        "        a = 4\r\n",
        "        MOD = 2 ** 63 - 1\r\n",
        "        aL = pow(a, L, MOD)\r\n",
        "        to_int = {'A': 0, 'C': 1, 'G': 2, 'T': 3}\r\n",
        "        nums = [to_int[s[i]] for i in range(n)]\r\n",
        "        h = 0\r\n",
        "        for i in range(L):\r\n",
        "            h = h * a + nums[i]\r\n",
        "        seen, res = {h, }, set()\r\n",
        "        for i in range(1, n - L + 1):\r\n",
        "            h = (h * a - nums[i - 1] * aL + nums[i + L - 1]) % MOD\r\n",
        "            if h in seen:\r\n",
        "                res.add(s[i: i + L])\r\n",
        "            else:\r\n",
        "                seen.add(h)\r\n",
        "        return res"
      ],
      "execution_count": null,
      "outputs": []
    },
    {
      "cell_type": "markdown",
      "metadata": {
        "id": "CnhjGiF6XpcW"
      },
      "source": [
        "## **Rotate Array**\r\n",
        "Given an array, rotate the array to the right by k steps, where k is non-negative.\r\n",
        "Follow up:\r\n",
        "Try to come up as many solutions as you can, there are at least 3 different ways to solve this problem.\r\n",
        "Could you do it in-place with O(1) extra space?"
      ]
    },
    {
      "cell_type": "code",
      "metadata": {
        "id": "It_Gz6LkYWxR"
      },
      "source": [
        "class Solution:\r\n",
        "    def rotate(self, nums: List[int], k: int) -> None:\r\n",
        "        \"\"\" Do not return anything, modify nums in-place instead. \"\"\"\r\n",
        "        def rev(nums, l, r):\r\n",
        "            while l < r:\r\n",
        "                nums[l], nums[r] = nums[r], nums[l]\r\n",
        "                l += 1\r\n",
        "                r -= 1\r\n",
        "        n = len(nums)\r\n",
        "        k %= n\r\n",
        "        rev(nums, 0, n - 1)\r\n",
        "        rev(nums, 0, k - 1)\r\n",
        "        rev(nums, k, n - 1)"
      ],
      "execution_count": null,
      "outputs": []
    },
    {
      "cell_type": "markdown",
      "metadata": {
        "id": "dWoGTDdDYjpb"
      },
      "source": [
        "## **Reverse Bits**\r\n",
        "Reverse bits of a given 32 bits unsigned integer."
      ]
    },
    {
      "cell_type": "code",
      "metadata": {
        "id": "Hi42D4ZJYm5Y"
      },
      "source": [
        "lass Solution:\r\n",
        "    def reverseBits(self, n: int) -> int:\r\n",
        "        res, power = 0, 31\r\n",
        "        while n:\r\n",
        "            res += (n & 1) << power\r\n",
        "            n >>= 1\r\n",
        "            power -= 1\r\n",
        "        return res"
      ],
      "execution_count": null,
      "outputs": []
    },
    {
      "cell_type": "code",
      "metadata": {
        "id": "N21X3u3PYv1A"
      },
      "source": [
        "class Solution:\r\n",
        "    def reverseBits(self, n: int) -> int:\r\n",
        "        return int(bin(n)[2:].zfill(32)[::-1], 2)"
      ],
      "execution_count": null,
      "outputs": []
    },
    {
      "cell_type": "markdown",
      "metadata": {
        "id": "DVaaMiFxY5q0"
      },
      "source": [
        "## **House Robber**\r\n",
        "You are a professional robber planning to rob houses along a street. Each house has a certain amount of money stashed, the only constraint stopping you from robbing each of them is that adjacent houses have security system connected and it will automatically contact the police if two adjacent houses were broken into on the same night.\r\n",
        "Given a list of non-negative integers representing the amount of money of each house, determine the maximum amount of money you can rob tonight without alerting the police."
      ]
    },
    {
      "cell_type": "code",
      "metadata": {
        "id": "YeIPUG2LZEW7"
      },
      "source": [
        "class Solution:\r\n",
        "    def rob(self, nums: List[int]) -> int:\r\n",
        "        dp0 = dp1 = 0\r\n",
        "        for i in range(len(nums)):\r\n",
        "            dp0, dp1 = dp1, max(dp0 + nums[i], dp1)\r\n",
        "        return dp1"
      ],
      "execution_count": null,
      "outputs": []
    },
    {
      "cell_type": "markdown",
      "metadata": {
        "id": "fGCJql1ecDjE"
      },
      "source": [
        "## **House** **Robber** **II** \r\n",
        "You are a professional robber planning to rob houses along a street. Each house has a certain amount of money stashed. All houses at this place are arranged in a circle. That means the first house is the neighbor of the last one. Meanwhile, adjacent houses have a security system connected, and it will automatically contact the police if two adjacent houses were broken into on the same night.Given a list of non-negative integers nums representing the amount of money of each house, return the maximum amount of money you can rob tonight without alerting the police."
      ]
    },
    {
      "cell_type": "code",
      "metadata": {
        "id": "wxbN__WecTFD"
      },
      "source": [
        "class Solution:\r\n",
        "    def _rob(self, nums: List[int]) -> int:\r\n",
        "        dp0 = dp1 = 0\r\n",
        "        for i in range(len(nums)):\r\n",
        "            dp0, dp1 = dp1, max(dp0 + nums[i], dp1)\r\n",
        "        return dp1\r\n",
        "    def rob(self, nums: List[int]) -> int:\r\n",
        "        if len(nums) == 1:\r\n",
        "            return nums[0]\r\n",
        "        return max(self._rob(nums[:-1]), self._rob(nums[1:]))"
      ],
      "execution_count": null,
      "outputs": []
    },
    {
      "cell_type": "markdown",
      "metadata": {
        "id": "97XghKeYgL3m"
      },
      "source": [
        "## **House Robber III**\r\n",
        "The thief has found himself a new place for his thievery again. There is only one entrance to this area, called the “root.” Besides the root, each house has one and only one parent house. After a tour, the smart thief realized that “all houses in this place forms a binary tree”. It will automatically contact the police if two directly-linked houses were broken into on the same night.\r\n",
        "\r\n",
        "Determine the maximum amount of money the thief can rob tonight without alerting the police."
      ]
    },
    {
      "cell_type": "code",
      "metadata": {
        "id": "whT77RhNgU_C"
      },
      "source": [
        "class Solution:\r\n",
        "    def rob(self, root: TreeNode) -> int:\r\n",
        "        def dfs(root):\r\n",
        "            if not root:\r\n",
        "                return\r\n",
        "            dfs(root.left)\r\n",
        "            dfs(root.right)\r\n",
        "            f[root] = root.val + g[root.left] + g[root.right]\r\n",
        "            g[root] = max(f[root.left], g[root.left]) + max(f[root.right], g[root.right])\r\n",
        "            \r\n",
        "        f, g = defaultdict(int), defaultdict(int)\r\n",
        "        dfs(root)\r\n",
        "        return max(f[root], g[root])"
      ],
      "execution_count": null,
      "outputs": []
    },
    {
      "cell_type": "code",
      "metadata": {
        "id": "gExFY0vngVtJ"
      },
      "source": [
        "class Solution:\r\n",
        "    def rob(self, root: TreeNode) -> int:\r\n",
        "        def dfs(root):\r\n",
        "            if not root:\r\n",
        "                return (0, 0)\r\n",
        "            left = dfs(root.left)\r\n",
        "            right = dfs(root.right)\r\n",
        "            f = root.val + left[1] + right[1]\r\n",
        "            g = max(left) + max(right)\r\n",
        "            return (f, g)\r\n",
        "        \r\n",
        "        return max(dfs(root))"
      ],
      "execution_count": null,
      "outputs": []
    },
    {
      "cell_type": "markdown",
      "metadata": {
        "id": "hn5HIxiYZNFo"
      },
      "source": [
        "## **Number of Islands**\r\n",
        "Given a 2d grid map of ‘1’s (land) and ‘0’s (water), count the number of islands. An island is surrounded by water and is formed by connecting adjacent lands horizontally or vertically. You may assume all four edges of the grid are all surrounded by water."
      ]
    },
    {
      "cell_type": "code",
      "metadata": {
        "id": "Hj7Gfm8QZXPl"
      },
      "source": [
        "class Solution:\r\n",
        "    def numIslands(self, grid: List[List[str]]) -> int:\r\n",
        "        def dfs(i, j):\r\n",
        "            grid[i][j] = '0'\r\n",
        "            q = [(i, j)]\r\n",
        "            while q:\r\n",
        "                x, y = q.pop()\r\n",
        "                if x > 0 and grid[x - 1][y] == '1':\r\n",
        "                    grid[x - 1][y] = '0'\r\n",
        "                    q.append((x - 1, y))\r\n",
        "                if y > 0 and grid[x][y - 1] == '1':\r\n",
        "                    grid[x][y - 1] = '0'\r\n",
        "                    q.append((x, y - 1))\r\n",
        "                if x < m - 1 and grid[x + 1][y] == '1':\r\n",
        "                    grid[x + 1][y] = '0'\r\n",
        "                    q.append((x + 1, y))\r\n",
        "                if y < n - 1 and grid[x][y + 1] == '1':\r\n",
        "                    grid[x][y + 1] = '0'\r\n",
        "                    q.append((x, y + 1))\r\n",
        "                \r\n",
        "        m = len(grid)\r\n",
        "        if m == 0:\r\n",
        "            return 0\r\n",
        "        n = len(grid[0])\r\n",
        "        res = 0\r\n",
        "        for i in range(m):\r\n",
        "            for j in range(n):\r\n",
        "                if grid[i][j] == '1':\r\n",
        "                    dfs(i, j)\r\n",
        "                    res += 1\r\n",
        "        return res"
      ],
      "execution_count": null,
      "outputs": []
    },
    {
      "cell_type": "markdown",
      "metadata": {
        "id": "glqdyx39ZZ3u"
      },
      "source": [
        "## **Bitwise AND of Numbers Range**\r\n",
        "Given a range [m, n] where 0 <= m <= n <= 2147483647, return the bitwise AND of all numbers in this range, inclusive."
      ]
    },
    {
      "cell_type": "code",
      "metadata": {
        "id": "wpLz5pwHZoU8"
      },
      "source": [
        "class Solution:\r\n",
        "    def rangeBitwiseAnd(self, m: int, n: int) -> int:\r\n",
        "        if len(bin(m)) != len(bin(n)):\r\n",
        "            return 0\r\n",
        "        res = 0\r\n",
        "        while (m != n):\r\n",
        "            m >>= 1\r\n",
        "            n >>= 1\r\n",
        "            res += 1\r\n",
        "        return m << res"
      ],
      "execution_count": null,
      "outputs": []
    },
    {
      "cell_type": "markdown",
      "metadata": {
        "id": "c6Qlw2CEZse2"
      },
      "source": [
        "## **Happy Number**\r\n",
        "Write an algorithm to determine if a number n is “happy”.\r\n",
        "A happy number is a number defined by the following process: Starting with any positive integer, replace the number by the sum of the squares of its digits, and repeat the process until the number equals 1 (where it will stay), or it loops endlessly in a cycle which does not include 1. Those numbers for which this process ends in 1 are happy numbers.\r\n",
        "Return True if n is a happy number, and False if not."
      ]
    },
    {
      "cell_type": "code",
      "metadata": {
        "id": "6g2LO5cGaAHB"
      },
      "source": [
        "class Solution:\r\n",
        "    def isHappy(self, n):\r\n",
        "        s = {n}\r\n",
        "        while n != 1:\r\n",
        "            tmp = sum([int(c) ** 2 for c in str(n)])\r\n",
        "            if tmp in s:\r\n",
        "                return False\r\n",
        "            s.add(tmp)\r\n",
        "            n = tmp\r\n",
        "        return True"
      ],
      "execution_count": null,
      "outputs": []
    },
    {
      "cell_type": "markdown",
      "metadata": {
        "id": "LjQRPRldaLqm"
      },
      "source": [
        "## **Remove Linked List Elements**\r\n",
        "Remove all elements from a linked list of integers that have value val."
      ]
    },
    {
      "cell_type": "code",
      "metadata": {
        "id": "VJZWn2QwaU94"
      },
      "source": [
        "class Solution:\r\n",
        "    def removeElements(self, head, val):\r\n",
        "        dummy = ListNode(0)\r\n",
        "        dummy.next = head\r\n",
        "        cur = dummy\r\n",
        "        while cur.next:\r\n",
        "            if cur.next.val == val:\r\n",
        "                cur.next = cur.next.next\r\n",
        "            else:\r\n",
        "                cur = cur.next\r\n",
        "        return dummy.next"
      ],
      "execution_count": null,
      "outputs": []
    },
    {
      "cell_type": "markdown",
      "metadata": {
        "id": "ak-rD9RBaceg"
      },
      "source": [
        "## **Course Schedule**\r\n",
        "There are a total of numCourses courses you have to take, labeled from 0 to numCourses-1.\r\n",
        "Some courses may have prerequisites, for example to take course 0 you have to first take course 1, which is expressed as a pair: [0,1]\r\n",
        "Given the total number of courses and a list of prerequisite pairs, is it possible for you to finish all courses?"
      ]
    },
    {
      "cell_type": "code",
      "metadata": {
        "id": "bF7QuX8Xao7B"
      },
      "source": [
        "class Solution:\r\n",
        "    def canFinish(self, numCourses, prerequisites):\r\n",
        "        inbound = [0] * numCourses\r\n",
        "        edge = defaultdict(list)\r\n",
        "        for x, y in prerequisites:\r\n",
        "            inbound[x] += 1\r\n",
        "            edge[y].append(x)\r\n",
        "        q = [i for i in range(numCourses) if inbound[i] == 0]\r\n",
        "        visited = 0\r\n",
        "        while q:\r\n",
        "            cur = q.pop()\r\n",
        "            visited += 1  \r\n",
        "            for n in edge[cur]:\r\n",
        "                inbound[n] -= 1\r\n",
        "                if inbound[n] == 0:\r\n",
        "                    q.append(n)\r\n",
        "        return  visited == numCourses"
      ],
      "execution_count": null,
      "outputs": []
    },
    {
      "cell_type": "markdown",
      "metadata": {
        "id": "T3OEyPFxbEIy"
      },
      "source": [
        "## **Add and Search Word - Data structure design**\r\n",
        "Design a data structure that supports the following two operations:\r\n",
        "void addWord(word)\r\n",
        "bool search(word)\r\n",
        "search(word) can search a literal word or a regular expression string containing only letters a-z or .. A . means it can represent any one letter."
      ]
    },
    {
      "cell_type": "code",
      "metadata": {
        "id": "tdJUXZqCbQaT"
      },
      "source": [
        "class WordDictionary:\r\n",
        "\r\n",
        "    def __init__(self):\r\n",
        "        \"\"\" Initialize your data structure here. \"\"\"\r\n",
        "        self.trie = {}\r\n",
        "\r\n",
        "    def addWord(self, word: str) -> None:\r\n",
        "        \"\"\" Adds a word into the data structure. \"\"\"\r\n",
        "        cur = self.trie\r\n",
        "        for c in word:\r\n",
        "            if c not in cur:\r\n",
        "                cur[c] = {}\r\n",
        "            cur = cur[c]\r\n",
        "        cur['#'] = True\r\n",
        "\r\n",
        "    def search(self, word: str) -> bool:\r\n",
        "        \"\"\" Returns if the word is in the data structure. A word could contain the dot character '.' to represent any one letter. \"\"\"\r\n",
        "        return self.dfs(self.trie, word, 0)\r\n",
        "    \r\n",
        "    def dfs(self, node, word, i):\r\n",
        "        if i == len(word):\r\n",
        "            return '#' in node\r\n",
        "        if word[i] == '.':\r\n",
        "            for child in node:\r\n",
        "                if child != '#' and self.dfs(node[child], word, i + 1):\r\n",
        "                    return True\r\n",
        "            return False\r\n",
        "        \r\n",
        "        if word[i] not in node:\r\n",
        "            return False\r\n",
        "        return self.dfs(node[word[i]], word, i + 1)"
      ],
      "execution_count": null,
      "outputs": []
    },
    {
      "cell_type": "code",
      "metadata": {
        "id": "cddATDWRbXY5"
      },
      "source": [
        "class WordDictionary:\r\n",
        "    def __init__(self):\r\n",
        "        \"\"\" Initialize your data structure here. \"\"\"\r\n",
        "        self.dic = defaultdict(set)\r\n",
        "    def addWord(self, word: str) -> None:\r\n",
        "        \"\"\" Adds a word into the data structure. \"\"\"\r\n",
        "        self.dic[len(word)].add(word)\r\n",
        "    def search(self, word: str) -> bool:\r\n",
        "        \"\"\" Returns if the word is in the data structure. A word could contain the dot character '.' to represent any one letter. \"\"\"\r\n",
        "        if '.' not in word:\r\n",
        "            return word in self.dic[len(word)]\r\n",
        "        for v in self.dic[len(word)]:\r\n",
        "            for i, ch in enumerate(word):\r\n",
        "                if ch != v[i] and ch != '.':\r\n",
        "                    break\r\n",
        "            else:\r\n",
        "                return True\r\n",
        "        return False\r\n",
        "# Your WordDictionary object will be instantiated and called as such: # obj = WordDictionary() # obj.addWord(word) # param_2 = obj.search(word)"
      ],
      "execution_count": null,
      "outputs": []
    },
    {
      "cell_type": "markdown",
      "metadata": {
        "id": "CZQj4_VeGc3K"
      },
      "source": [
        "## **Search a 2D Matrix**\r\n",
        "Write an efficient algorithm that searches for a value in an m x n matrix. This matrix has the following properties:\r\n",
        "Integers in each row are sorted from left to right.\r\n",
        "The first integer of each row is greater than the last integer of the previous row.\r\n"
      ]
    },
    {
      "cell_type": "code",
      "metadata": {
        "id": "Idtk5DIQGdck"
      },
      "source": [
        "class Solution:\r\n",
        "    def searchMatrix(self, matrix, target):\r\n",
        "        m = len(matrix)\r\n",
        "        if m == 0:\r\n",
        "            return False\r\n",
        "        n = len(matrix[0])\r\n",
        "        if n == 0:\r\n",
        "            return False\r\n",
        "        if matrix[0][0] > target or matrix[m - 1][n - 1] < target:\r\n",
        "            return False\r\n",
        "        tmp = []\r\n",
        "        for i in range(m):\r\n",
        "            tmp.append(matrix[i][0])\r\n",
        "        ind = bisect.bisect_left(tmp, target)\r\n",
        "        if ind == len(tmp):\r\n",
        "            ind = ind - 1\r\n",
        "        if target < matrix[ind][0]:\r\n",
        "            ind = ind - 1\r\n",
        "        ind2 = bisect.bisect_left(matrix[ind], target)\r\n",
        "        if ind2 == n:\r\n",
        "            return False\r\n",
        "        return matrix[ind][ind2] == target"
      ],
      "execution_count": null,
      "outputs": []
    },
    {
      "cell_type": "markdown",
      "metadata": {
        "id": "K-3-6dH5FqWe"
      },
      "source": [
        "## **Edit Distance**\r\n",
        "Given two words word1 and word2, find the minimum number of operations required to convert word1 to word2.\r\n",
        "\r\n",
        "You have the following 3 operations permitted on a word:\r\n",
        "Insert a character\r\n",
        "Delete a character\r\n",
        "Replace a character"
      ]
    },
    {
      "cell_type": "code",
      "metadata": {
        "id": "UVcnoi7sF442"
      },
      "source": [
        "dp[i][0] = i\r\n",
        "dp[0][i] = i\r\n",
        "dp[i][j] = dp[i - 1][j - 1] if word2[i - 1] == word1[j - 1]\r\n",
        "         = min(dp[i - 1][j - 1], dp[i - 1][j], dp[i][j - 1]) + 1 else"
      ],
      "execution_count": null,
      "outputs": []
    },
    {
      "cell_type": "code",
      "metadata": {
        "id": "T6nG2tOEF1Al"
      },
      "source": [
        "class Solution:\r\n",
        "    def minDistance(self, word1: str, word2: str) -> int:\r\n",
        "        l1, l2 = len(word1), len(word2)\r\n",
        "        dp1 = [i for i in range(l1 + 1)]\r\n",
        "        dp2 = [0] * (l1 + 1)\r\n",
        "        for i in range(1, l2 + 1):\r\n",
        "            dp2[0] = i\r\n",
        "            for j in range(1, l1 + 1):\r\n",
        "                if word2[i - 1] == word1[j - 1]:\r\n",
        "                    dp2[j] = dp1[j - 1]\r\n",
        "                else:\r\n",
        "                    dp2[j] = min(dp1[j - 1], dp2[j - 1], dp1[j]) + 1\r\n",
        "            dp1 = dp2[:]\r\n",
        "        return dp1[-1]"
      ],
      "execution_count": null,
      "outputs": []
    },
    {
      "cell_type": "markdown",
      "metadata": {
        "id": "Ow5UBgTy-Q-u"
      },
      "source": [
        "## **Spiral Matrix II**\r\n",
        "Given a positive integer n, generate an n x n matrix filled with elements from 1 to n2 in spiral order."
      ]
    },
    {
      "cell_type": "code",
      "metadata": {
        "id": "wa-DA9kj-UFG"
      },
      "source": [
        "class Solution:\r\n",
        "    def generateMatrix(self, n):\r\n",
        "        res = [[0] * n for _ in range(n)]\r\n",
        "        directions = [(0, 1), (1, 0), (0, -1), (-1, 0)]\r\n",
        "        curx = cury = curd = 0\r\n",
        "        for i in range(1, n * n + 1):\r\n",
        "            res[curx][cury] = i\r\n",
        "            newx, newy = curx + directions[curd][0], cury + directions[curd][1]\r\n",
        "            if newx < 0 or newx >= n or newy < 0 or newy >= n or res[newx][newy]:\r\n",
        "                curd = (curd + 1) % 4\r\n",
        "            curx += directions[curd][0]\r\n",
        "            cury += directions[curd][1]\r\n",
        "        return res"
      ],
      "execution_count": null,
      "outputs": []
    },
    {
      "cell_type": "markdown",
      "metadata": {
        "id": "l45vOCQu-R8y"
      },
      "source": [
        "## **Permutation Sequence**\r\n",
        "The set [1,2,3,...,n] contains a total of n! unique permutations. By listing and labeling all of the permutations in order, we get the following sequence for n = 3:\r\n",
        "“123”\r\n",
        "“132”\r\n",
        "“213”\r\n",
        "“231”\r\n",
        "“312”\r\n",
        "“321” Given n and k, return the kth permutation sequence.\r\n",
        "Note:\r\n",
        "Given n will be between 1 and 9 inclusive.\r\n",
        "Given k will be between 1 and n! inclusive."
      ]
    },
    {
      "cell_type": "code",
      "metadata": {
        "id": "pJNXFEDi-Uke"
      },
      "source": [
        "class Solution:\r\n",
        "    def getPermutation(self, n, k):\r\n",
        "        f, nums = [1], [0]\r\n",
        "        for i in range(1, n + 1):\r\n",
        "            f.append(f[i - 1] * i)\r\n",
        "            nums.append(i)\r\n",
        "        res = []\r\n",
        "        for i in range(n - 1, -1, -1):\r\n",
        "            idx = math.ceil(k / f[i])\r\n",
        "            res.append(nums.pop(idx))\r\n",
        "            k -= (idx - 1) * f[i]\r\n",
        "        return ''.join(map(str, res))"
      ],
      "execution_count": null,
      "outputs": []
    },
    {
      "cell_type": "markdown",
      "metadata": {
        "id": "qMkBkaYO-SH6"
      },
      "source": [
        "## **Rotate List**\r\n",
        "Given a linked list, rotate the list to the right by k places, where k is non-negative."
      ]
    },
    {
      "cell_type": "code",
      "metadata": {
        "id": "SgI4b77T-VEl"
      },
      "source": [
        "class Solution:\r\n",
        "    def rotateRight(self, head, k):\r\n",
        "        if not head or not head.next: \r\n",
        "            return head\r\n",
        "        \r\n",
        "        tail = head\r\n",
        "        n = 1\r\n",
        "        while head.next :\r\n",
        "            head = head.next\r\n",
        "            n += 1\r\n",
        "        head.next = tail\r\n",
        "        head = head.next\r\n",
        "        \r\n",
        "        for i in range(n - k % n - 1):\r\n",
        "            head = head.next\r\n",
        "        res = head.next\r\n",
        "        head.next = None\r\n",
        "        return res"
      ],
      "execution_count": null,
      "outputs": []
    },
    {
      "cell_type": "markdown",
      "metadata": {
        "id": "QvBHoEIR-SS5"
      },
      "source": [
        "## **Unique Paths**\r\n",
        "A robot is located at the top-left corner of a m x n grid (marked ‘Start’ in the diagram below). The robot can only move either down or right at any point in time. The robot is trying to reach the bottom-right corner of the grid (marked ‘Finish’ in the diagram below). How many possible unique paths are there?"
      ]
    },
    {
      "cell_type": "code",
      "metadata": {
        "id": "w_jw7XRc-VlP"
      },
      "source": [
        "class Solution:\r\n",
        "    def uniquePaths(self, m: int, n: int) -> int:\r\n",
        "        dp = [1] * n\r\n",
        "        for i in range(1, m):\r\n",
        "            for j in range(1, n):\r\n",
        "                dp[j] += dp[j - 1]\r\n",
        "        return dp[-1]"
      ],
      "execution_count": null,
      "outputs": []
    },
    {
      "cell_type": "markdown",
      "metadata": {
        "id": "4c-PKUtS-Scp"
      },
      "source": [
        "## **Minimum Path Sum**\r\n",
        "Given a m x n grid filled with non-negative numbers, find a path from top left to bottom right which minimizes the sum of all numbers along its path.\r\n",
        "Note: You can only move either down or right at any point in time."
      ]
    },
    {
      "cell_type": "code",
      "metadata": {
        "id": "tckVlK5v-WFV"
      },
      "source": [
        "class Solution:\r\n",
        "    def minPathSum(self, grid):\r\n",
        "        m, n = len(grid), len(grid[0])\r\n",
        "        for i in range(1, n):\r\n",
        "            grid[0][i] += grid[0][i - 1]\r\n",
        "        for i in range(1, m):\r\n",
        "            grid[i][0] += grid[i - 1][0]\r\n",
        "            for j in range(1, n):\r\n",
        "                grid[i][j] += min(grid[i - 1][j], grid[i][j - 1])\r\n",
        "        return grid[m - 1][n - 1]"
      ],
      "execution_count": null,
      "outputs": []
    },
    {
      "cell_type": "markdown",
      "metadata": {
        "id": "MDeIzyVX-SlQ"
      },
      "source": [
        "## **Plus One**\r\n",
        "Given a non-empty array of digits representing a non-negative integer, plus one to the integer.The digits are stored such that the most significant digit is at the head of the list, and each element in the array contain a single digit.\r\n",
        "You may assume the integer does not contain any leading zero, except the number 0 itself"
      ]
    },
    {
      "cell_type": "code",
      "metadata": {
        "id": "OKlZ7ZLa-WtF"
      },
      "source": [
        "lass Solution:\r\n",
        "    def plusOne(self, digits: List[int]) -> List[int]:\r\n",
        "        for i in range(len(digits)-1, -1, -1):\r\n",
        "            if digits[i] == 9:\r\n",
        "                digits[i] = 0\r\n",
        "            else:\r\n",
        "                digits[i] += 1\r\n",
        "                return digits\r\n",
        "        return [1] + digits"
      ],
      "execution_count": null,
      "outputs": []
    },
    {
      "cell_type": "markdown",
      "metadata": {
        "id": "dBT8H49x-Sqt"
      },
      "source": [
        "## **Add Binary**\r\n",
        "Given two binary strings, return their sum (also a binary string).The input strings are both non-empty and contains only characters 1 or 0."
      ]
    },
    {
      "cell_type": "code",
      "metadata": {
        "id": "UoSJ3h5m-XMG"
      },
      "source": [
        "class Solution:\r\n",
        "    def addBinary(self, a: str, b: str) -> str:\r\n",
        "        def add(x, y, carry):\r\n",
        "            s = x + y + carry        \r\n",
        "            return (s // 2, s % 2)\r\n",
        "        ml = max(len(a), len(b))\r\n",
        "        res = ''\r\n",
        "        carry = 0 \r\n",
        "        a = a.rjust(ml, '0')\r\n",
        "        b = b.rjust(ml, '0')\r\n",
        "        for i in range(ml-1, -1, -1):         \r\n",
        "            carry, s = add(int(a[i]), int(b[i]), int(carry))\r\n",
        "            res = str(s) + res\r\n",
        "        return '1' + res if carry else res"
      ],
      "execution_count": null,
      "outputs": []
    },
    {
      "cell_type": "markdown",
      "metadata": {
        "id": "ucIRNvTF-S0B"
      },
      "source": [
        "## **Climbing Stairs**\r\n",
        "You are climbing a stair case. It takes n steps to reach to the top. Each time you can either climb 1 or 2 steps. In how many distinct ways can you climb to the top?"
      ]
    },
    {
      "cell_type": "code",
      "metadata": {
        "id": "sohkIXvg-Xw2"
      },
      "source": [
        "class Solution:\r\n",
        "    def climbStairs(self, n: int) -> int:\r\n",
        "        dp1, dp2 = 1, 2\r\n",
        "        for i in range(n - 1):\r\n",
        "            dp1, dp2 = dp2, dp1 + dp2\r\n",
        "        return dp1"
      ],
      "execution_count": null,
      "outputs": []
    },
    {
      "cell_type": "markdown",
      "metadata": {
        "id": "CK1cAjdz9xzV"
      },
      "source": [
        "## **Length of Last Word**\r\n",
        "Given a string s consists of upper/lower-case alphabets and empty space characters ‘ ‘, return the length of last word (last word means the last appearing word if we loop from left to right) in the string.\r\n",
        "If the last word does not exist, return 0.Note: A word is defined as a maximal substring consisting of non-space characters only."
      ]
    },
    {
      "cell_type": "code",
      "metadata": {
        "id": "SNrMs1Z797QG"
      },
      "source": [
        "class Solution:\r\n",
        "    def lengthOfLastWord(self, s):\r\n",
        "        s = s.strip()\r\n",
        "        return len(s.split()[-1]) if s else 0"
      ],
      "execution_count": null,
      "outputs": []
    },
    {
      "cell_type": "markdown",
      "metadata": {
        "id": "sUlLb_Qa9YF-"
      },
      "source": [
        "## **Insert Interval**\r\n",
        "Given a set of non-overlapping intervals, insert a new interval into the intervals (merge if necessary). You may assume that the intervals were initially sorted according to their start times."
      ]
    },
    {
      "cell_type": "code",
      "metadata": {
        "id": "qtyNjU6b9f4N"
      },
      "source": [
        "class Solution:\r\n",
        "    def insert(self, intervals, newInterval):\r\n",
        "        n = len(intervals)\r\n",
        "        if n == 0:\r\n",
        "            return [newInterval]\r\n",
        "        res = []\r\n",
        "        i = 0\r\n",
        "        while i < n and intervals[i][1] < newInterval[0]:\r\n",
        "            res.append(intervals[i])\r\n",
        "            i += 1\r\n",
        "        l, r = newInterval\r\n",
        "        while i < n and intervals[i][0] <= newInterval[1]:\r\n",
        "            l = min(l, intervals[i][0])\r\n",
        "            r = max(r, intervals[i][1])\r\n",
        "            i += 1\r\n",
        "        res.append([l, r])\r\n",
        "        res.extend(intervals[i:])\r\n",
        "        return res"
      ],
      "execution_count": null,
      "outputs": []
    },
    {
      "cell_type": "markdown",
      "metadata": {
        "id": "BwLa3DvV75MO"
      },
      "source": [
        "##**Merge Intervals**\r\n",
        "Given an array of intervals where intervals[i] = [starti, endi], merge all overlapping intervals, and return an array of the non-overlapping intervals that cover all the intervals in the input."
      ]
    },
    {
      "cell_type": "code",
      "metadata": {
        "id": "OrXR-oKu8euI"
      },
      "source": [
        "class Solution:\r\n",
        "    def merge(self, intervals):\r\n",
        "        intervals.sort(key=lambda x: x[0])\r\n",
        "        res = [intervals[0]]\r\n",
        "        for interval in intervals[1:]:\r\n",
        "            if res[-1][1] >= interval[0]:\r\n",
        "                res[-1][1] = max(interval[1], res[-1][1])\r\n",
        "            else:\r\n",
        "                res.append(interval)\r\n",
        "        return res"
      ],
      "execution_count": null,
      "outputs": []
    },
    {
      "cell_type": "markdown",
      "metadata": {
        "id": "LKfMpAKH7Y5W"
      },
      "source": [
        "## **Jump Game**\r\n",
        "Given an array of non-negative integers, you are initially positioned at the first index of the array.Each element in the array represents your maximum jump length at that position.Determine if you are able to reach the last index."
      ]
    },
    {
      "cell_type": "code",
      "metadata": {
        "id": "DuvI9YH276RN"
      },
      "source": [
        "class Solution:\r\n",
        "    def canJump(self, nums):\r\n",
        "        reach = 0\r\n",
        "        for i, n in enumerate(nums):\r\n",
        "            if i > reach:\r\n",
        "                return False\r\n",
        "            reach = max(reach, i + n)\r\n",
        "        return True"
      ],
      "execution_count": null,
      "outputs": []
    },
    {
      "cell_type": "markdown",
      "metadata": {
        "id": "gzrWptAS7A9x"
      },
      "source": [
        "## **Maximum Subarray**\r\n",
        "Given an integer array nums, find the contiguous subarray (containing at least one number) which has the largest sum and return its sum."
      ]
    },
    {
      "cell_type": "code",
      "metadata": {
        "id": "_YR4PRDk7I83"
      },
      "source": [
        "class Solution:\r\n",
        "    def maxSubArray(self, nums):\r\n",
        "        res = cur = nums[0]\r\n",
        "        for n in nums[1:]:\r\n",
        "            cur = max(cur + n, n)\r\n",
        "            res = max(res, cur)\r\n",
        "        return res"
      ],
      "execution_count": null,
      "outputs": []
    },
    {
      "cell_type": "markdown",
      "metadata": {
        "id": "FHVa_yq56zXA"
      },
      "source": [
        "Find the three elements that sum to zero from a set of n real numbers"
      ]
    },
    {
      "cell_type": "code",
      "metadata": {
        "id": "zhtMZNyd6yAE"
      },
      "source": [
        "class py_solution:\r\n",
        " def threeSum(self, nums):\r\n",
        "        nums, result, i = sorted(nums), [], 0\r\n",
        "        while i < len(nums) - 2:\r\n",
        "            j, k = i + 1, len(nums) - 1\r\n",
        "            while j < k:\r\n",
        "                if nums[i] + nums[j] + nums[k] < 0:\r\n",
        "                    j += 1\r\n",
        "                elif nums[i] + nums[j] + nums[k] > 0:\r\n",
        "                    k -= 1\r\n",
        "                else:\r\n",
        "                    result.append([nums[i], nums[j], nums[k]])\r\n",
        "                    j, k = j + 1, k - 1\r\n",
        "                    while j < k and nums[j] == nums[j - 1]:\r\n",
        "                        j += 1\r\n",
        "                    while j < k and nums[k] == nums[k + 1]:\r\n",
        "                        k -= 1\r\n",
        "            i += 1\r\n",
        "            while i < len(nums) - 2 and nums[i] == nums[i - 1]:\r\n",
        "                i += 1\r\n",
        "        return result\r\n",
        "\r\n",
        "print(py_solution().threeSum([-25, -10, -7, -3, 2, 4, 8, 10]))"
      ],
      "execution_count": null,
      "outputs": []
    },
    {
      "cell_type": "markdown",
      "metadata": {
        "id": "2joJ4ePp5TxD"
      },
      "source": [
        "## **50 Pow(x, n)**\r\n",
        "Implement pow(x, n), which calculates x raised to the power n (x^n)."
      ]
    },
    {
      "cell_type": "code",
      "metadata": {
        "id": "wCyhixL95hE7"
      },
      "source": [
        "class Solution:\r\n",
        "    def myPow(self, x, n):\r\n",
        "        if n < 0:\r\n",
        "            x = 1 / x\r\n",
        "            n = -n\r\n",
        "        res = 1\r\n",
        "        while n > 0:\r\n",
        "            if n % 2:\r\n",
        "                res *= x\r\n",
        "            n //= 2\r\n",
        "            x *= x\r\n",
        "        return res"
      ],
      "execution_count": null,
      "outputs": []
    },
    {
      "cell_type": "code",
      "metadata": {
        "colab": {
          "base_uri": "https://localhost:8080/"
        },
        "id": "WzYYdsb16X08",
        "outputId": "37adac06-b544-4d27-f60b-d19f577fdd28"
      },
      "source": [
        "#Write a Python program to implement pow(x, n)\r\n",
        "class py_solution:\r\n",
        "   def pow(self, x, n):\r\n",
        "        if x==0 or x==1 or n==1:\r\n",
        "            return x \r\n",
        "        if x==-1:\r\n",
        "            if n%2 ==0:\r\n",
        "                return 1\r\n",
        "            else:\r\n",
        "                return -1\r\n",
        "        if n==0:\r\n",
        "            return 1\r\n",
        "        if n<0:\r\n",
        "            return 1/self.pow(x,-n)\r\n",
        "        val = self.pow(x,n//2)\r\n",
        "        if n%2 ==0:\r\n",
        "            return val*val\r\n",
        "        return val*val*x\r\n",
        "print(py_solution().pow(2, -3));\r\n",
        "print(py_solution().pow(3, 5));\r\n",
        "print(py_solution().pow(100, 0));"
      ],
      "execution_count": null,
      "outputs": [
        {
          "output_type": "stream",
          "text": [
            "0.125\n",
            "243\n",
            "1\n"
          ],
          "name": "stdout"
        }
      ]
    },
    {
      "cell_type": "markdown",
      "metadata": {
        "id": "B2Rb-FEk5BXl"
      },
      "source": [
        "## **Group Anagrams**\r\n",
        "Given an array of strings, group anagrams together."
      ]
    },
    {
      "cell_type": "code",
      "metadata": {
        "id": "etIuPDCB5HbQ"
      },
      "source": [
        "from collections import defaultdict\r\n",
        "class Solution:\r\n",
        "    def groupAnagrams(self, strs):\r\n",
        "        dic = defaultdict(list)\r\n",
        "        for s in strs:\r\n",
        "            dic[''.join(sorted(s))].append(s)\r\n",
        "        return dic.values()"
      ],
      "execution_count": null,
      "outputs": []
    },
    {
      "cell_type": "markdown",
      "metadata": {
        "id": "ZCK_CT4a4PJI"
      },
      "source": [
        "## **First Missing Positive**\r\n",
        "Given an unsorted integer array, find the smallest missing positive integer."
      ]
    },
    {
      "cell_type": "code",
      "metadata": {
        "id": "b3_G3Y4B4cY3"
      },
      "source": [
        "class Solution:\r\n",
        "    def firstMissingPositive(self, nums):\r\n",
        "        nums.append(0)\r\n",
        "        l = len(nums)\r\n",
        "        if l == 1:\r\n",
        "            return 1\r\n",
        "        for i in range(l):\r\n",
        "            if nums[i] < 0 or nums[i] >= l:\r\n",
        "                nums[i] = 0\r\n",
        "        for i in range(l):\r\n",
        "            nums[nums[i] % l] += l\r\n",
        "        for i in range(1, l):\r\n",
        "            if nums[i] < l:\r\n",
        "                return i\r\n",
        "        return l"
      ],
      "execution_count": null,
      "outputs": []
    },
    {
      "cell_type": "markdown",
      "metadata": {
        "id": "cqWAClbW3dxo"
      },
      "source": [
        "## **Combination Sum**\r\n",
        "Given an array of distinct integers candidates and a target integer target, return a list of all unique combinations of candidates where the chosen numbers sum to target. You may return the combinations in any order.The same number may be chosen from candidates an unlimited number of times. Two combinations are unique if the frequency of at least one of the chosen numbers is differen"
      ]
    },
    {
      "cell_type": "code",
      "metadata": {
        "id": "ySKUlJCU3fC3"
      },
      "source": [
        "class Solution:\r\n",
        "    def combinationSum(self, candidates, target):\r\n",
        "        def dfs(cur, path):\r\n",
        "            if cur == 0:\r\n",
        "                res.append(path)\r\n",
        "            for n in candidates:\r\n",
        "                if n > cur:\r\n",
        "                    break\r\n",
        "                if path and n < path[-1]:\r\n",
        "                    continue\r\n",
        "                dfs(cur - n, path + [n])\r\n",
        "                \r\n",
        "        res = []\r\n",
        "        candidates.sort()\r\n",
        "        dfs(target, [])\r\n",
        "        return res"
      ],
      "execution_count": null,
      "outputs": []
    },
    {
      "cell_type": "markdown",
      "metadata": {
        "id": "ZGyqggDec3Fd"
      },
      "source": [
        "## **Combination Sum III**\r\n",
        "Find all possible combinations of k numbers that add up to a number n, given that only numbers from 1 to 9 can be used and each combination should be a unique set of numbers.\r\n",
        "Note:\r\n",
        "All numbers will be positive integers.\r\n",
        "The solution set must not contain duplicate combinations."
      ]
    },
    {
      "cell_type": "code",
      "metadata": {
        "id": "HTBNZRRAdFpt"
      },
      "source": [
        "class Solution:\r\n",
        "    def combinationSum3(self, k: int, n: int) -> List[List[int]]:\r\n",
        "        def dfs(cur, k, n, tmp):\r\n",
        "            if k == 0:\r\n",
        "                if n == 0:\r\n",
        "                    res.append(tmp[:])\r\n",
        "                return\r\n",
        "            for i in range(cur, 10):\r\n",
        "                if i > n:\r\n",
        "                    return\r\n",
        "                tmp.append(i)\r\n",
        "                dfs(i + 1, k - 1, n - i, tmp)\r\n",
        "                tmp.pop()\r\n",
        "        res = []\r\n",
        "        dfs(1, k, n, [])\r\n",
        "        return res"
      ],
      "execution_count": null,
      "outputs": []
    },
    {
      "cell_type": "code",
      "metadata": {
        "id": "Eobptrkec9eI"
      },
      "source": [
        ""
      ],
      "execution_count": null,
      "outputs": []
    },
    {
      "cell_type": "markdown",
      "metadata": {
        "id": "bEhQjytn21kW"
      },
      "source": [
        "## **Search Insert Position**\r\n",
        "\r\n",
        "Given a sorted array and a target value, return the index if the target is found. If not, return the index where it would be if it were inserted in order.\r\n",
        "You may assume no duplicates in the array"
      ]
    },
    {
      "cell_type": "code",
      "metadata": {
        "id": "HIXxDICd3HP2"
      },
      "source": [
        "class Solution:\r\n",
        "    def searchInsert(self, nums, target):\r\n",
        "        # return bisect.bisect_left(nums, target)         \r\n",
        "        l, r = 0, len(nums) - 1\r\n",
        "        while l <= r:\r\n",
        "            m = (l + r) // 2\r\n",
        "            if nums[m] == target:\r\n",
        "                return m\r\n",
        "            if nums[m] < target:\r\n",
        "                l = m + 1\r\n",
        "            else:\r\n",
        "                r = m - 1\r\n",
        "        return l"
      ],
      "execution_count": null,
      "outputs": []
    },
    {
      "cell_type": "markdown",
      "metadata": {
        "id": "G3JcTiUK2Hag"
      },
      "source": [
        "## **Search in Rotated Sorted Array**\r\n",
        "Suppose an array sorted in ascending order is rotated at some pivot unknown to you beforehand. (i.e., [0,1,2,4,5,6,7] might become [4,5,6,7,0,1,2]).\r\n",
        "You are given a target value to search. If found in the array return its index, otherwise return -1.You may assume no duplicate exists in the array.Your algorithm’s runtime complexity must be in the order of O(log n)."
      ]
    },
    {
      "cell_type": "code",
      "metadata": {
        "id": "pbAvRM7M2XZe"
      },
      "source": [
        "class Solution:\r\n",
        "    def search(self, num, target):\r\n",
        "        l, r = 0, len(nums) - 1\r\n",
        "        while l <= r:\r\n",
        "            m = (l + r) // 2\r\n",
        "            if nums[m] == target:\r\n",
        "                return m\r\n",
        "            elif nums[l] <= nums[m] < target or \\\r\n",
        "                target < nums[l] <= nums[m] or \\\r\n",
        "                nums[m] < target < nums[l]:\r\n",
        "                l = m + 1\r\n",
        "            else:\r\n",
        "                r = m - 1\r\n",
        "        return -1"
      ],
      "execution_count": null,
      "outputs": []
    },
    {
      "cell_type": "markdown",
      "metadata": {
        "id": "N5RdnuQR1rdW"
      },
      "source": [
        "##**Swap Nodes in Pairs**\r\n",
        "Given a linked list, swap every two adjacent nodes and return its head.You may not modify the values in the list’s nodes. Only nodes itself may be changed."
      ]
    },
    {
      "cell_type": "code",
      "metadata": {
        "id": "X7R65Gya1sIu"
      },
      "source": [
        "class Solution:\r\n",
        "    def swapPairs(self, head: ListNode) -> ListNode:\r\n",
        "        dummy = ListNode(0)\r\n",
        "        res = dummy\r\n",
        "        dummy.next = head\r\n",
        "        while dummy.next and dummy.next.next:\r\n",
        "            first = dummy.next\r\n",
        "            second = dummy.next.next\r\n",
        "            first.next = second.next\r\n",
        "            second.next = first\r\n",
        "            dummy.next = second\r\n",
        "            dummy = dummy.next.next\r\n",
        "        return res.next"
      ],
      "execution_count": null,
      "outputs": []
    },
    {
      "cell_type": "markdown",
      "metadata": {
        "id": "V0HK7MLT1QKA"
      },
      "source": [
        "## **Merge two sorted linked lists**\r\n",
        " and return it as a sorted list. The list should be made by splicing together the nodes of the first two lists."
      ]
    },
    {
      "cell_type": "code",
      "metadata": {
        "id": "_ta2ttbD1bML"
      },
      "source": [
        "class Solution:\r\n",
        "    def mergeTwoLists(self, l1, l2):\r\n",
        "        dummy = ListNode(0)\r\n",
        "        pre = dummy\r\n",
        "        while l1 and l2:\r\n",
        "            if l1.val < l2.val:\r\n",
        "                pre.next = l1\r\n",
        "                l1 = l1.next\r\n",
        "            else:\r\n",
        "                pre.next = l2\r\n",
        "                l2 = l2.next\r\n",
        "            pre = pre.next\r\n",
        "        pre.next = l1 if l1 is not None else l2\r\n",
        "        return dummy.next"
      ],
      "execution_count": null,
      "outputs": []
    },
    {
      "cell_type": "markdown",
      "metadata": {
        "id": "vra_pI1_0jyC"
      },
      "source": [
        "## **Three Sum**\r\n",
        "Given an array nums of n integers, are there elements a, b, c in nums such that a + b + c = 0? Find all unique triplets in the array which gives the sum of zero"
      ]
    },
    {
      "cell_type": "code",
      "metadata": {
        "id": "iGxWAl2j0z13"
      },
      "source": [
        "class Solution:\r\n",
        "    def threeSum(self, nums):\r\n",
        "        n = len(nums)\r\n",
        "        nums.sort()\r\n",
        "        res = []\r\n",
        "        \r\n",
        "        for i in range(n - 2):\r\n",
        "            if nums[i] > 0:\r\n",
        "                break\r\n",
        "            if i > 0 and nums[i] == nums[i - 1]:\r\n",
        "                continue\r\n",
        "            j, k = i + 1, n - 1\r\n",
        "            while j < k:                \r\n",
        "                cur = nums[i] + nums[j] + nums[k] \r\n",
        "                if cur < 0:\r\n",
        "                    j += 1\r\n",
        "                elif cur > 0:\r\n",
        "                    k -= 1\r\n",
        "                else:\r\n",
        "                    res.append([nums[i], nums[j], nums[k]])\r\n",
        "                    while j + 1 < k and nums[j] == nums[j + 1]:\r\n",
        "                        j += 1\r\n",
        "                    while k - 1 > j and nums[k] == nums[k - 1]:\r\n",
        "                        k -= 1\r\n",
        "                    j += 1\r\n",
        "                    k -= 1\r\n",
        "        return res"
      ],
      "execution_count": null,
      "outputs": []
    },
    {
      "cell_type": "markdown",
      "metadata": {
        "id": "QCc7HXLz0PkY"
      },
      "source": [
        "##**Longest Substring Without Repeating Characters**"
      ]
    },
    {
      "cell_type": "code",
      "metadata": {
        "id": "4rmt_SaL0Vvg"
      },
      "source": [
        "class Solution:\r\n",
        "    def lengthOfLongestSubstring(self, s):\r\n",
        "        tmp = {}\r\n",
        "        start = res = 0\r\n",
        "        for i, c in enumerate(s):\r\n",
        "            if c in tmp and start <= tmp[c]:\r\n",
        "                start = tmp[c] + 1\r\n",
        "            else:\r\n",
        "                res = max(res, i - start + 1)\r\n",
        "            tmp[c] = i\r\n",
        "        return res"
      ],
      "execution_count": null,
      "outputs": []
    },
    {
      "cell_type": "markdown",
      "metadata": {
        "id": "UnQVl9s3zuLJ"
      },
      "source": [
        "##**Remove Duplicates from Sorted Array II** - 80 leetcode"
      ]
    },
    {
      "cell_type": "code",
      "metadata": {
        "id": "K30f-rumz90X"
      },
      "source": [
        "class Solution:\r\n",
        "    def removeDuplicates(self, nums):\r\n",
        "        i = 0\r\n",
        "        for n in nums:\r\n",
        "            if i < 2 or n != nums[i - 2]:\r\n",
        "                nums[i] = n\r\n",
        "                i += 1\r\n",
        "        return i"
      ],
      "execution_count": null,
      "outputs": []
    },
    {
      "cell_type": "markdown",
      "metadata": {
        "id": "A7WTNu2QX4Nh"
      },
      "source": [
        "##**Reverse Words in a Sentence**"
      ]
    },
    {
      "cell_type": "code",
      "metadata": {
        "id": "lC7BV_-UX5IL"
      },
      "source": [
        "class Solution:\r\n",
        "    def reverseWords(self, s: str) -> str:\r\n",
        "        return \" \".join(s.split()[::-1])"
      ],
      "execution_count": null,
      "outputs": []
    },
    {
      "cell_type": "markdown",
      "metadata": {
        "id": "_SteZEfRTXwR"
      },
      "source": [
        "## **Rearrange Odd and Even values in Alternate Fashion**"
      ]
    },
    {
      "cell_type": "code",
      "metadata": {
        "id": "8ySDOzx4Tfy-"
      },
      "source": [
        "def AlternateRearrange(arr, n): \r\n",
        "\tarr.sort() \r\n",
        "\tv1 = list() # to insert even values \r\n",
        "\tv2 = list() # to insert odd values \r\n",
        "\tfor i in range(n): \r\n",
        "\t\tif (arr[i] % 2 == 0): \r\n",
        "\t\t\tv1.append(arr[i]) \r\n",
        "\t\telse: \r\n",
        "\t\t\tv2.append(arr[i]) \r\n",
        "\tindex = 0\r\n",
        "\ti = 0\r\n",
        "\tj = 0\r\n",
        "\tflag = False\r\n",
        "\tif (arr[0] % 2 == 0): \r\n",
        "\t\tflag = True\r\n",
        "\twhile (index < n): \r\n",
        "\t\tif (flag == True): \r\n",
        "\t\t\tarr[index] = v1[i] \r\n",
        "\t\t\tindex += 1\r\n",
        "\t\t\ti += 1\r\n",
        "\t\t\tflag = ~flag \r\n",
        "\t\telse: \r\n",
        "\t\t\tarr[index] = v2[j] \r\n",
        "\t\t\tindex += 1\r\n",
        "\t\t\tj += 1\r\n",
        "\t\t\tflag = ~flag "
      ],
      "execution_count": null,
      "outputs": []
    },
    {
      "cell_type": "markdown",
      "metadata": {
        "id": "8BO0tdnfP-4w"
      },
      "source": [
        "## **Minimum Deletion**"
      ]
    },
    {
      "cell_type": "code",
      "metadata": {
        "id": "NlqJhu5KP_nH"
      },
      "source": [
        "#bruteforce\r\n",
        "class Solution:\r\n",
        "    def minDeletions(self, s: str) -> int:\r\n",
        "        d = dict()\r\n",
        "        for char in s:\r\n",
        "            d[char] = d.get(char, 0) + 1\r\n",
        "        aux = sorted(d.keys(), key= lambda k: -d[k])\r\n",
        "        seen = set()\r\n",
        "        res = 0\r\n",
        "        for key in aux:\r\n",
        "            if d[key] not in seen:\r\n",
        "                seen.add(d[key])\r\n",
        "            else:\r\n",
        "                tmp = d[key]\r\n",
        "                while tmp in seen and tmp > 0:\r\n",
        "                    tmp -= 1\r\n",
        "                    res += 1\r\n",
        "                if tmp != 0:\r\n",
        "                    seen.add(tmp)\r\n",
        "        return res"
      ],
      "execution_count": null,
      "outputs": []
    },
    {
      "cell_type": "code",
      "metadata": {
        "id": "pfhpGglMUzyq"
      },
      "source": [
        "class Solution:\r\n",
        "    def minDeletions(self, s: str) -> int:\r\n",
        "        ans=0 \r\n",
        "        d={}\r\n",
        "        for i in set(s):\r\n",
        "            d[i]=s.count(i) \r\n",
        "        helper=set()\r\n",
        "        for i in sorted(d.values(),reverse=True):\r\n",
        "            while i in helper:\r\n",
        "                i-=1 \r\n",
        "                ans+=1 \r\n",
        "            if i:\r\n",
        "                helper.add(i)\r\n",
        "        return ans"
      ],
      "execution_count": null,
      "outputs": []
    },
    {
      "cell_type": "code",
      "metadata": {
        "id": "a3uUmObfQtdR"
      },
      "source": [
        "class Solution:\r\n",
        "    def minDeletions(self, s: str) -> int:\r\n",
        "        s_dict = {}\r\n",
        "        for char in s:\r\n",
        "            if char in s_dict:\r\n",
        "                s_dict[char] += 1\r\n",
        "            else:\r\n",
        "                s_dict[char] = 1\r\n",
        "        count = 0\r\n",
        "        letters = []\r\n",
        "        for key, value in s_dict.items():\r\n",
        "            letters.append([key, value])\r\n",
        "        letters = sorted(letters, key=lambda x: x[1])\r\n",
        "        letters.reverse()\r\n",
        "        for i in range(1, len(letters)):\r\n",
        "            if letters[i-1][1] <= letters[i][1]:\r\n",
        "                while letters[i][1] > 0 and letters[i-1][1] <= letters[i][1]:\r\n",
        "                    count += 1\r\n",
        "                    letters[i][1] -= 1\r\n",
        "        return count"
      ],
      "execution_count": null,
      "outputs": []
    },
    {
      "cell_type": "markdown",
      "metadata": {
        "id": "ZvnZEqjw2yEU"
      },
      "source": [
        "##**Maximum even sum subsequence of length K**"
      ]
    },
    {
      "cell_type": "code",
      "metadata": {
        "id": "NUkRXCXl4yf-"
      },
      "source": [
        "# brute-force\r\n",
        "def largest_even_sum3(arr, k):\r\n",
        "    if len(arr) < k: \r\n",
        "      return -1\r\n",
        "    arr.sort()\r\n",
        "    \r\n",
        "    for i in range(len(arr))[::-1]:\r\n",
        "        if i >= k - 1:\r\n",
        "            res = 0\r\n",
        "            n = k\r\n",
        "            j = i\r\n",
        "            while n > 0:\r\n",
        "                res += arr[j]\r\n",
        "                j -= 1\r\n",
        "                n -= 1\r\n",
        "            if not (res & 1):\r\n",
        "                return res \r\n",
        "        else:\r\n",
        "            return -1"
      ],
      "execution_count": null,
      "outputs": []
    },
    {
      "cell_type": "code",
      "metadata": {
        "id": "xTBzw7cp235X"
      },
      "source": [
        "def evenSumK(arr, N, K):\r\n",
        "    if (K > N):\r\n",
        "        return -1\r\n",
        "\r\n",
        "    maxSum = 0\r\n",
        "    even = []\r\n",
        "    odd = []\r\n",
        "\r\n",
        "    # Traverse the array\r\n",
        "    for i in range(N): \r\n",
        "        if (arr[i] % 2):\r\n",
        "            Odd.append(arr[i])\r\n",
        "        else:\r\n",
        "            Even.append(arr[i])    \r\n",
        "    Odd.sort(reverse = False)\r\n",
        "    Even.sort(reverse = False)\r\n",
        "    i = len(Even) - 1\r\n",
        "    j = len(Odd) - 1\r\n",
        "\r\n",
        "    while (K > 0):\r\n",
        "        if (K % 2 == 1):\r\n",
        "            if (i >= 0):\r\n",
        "                maxSum += Even[i]\r\n",
        "                i -= 1\r\n",
        "            else:\r\n",
        "                return -1\r\n",
        "            K -= 1\r\n",
        "        elif (i >= 1 and j >= 1):\r\n",
        "            if (Even[i] + Even[i - 1] <=\r\n",
        "                 Odd[j] + Odd[j - 1]):\r\n",
        "                maxSum += Odd[j] + Odd[j - 1]\r\n",
        "                j -= 2    \r\n",
        "            else:\r\n",
        "                maxSum += Even[i] + Even[i - 1]\r\n",
        "                i -= 2\r\n",
        "            K -= 2\r\n",
        "        elif (i >= 1):\r\n",
        "            maxSum += Even[i] + Even[i - 1]\r\n",
        "            i -= 2\r\n",
        "            K -= 2\r\n",
        "        elif (j >= 2):\r\n",
        "            maxSum += Odd[j] + Odd[j - 1]\r\n",
        "            j -= 2\r\n",
        "            K -= 2   \r\n",
        "    return maxSum"
      ],
      "execution_count": null,
      "outputs": []
    },
    {
      "cell_type": "code",
      "metadata": {
        "id": "7XENxWoi45P1"
      },
      "source": [
        "# recursive + memo\r\n",
        "def largest_even_sum1(arr, k):\r\n",
        "    if len(arr) < k: \r\n",
        "        return -1\r\n",
        "    odds = [x for x in arr if x & 1]\r\n",
        "    evens = [x for x in arr if not x & 1] \r\n",
        "    odds.sort(key = lambda x : -x)\r\n",
        "    evens.sort(key = lambda x : -x)\r\n",
        "    m, n = len(evens), len(odds)\r\n",
        "    def dp(i, j, k):\r\n",
        "        if k <= 0:\r\n",
        "            return 0\r\n",
        "        p1 = 0 if not i < m else dp(i + 1, j,  k - 1) + evens[i]\r\n",
        "        p2 = 0 if not j < n - 1 else dp(i, j + 1,  k - 2) + odds[j] + odds[j + 1]\r\n",
        "        return max(p1, p2)\r\n",
        "    return dp(0, 0, k)"
      ],
      "execution_count": null,
      "outputs": []
    },
    {
      "cell_type": "markdown",
      "metadata": {
        "id": "FaNiY5yo0A5i"
      },
      "source": [
        "## **Reverse individual words**"
      ]
    },
    {
      "cell_type": "code",
      "metadata": {
        "id": "bCQeHYbhvVCy"
      },
      "source": [
        "class Solution:\r\n",
        "    def reverseWords(self, s): \r\n",
        "        return \" \".join(s.split()[::-1])"
      ],
      "execution_count": null,
      "outputs": []
    },
    {
      "cell_type": "code",
      "metadata": {
        "colab": {
          "base_uri": "https://localhost:8080/"
        },
        "id": "5yvB9taD0MAC",
        "outputId": "53d83356-4500-48d2-d062-ada06dd50332"
      },
      "source": [
        "# reverses individual words of a string \r\n",
        "def reverserWords(string): \r\n",
        "    st = list() \r\n",
        "    for i in range(len(string)): \r\n",
        "        if string[i] != \" \": \r\n",
        "            st.append(string[i]) \r\n",
        "        else: \r\n",
        "            while len(st) > 0: \r\n",
        "                print(st[-1], end= \"\") \r\n",
        "                st.pop() \r\n",
        "            print(end = \" \") \r\n",
        "    while len(st) > 0: \r\n",
        "        print(st[-1], end = \"\") \r\n",
        "        st.pop() \r\n",
        "print(reverserWords(\"Hello World This is Stella\"))"
      ],
      "execution_count": null,
      "outputs": [
        {
          "output_type": "stream",
          "text": [
            "olleH dlroW sihT si alletSNone\n"
          ],
          "name": "stdout"
        }
      ]
    },
    {
      "cell_type": "markdown",
      "metadata": {
        "id": "B3Qx4u_8weK6"
      },
      "source": [
        "## **Rotate Array**"
      ]
    },
    {
      "cell_type": "code",
      "metadata": {
        "id": "N1-LdmNKwfww"
      },
      "source": [
        "class Solution:\r\n",
        "    def rotate(self, nums, K): \r\n",
        "        \"\"\" Do not return anything, modify nums in-place instead. \"\"\"\r\n",
        "        def rev(nums, start, end):\r\n",
        "            while start < end:\r\n",
        "                nums[start], nums[end] = nums[start], nums[end]\r\n",
        "                start += 1\r\n",
        "                end -= 1\r\n",
        "\r\n",
        "        N = len(nums)\r\n",
        "        K %= N\r\n",
        "        \r\n",
        "        rev(nums, 0, N - 1)\r\n",
        "        rev(nums, 0, K - 1)\r\n",
        "        rev(nums, K, N - 1)"
      ],
      "execution_count": null,
      "outputs": []
    },
    {
      "cell_type": "markdown",
      "metadata": {
        "id": "ZT2qjiKtgxts"
      },
      "source": [
        "## **Max Slice Problem**"
      ]
    },
    {
      "cell_type": "code",
      "metadata": {
        "id": "1XGzN7-GeCkH"
      },
      "source": [
        "class Solution(object):\r\n",
        "    def maxSubArray(self, nums):\r\n",
        "        \"\"\"\r\n",
        "        :type nums: List[int]\r\n",
        "        :rtype: int\r\n",
        "        \"\"\"\r\n",
        "        n = len(nums)\r\n",
        "        max_current = 0\r\n",
        "        for p in range(n):\r\n",
        "          for q in range (p, n):\r\n",
        "              current_sum = 0\r\n",
        "              for i in range (q, q+1):\r\n",
        "                  current_sum += A[1]\r\n",
        "              max_current = max(max_current, current_sum)\r\n",
        "        return max_current    "
      ],
      "execution_count": null,
      "outputs": []
    },
    {
      "cell_type": "markdown",
      "metadata": {
        "id": "iGOhtWOGWyLt"
      },
      "source": [
        "##**Maximum Subarray**\r\n",
        "Given an integer array nums, find the contiguous subarray which has the largest sum and return its sum."
      ]
    },
    {
      "cell_type": "code",
      "metadata": {
        "id": "6caHlymJXF5K"
      },
      "source": [
        "class Solution(object):\r\n",
        "    def maxSubArray(self, nums):\r\n",
        "        \"\"\"\r\n",
        "        :type nums: List[int]\r\n",
        "        :rtype: int\r\n",
        "        \"\"\"\r\n",
        "        max_current = max_final = nums[0]\r\n",
        "        for i in nums[1:]:\r\n",
        "            max_final = max(i, max_final + i)\r\n",
        "            max_current = max(max_final, max_current)\r\n",
        "        return max_current"
      ],
      "execution_count": null,
      "outputs": []
    },
    {
      "cell_type": "markdown",
      "metadata": {
        "id": "-pM3U90FS6Ie"
      },
      "source": [
        "##**Find the length of largest subarray with 0 sum**"
      ]
    },
    {
      "cell_type": "code",
      "metadata": {
        "id": "JX2ZksDiS_MR"
      },
      "source": [
        "def maxLen(arr): \r\n",
        "    max_len = 0\r\n",
        "    for i in range(len(arr)): \r\n",
        "        curr_sum = 0\r\n",
        "        for j in range(i, len(arr)):           \r\n",
        "            curr_sum += arr[j] \r\n",
        "            if curr_sum == 0: \r\n",
        "                max_len = max(max_len, j-i + 1) \r\n",
        "    return max_len "
      ],
      "execution_count": null,
      "outputs": []
    },
    {
      "cell_type": "markdown",
      "metadata": {
        "id": "SfxwWOyfD58R"
      },
      "source": [
        "##**Maximum Length of a Concatenated String with Unique Characters**"
      ]
    },
    {
      "cell_type": "code",
      "metadata": {
        "id": "8sW-jAXnKONs"
      },
      "source": [
        "def rc(index, current):\r\n",
        "        if index == len(arr):\r\n",
        "            return len(current)\r\n",
        "            \r\n",
        "        with_index = 0\r\n",
        "        if len(set(arr[index]+current)) == len(arr[index]+current):\r\n",
        "            with_index = rc(index+1, current+arr[index])\r\n",
        "        without_index = rc(index+1, current)\r\n",
        "        return max(with_index, without_index)\r\n",
        "        b = 0\r\n",
        "        for init_index in range(len(arr)):\r\n",
        "            if len(set(arr[init_index])) == len(arr[init_index]):\r\n",
        "                b = max(b, rc(init_index+1, arr[init_index]))\r\n",
        "        return b"
      ],
      "execution_count": null,
      "outputs": []
    },
    {
      "cell_type": "code",
      "metadata": {
        "colab": {
          "base_uri": "https://localhost:8080/"
        },
        "id": "UO-ujCclFNPn",
        "outputId": "b29ccb78-bee5-4524-dea6-27f2d0265c5f"
      },
      "source": [
        "def maxLength(arr):\r\n",
        "  result = [float('-inf')]\r\n",
        "  unique_char(\"\", arr, 0, result) \r\n",
        "  if not result[0] == float('-inf'):\r\n",
        "    return result[0]\r\n",
        "  return 0\r\n",
        "\r\n",
        "def unique_char(cur, arr, index, result):\r\n",
        "  if index == len(arr):\r\n",
        "    return\r\n",
        "  for index in range(index,len(arr)):\r\n",
        "    if len(set(cur + arr[index])) == len(list(cur + arr[index])):\r\n",
        "      result[0] = max(result[0],len(cur + arr[index]))\r\n",
        "      unique_char(cur + arr[index], arr, index + 1,result)\r\n",
        "# Driver Code \r\n",
        "if __name__=='__main__':   \r\n",
        "    s = []\r\n",
        "    s.append(\"abcdefgh\")\r\n",
        "    print(maxLength(s))\r\n"
      ],
      "execution_count": null,
      "outputs": [
        {
          "output_type": "stream",
          "text": [
            "8\n"
          ],
          "name": "stdout"
        }
      ]
    },
    {
      "cell_type": "code",
      "metadata": {
        "colab": {
          "base_uri": "https://localhost:8080/"
        },
        "id": "UTVUQICpGezw",
        "outputId": "0f7b36e0-e005-4ee6-ab04-15e71b073c5b"
      },
      "source": [
        "# Function to check if all the string characters are unique \r\n",
        "def check(s):\r\n",
        "    a = set() \r\n",
        "    for i in s:\r\n",
        "        if i in a:\r\n",
        "            return False      \r\n",
        "        a.add(i) \r\n",
        "    return True\r\n",
        "def helper(arr, ind):\r\n",
        "    if (ind == len(arr)):\r\n",
        "        return [\"\"] \r\n",
        "    tmp = helper(arr, ind + 1)\r\n",
        "    ret = tmp\r\n",
        "    for i in tmp:\r\n",
        "        test = i + arr[ind]  \r\n",
        "        if (check(test)):\r\n",
        "            ret.append(test)\r\n",
        "    return ret  \r\n",
        "def maxLength(arr):\r\n",
        "    tmp = helper(arr, 0) \r\n",
        "    l = 0\r\n",
        "    for i in tmp:\r\n",
        "        l = l if l > len(i) else len(i)\r\n",
        "    return l \r\n",
        "# Driver Code \r\n",
        "if __name__=='__main__':   \r\n",
        "    s = []\r\n",
        "    s.append(\"abcdefgh\")\r\n",
        "    print(maxLength(s))"
      ],
      "execution_count": null,
      "outputs": [
        {
          "output_type": "stream",
          "text": [
            "8\n"
          ],
          "name": "stdout"
        }
      ]
    },
    {
      "cell_type": "markdown",
      "metadata": {
        "id": "knR1dmPQHlC_"
      },
      "source": [
        "##**CyclicRotation of An Array**\r\n"
      ]
    },
    {
      "cell_type": "code",
      "metadata": {
        "id": "3pNxaxvaHnUH"
      },
      "source": [
        "def solution(A, K):\r\n",
        "    pass\r\n",
        "    \"\"\"\r\n",
        "    A = [1,2,3,4,5]\r\n",
        "    K = 3 \r\n",
        "    Output: [] \r\n",
        "    \"\"\"\r\n",
        "    #rotate array A\r\n",
        "    N = len(A)\r\n",
        "    X = [0]*N\r\n",
        "    if N < 1:\r\n",
        "        return A \r\n",
        "    for i in range (N):\r\n",
        "        X[i]= A[(i-K) % N]\r\n",
        "    return X"
      ],
      "execution_count": null,
      "outputs": []
    },
    {
      "cell_type": "markdown",
      "metadata": {
        "id": "bR1fpbRPX1Bj"
      },
      "source": [
        ""
      ]
    },
    {
      "cell_type": "code",
      "metadata": {
        "id": "6ZXxA9xlN9Ln"
      },
      "source": [
        "def leftRotate(arr, n, k):\r\n",
        "    mod = d % length\r\n",
        "    s = \"\"\r\n",
        "    for i in range(length):\r\n",
        "        print str(arr[(mod + i) % length]),\r\n",
        "    print\r\n",
        "    return"
      ],
      "execution_count": null,
      "outputs": []
    },
    {
      "cell_type": "code",
      "metadata": {
        "id": "ta03zK_qOTvv"
      },
      "source": [
        "from collections import deque \r\n",
        "def leftRotate(a, d, n):\r\n",
        "    a = deque(a) \r\n",
        "    a.rotate(-k) \r\n",
        "    a = list(a) \r\n",
        "    for i in range(n):\r\n",
        "        print(arr[i], end = \" \")"
      ],
      "execution_count": null,
      "outputs": []
    },
    {
      "cell_type": "code",
      "metadata": {
        "id": "Xc6XaaWpO6JH"
      },
      "source": [
        "# Complete the rotLeft function below.\r\n",
        "from collections import deque \r\n",
        "def leftRotate(a, d):\r\n",
        "    length = len(a)\r\n",
        "    a = deque(a) \r\n",
        "    a.rotate(-divmod) \r\n",
        "    a = list(a) \r\n",
        "    for i in range(length):\r\n",
        "        print(arr[i], end = \" \")"
      ],
      "execution_count": null,
      "outputs": []
    },
    {
      "cell_type": "code",
      "metadata": {
        "colab": {
          "base_uri": "https://localhost:8080/"
        },
        "id": "EnH2xFNqD6jT",
        "outputId": "ba7c2fe0-5d4e-4f8c-8b35-c0d0f08e853d"
      },
      "source": [
        " \r\n",
        "from collections import defaultdict\r\n",
        "def groupInKConsecutive(arr, K):\r\n",
        "    count = defaultdict(int)\r\n",
        "    for h in arr:\r\n",
        "        count[h] += 1\r\n",
        "    for key, value in count.items():\r\n",
        "        cur = key\r\n",
        "        n = value\r\n",
        "        if (n > 0):\r\n",
        "            for i in range(1, K):\r\n",
        "                if ((cur + i) not in count):\r\n",
        "                    return False\r\n",
        "                count[cur + i] -= n\r\n",
        "                if (count[cur + i] < 0):\r\n",
        "                    return False            \r\n",
        "    return True\r\n",
        "# Driver Code\r\n",
        "if __name__ == \"__main__\":\r\n",
        "    arr = [ 1, 2, 3, 6, 2, 3, 4, 7, 8 ]\r\n",
        "    k = 3  \r\n",
        "    if (groupInKConsecutive(arr, k)):\r\n",
        "        print(\"True\")\r\n",
        "    else:\r\n",
        "        print(\"False\")"
      ],
      "execution_count": null,
      "outputs": [
        {
          "output_type": "stream",
          "text": [
            "True\n"
          ],
          "name": "stdout"
        }
      ]
    },
    {
      "cell_type": "markdown",
      "metadata": {
        "id": "ixXiM2wLPMIY"
      },
      "source": [
        "##**Binary Strings Sum**\r\n"
      ]
    },
    {
      "cell_type": "code",
      "metadata": {
        "id": "eRSczYnZMWpn"
      },
      "source": [
        "\r\n",
        "class Solution(object):\r\n",
        "    def addBinary(self, a, b):\r\n",
        "        \"\"\"\r\n",
        "        Given two binary strings a and b, return their sum as a binary string.\r\n",
        "        Example 1:\r\n",
        "        Input: a = \"11\", b = \"1\"\r\n",
        "        Output: \"100\"\r\n",
        "        \"\"\"\r\n",
        "        result = \"\"\r\n",
        "        aCount = len(a) - 1\r\n",
        "        bCount = len(b) - 1\r\n",
        "        carry = 0\r\n",
        "        while aCount >= 0 or bCount >= 0:\r\n",
        "            totalSum = carry\r\n",
        "            if aCount >= 0:\r\n",
        "                totalSum += int(a[aCount])\r\n",
        "                aCount -= 1\r\n",
        "            if bCount >= 0:\r\n",
        "                totalSum += int(b[bCount])\r\n",
        "                bCount -= 1\r\n",
        "            result = str(totalSum % 2) + result\r\n",
        "            carry = totalSum // 2\r\n",
        "        if carry > 0:\r\n",
        "            result = str(1) +  \r\n",
        "        return result"
      ],
      "execution_count": null,
      "outputs": []
    },
    {
      "cell_type": "markdown",
      "metadata": {
        "id": "ACARb0dPE6i8"
      },
      "source": [
        ""
      ]
    },
    {
      "cell_type": "markdown",
      "metadata": {
        "id": "iLrVFEJNRgYk"
      },
      "source": [
        "##**Check if Strings s1 and s2 are Anagram**\r\n",
        "\r\n"
      ]
    },
    {
      "cell_type": "code",
      "metadata": {
        "id": "ZQGoYNpEQA6E"
      },
      "source": [
        "class Solution:\r\n",
        "    def isAnagram(self, s: str, t: str) -> bool:\r\n",
        "        \"\"\"Given two strings s and t , write a function to determine if t is an anagram of s.\r\n",
        "        Example 1:\r\n",
        "        Input: s = \"anagram\", t = \"nagaram\"\r\n",
        "        Output: true\"\"\"\r\n",
        "        s = s.replace(' ','').lower()\r\n",
        "        t = t.replace(' ','').lower()\r\n",
        "\r\n",
        "        if len(s) != len(t):\r\n",
        "            return False\r\n",
        "\r\n",
        "        count = {} \r\n",
        "        for x in s:\r\n",
        "            if x in count:\r\n",
        "                count[x] += 1\r\n",
        "            else:\r\n",
        "                count[x] = 1 \r\n",
        "\r\n",
        "        for x in t:\r\n",
        "            if x in count:\r\n",
        "                count[x] -= 1\r\n",
        "            else:\r\n",
        "                count[x] = 1  \r\n",
        "                     \r\n",
        "        for k in count:\r\n",
        "            if count[k] != 0:\r\n",
        "                return False"
      ],
      "execution_count": null,
      "outputs": []
    },
    {
      "cell_type": "markdown",
      "metadata": {
        "id": "4h2WE8v4wY0i"
      },
      "source": [
        "##**TwoSum**\r\n",
        "Given an array of integers nums and an integer target, return indices of the two numbers such that they add up to target.\r\n",
        "\r\n",
        "You may assume that each input would have exactly one solution, and you may not use the same element twice.\r\n",
        "\r\n",
        "You can return the answer in any order."
      ]
    },
    {
      "cell_type": "code",
      "metadata": {
        "id": "L_CS6GQ8SHoM"
      },
      "source": [
        "# Brute force approach\r\n",
        "class Solution(object):\r\n",
        "    def two_sum_brute_force(nums, target):\r\n",
        "        length = len(nums)\r\n",
        "        for i in range(length - 1):\r\n",
        "            for j in range(1, length):\r\n",
        "                if nums[i] + nums[j] == target:\r\n",
        "                    return i, j\r\n",
        "        return None"
      ],
      "execution_count": null,
      "outputs": []
    },
    {
      "cell_type": "code",
      "metadata": {
        "id": "GmOyvEwTtg86"
      },
      "source": [
        "#Using hash tables\r\n",
        "class Solution(object):\r\n",
        "    def twoSum(self, nums, target):\r\n",
        "        \"\"\"\r\n",
        "         :type nums: List[int]\r\n",
        "         :type target: int\r\n",
        "         :rtype: List[int]\r\n",
        "         \"\"\"\r\n",
        "        x = {}\r\n",
        "        for i in range(len(nums)): \r\n",
        "            if target - nums[i] in x:\r\n",
        "                return [x[target - nums[i]],i]\r\n",
        "            else:\r\n",
        "                x[nums[i]]=i"
      ],
      "execution_count": null,
      "outputs": []
    },
    {
      "cell_type": "markdown",
      "metadata": {
        "id": "F7S2yFbMBzTt"
      },
      "source": [
        "The two sum problem is stated as follows: given an unsorted list and a number S, find all the pairs of numbers in that list such that their sum equals S.\r\n",
        "For example, if the list is [3, 5, 2, -4, 8, 11][3,5,2,−4,8,11] and the value of S is 77, then the program should return pairs (11,-4)(11,−4) and (2,5)(2,5) since 11 +(-4)11+(−4) and 2+52+5 are equal to 77."
      ]
    },
    {
      "cell_type": "code",
      "metadata": {
        "colab": {
          "base_uri": "https://localhost:8080/"
        },
        "id": "Oqk2vTWqB28d",
        "outputId": "0204e86d-ca6a-48b1-cce5-309bbee0e909"
      },
      "source": [
        "#O(n**2) - Naive Approach\r\n",
        "def twoSumNaive(num_arr, pair_sum):\r\n",
        "  # search first element in the array\r\n",
        "  for i in range(len(num_arr) - 1):\r\n",
        "    # search other element in the array\r\n",
        "    for j in range(i + 1, len(num_arr)):\r\n",
        "      # if these two elements sum to pair_sum, print the pair\r\n",
        "      if num_arr[i] + num_arr[j] == pair_sum:\r\n",
        "        print(\"Pair with sum\", pair_sum,\"is: (\", num_arr[i],\",\",num_arr[j],\")\")\r\n",
        "# Driver Code\r\n",
        "num_arr = [3, 5, 2, -4, 8, 11]\r\n",
        "pair_sum = 7\r\n",
        "# Function call inside print\r\n",
        "twoSumNaive(num_arr, pair_sum) "
      ],
      "execution_count": null,
      "outputs": [
        {
          "output_type": "stream",
          "text": [
            "Pair with sum 7 is: ( 5 , 2 )\n",
            "Pair with sum 7 is: ( -4 , 11 )\n"
          ],
          "name": "stdout"
        }
      ]
    },
    {
      "cell_type": "code",
      "metadata": {
        "colab": {
          "base_uri": "https://localhost:8080/"
        },
        "id": "6Z_c84cXCwaL",
        "outputId": "cc9e863f-4994-460c-dea5-80dbf7c6a569"
      },
      "source": [
        "#Using Hash Tables\r\n",
        "def twoSumHashing(num_arr, pair_sum):\r\n",
        "    sums = []\r\n",
        "    hashTable = {}\r\n",
        "    for i in range(len(num_arr)):\r\n",
        "        complement = pair_sum - num_arr[i]\r\n",
        "        if complement in hashTable:\r\n",
        "            print(\"Pair with sum\", pair_sum,\"is: (\", num_arr[i],\",\",complement,\")\")\r\n",
        "        hashTable[num_arr[i]] = num_arr[i]\r\n",
        "# Driver Code\r\n",
        "num_arr = [4, 5, 1, 8]\r\n",
        "pair_sum = 9    \r\n",
        "# Calling function\r\n",
        "twoSumHashing(num_arr, pair_sum)"
      ],
      "execution_count": null,
      "outputs": [
        {
          "output_type": "stream",
          "text": [
            "Pair with sum 9 is: ( 5 , 4 )\n",
            "Pair with sum 9 is: ( 8 , 1 )\n"
          ],
          "name": "stdout"
        }
      ]
    },
    {
      "cell_type": "markdown",
      "metadata": {
        "id": "wIhvvCUErNHu"
      },
      "source": [
        "## **Three Sum**"
      ]
    },
    {
      "cell_type": "code",
      "metadata": {
        "id": "nbQoGbaErNrb"
      },
      "source": [
        "class Solution:\r\n",
        "    def threeSum(self, nums):\r\n",
        "        n = len(nums)\r\n",
        "        nums.sort()\r\n",
        "        res = []\r\n",
        "        for i in range(n - 2):\r\n",
        "            if nums[i] > 0:\r\n",
        "                break\r\n",
        "            if i > 0 and nums[i] == nums[i - 1]:\r\n",
        "                continue\r\n",
        "            j, k = i + 1, n - 1\r\n",
        "            while j < k:                \r\n",
        "                cur = nums[i] + nums[j] + nums[k] \r\n",
        "                if cur < 0:\r\n",
        "                    j += 1\r\n",
        "                elif cur > 0:\r\n",
        "                    k -= 1\r\n",
        "                else:\r\n",
        "                    res.append([nums[i], nums[j], nums[k]])\r\n",
        "                    while j + 1 < k and nums[j] == nums[j + 1]:\r\n",
        "                        j += 1\r\n",
        "                    while k - 1 > j and nums[k] == nums[k - 1]:\r\n",
        "                        k -= 1\r\n",
        "                    j += 1\r\n",
        "                    k -= 1\r\n",
        "        return res"
      ],
      "execution_count": null,
      "outputs": []
    },
    {
      "cell_type": "markdown",
      "metadata": {
        "id": "n79dGvWekSNv"
      },
      "source": [
        "A function that computes a student’s GPA with a point value\r\n",
        "system that can be customized as an optional parameter."
      ]
    },
    {
      "cell_type": "code",
      "metadata": {
        "id": "BC6D0vKBUqSI"
      },
      "source": [
        "def compute_gpa(grades, points={ \"A+\" :4.0, \"A\" :4.0, \"A-\" :3.67, \"B+\" :3.33,\r\n",
        "\"B\" :3.0, \"B-\" :2.67, 'C+' :2.33, 'C' :2.0,\r\n",
        "'C' :1.67, 'D+' :1.33, 'D' :1.0, 'F' :0.0}):\r\n",
        "    num_courses = 0\r\n",
        "    total_points = 0\r\n",
        "    for g in grades:\r\n",
        "        if g in points: \r\n",
        "            num_courses += 1\r\n",
        "            total_points += points[g]\r\n",
        "    return total_points / num_courses"
      ],
      "execution_count": null,
      "outputs": []
    },
    {
      "cell_type": "markdown",
      "metadata": {
        "id": "_KBaJs3YbvUT"
      },
      "source": [
        "##**Binary Search**\r\n",
        "Given an array nums and a value val, remove all instances of that value in-place and return the new length.\r\n",
        "\r\n",
        "Do not allocate extra space for another array, you must do this by modifying the input array in-place with O(1) extra memory.\r\n",
        "\r\n",
        "The order of elements can be changed. It doesn't matter what you leave beyond the new length.\r\n",
        "\r\n",
        "Clarification:\r\n",
        "\r\n",
        "Confused why the returned value is an integer but your answer is an array?\r\n",
        "\r\n",
        "Note that the input array is passed in by reference, which means a modification to the input array will be known to the caller as well.\r\n",
        "\r\n",
        "Internally you can think of this:"
      ]
    },
    {
      "cell_type": "code",
      "metadata": {
        "id": "GhD857FWbve6"
      },
      "source": [
        "class Solution(object):\r\n",
        "    def removeElement(self, nums, val):\r\n",
        "        \"\"\"\r\n",
        "        :type nums: List[int]\r\n",
        "        :type val: int\r\n",
        "        :rtype: int\r\n",
        "        \"\"\"\r\n",
        "        for i in nums[:]:\r\n",
        "            if i == val:\r\n",
        "                nums.remove(val)\r\n",
        "                i += 1\r\n",
        "        return len(nums)\r\n",
        "        "
      ],
      "execution_count": null,
      "outputs": []
    },
    {
      "cell_type": "markdown",
      "metadata": {
        "id": "4CQH-NPgh61v"
      },
      "source": [
        "##**Trailing** **Zeros**\r\n",
        "Given an integer n, return the number of trailing zeroes in n!.\r\n",
        "\r\n",
        "Follow up: Could you write a solution that works in logarithmic time complexity?\r\n",
        "\r\n",
        " \r\n",
        "\r\n",
        "Example 1:\r\n",
        "\r\n",
        "Input: n = 3\r\n",
        "Output: 0\r\n",
        "Explanation: 3! = 6, no trailing zero.\r\n",
        "Example 2:\r\n",
        "\r\n",
        "Input: n = 5\r\n",
        "Output: 1\r\n",
        "Explanation: 5! = 120, one trailing zero.\r\n",
        "Example 3:\r\n",
        "\r\n",
        "Input: n = 0\r\n",
        "Output: 0\r\n",
        " \r\n",
        "\r\n",
        "Constraints:\r\n",
        "\r\n",
        "0 <= n <= 104"
      ]
    },
    {
      "cell_type": "code",
      "metadata": {
        "id": "8Tx9uLMjh8d8"
      },
      "source": [
        "class Solution(object):\r\n",
        "    def trailingZeroes(self, n):\r\n",
        "        \"\"\"\r\n",
        "        :type n: int\r\n",
        "        :rtype: int\r\n",
        "        \"\"\"\r\n",
        "        result = 0\r\n",
        "        while n > 0:\r\n",
        "            result += n / 5\r\n",
        "            n /= 5\r\n",
        "        return result"
      ],
      "execution_count": null,
      "outputs": []
    },
    {
      "cell_type": "markdown",
      "metadata": {
        "id": "Qg_OATOEjb8P"
      },
      "source": [
        "Given an integer array nums, find the contiguous subarray (containing at least one number) which has the largest sum and return its sum.\r\n",
        "\r\n",
        "Follow up: If you have figured out the O(n) solution, try coding another solution using the divide and conquer approach, which is more subtle.\r\n",
        "\r\n",
        " \r\n",
        "\r\n",
        "Example 1:\r\n",
        "\r\n",
        "Input: nums = [-2,1,-3,4,-1,2,1,-5,4]\r\n",
        "Output: 6\r\n",
        "Explanation: [4,-1,2,1] has the largest sum = 6.\r\n",
        "Example 2:\r\n",
        "\r\n",
        "Input: nums = [1]\r\n",
        "Output: 1\r\n",
        "Example 3:\r\n",
        "\r\n",
        "Input: nums = [0]\r\n",
        "Output: 0\r\n",
        "Example 4:\r\n",
        "\r\n",
        "Input: nums = [-1]\r\n",
        "Output: -1\r\n",
        "Example 5:\r\n",
        "\r\n",
        "Input: nums = [-2147483647]\r\n",
        "Output: -2147483647"
      ]
    },
    {
      "cell_type": "code",
      "metadata": {
        "id": "iIMP4GCAjcs1"
      },
      "source": [
        "class Solution(object):\r\n",
        "    def maxSubArray(self, nums):\r\n",
        "        \"\"\"\r\n",
        "        :type nums: List[int]\r\n",
        "        :rtype: int\r\n",
        "        \"\"\"\r\n",
        "        max_current = max_final = nums[0]\r\n",
        "        for i in nums[1:]:\r\n",
        "            max_final = max(i, max_final + i)\r\n",
        "            max_current = max(max_final, max_current)\r\n",
        "        return max_current"
      ],
      "execution_count": null,
      "outputs": []
    },
    {
      "cell_type": "markdown",
      "metadata": {
        "id": "TSbutl1-fHpL"
      },
      "source": [
        "You are given a zero-indexed array A consisting of n integers: a0, a1, . . . , an−1.\r\n",
        "Array A represents a scenario in a grocery store, and contains only 0s and/or 1s:\r\n",
        "• 0 represents the action of a new person joining the line in the grocery store,\r\n",
        "• 1 represents the action of the person at the front of the queue being served and leaving\r\n",
        "the line.\r\n",
        "The goal is to count the minimum number of people who should have been in the line before\r\n",
        "the above scenario, so that the scenario is possible (it is not possible to serve a person if the\r\n",
        "line is empty)"
      ]
    },
    {
      "cell_type": "code",
      "metadata": {
        "id": "rpsHj-QpfG-E"
      },
      "source": [
        "def grocery_store(A):\r\n",
        "  n = len(A)\r\n",
        "  size, result = 0, 0\r\n",
        "  for i in xrange(n):\r\n",
        "    if A[i] == 0:\r\n",
        "      size += 1\r\n",
        "    else:\r\n",
        "      size -= 1\r\n",
        "      result = max(result, -size)\r\n",
        "  return result"
      ],
      "execution_count": null,
      "outputs": []
    },
    {
      "cell_type": "markdown",
      "metadata": {
        "id": "kvUG56c8f3nT"
      },
      "source": [
        "## **Balanced** **parentheses** **in** **an** **expression** "
      ]
    },
    {
      "cell_type": "code",
      "metadata": {
        "colab": {
          "base_uri": "https://localhost:8080/"
        },
        "id": "MZywx3MQxGcR",
        "outputId": "b0e81f68-ee68-4e6e-f579-1ef0aa4085b9"
      },
      "source": [
        "# 100% on codility\r\n",
        "def check(S): \r\n",
        "    open_tup = tuple('({[') \r\n",
        "    close_tup = tuple(')}]') \r\n",
        "    map = dict(zip(open_tup, close_tup)) \r\n",
        "    queue = [] \r\n",
        "    for i in S: \r\n",
        "        if i in open_tup: \r\n",
        "            queue.append(map[i]) \r\n",
        "        elif i in close_tup: \r\n",
        "            if not queue or i != queue.pop(): \r\n",
        "                return 0\r\n",
        "    if not queue: \r\n",
        "        return 1\r\n",
        "    else: \r\n",
        "        return 0\r\n",
        "# Driver code \r\n",
        "S = \"{[]{()}}\"\r\n",
        "print(string, \"-\", check(S)) \r\n",
        "S = \"((())\"\r\n",
        "print(string,\"-\",check(S)) "
      ],
      "execution_count": null,
      "outputs": [
        {
          "output_type": "stream",
          "text": [
            "anna - 1\n",
            "anna - 0\n"
          ],
          "name": "stdout"
        }
      ]
    },
    {
      "cell_type": "code",
      "metadata": {
        "id": "JJf-fI1Nxoru"
      },
      "source": [
        "# 75% on codility\r\n",
        "def solution(S):\r\n",
        "    pass\r\n",
        "    opening_brackets = ['(', '{', '[']\r\n",
        "    closing_brackets = [')', '}', ']']\r\n",
        "    stack = []\r\n",
        "    if len(S) == 0:\r\n",
        "        return 0\r\n",
        "\r\n",
        "    for i in S:\r\n",
        "        if i in opening_brackets:\r\n",
        "            stack.append(i)\r\n",
        "            \r\n",
        "        elif i in closing_brackets:\r\n",
        "            pos = closing_brackets.index(i)\r\n",
        "            if (len(stack) > 0) and (opening_brackets[pos]== stack[len(stack)-1]):\r\n",
        "                stack.pop()\r\n",
        "        else:\r\n",
        "            return 0\r\n",
        "    if len(stack) == 0:\r\n",
        "        return 1\r\n",
        "    else:\r\n",
        "        return 0"
      ],
      "execution_count": null,
      "outputs": []
    },
    {
      "cell_type": "markdown",
      "metadata": {
        "id": "Ux6_GC1UmThB"
      },
      "source": [
        "\r\n",
        "## **Validity of a string of parentheses, '(', ')', '{', '}', '[' and ']**\r\n",
        "\r\n"
      ]
    },
    {
      "cell_type": "code",
      "metadata": {
        "id": "bxU6E3wOmUGU"
      },
      "source": [
        "class py_solution:\r\n",
        "   def is_valid_parenthese(self, str1):\r\n",
        "        stack, pchar = [], {\"(\": \")\", \"{\": \"}\", \"[\": \"]\"}\r\n",
        "        for parenthese in str1:\r\n",
        "            if parenthese in pchar:\r\n",
        "                stack.append(parenthese)\r\n",
        "            elif len(stack) == 0 or pchar[stack.pop()] != parenthese:\r\n",
        "                return False\r\n",
        "        return len(stack) == 0\r\n",
        "\r\n",
        "print(py_solution().is_valid_parenthese(\"(){}[]\"))\r\n",
        "print(py_solution().is_valid_parenthese(\"()[{)}\"))\r\n",
        "print(py_solution().is_valid_parenthese(\"()\"))"
      ],
      "execution_count": null,
      "outputs": []
    },
    {
      "cell_type": "markdown",
      "metadata": {
        "id": "WkT48spt37oD"
      },
      "source": [
        "##**CyclicRotation of Array**\r\n",
        "An array A consisting of N integers is given. Rotation of the array means that each element is shifted right by one index, and the last element of the array is moved to the first place. For example, the rotation of array A = [3, 8, 9, 7, 6] is [6, 3, 8, 9, 7] (elements are shifted right by one index and 6 is moved to the first place).\r\n",
        "\r\n",
        "The goal is to rotate array A K times; that is, each element of A will be shifted to the right K times.\r\n",
        "\r\n",
        "Write a function:\r\n",
        "\r\n",
        "def solution(A, K)\r\n",
        "\r\n",
        "that, given an array A consisting of N integers and an integer K, returns the array A rotated K times.\r\n",
        "\r\n",
        "For example, given\r\n",
        "\r\n",
        "    A = [3, 8, 9, 7, 6]\r\n",
        "    K = 3\r\n",
        "the function should return [9, 7, 6, 3, 8]. Three rotations were made:\r\n",
        "\r\n",
        "    [3, 8, 9, 7, 6] -> [6, 3, 8, 9, 7]\r\n",
        "    [6, 3, 8, 9, 7] -> [7, 6, 3, 8, 9]\r\n",
        "    [7, 6, 3, 8, 9] -> [9, 7, 6, 3, 8]\r\n",
        "For another example, given\r\n",
        "\r\n",
        "    A = [0, 0, 0]\r\n",
        "    K = 1\r\n",
        "the function should return [0, 0, 0]\r\n",
        "\r\n",
        "Given\r\n",
        "\r\n",
        "    A = [1, 2, 3, 4]\r\n",
        "    K = 4\r\n",
        "the function should return [1, 2, 3, 4]\r\n",
        "\r\n",
        "Assume that:\r\n",
        "\r\n",
        "N and K are integers within the range [0..100];\r\n",
        "each element of array A is an integer within the range [−1,000..1,000].\r\n",
        "In your solution, focus on correctness. The performance of your solution will not be the focus of the assessment."
      ]
    },
    {
      "cell_type": "code",
      "metadata": {
        "colab": {
          "base_uri": "https://localhost:8080/"
        },
        "id": "27OcOV6t3_BH",
        "outputId": "449e72c4-af54-4a43-e85e-086c7240028e"
      },
      "source": [
        "def solution(A, K):\r\n",
        "    # write your code in Python 3.6\r\n",
        "    pass\r\n",
        "    N = len(A)\r\n",
        "    X = [0]*N\r\n",
        "\r\n",
        "    if N < 1:\r\n",
        "        return A \r\n",
        "    for i in range (N):\r\n",
        "        X[i]= A[(i-K) % N]\r\n",
        "    return X\r\n",
        "A = [3, 8, 9, 7, 6]\r\n",
        "K = 3\r\n",
        "print(solution(A, K))"
      ],
      "execution_count": null,
      "outputs": [
        {
          "output_type": "stream",
          "text": [
            "[9, 7, 6, 3, 8]\n"
          ],
          "name": "stdout"
        }
      ]
    },
    {
      "cell_type": "markdown",
      "metadata": {
        "id": "CXJAKFGIAf8j"
      },
      "source": [
        "Given a sorted array nums, remove the duplicates in-place such that each element appears only once and returns the new length.\r\n",
        "\r\n",
        "Do not allocate extra space for another array, you must do this by modifying the input array in-place with O(1) extra memory.\r\n",
        "\r\n",
        "Clarification:\r\n",
        "\r\n",
        "Confused why the returned value is an integer but your answer is an array?\r\n",
        "\r\n",
        "Note that the input array is passed in by reference, which means a modification to the input array will be known to the caller as well.\r\n",
        "\r\n",
        "Internally you can think of this:"
      ]
    },
    {
      "cell_type": "code",
      "metadata": {
        "id": "bW-B9qeTAklb"
      },
      "source": [
        "class Solution:\r\n",
        "    def removeDuplicates(self, nums):\r\n",
        "        if len(nums) == 0:\r\n",
        "            return 0\r\n",
        "        length = 1\r\n",
        "        previous = nums[0]\r\n",
        "        index = 1\r\n",
        "        for i in range(1,len(nums)):\r\n",
        "            if nums[i] != previous:\r\n",
        "                length += 1\r\n",
        "                previous = nums[i]\r\n",
        "                nums[index] = nums[i]\r\n",
        "                index+=1\r\n",
        "        return length\r\n",
        "        "
      ],
      "execution_count": null,
      "outputs": []
    },
    {
      "cell_type": "markdown",
      "metadata": {
        "id": "jr6YmTF_O23J"
      },
      "source": [
        "Given an array of integers nums and an integer target, return indices of the two numbers such that they add up to target.\r\n",
        "\r\n",
        "You may assume that each input would have exactly one solution, and you may not use the same element twice.\r\n",
        "\r\n",
        "You can return the answer in any order.\r\n",
        "\r\n",
        "Example 1:\r\n",
        "\r\n",
        "Input: nums = [2,7,11,15], target = 9\r\n",
        "Output: [0,1]\r\n",
        "Output: Because nums[0] + nums[1] == 9, we return [0, 1].\r\n",
        "Example 2:\r\n",
        "\r\n",
        "Input: nums = [3,2,4], target = 6\r\n",
        "Output: [1,2]\r\n",
        "Example 3:\r\n",
        "\r\n",
        "Input: nums = [3,3], target = 6\r\n",
        "Output: [0,1]"
      ]
    },
    {
      "cell_type": "code",
      "metadata": {
        "id": "tJDueRYrO5nP"
      },
      "source": [
        "class Solution(object):\r\n",
        "    def twoSum(self, nums, target):\r\n",
        "        \"\"\"\r\n",
        "         :type nums: List[int]\r\n",
        "         :type target: int\r\n",
        "         :rtype: List[int]\r\n",
        "         \"\"\"\r\n",
        "        x = {}\r\n",
        "        \r\n",
        "        for i in range(len(nums)):\r\n",
        "            \r\n",
        "            if target - nums[i] in x:\r\n",
        "                return [x[target - nums[i]],i]\r\n",
        "            \r\n",
        "            else:\r\n",
        "                x[nums[i]]=i"
      ],
      "execution_count": null,
      "outputs": []
    },
    {
      "cell_type": "markdown",
      "metadata": {
        "id": "Ue0MkZdKTvnb"
      },
      "source": [
        "Given an array with positive and negative integers.Finf the maximum sum of that array."
      ]
    },
    {
      "cell_type": "code",
      "metadata": {
        "colab": {
          "base_uri": "https://localhost:8080/"
        },
        "id": "dAoRmY1WUxtR",
        "outputId": "c952fd85-2bc5-418b-855a-6068c9ce9ceb"
      },
      "source": [
        "def largest(A):\r\n",
        "  if len(A) == 0:\r\n",
        "    return print('Too Small')\r\n",
        "  \r\n",
        "  max_sum = current_sum = A[0]\r\n",
        "  for num in A[1:]:\r\n",
        "    current_sum = max(current_sum + num , num)\r\n",
        "    max_sum = max(current_sum, max_sum)\r\n",
        "  return max_sum\r\n",
        "print(largest([1,2,3,4,5,6,-7]))"
      ],
      "execution_count": null,
      "outputs": [
        {
          "output_type": "stream",
          "text": [
            "21\n"
          ],
          "name": "stdout"
        }
      ]
    },
    {
      "cell_type": "markdown",
      "metadata": {
        "id": "ap34JKpMcCpG"
      },
      "source": [
        "##**Isormophic**\r\n",
        "Two strings A and B are isomorphic if there exists character mapping which replaces characters from A to get B. Rules for character mapping are:\r\n",
        "\r\n",
        "all occurrences of one character (e.g. ‘x’) must be replaced with the same character (e.g. ‘y’)\r\n",
        "no two different characters may map to the same character\r\n",
        "a character may map to itself\r\n",
        "Write a function that returns true if provided strings are isomorphic, otherwise false:\r\n",
        "\r\n",
        "bool AreStringsIsomorphic(char* a, char* b)\r\n",
        "\r\n",
        "The strings are NULL-terminated, with characters from lower case English alphabet ‘a’ – ‘z’.\r\n",
        "\r\n",
        "Examples:\r\n",
        "\r\n",
        "Input\tOutput\r\n",
        "A = “brain”, B = “space”\t\ttrue\r\n",
        "A = “noon”, B = “feet”\t\tfalse\r\n",
        "A = “aab”, B = “ccd”\t\ttrue"
      ]
    },
    {
      "cell_type": "code",
      "metadata": {
        "colab": {
          "base_uri": "https://localhost:8080/"
        },
        "id": "R7oGJTKrcNz7",
        "outputId": "79edcccb-ddfd-454f-ac30-d0481aa1be8e"
      },
      "source": [
        "# Solution One -GeekforGeeks\r\n",
        "MAX_CHARS = 256\r\n",
        "def areIsomorphic(string1, string2): \r\n",
        "    m = len(string1) \r\n",
        "    n = len(string2) \r\n",
        "    if m != n: \r\n",
        "        return False\r\n",
        "\r\n",
        "    marked = [False] * MAX_CHARS \r\n",
        "    map = [-1] * MAX_CHARS \r\n",
        "    \r\n",
        "    for i in range(n):  \r\n",
        "        if map[ord(string1[i])] == -1: \r\n",
        "            if marked[ord(string2[i])] == True: \r\n",
        "                return False\r\n",
        "            marked[ord(string2[i])] = True\r\n",
        "            map[ord(string1[i])] = string2[i] \r\n",
        "        elif map[ord(string1[i])] != string2[i]: \r\n",
        "            return False\r\n",
        "    return True\r\n",
        "print (areIsomorphic(\"egg\",\"add\")) \r\n",
        "print (areIsomorphic(\"aab\",\"xyz\")) "
      ],
      "execution_count": null,
      "outputs": [
        {
          "output_type": "stream",
          "text": [
            "True\n",
            "False\n"
          ],
          "name": "stdout"
        }
      ]
    },
    {
      "cell_type": "code",
      "metadata": {
        "colab": {
          "base_uri": "https://localhost:8080/"
        },
        "id": "oZda8KMjeK9z",
        "outputId": "0e33b064-44c1-4ae7-b2b7-54f1602f90f0"
      },
      "source": [
        "#Solution 2\r\n",
        "def isIsomorphic(s, t):          \r\n",
        "    dict_s = {}\r\n",
        "    dict_t = {}\r\n",
        "    \r\n",
        "    for i, value in enumerate(s):\r\n",
        "        dict_s[value] = dict_s.get(value, []) + [i]\r\n",
        "            \r\n",
        "    for j, value in enumerate(t):\r\n",
        "        dict_t[value] = dict_t.get(value, []) + [j]\r\n",
        "    \r\n",
        "    if sorted(dict_s.values()) == sorted(dict_t.values()):\r\n",
        "        return True\r\n",
        "    else:\r\n",
        "        return False\r\n",
        "print (isIsomorphic(\"aab\",\"xxy\")) \r\n",
        "print (isIsomorphic(\"aab\",\"xyz\"))"
      ],
      "execution_count": null,
      "outputs": [
        {
          "output_type": "stream",
          "text": [
            "True\n",
            "False\n"
          ],
          "name": "stdout"
        }
      ]
    },
    {
      "cell_type": "markdown",
      "metadata": {
        "id": "6Ln_xh-TiIHK"
      },
      "source": [
        "##**Sort Array In Ascending Order**\r\n",
        "Given an array of integers nums, sort the array in ascending order.\r\n",
        "Example 1:\r\n",
        "\r\n",
        "Input: nums = [5,2,3,1]\r\n",
        "Output: [1,2,3,5]"
      ]
    },
    {
      "cell_type": "code",
      "metadata": {
        "id": "KECh13zyiT03"
      },
      "source": [
        "class Solution(object):\r\n",
        "    def sortArray(self, nums):\r\n",
        "        \"\"\"\r\n",
        "        :type nums: List[int]\r\n",
        "        :rtype: List[int]\r\n",
        "        \"\"\"\r\n",
        "        for i in range(0, len(nums)):  \r\n",
        "            nums.sort(reverse = False)\r\n",
        "            return nums\r\n",
        "             "
      ],
      "execution_count": null,
      "outputs": []
    },
    {
      "cell_type": "markdown",
      "metadata": {
        "id": "54cT7uFnOEkP"
      },
      "source": [
        "#**Longest common prefix**\r\n",
        "Write a Python program to find the longest common prefix string amongst a given array of strings. Return false If there is no common prefix.\r\n",
        "For Example, longest common prefix of \"abcdefgh\" and \"abcefgh\" is \"abc\""
      ]
    },
    {
      "cell_type": "code",
      "metadata": {
        "colab": {
          "base_uri": "https://localhost:8080/"
        },
        "id": "hM8tfLwGOQ2c",
        "outputId": "68d24143-3cd7-4cd1-869b-900fb0dcc880"
      },
      "source": [
        "def longest_Common_Prefix(str1):\r\n",
        "    if not str1:\r\n",
        "        return \"\"\r\n",
        "    short_str = min(str1,key=len)\r\n",
        "    for i, char in enumerate(short_str):\r\n",
        "        for other in str1:\r\n",
        "            if other[i] != char:\r\n",
        "                return short_str[:i]\r\n",
        "    return short_str \r\n",
        "print(longest_Common_Prefix([\"abcdefgh\",\"abcefgh\"]))\r\n",
        "print(longest_Common_Prefix([\"w3r\",\"w3resource\"]))\r\n",
        "print(longest_Common_Prefix([\"Python\",\"PHP\", \"Perl\"]))\r\n",
        "print(longest_Common_Prefix([\"Python\",\"PHP\", \"Java\"]))"
      ],
      "execution_count": null,
      "outputs": [
        {
          "output_type": "stream",
          "text": [
            "abc\n",
            "w3r\n",
            "P\n",
            "\n"
          ],
          "name": "stdout"
        }
      ]
    },
    {
      "cell_type": "markdown",
      "metadata": {
        "id": "6ArMXIzTSBv5"
      },
      "source": [
        "\r\n",
        "#**Reverse Vowels Only in a String**\r\n",
        "Write a Python program to reverse only the vowels of a given string."
      ]
    },
    {
      "cell_type": "code",
      "metadata": {
        "colab": {
          "base_uri": "https://localhost:8080/"
        },
        "id": "YRESXTo9SBSY",
        "outputId": "4622dc2e-4456-4cf5-ee16-fae16fa8dabb"
      },
      "source": [
        "def reverseVowels(s):\r\n",
        "\tvowels = \"\"\r\n",
        "\tfor char in s:\r\n",
        "\t\tif char in \"aeiouAEIOU\":\r\n",
        "\t\t\tvowels += char\r\n",
        "\tresult = \"\"\r\n",
        "\tfor char in s:\r\n",
        "\t\tif char in \"aeiouAEIOU\":\r\n",
        "\t\t\tresult += vowels[-1]\r\n",
        "\t\t\tvowels = vowels[:-1]\r\n",
        "\t\telse:\r\n",
        "\t\t\tresult += char\r\n",
        "\treturn result\r\n",
        "\r\n",
        "print(reverse_vowels(\"hello\"))\r\n",
        "print(reverse_vowels(\"Python\"))\r\n",
        "print(reverse_vowels(\"leetcode\"))\r\n"
      ],
      "execution_count": null,
      "outputs": [
        {
          "output_type": "stream",
          "text": [
            "holle\n",
            "Python\n",
            "leotcede\n"
          ],
          "name": "stdout"
        }
      ]
    },
    {
      "cell_type": "markdown",
      "metadata": {
        "id": "iESAkie1ZRup"
      },
      "source": [
        "#**Remove Duplicates from Array of numbers and return Length**\r\n",
        "Python program to remove the duplicate elements of a given array of numbers such that each element appear only once and return the new length of the given array."
      ]
    },
    {
      "cell_type": "code",
      "metadata": {
        "colab": {
          "base_uri": "https://localhost:8080/"
        },
        "id": "gtadvwmQZf9W",
        "outputId": "f913132e-d248-4ff6-8762-73344029a7c3"
      },
      "source": [
        "def removeDuplicates(nums):\r\n",
        "    for i in range (len(nums)-1, 0, -1):\r\n",
        "        if nums[i] == nums[i-1]:\r\n",
        "            del nums[i-1]\r\n",
        "    return len(nums)\r\n",
        "print(removeDuplicates([0,0,1,1,2,2,3,3,4,4,4]))\r\n",
        "print(removeDuplicates([1, 2, 2, 3, 4, 4]))"
      ],
      "execution_count": null,
      "outputs": [
        {
          "output_type": "stream",
          "text": [
            "5\n",
            "4\n"
          ],
          "name": "stdout"
        }
      ]
    },
    {
      "cell_type": "markdown",
      "metadata": {
        "id": "8kJZgRwtfeze"
      },
      "source": [
        "##**Remove Duplicate Characters in a String**"
      ]
    },
    {
      "cell_type": "code",
      "metadata": {
        "colab": {
          "base_uri": "https://localhost:8080/"
        },
        "id": "nkreZoMad00_",
        "outputId": "d1d2cedf-187d-4d87-9fae-18fcc6247a11"
      },
      "source": [
        "# Python program to remvoe duplicate characters from an input string (0 log n)\r\n",
        "MAX_CHARS = 256 \r\n",
        "# Since strings in Python are immutable and cannot be changed convert the string to list \r\n",
        "def toMutable(s): \r\n",
        "    List = [] \r\n",
        "    for i in s: \r\n",
        "        List.append(i) \r\n",
        "    return List\r\n",
        "\r\n",
        "# changes list to string \r\n",
        "def toString(List): \r\n",
        "    return ''.join(List) \r\n",
        "\r\n",
        "# Removes duplicate characters from the string \r\n",
        "def removeDuplicates(s): \r\n",
        "    bin_hash = [0] * MAX_CHARS \r\n",
        "    input_ind = 0\r\n",
        "    result_ind = 0\r\n",
        "    temp = \"\" \r\n",
        "    mutableString = toMutable(s) \r\n",
        "\r\n",
        "    # Removal of duplicate characters \r\n",
        "    while input_ind != len(mutableString): \r\n",
        "        temp = mutableString[input_ind] \r\n",
        "        if bin_hash[ord(temp)] == 0: \r\n",
        "            bin_hash[ord(temp)] = 1\r\n",
        "            mutableString[result_ind] = mutableString[input_ind] \r\n",
        "            result_ind+=1\r\n",
        "        input_ind+=1\r\n",
        "    return toString(mutableString[0:result_ind]) \r\n",
        "    \r\n",
        "# Driver program to test the above functions \r\n",
        "s = \"bcabc\"\r\n",
        "print(removeDuplicates(string)) "
      ],
      "execution_count": null,
      "outputs": [
        {
          "output_type": "stream",
          "text": [
            "geksfor\n"
          ],
          "name": "stdout"
        }
      ]
    },
    {
      "cell_type": "code",
      "metadata": {
        "colab": {
          "base_uri": "https://localhost:8080/"
        },
        "id": "MjsEm4UTflbT",
        "outputId": "58b330bf-a2a3-4079-c4b2-68605cc975ac"
      },
      "source": [
        "def removeDuplicates(s, n): \r\n",
        "    index = 0 \r\n",
        "    for i in range(0, n):   \r\n",
        "        for j in range(0, i + 1): \r\n",
        "            if (s[i] == s[j]): \r\n",
        "                break         \r\n",
        "        if (j == i): \r\n",
        "            s[index] = s[i] \r\n",
        "            index += 1\r\n",
        "    s.sort(reverse = True)   \r\n",
        "    return \"\".join(s[:index]) \r\n",
        "# Driver code \r\n",
        "s= \"cbacdcccrtcgesaaaaaabc\"\r\n",
        "n = len(s) \r\n",
        "print(removeDuplicates(list(s), n)) "
      ],
      "execution_count": null,
      "outputs": [
        {
          "output_type": "stream",
          "text": [
            "ttssrggee\n"
          ],
          "name": "stdout"
        }
      ]
    },
    {
      "cell_type": "markdown",
      "metadata": {
        "id": "T-YnVxvDamA3"
      },
      "source": [
        "##**Remove Element**\r\n",
        "Given an array nums and a value val, remove all instances of that value in-place and return the new length.Do not allocate extra space for another array, you must do this by modifying the input array in-place with O(1) extra memory.The order of elements can be changed. It doesn't matter what you leave beyond the new length.\r\n",
        "Clarification:Confused why the returned value is an integer but your answer is an array?Note that the input array is passed in by reference, which means a modification to the input array will be known to the caller as well.\r\n",
        "\r\n",
        "Internally you can think of this:"
      ]
    },
    {
      "cell_type": "code",
      "metadata": {
        "id": "ErUTgG6oa1oS"
      },
      "source": [
        "class Solution(object):\r\n",
        "    def removeElement(self, nums, val):\r\n",
        "        \"\"\"\r\n",
        "        :type nums: List[int]\r\n",
        "        :type val: int\r\n",
        "        :rtype: int\r\n",
        "        \"\"\"\r\n",
        "        for i in nums[:]:\r\n",
        "            if i == val:\r\n",
        "                nums.remove(val)\r\n",
        "                i += 1\r\n",
        "        return len(nums)\r\n",
        "\r\n"
      ],
      "execution_count": null,
      "outputs": []
    },
    {
      "cell_type": "markdown",
      "metadata": {
        "id": "80LpVndIkNoy"
      },
      "source": [
        "##*Max Profit from Selling Stock**\r\n"
      ]
    },
    {
      "cell_type": "code",
      "metadata": {
        "colab": {
          "base_uri": "https://localhost:8080/"
        },
        "id": "GpHDp19vkUzv",
        "outputId": "12edafb2-2dd9-4c50-de8a-942556122609"
      },
      "source": [
        "def buy_and_sell(stock_price):\r\n",
        "    max_profit_val, current_max_val = 0, 0 \r\n",
        "    for price in reversed(stock_price):                       \r\n",
        "        current_max_val = max(current_max_val, price)          \r\n",
        "        potential_profit = current_max_val - price          \r\n",
        "        max_profit_val = max(potential_profit, max_profit_val)\r\n",
        "\r\n",
        "    return max_profit_val\r\n",
        "\r\n",
        "print(buy_and_sell([8, 10, 7, 5, 7, 15]))\r\n",
        "print(buy_and_sell([1, 2, 8, 1]))\r\n",
        "print(buy_and_sell([]))"
      ],
      "execution_count": null,
      "outputs": [
        {
          "output_type": "stream",
          "text": [
            "10\n",
            "7\n",
            "0\n"
          ],
          "name": "stdout"
        }
      ]
    },
    {
      "cell_type": "markdown",
      "metadata": {
        "id": "nJ6JNqMw1Gtt"
      },
      "source": [
        "##**Check whether a given number is a palindrome.**\r\n"
      ]
    },
    {
      "cell_type": "code",
      "metadata": {
        "colab": {
          "base_uri": "https://localhost:8080/"
        },
        "id": "DDiMgI491Hdg",
        "outputId": "17e6e781-a845-4aca-bf32-920ca0278d7c"
      },
      "source": [
        "n=int(input(\"Enter number:\"))\r\n",
        "temp=n\r\n",
        "rev=0\r\n",
        "while(n>0):\r\n",
        "    dig=n%10\r\n",
        "    rev=rev*10+dig\r\n",
        "    n=n//10\r\n",
        "if(temp==rev):\r\n",
        "    print(\"The number is a palindrome!\")\r\n",
        "else:\r\n",
        "    print(\"The number isn't a palindrome!\")"
      ],
      "execution_count": null,
      "outputs": [
        {
          "output_type": "stream",
          "text": [
            "Enter number:443\n",
            "The number isn't a palindrome!\n"
          ],
          "name": "stdout"
        }
      ]
    },
    {
      "cell_type": "markdown",
      "metadata": {
        "id": "MTv4Tg4sJt30"
      },
      "source": [
        "##**Power of Two**\r\n",
        "Given an integer, write a function to determine if it is a power of two.\r\n"
      ]
    },
    {
      "cell_type": "code",
      "metadata": {
        "id": "0jOHH_Tzikul"
      },
      "source": [
        "class Solution:\r\n",
        "    def isPowerOfTwo(self, n: int) -> bool:\r\n",
        "        return n and not (n & (n - 1))"
      ],
      "execution_count": null,
      "outputs": []
    },
    {
      "cell_type": "code",
      "metadata": {
        "id": "D-eG8RhGJr0r",
        "colab": {
          "base_uri": "https://localhost:8080/"
        },
        "outputId": "68ce5b5b-17dd-4603-8323-3171ff532b06"
      },
      "source": [
        "class Solution(object):\r\n",
        "    def isPowerOfTwo(self, x):\r\n",
        "        \"\"\"\r\n",
        "        :type n: int\r\n",
        "        :rtype: bool\r\n",
        "        \"\"\"\r\n",
        "        if x <= 0:\r\n",
        "            return False\r\n",
        "        else:\r\n",
        "            return x & (x - 1) == 0\r\n",
        "print(isPowerOfTwo(31))"
      ],
      "execution_count": null,
      "outputs": [
        {
          "output_type": "stream",
          "text": [
            "False\n"
          ],
          "name": "stdout"
        }
      ]
    },
    {
      "cell_type": "code",
      "metadata": {
        "colab": {
          "base_uri": "https://localhost:8080/"
        },
        "id": "ufCFRH2zUg5D",
        "outputId": "84ca8e25-30e2-4f37-b775-2c4537a97ead"
      },
      "source": [
        "def isPowerOfTwo(n):\r\n",
        "    if (x == 0):\r\n",
        "        return False\r\n",
        "    while (x != 1):\r\n",
        "            if (n % 2 != 0):\r\n",
        "                return False\r\n",
        "            x = x // 2 \r\n",
        "    return True\r\n",
        "print(isPowerOfTwo(31))"
      ],
      "execution_count": null,
      "outputs": [
        {
          "output_type": "stream",
          "text": [
            "False\n"
          ],
          "name": "stdout"
        }
      ]
    },
    {
      "cell_type": "code",
      "metadata": {
        "id": "b3OXUTtzibyu"
      },
      "source": [
        "def isPowerOfTwo(n):\r\n",
        "    if (n == 0):\r\n",
        "        return False\r\n",
        "    while (n != 1):\r\n",
        "            if (n % 2 != 0):\r\n",
        "                return False\r\n",
        "            n = n // 2\r\n",
        "             \r\n",
        "    return True"
      ],
      "execution_count": null,
      "outputs": []
    },
    {
      "cell_type": "markdown",
      "metadata": {
        "id": "AH7okSrLN77y"
      },
      "source": [
        "##**Power of Four**\r\n"
      ]
    },
    {
      "cell_type": "code",
      "metadata": {
        "colab": {
          "base_uri": "https://localhost:8080/"
        },
        "id": "j4wCGOB2OF0-",
        "outputId": "dfeeca14-ad74-4bb0-9678-7bf68ca22b7d"
      },
      "source": [
        "# Function1 to check if x is power of 4\r\n",
        "def is_Power_of_four(n):\r\n",
        "    while n and not (n & 0b11):\r\n",
        "        n >>= 2\r\n",
        "    return (n == 1)\r\n",
        "print(is_Power_of_four(4))\r\n",
        "print(is_Power_of_four(16))\r\n",
        "print(is_Power_of_four(255))"
      ],
      "execution_count": null,
      "outputs": [
        {
          "output_type": "stream",
          "text": [
            "True\n",
            "True\n",
            "False\n"
          ],
          "name": "stdout"
        }
      ]
    },
    {
      "cell_type": "code",
      "metadata": {
        "colab": {
          "base_uri": "https://localhost:8080/"
        },
        "id": "uXO2ZNhDPEyI",
        "outputId": "209cf6c3-126b-491b-94ff-d70c68c99395"
      },
      "source": [
        "# Function2 to check if x is power of 4\r\n",
        "def is_Power_of_four(n):\r\n",
        "    if (n == 0):\r\n",
        "        return False\r\n",
        "    while (n != 1):\r\n",
        "            if (n % 4 != 0):\r\n",
        "                return False\r\n",
        "            n = n // 4  \r\n",
        "    return True\r\n",
        "print(is_Power_of_four(4))\r\n",
        "print(is_Power_of_four(16))\r\n",
        "print(is_Power_of_four(255))\r\n"
      ],
      "execution_count": null,
      "outputs": [
        {
          "output_type": "stream",
          "text": [
            "True\n",
            "True\n",
            "False\n"
          ],
          "name": "stdout"
        }
      ]
    },
    {
      "cell_type": "code",
      "metadata": {
        "colab": {
          "base_uri": "https://localhost:8080/"
        },
        "id": "hpyqW05aPgo6",
        "outputId": "a53633a4-c435-4757-f990-6fe366bb918e"
      },
      "source": [
        "# Function3 to check if x is power of 4\r\n",
        "def is_Power_of_four(n):  \r\n",
        "    count = 0  \r\n",
        "    if (n and (not(n & (n - 1)))):    \r\n",
        "        while(n > 1):\r\n",
        "            n >>= 1\r\n",
        "            count += 1 \r\n",
        "        if(count % 2 == 0):\r\n",
        "            return True\r\n",
        "        else:\r\n",
        "            return False\r\n",
        "print(is_Power_of_four(4))\r\n",
        "print(is_Power_of_four(16))\r\n",
        "print(is_Power_of_four(255))\r\n",
        " "
      ],
      "execution_count": null,
      "outputs": [
        {
          "output_type": "stream",
          "text": [
            "True\n",
            "True\n",
            "None\n"
          ],
          "name": "stdout"
        }
      ]
    },
    {
      "cell_type": "markdown",
      "metadata": {
        "id": "RkFaAOc0g68q"
      },
      "source": [
        "## **Power of Four**\r\n",
        "Given an integer (signed 32 bits), write a function to check whether it is a power of 4."
      ]
    },
    {
      "cell_type": "code",
      "metadata": {
        "id": "kaD5I_jXhAWI"
      },
      "source": [
        "class Solution:\r\n",
        "    def isPowerOfFour(self, num: int) -> bool:\r\n",
        "        return num > 0 and num & (num - 1) == 0 and num % 3 == 1"
      ],
      "execution_count": null,
      "outputs": []
    },
    {
      "cell_type": "markdown",
      "metadata": {
        "id": "eeUOLGZkTLh4"
      },
      "source": [
        "##**Sum of Digits in a Number**"
      ]
    },
    {
      "cell_type": "code",
      "metadata": {
        "colab": {
          "base_uri": "https://localhost:8080/"
        },
        "id": "98GKQUxmTJW3",
        "outputId": "99db411b-9b75-4595-832f-afc014368718"
      },
      "source": [
        "n=int(input(\"Enter a number:\"))\r\n",
        "tot=0\r\n",
        "while(n>0):\r\n",
        "    dig=n%10\r\n",
        "    tot=tot+dig\r\n",
        "    n=n//10\r\n",
        "print(\"The total sum of digits is:\",tot)"
      ],
      "execution_count": null,
      "outputs": [
        {
          "output_type": "stream",
          "text": [
            "Enter a number:45\n",
            "The total sum of digits is: 9\n"
          ],
          "name": "stdout"
        }
      ]
    },
    {
      "cell_type": "markdown",
      "metadata": {
        "id": "38-IHf79hOzz"
      },
      "source": [
        "##**Remove all the vowels from a string:**"
      ]
    },
    {
      "cell_type": "code",
      "metadata": {
        "id": "kyle3KhwT09e",
        "colab": {
          "base_uri": "https://localhost:8080/"
        },
        "outputId": "96494494-117e-4225-a304-b62aaa45610f"
      },
      "source": [
        "def remove_vowels(s):\r\n",
        "    vowels = \"aeiouAEIOU\"\r\n",
        "    s_without_vowels = \"\"\r\n",
        "    for x in s:\r\n",
        "        if x not in vowels:\r\n",
        "            s_without_vowels += x\r\n",
        "    return s_without_vowels\r\n",
        "print(remove_vowels(\"compsci\"))\r\n"
      ],
      "execution_count": null,
      "outputs": [
        {
          "output_type": "stream",
          "text": [
            "cmpsc\n"
          ],
          "name": "stdout"
        }
      ]
    },
    {
      "cell_type": "markdown",
      "metadata": {
        "id": "XZnx6Mdeh9Av"
      },
      "source": [
        "##**Find and return the index of ch in strng.Return -1 if ch does not occur in strng.**"
      ]
    },
    {
      "cell_type": "code",
      "metadata": {
        "colab": {
          "base_uri": "https://localhost:8080/"
        },
        "id": "bR1Nzo4pizvy",
        "outputId": "bdf73180-51dd-4312-adba-45c2798759c4"
      },
      "source": [
        "def find(strng, ch):\r\n",
        "    \"\"\"\r\n",
        "    Find and return the index of ch in strng.\r\n",
        "    Return -1 if ch does not occur in strng.\r\n",
        "    \"\"\"\r\n",
        "    ix = 0\r\n",
        "    while ix < len(strng):\r\n",
        "        if strng[ix] == ch:\r\n",
        "            return ix\r\n",
        "        ix += 1\r\n",
        "    return -1\r\n",
        "print(find(\"computer\", \"o\"))\r\n",
        "print(find(\"computer\", \"x\"))"
      ],
      "execution_count": null,
      "outputs": [
        {
          "output_type": "stream",
          "text": [
            "1\n",
            "-1\n"
          ],
          "name": "stdout"
        }
      ]
    },
    {
      "cell_type": "markdown",
      "metadata": {
        "id": "vf_hZtlRmDHE"
      },
      "source": [
        "##**Getting the largest even sum of an array with k element**s"
      ]
    },
    {
      "cell_type": "code",
      "metadata": {
        "colab": {
          "base_uri": "https://localhost:8080/"
        },
        "id": "vABRYyL2mK84",
        "outputId": "30eea04b-73b1-4de6-f8a6-5bf0a3656900"
      },
      "source": [
        "def FindMaximalEvenArray(a, k):\r\n",
        "    a = sorted(a)\r\n",
        "    chosen = a[len(a)-k:]\r\n",
        "    not_chosen = a[0:len(a)-k]\r\n",
        "    \r\n",
        "    if sum(chosen) % 2 == 0:\r\n",
        "        return sum(chosen)\r\n",
        "\r\n",
        "    smallest_chosen_even = max((x for x in chosen if x % 2 == 0), None)\r\n",
        "    biggest_not_chosen_odd = max((x for x in not_chosen[::-1] if x % 2 != 0), None)    \r\n",
        "    candidiate1 = smallest_chosen_even - biggest_not_chosen_odd  if smallest_chosen_even and biggest_not_chosen_odd else float(\"inf\")\r\n",
        "\r\n",
        "    smallest_chosen_odd = max((x for x in chosen if x % 2 != 0), None)\r\n",
        "    biggest_not_chosen_even = max((x for x in not_chosen[::-1] if x % 2 == 0), None)\r\n",
        "    candidiate2 = smallest_chosen_odd - biggest_not_chosen_even  if smallest_chosen_odd and biggest_not_chosen_even else float(\"inf\")\r\n",
        "\r\n",
        "    if candidiate1 == float(\"inf\") and candidiate2 == float(\"inf\"):\r\n",
        "        return -1\r\n",
        "    return sum(chosen) - min(candidiate1, candidiate2)\r\n",
        "\r\n",
        "a = [4,2,6,7,8]\r\n",
        "K = 3\r\n",
        "print(FindMaximalEvenArray(a, K))"
      ],
      "execution_count": null,
      "outputs": [
        {
          "output_type": "stream",
          "text": [
            "None\n"
          ],
          "name": "stdout"
        }
      ]
    },
    {
      "cell_type": "code",
      "metadata": {
        "colab": {
          "base_uri": "https://localhost:8080/"
        },
        "id": "oHN1rInGrTM0",
        "outputId": "076df6bb-c053-496e-94a0-366a133f81bb"
      },
      "source": [
        "def evenSumK(arr, N, K):\r\n",
        "    if (K > N):\r\n",
        "        return -1\r\n",
        "    maxSum = 0\r\n",
        "    Even = []\r\n",
        "    Odd = []\r\n",
        "    for i in range(N):\r\n",
        "        if (arr[i] % 2):\r\n",
        "            Odd.append(arr[i])\r\n",
        "        else:\r\n",
        "            Even.append(arr[i])\r\n",
        "    Odd.sort(reverse = False)\r\n",
        "    Even.sort(reverse = False)\r\n",
        "    i = len(Even) - 1\r\n",
        "    j = len(Odd) - 1\r\n",
        "    while (K > 0):\r\n",
        "        if (K % 2 == 1):\r\n",
        "            if (i >= 0):\r\n",
        "                maxSum += Even[i]\r\n",
        "                i -= 1\r\n",
        "            else:\r\n",
        "                return -1\r\n",
        "            K -= 1\r\n",
        "        elif (i >= 1 and j >= 1):\r\n",
        "            if (Even[i] + Even[i - 1] <=\r\n",
        "                 Odd[j] + Odd[j - 1]):\r\n",
        "                maxSum += Odd[j] + Odd[j - 1]\r\n",
        "                j -= 2 \r\n",
        "            else:\r\n",
        "                maxSum += Even[i] + Even[i - 1]\r\n",
        "                i -= 2\r\n",
        "            K -= 2\r\n",
        "        elif (i >= 1):\r\n",
        "            maxSum += Even[i] + Even[i - 1]\r\n",
        "            i -= 2\r\n",
        "            K -= 2\r\n",
        "        elif (j >= 2):\r\n",
        "            maxSum += Odd[j] + Odd[j - 1]\r\n",
        "            j -= 2\r\n",
        "            K -= 2            \r\n",
        "    return maxSum\r\n",
        "arr = [4,2,6,7,8]\r\n",
        "N = len(arr)\r\n",
        "K = 3\r\n",
        "print(evenSumK(arr, N, K))"
      ],
      "execution_count": null,
      "outputs": [
        {
          "output_type": "stream",
          "text": [
            "18\n"
          ],
          "name": "stdout"
        }
      ]
    },
    {
      "cell_type": "markdown",
      "metadata": {
        "id": "8acTC3F3u_01"
      },
      "source": [
        "##**Maximum slice problem**"
      ]
    },
    {
      "cell_type": "code",
      "metadata": {
        "id": "fuue5cjgvWMg"
      },
      "source": [
        "#Brute Force Solution\r\n",
        "def slow_max_slice(A):\r\n",
        "    n = len(A)\r\n",
        "    result = 0\r\n",
        "    for p in xrange(n):\r\n",
        "        for q in xrange(p, n):\r\n",
        "            sum = 0\r\n",
        "        for i in xrange(p, q + 1):\r\n",
        "            sum += A[i]\r\n",
        "            result = max(result, sum)\r\n",
        "    return result"
      ],
      "execution_count": null,
      "outputs": []
    },
    {
      "cell_type": "code",
      "metadata": {
        "id": "heIXzEf2vtng"
      },
      "source": [
        "def quadratic_max_slice(A, pref):\r\n",
        "    n = len(A)\r\n",
        "    result = 0\r\n",
        "    for p in xrange(n):\r\n",
        "        for q in xrange(p, n):\r\n",
        "            sum = pref[q + 1] - pref[p]\r\n",
        "        result = max(result, sum)\r\n",
        "    return result"
      ],
      "execution_count": null,
      "outputs": []
    },
    {
      "cell_type": "code",
      "metadata": {
        "id": "mNlb35BRwYun"
      },
      "source": [
        "def quadratic_max_slice(A):\r\n",
        "    n = len(A)\r\n",
        "    result = 0\r\n",
        "    for p in xrange(n):\r\n",
        "        sum = 0\r\n",
        "        for q in xrange(p, n):\r\n",
        "            sum += A[q]\r\n",
        "        result = max(result, sum)\r\n",
        "    return result"
      ],
      "execution_count": null,
      "outputs": []
    },
    {
      "cell_type": "code",
      "metadata": {
        "id": "IY3dlRJ1wkaw"
      },
      "source": [
        "def golden_max_slice(A):\r\n",
        "    max_ending = max_slice = 0\r\n",
        "    for a in A:\r\n",
        "        max_ending = max(0, max_ending + a)\r\n",
        "        max_slice = max(max_slice, max_ending)\r\n",
        "    return max_slice"
      ],
      "execution_count": null,
      "outputs": []
    },
    {
      "cell_type": "code",
      "metadata": {
        "id": "0keODmzKAO7s"
      },
      "source": [
        "# you can write to stdout for debugging purposes, e.g.\r\n",
        "# print(\"this is a debug message\")\r\n",
        "\r\n",
        "def solution(A):\r\n",
        "    # write your code in Python 3.6\r\n",
        "    pass\r\n",
        "    max_A = max(A)\r\n",
        "    max_end = max_slice = 0\r\n",
        "    if len(A) > 1:\r\n",
        "        for a in A:\r\n",
        "            max_end = max(0, max_end + a)\r\n",
        "            max_slice = max(max_slice, max_end)\r\n",
        "    else:\r\n",
        "        max_slice = max_A\r\n",
        "    return max_slice"
      ],
      "execution_count": null,
      "outputs": []
    },
    {
      "cell_type": "markdown",
      "metadata": {
        "id": "CDBDQer6Eg_p"
      },
      "source": [
        "##**Find the Missing Element**\r\n",
        "An array A consisting of N different integers is given. The array contains integers in the range [1..(N + 1)], "
      ]
    },
    {
      "cell_type": "code",
      "metadata": {
        "id": "HiAjbQQWEvB1"
      },
      "source": [
        "# you can write to stdout for debugging purposes, e.g.\r\n",
        "# print(\"this is a debug message\")\r\n",
        "\r\n",
        "def solution(A):\r\n",
        "    # write your code in Python 3.6\r\n",
        "    pass\r\n",
        "    n = len(A)\r\n",
        "    xor_sum = 0\r\n",
        "    for i in range(0, n):\r\n",
        "        xor_sum = xor_sum ^ A[i] ^ (i + 1)\r\n",
        "    return xor_sum^(n + 1)"
      ],
      "execution_count": null,
      "outputs": []
    },
    {
      "cell_type": "code",
      "metadata": {
        "colab": {
          "base_uri": "https://localhost:8080/"
        },
        "id": "DpbcOXsZFOwe",
        "outputId": "f2e12b6d-d7b6-4aad-e1eb-fe3d12ba2975"
      },
      "source": [
        "# getMissingNo takes list as argument\r\n",
        "def solution(A):\r\n",
        "    n = len(A)\r\n",
        "    total = (n + 1)*(n + 2)/2\r\n",
        "    sum_of_A = sum(A)\r\n",
        "    return total - sum_of_A\r\n",
        "# Driver program to test the above function\r\n",
        "A = [1, 2, 4, 5, 6]\r\n",
        "miss = getMissingNo(A)\r\n",
        "print(miss)"
      ],
      "execution_count": null,
      "outputs": [
        {
          "output_type": "stream",
          "text": [
            "3.0\n"
          ],
          "name": "stdout"
        }
      ]
    },
    {
      "cell_type": "markdown",
      "metadata": {
        "id": "3VsQrih-eJw2"
      },
      "source": [
        "##**Return number of times a substring occurs in a string.**\r\n"
      ]
    },
    {
      "cell_type": "code",
      "metadata": {
        "colab": {
          "base_uri": "https://localhost:8080/"
        },
        "id": "MwyyUtGGeNG_",
        "outputId": "35f52d7c-1bb6-4984-8e7f-d558b830dfb1"
      },
      "source": [
        "raw_string = \"EATARSTENATREAGANERICKVALENTINAEATDORETHEASEBASTIANKRISROBERTAEATIVONNEEAT\"\r\n",
        "def get_num_substrings(raw_string, sub_string):\r\n",
        "    num_substrings = 0\r\n",
        "    subs_len = len(sub_string)\r\n",
        "    for i in range(0, len(raw_string) - subs_len + 1):\r\n",
        "        if sub_string == raw_string[i: i + subs_len]:\r\n",
        "            num_substrings += 1\r\n",
        "    return num_substrings\r\n",
        "\r\n",
        "print (get_num_substrings(raw_string, 'EAT'))"
      ],
      "execution_count": null,
      "outputs": [
        {
          "output_type": "stream",
          "text": [
            "4\n"
          ],
          "name": "stdout"
        }
      ]
    },
    {
      "cell_type": "markdown",
      "metadata": {
        "id": "oNJws7VkicJd"
      },
      "source": [
        "##**Determine if it is a palindrome**\r\n",
        "Given a string, determine if it is a palindrome, considering only alphanumeric characters and ignoring cases."
      ]
    },
    {
      "cell_type": "code",
      "metadata": {
        "id": "lsWDuq3buE9p"
      },
      "source": [
        "class Solution:\r\n",
        "    def isPalindrome(self, s: str) -> bool:\r\n",
        "        l, r = 0, len(s) - 1\r\n",
        "        while l < r:\r\n",
        "            while l < r and not s[l].isalnum():\r\n",
        "                l += 1\r\n",
        "            while l < r and not s[r].isalnum():\r\n",
        "                r -= 1\r\n",
        "            if l < r:\r\n",
        "                if s[l].lower() != s[r].lower():\r\n",
        "                    return False\r\n",
        "                l += 1\r\n",
        "                r -= 1\r\n",
        "        return True"
      ],
      "execution_count": null,
      "outputs": []
    },
    {
      "cell_type": "code",
      "metadata": {
        "colab": {
          "base_uri": "https://localhost:8080/"
        },
        "id": "s9ZoU588tZhC",
        "outputId": "70c42df2-cba4-4777-cc63-0c582c5e5b3a"
      },
      "source": [
        "string = input(str(\"Enter a string:\"))\r\n",
        "str2 = \"\"\r\n",
        "for i in string:\r\n",
        "    str2 = i + str2\r\n",
        "if (string == str2):\r\n",
        "    print(\"Yes\")\r\n",
        "else:\r\n",
        "    print(\"No\")"
      ],
      "execution_count": null,
      "outputs": [
        {
          "output_type": "stream",
          "text": [
            "Enter a string:anna\n",
            "Yes\n"
          ],
          "name": "stdout"
        }
      ]
    },
    {
      "cell_type": "code",
      "metadata": {
        "colab": {
          "base_uri": "https://localhost:8080/"
        },
        "id": "0uexnYJpfFLu",
        "outputId": "66942789-7a46-4575-ad70-c0160ba127ff"
      },
      "source": [
        "def is_palindrome(string):\r\n",
        "    return string == string[::-1]\r\n",
        "\r\n",
        "print (is_palindrome('ANNA'))\r\n",
        "print (is_palindrome('ANNAA'))"
      ],
      "execution_count": null,
      "outputs": [
        {
          "output_type": "stream",
          "text": [
            "True\n",
            "False\n"
          ],
          "name": "stdout"
        }
      ]
    },
    {
      "cell_type": "code",
      "metadata": {
        "id": "YO9_gkobigu6"
      },
      "source": [
        "class Solution(object):\r\n",
        "    def isPalindrome(self, s):\r\n",
        "        \"\"\"\r\n",
        "        :type s: str\r\n",
        "        :rtype: bool\r\n",
        "        \"\"\"\r\n",
        "        x = \"\"\r\n",
        "        diff = ord('a') - ord('A')\r\n",
        "        for i in s:\r\n",
        "            if ord(i)>=ord('a') and ord(i)<=ord('z') or ord(i)>=ord(\"0\") and ord(i)<=ord(\"9\"):\r\n",
        "                x+=i\r\n",
        "            elif ord(i)>=ord('A') and ord(i)<=ord('Z'):\r\n",
        "                i = chr(diff+ord(i))\r\n",
        "                x+=i\r\n",
        "        return x == x[::-1]"
      ],
      "execution_count": null,
      "outputs": []
    },
    {
      "cell_type": "code",
      "metadata": {
        "id": "2GkEwAAgqkY6"
      },
      "source": [
        "class Solution(object):\r\n",
        "  def isPalindrome(str):\r\n",
        "      # Run loop from 0 to len/2 \r\n",
        "      for i in range(0, int(len(str)/2)): \r\n",
        "          if str[i] != str[len(str)-i-1]:\r\n",
        "              return False\r\n",
        "      return True"
      ],
      "execution_count": null,
      "outputs": []
    },
    {
      "cell_type": "code",
      "metadata": {
        "id": "uFWu6Av3q2ih"
      },
      "source": [
        "class Solution(object):\r\n",
        "    def isPalindrome(s):\r\n",
        "        rev = ''.join(reversed(s))\r\n",
        "        if (s == rev):\r\n",
        "            return True\r\n",
        "        return False"
      ],
      "execution_count": null,
      "outputs": []
    },
    {
      "cell_type": "markdown",
      "metadata": {
        "id": "nmwnowJLkuAy"
      },
      "source": [
        "## **Remove Duplicates from Sorted List**"
      ]
    },
    {
      "cell_type": "code",
      "metadata": {
        "id": "UL-1Wf3WkwFi"
      },
      "source": [
        "# Definition for singly-linked list.\r\n",
        "class ListNode(object):\r\n",
        "    def __init__(self, val=0, next=None):\r\n",
        "        self.val = val\r\n",
        "        self.next = next\r\n",
        "class Solution(object):\r\n",
        "    def deleteDuplicates(self, head):\r\n",
        "        \"\"\"\r\n",
        "        :type head: ListNode\r\n",
        "        :rtype: ListNode\r\n",
        "        \"\"\"            \r\n",
        "        if not head:\r\n",
        "            return head\r\n",
        "        if head.next:\r\n",
        "            if head.val == head.next.val:\r\n",
        "                head = self.deleteDuplicates(head.next)\r\n",
        "            else:\r\n",
        "                head.next = self.deleteDuplicates(head.next)\r\n",
        "        return head"
      ],
      "execution_count": null,
      "outputs": []
    },
    {
      "cell_type": "markdown",
      "metadata": {
        "id": "ef9Rb2N5liXP"
      },
      "source": [
        "##**Given two arrays, write a function to compute their intersection.**"
      ]
    },
    {
      "cell_type": "code",
      "metadata": {
        "id": "XskiSU3ilktJ"
      },
      "source": [
        "class Solution(object):\r\n",
        "    def intersection(self, nums1, nums2):\r\n",
        "        \"\"\"\r\n",
        "        :type nums1: List[int]\r\n",
        "        :type nums2: List[int]\r\n",
        "        :rtype: List[int]\r\n",
        "        \"\"\"\r\n",
        "        nums1 = set(nums1)\r\n",
        "        nums2 = set(nums2)\r\n",
        "        nums = nums1 & nums2\r\n",
        "        return nums"
      ],
      "execution_count": null,
      "outputs": []
    },
    {
      "cell_type": "markdown",
      "metadata": {
        "id": "P-MmmIpTmj4S"
      },
      "source": [
        "##**Determine whether an integer is a palindrome.**\r\n",
        "Determine whether an integer is a palindrome. An integer is a palindrome when it reads the same backward as forward.Follow up: Could you solve it without converting the integer to a string?\r\n",
        "\r\n",
        "Example 1:\r\n",
        "Input: x = 121\r\n",
        "Output: true"
      ]
    },
    {
      "cell_type": "code",
      "metadata": {
        "id": "BqHsU8Thmt8j"
      },
      "source": [
        "class Solution(object):\r\n",
        "    def isPalindrome(self, x):\r\n",
        "        \"\"\"\r\n",
        "        :type x: int\r\n",
        "        :rtype: bool\r\n",
        "        \"\"\"\r\n",
        "        if x < 0:\r\n",
        "            return False  \r\n",
        "        revertedNumber = 0\r\n",
        "        while x > revertedNumber:\r\n",
        "            revertedNumber = revertedNumber*10 + x%10\r\n",
        "            x/=10\r\n",
        "        return x"
      ],
      "execution_count": null,
      "outputs": []
    },
    {
      "cell_type": "code",
      "metadata": {
        "colab": {
          "base_uri": "https://localhost:8080/"
        },
        "id": "BuQhfNbSm_Da",
        "outputId": "2b418d49-f0f2-4894-c970-94b93ff86e95"
      },
      "source": [
        "class Solution(object):\r\n",
        "   def isPalindrome(self, x):\r\n",
        "      \"\"\"\r\n",
        "      :type x: int\r\n",
        "      :rtype: bool\r\n",
        "      \"\"\"\r\n",
        "      val = str(x)\r\n",
        "      return val == val[::-1]\r\n",
        "ob1 = Solution()\r\n",
        "print(ob1.isPalindrome(424))\r\n",
        "print(ob1.isPalindrome(-565))"
      ],
      "execution_count": null,
      "outputs": [
        {
          "output_type": "stream",
          "text": [
            "True\n",
            "False\n"
          ],
          "name": "stdout"
        }
      ]
    },
    {
      "cell_type": "markdown",
      "metadata": {
        "id": "y7jteGQkoTgx"
      },
      "source": [
        "##**Remove an element from a linked list**"
      ]
    },
    {
      "cell_type": "code",
      "metadata": {
        "id": "myOIgYsfohzB"
      },
      "source": [
        "class ListNode(object):\r\n",
        "    def __init__(self, x):\r\n",
        "        self.val = x\r\n",
        "        self.next = None\r\n",
        "class Solution(object):\r\n",
        "    def removeElements(self, head, val):\r\n",
        "        dummy = ListNode(float(\"-inf\"))\r\n",
        "        dummy.next = head\r\n",
        "        prev, curr = dummy, dummy.next\r\n",
        "        while curr:\r\n",
        "            if curr.val == val:\r\n",
        "                prev.next = curr.next\r\n",
        "            else:\r\n",
        "                prev = curr\r\n",
        "            curr = curr.next\r\n",
        "        return dummy.next"
      ],
      "execution_count": null,
      "outputs": []
    },
    {
      "cell_type": "markdown",
      "metadata": {
        "id": "6PlTqXMQo9kS"
      },
      "source": [
        "##**Remove Element in Array**\r\n",
        "**Given an array nums and a value val, remove all instances of that value in-place and return the new length.**"
      ]
    },
    {
      "cell_type": "code",
      "metadata": {
        "id": "Er7lpyWXpGgx"
      },
      "source": [
        "class Solution(object):\r\n",
        "    def removeElement(self, nums, val):\r\n",
        "        \"\"\"\r\n",
        "        :type nums: List[int]\r\n",
        "        :type val: int\r\n",
        "        :rtype: int\r\n",
        "        \"\"\"\r\n",
        "        for i in nums[:]:\r\n",
        "            if i == val:\r\n",
        "                nums.remove(val)\r\n",
        "                i += 1\r\n",
        "        return len(nums)"
      ],
      "execution_count": null,
      "outputs": []
    },
    {
      "cell_type": "markdown",
      "metadata": {
        "id": "HHlj9hQjiyHl"
      },
      "source": [
        "## **Delete Node in a Linked List**\r\n",
        "Write a function to delete a node (except the tail) in a singly linked list, given only access to that node."
      ]
    },
    {
      "cell_type": "code",
      "metadata": {
        "id": "KuS-ut2Ti363"
      },
      "source": [
        "class Solution:\r\n",
        "    def deleteNode(self, node):\r\n",
        "        \"\"\" :type node: ListNode :rtype: void Do not return anything, modify node in-place instead. \"\"\"\r\n",
        "        node.val = node.next.val\r\n",
        "        node.next = node.next.next"
      ],
      "execution_count": null,
      "outputs": []
    },
    {
      "cell_type": "markdown",
      "metadata": {
        "id": "OSi1eAe2p3kB"
      },
      "source": [
        "##**Check Palindrome on LinkedList**\r\n",
        "**Suppose we have a linked list. We have to check whether the list elements are forming a palindrome or not**"
      ]
    },
    {
      "cell_type": "code",
      "metadata": {
        "colab": {
          "base_uri": "https://localhost:8080/"
        },
        "id": "uDJA5T61qD27",
        "outputId": "7a99b583-21d0-4654-e582-47d54583fc22"
      },
      "source": [
        "class ListNode:\r\n",
        "   def __init__(self, data, next = None):\r\n",
        "      self.data = data\r\n",
        "      self.next = next\r\n",
        "def make_list(elements):\r\n",
        "   head = ListNode(elements[0])\r\n",
        "   for element in elements[1:]:\r\n",
        "      ptr = head\r\n",
        "      while ptr.next:\r\n",
        "         ptr = ptr.next\r\n",
        "      ptr.next = ListNode(element)\r\n",
        "   return head\r\n",
        "class Solution(object):\r\n",
        "   def isPalindrome(self, head):\r\n",
        "      fast,slow = head,head\r\n",
        "      rev = None\r\n",
        "      flag = 1\r\n",
        "      if not head:\r\n",
        "         return True\r\n",
        "      while fast and fast.next:\r\n",
        "         if not fast.next.next:\r\n",
        "            flag = 0\r\n",
        "            break\r\n",
        "         fast = fast.next.next\r\n",
        "         temp = slow\r\n",
        "         slow = slow.next\r\n",
        "         temp.next = rev\r\n",
        "         rev = temp\r\n",
        "      #print(fast.val)\r\n",
        "      fast = slow.next\r\n",
        "      slow.next = rev\r\n",
        "      if flag:\r\n",
        "         slow = slow.next\r\n",
        "      while fast and slow:\r\n",
        "         if fast.data != slow.data:\r\n",
        "            return False\r\n",
        "         fast = fast.next\r\n",
        "         slow = slow.next\r\n",
        "      return True\r\n",
        "head = make_list([1,2,3,2,1])\r\n",
        "ob1 = Solution()\r\n",
        "print(ob1.isPalindrome(head))"
      ],
      "execution_count": null,
      "outputs": [
        {
          "output_type": "stream",
          "text": [
            "True\n"
          ],
          "name": "stdout"
        }
      ]
    },
    {
      "cell_type": "markdown",
      "metadata": {
        "id": "7pp9o3M1xqW9"
      },
      "source": [
        "## **Reverse the nodes of a linked list**\r\n",
        "Given a linked list, reverse the nodes of a linked list k at a time and return its modified list. k is a positive integer and is less than or equal to the length of the linked list. If the number of nodes is not a multiple of k then left-out nodes in the end should remain as it is.\""
      ]
    },
    {
      "cell_type": "code",
      "metadata": {
        "id": "d9AfhygsxX1A"
      },
      "source": [
        "def reverseKGroup(self, head, k):\r\n",
        "    dummy = jump = ListNode(0)\r\n",
        "    dummy.next = l = r = head\r\n",
        "    while True:\r\n",
        "        count = 0\r\n",
        "        while r and count < k:   # use r to locate the range\r\n",
        "            r = r.next\r\n",
        "            count += 1\r\n",
        "        if count == k:  # if size k satisfied, reverse the inner linked list\r\n",
        "            pre, cur = r, l\r\n",
        "            for _ in range(k):\r\n",
        "                cur.next, cur, pre = pre, cur.next, cur  # standard reversing\r\n",
        "            jump.next, jump, l = pre, l, r  # connect two k-groups\r\n",
        "        else:\r\n",
        "            return dummy.next"
      ],
      "execution_count": null,
      "outputs": []
    },
    {
      "cell_type": "markdown",
      "metadata": {
        "id": "VtZIfkmox_7c"
      },
      "source": [
        "##**Linked List Deep Copy**\r\n",
        "A linked list is given such that each node contains an additional random pointer which could point to any node in the list or null. Return a deep copy of the list."
      ]
    },
    {
      "cell_type": "code",
      "metadata": {
        "id": "KnZSwH0xx-jq"
      },
      "source": [
        "def copyRandomList(self, head):\r\n",
        "    # Insert each node's copy right after it, already copy .label\r\n",
        "    node = head\r\n",
        "    while node:\r\n",
        "        copy = RandomListNode(node.label)\r\n",
        "        copy.next = node.next\r\n",
        "        node.next = copy\r\n",
        "        node = copy.next\r\n",
        "    # Set each copy's .random\r\n",
        "    node = head\r\n",
        "    while node:\r\n",
        "        node.next.random = node.random and node.random.next\r\n",
        "        node = node.next.next\r\n",
        "    # Separate the copied list from the original, (re)setting every .next\r\n",
        "    node = head\r\n",
        "    copy = head_copy = head and head.next\r\n",
        "    while node:\r\n",
        "        node.next = node = copy.next\r\n",
        "        copy.next = copy = node and node.next\r\n",
        "    return head_copy"
      ],
      "execution_count": null,
      "outputs": []
    },
    {
      "cell_type": "markdown",
      "metadata": {
        "id": "Y9_SM8wRyLq5"
      },
      "source": [
        "##**Merge all the linked-lists**\r\n",
        "\"You are given an array of k linked-lists lists, each linked-list is sorted in ascending order. Merge all the linked-lists into one sorted linked-list and return it.\""
      ]
    },
    {
      "cell_type": "code",
      "metadata": {
        "id": "h3q4cyMzyfql"
      },
      "source": [
        "def mergeKLists(self, lists): \r\n",
        "        if lists is None:\r\n",
        "            return []\r\n",
        "        array = []\r\n",
        "        for n in lists:\r\n",
        "            while n != None:\r\n",
        "                array.append(n.val)\r\n",
        "                n = n.next\r\n",
        "        if array is None:\r\n",
        "            return []\r\n",
        "        array.sort()\r\n",
        "        listed = ListNode(0)\r\n",
        "        res = listed\r\n",
        "        for n in array:\r\n",
        "            new = ListNode(n)\r\n",
        "            while res.next!=None:\r\n",
        "                res = res.next\r\n",
        "            res.next = new\r\n",
        "            new = res.next  \r\n",
        "        return listed.next"
      ],
      "execution_count": null,
      "outputs": []
    },
    {
      "cell_type": "code",
      "metadata": {
        "id": "jEM8GSFA-Xci"
      },
      "source": [
        "class Solution:\r\n",
        "    def mergeKLists(self, lists):\r\n",
        "        min_heap, i = [], 0\r\n",
        "        for head in lists:\r\n",
        "            if head != None:\r\n",
        "                min_heap.append( (head.val, i, head) )\r\n",
        "                i += 1\r\n",
        "        result=ListNode()\r\n",
        "        temp=result\r\n",
        "        heapq.heapify(min_heap)\r\n",
        "        while min_heap:\r\n",
        "            node_val, count, head=heapq.heappop(min_heap)\r\n",
        "            if head.next != None:\r\n",
        "                heapq.heappush(min_heap, (head.next.val, count, head.next))\r\n",
        "            result.next=head\r\n",
        "            result=result.next\r\n",
        "        result.next=None\r\n",
        "        return temp.next"
      ],
      "execution_count": null,
      "outputs": []
    },
    {
      "cell_type": "code",
      "metadata": {
        "id": "cCxXj_dS-5tN"
      },
      "source": [
        "class Solution:\r\n",
        "    def mergeKLists(self, lists):\r\n",
        "        # base cases\r\n",
        "        if len(lists) == 0:\r\n",
        "            return\r\n",
        "        if len(lists) == 1:\r\n",
        "            return lists[0]\r\n",
        "        l = []\r\n",
        "        # basically loop all linked lists and add the values to a new list l\r\n",
        "        for i in range(len(lists)):\r\n",
        "            if lists[i] == None:\r\n",
        "                continue\r\n",
        "            while lists[i]:\r\n",
        "                l.append(lists[i].val)\r\n",
        "                lists[i] = lists[i].next\r\n",
        "        if len(l) == 0:\r\n",
        "            return\r\n",
        "        # Sort the list\r\n",
        "        l.sort()\r\n",
        "        # Create a linked list with values from smallest to biggest from within the sorted list\r\n",
        "        Node = ListNode()\r\n",
        "        tmp = ListNode(l[0])\r\n",
        "        Node.next = tmp\r\n",
        "        for i in range(1, len(l)):\r\n",
        "            tmp.next  = ListNode(l[i])\r\n",
        "            tmp = tmp.next\r\n",
        "        return Node.next"
      ],
      "execution_count": null,
      "outputs": []
    },
    {
      "cell_type": "code",
      "metadata": {
        "id": "2oA7bSwa_Q_b"
      },
      "source": [
        "class Solution:\r\n",
        "    def mergeKLists(self, lists):\r\n",
        "        if not lists:\r\n",
        "            return None\r\n",
        "        ans = []\r\n",
        "        for node in lists:\r\n",
        "            curr = node\r\n",
        "            while curr:\r\n",
        "                ans.append(curr.val)\r\n",
        "                curr = curr.next\r\n",
        "        ans = sorted(ans)\r\n",
        "        current = dummy = ListNode(0)\r\n",
        "        for value in ans:\r\n",
        "            current.next = ListNode(value)\r\n",
        "            current = current.next\r\n",
        "        return dummy.next"
      ],
      "execution_count": null,
      "outputs": []
    },
    {
      "cell_type": "markdown",
      "metadata": {
        "id": "0mQbuxAw_psH"
      },
      "source": [
        "## **Swap every two adjacent nodes**\r\n",
        "Given a linked list, swap every two adjacent nodes and return its head. You may not modify the values in the list's nodes, only nodes itself may be changed.**"
      ]
    },
    {
      "cell_type": "code",
      "metadata": {
        "id": "dw-ClKHtAYwN"
      },
      "source": [
        "def swapPairs(self, head):\r\n",
        "    pre, pre.next = self, head\r\n",
        "    while pre.next and pre.next.next:\r\n",
        "        a = pre.next\r\n",
        "        b = a.next\r\n",
        "        pre.next, b.next, a.next = b, a, b.next\r\n",
        "        pre = a\r\n",
        "    return self.next"
      ],
      "execution_count": null,
      "outputs": []
    },
    {
      "cell_type": "code",
      "metadata": {
        "id": "nFm3_GQMAjrr"
      },
      "source": [
        "class Solution:\r\n",
        "    def swapPairs(self, head):\r\n",
        "        dummy = pre = ListNode(0)\r\n",
        "        pre.next = head\r\n",
        "        while pre.next and pre.next.next:\r\n",
        "            a = pre.next\r\n",
        "            b = a.next\r\n",
        "            pre.next, a.next, b.next = b, b.next, a\r\n",
        "            pre = a\r\n",
        "        return dummy.next"
      ],
      "execution_count": null,
      "outputs": []
    },
    {
      "cell_type": "markdown",
      "metadata": {
        "id": "tJP0kPABAt_D"
      },
      "source": [
        "##**Sort Linked List**\r\n",
        "Given the head of a linked list, return the list after sorting it in ascending order. Follow up: Can you sort the linked list in O(n logn) time and O(1) memory (i.e. constant space)?"
      ]
    },
    {
      "cell_type": "code",
      "metadata": {
        "id": "-d3QOdcDBSoJ"
      },
      "source": [
        "def sortList(self, head):\r\n",
        "        if not head:return None\r\n",
        "        nums=[]\r\n",
        "        while head:\r\n",
        "            nums.append(head.val)\r\n",
        "            head=head.next\r\n",
        "        nums.sort()\r\n",
        "        dummy=ListNode('dummy')\r\n",
        "        ptr=ListNode(nums[0])\r\n",
        "        dummy.next=ptr     \r\n",
        "        for i in nums[1:]:\r\n",
        "            new=ListNode(i)\r\n",
        "            ptr.next=new\r\n",
        "            ptr=ptr.next\r\n",
        "        return dummy.next"
      ],
      "execution_count": null,
      "outputs": []
    },
    {
      "cell_type": "code",
      "metadata": {
        "id": "cTLDRPH4BCNv"
      },
      "source": [
        "class Solution:\r\n",
        "    def sortList(self, head):\r\n",
        "        def merge_sort(head):\r\n",
        "            if head.next:\r\n",
        "                slow,fast=head,head.next\r\n",
        "                while fast.next and fast.next.next:    \r\n",
        "                    slow = slow.next\r\n",
        "                    fast = fast.next.next\r\n",
        "                right = slow.next\r\n",
        "                left = head\r\n",
        "                slow.next =None\r\n",
        "                return merge(merge_sort(left),merge_sort(right))\r\n",
        "            else:\r\n",
        "                return head\r\n",
        "        def merge(left,right):\r\n",
        "            pre = medium = ListNode(0)\r\n",
        "            while left and right:\r\n",
        "                if left.val <= right.val:\r\n",
        "                    medium.next,medium = left,left\r\n",
        "                    left = left.next\r\n",
        "                else:\r\n",
        "                    medium.next,medium = right,right\r\n",
        "                    right = right.next\r\n",
        "            if not left:\r\n",
        "                medium.next = right\r\n",
        "            if not right:\r\n",
        "                medium.next = left\r\n",
        "            return pre.next\r\n",
        "        if head:\r\n",
        "            return merge_sort(head)\r\n",
        "        else:\r\n",
        "            return None"
      ],
      "execution_count": null,
      "outputs": []
    },
    {
      "cell_type": "markdown",
      "metadata": {
        "id": "I_8sixllDDcq"
      },
      "source": [
        "##**Valid BST**\r\n",
        "Given a binary tree, determine if it is a valid binary search tree (BST)"
      ]
    },
    {
      "cell_type": "code",
      "metadata": {
        "id": "qisGOeNoDqG-"
      },
      "source": [
        "class Solution(object):\r\n",
        "    def isValidBST(self, root):\r\n",
        "        \"\"\"\r\n",
        "        :type root: TreeNode\r\n",
        "        :rtype: bool\r\n",
        "        \"\"\"\r\n",
        "        def visit(node, lb, ub):\r\n",
        "            if node:\r\n",
        "                if not visit(node.left, lb, node):\r\n",
        "                    return False\r\n",
        "                if lb and node.val <= lb.val:\r\n",
        "                    return False\r\n",
        "                if ub and node.val >= ub.val:\r\n",
        "                    return False\r\n",
        "                return visit(node.right, node, ub)\r\n",
        "            else:\r\n",
        "                return True\r\n",
        "        return visit(root, None, None)"
      ],
      "execution_count": null,
      "outputs": []
    },
    {
      "cell_type": "code",
      "metadata": {
        "id": "e0OWhIyuED8O"
      },
      "source": [
        "def isValidBST(self, root, lower=float(\"-inf\"), upper=float(\"inf\")):\r\n",
        "        \"\"\"\r\n",
        "        :type root: TreeNode\r\n",
        "        :rtype: bool\r\n",
        "        \"\"\"\r\n",
        "        # Base case: null node\r\n",
        "        if not root:\r\n",
        "            return True\r\n",
        "        # Base case: node value out of range\r\n",
        "        if root.val <= lower or root.val >= upper:\r\n",
        "            return False\r\n",
        "        # Recursive case: check left and right subtrees\r\n",
        "        return self.isValidBST(root.left,lower,root.val) and self.isValidBST(root.right,root.val,upper)"
      ],
      "execution_count": null,
      "outputs": []
    },
    {
      "cell_type": "markdown",
      "metadata": {
        "id": "Jbx5fCz_pwlv"
      },
      "source": [
        "## **Longest Common Subsequence**"
      ]
    },
    {
      "cell_type": "code",
      "metadata": {
        "id": "mMBe2vGYp02d"
      },
      "source": [
        "def lcs(X, Y, s, t): \r\n",
        "  \r\n",
        "    if s == 0 or t == 0: \r\n",
        "       return 0; \r\n",
        "    elif X[s-1] == Y[t-1]: \r\n",
        "       return 1 + lcs(X, Y, s-1, t-1); \r\n",
        "    else: \r\n",
        "       return max(lcs(X, Y, s, t-1), lcs(X, Y, s-1, t)); "
      ],
      "execution_count": null,
      "outputs": []
    },
    {
      "cell_type": "markdown",
      "metadata": {
        "id": "17Rh3odKr2MN"
      },
      "source": [
        "## **Remove Duplicates**"
      ]
    },
    {
      "cell_type": "code",
      "metadata": {
        "id": "OPIgYeQfr2jc"
      },
      "source": [
        "class Solution:\r\n",
        "    def removeDuplicates(self, nums)\r\n",
        "        i = 0\r\n",
        "        for n in nums:\r\n",
        "            if i < 2 or n != nums[i - 2]:\r\n",
        "                nums[i] = n\r\n",
        "                i += 1\r\n",
        "        return i"
      ],
      "execution_count": null,
      "outputs": []
    },
    {
      "cell_type": "markdown",
      "metadata": {
        "id": "2JaIXv8vdccl"
      },
      "source": [
        "## **Contains Duplicate III**\r\n",
        "Given an array of integers, find out whether there are two distinct indices i and j in the array such that the absolute difference between nums[i] and nums[j] is at most t and the absolute difference between i and j is at most k."
      ]
    },
    {
      "cell_type": "code",
      "metadata": {
        "id": "NaoF_bk8dnI6"
      },
      "source": [
        "class Solution:\r\n",
        "    def containsNearbyAlmostDuplicate(self, nums: List[int], k: int, t: int) -> bool:\r\n",
        "        if t == 0 and len(nums) == len(set(nums)):\r\n",
        "            return False\r\n",
        "        if k == 0 or t < 0:\r\n",
        "            return False\r\n",
        "        for i, num in enumerate(nums):\r\n",
        "            for j in range(i + 1, min(i + k + 1, len(nums))):\r\n",
        "                if abs(num - nums[j]) <= t:\r\n",
        "                    return True \r\n",
        "        return False"
      ],
      "execution_count": null,
      "outputs": []
    },
    {
      "cell_type": "code",
      "metadata": {
        "id": "K3oSSJ8-drY-"
      },
      "source": [
        "class Solution:\r\n",
        "    def containsNearbyAlmostDuplicate(self, nums: List[int], k: int, t: int) -> bool:\r\n",
        "        if t == 0 and len(nums) == len(set(nums)):\r\n",
        "            return False\r\n",
        "        if k == 0 or t < 0:\r\n",
        "            return False\r\n",
        "        bucket = {}\r\n",
        "        n = len(nums)\r\n",
        "        for i in range(n):\r\n",
        "            m = nums[i] // (t + 1)\r\n",
        "            if m in bucket:\r\n",
        "                return True\r\n",
        "            if m - 1 in bucket:\r\n",
        "                if abs(nums[i] - bucket[m - 1]) <= t:\r\n",
        "                    return True\r\n",
        "            if m + 1 in bucket:\r\n",
        "                if abs(nums[i] - bucket[m + 1]) <= t:\r\n",
        "                    return True\r\n",
        "            if i >= k:\r\n",
        "                del bucket[nums[i - k] // (t + 1)]\r\n",
        "            bucket[m] = nums[i]\r\n",
        "        return False"
      ],
      "execution_count": null,
      "outputs": []
    },
    {
      "cell_type": "markdown",
      "metadata": {
        "id": "exyq9L4Zsvm2"
      },
      "source": [
        "## **Validate Binary Search Tree**"
      ]
    },
    {
      "cell_type": "code",
      "metadata": {
        "id": "vdc0oGWhswq9"
      },
      "source": [
        "class Solution:\r\n",
        "    def isValidBST(self, root):\r\n",
        "        def check(root, l, r):\r\n",
        "            if root == None:\r\n",
        "                return True\r\n",
        "            val = root.val\r\n",
        "            if val <= l or val >= r:\r\n",
        "                return False\r\n",
        "            return check(root.left, l, val) and check(root.right, val, r)\r\n",
        "        return check(root, float('-inf'), float('inf'))"
      ],
      "execution_count": null,
      "outputs": []
    },
    {
      "cell_type": "markdown",
      "metadata": {
        "id": "7xKHpcc9dS_R"
      },
      "source": [
        "## **Maximal Square**\r\n",
        "Given a 2D binary matrix filled with 0’s and 1’s, find the largest square containing only 1’s and return its area "
      ]
    },
    {
      "cell_type": "code",
      "metadata": {
        "id": "n9cf8dhqeA9h"
      },
      "source": [
        "class Solution:\r\n",
        "    def maximalSquare(self, matrix: List[List[str]]) -> int:\r\n",
        "        m = len(matrix)\r\n",
        "        if m == 0:\r\n",
        "            return 0\r\n",
        "        n = len(matrix[0])\r\n",
        "        if n == 0:\r\n",
        "            return 0\r\n",
        "        res = 0\r\n",
        "        dp1 = [0] * (n + 1)\r\n",
        "        dp2 = [0] * (n + 1)\r\n",
        "        for i in range(1, m + 1):\r\n",
        "            for j in range(1, n + 1):\r\n",
        "                if matrix[i - 1][j - 1] == \"1\":\r\n",
        "                    dp2[j] = min(dp1[j - 1], dp1[j], dp2[j - 1]) + 1\r\n",
        "                    res = max(res, dp2[j])\r\n",
        "                else:\r\n",
        "                    dp2[j] = 0\r\n",
        "            dp1 = dp2[:]\r\n",
        "        return res * res"
      ],
      "execution_count": null,
      "outputs": []
    },
    {
      "cell_type": "markdown",
      "metadata": {
        "id": "S_O-eVPHg0ZS"
      },
      "source": [
        "## **Summary Ranges** \r\n",
        "You are given a sorted unique integer array nums.\r\n",
        "Return the smallest sorted list of ranges that cover all the numbers in the array exactly. That is, each element of nums is covered by exactly one of the ranges, and there is no integer x such that x is in one of the ranges but not in nums.Each range [a,b] in the list should be output as:\r\n",
        "\r\n",
        "“a->b” if a != b\r\n",
        "“a” if a == b"
      ]
    },
    {
      "cell_type": "code",
      "metadata": {
        "id": "Yo-2wfk_g7_F"
      },
      "source": [
        "class Solution:\r\n",
        "    def summaryRanges(self, nums: List[int]) -> List[str]:\r\n",
        "        l = len(nums)\r\n",
        "        if l == 0:\r\n",
        "            return []\r\n",
        "        nums.append(float('inf'))\r\n",
        "        res, start = [], 0\r\n",
        "        for i in range(l):\r\n",
        "            if nums[i + 1] != nums[i] + 1:\r\n",
        "                res.append(str(nums[i]) if i == start else \"%s->%s\" % (nums[start], nums[i]))\r\n",
        "                start = i + 1\r\n",
        "        return res"
      ],
      "execution_count": null,
      "outputs": []
    },
    {
      "cell_type": "markdown",
      "metadata": {
        "id": "bKjC7kQXjF0J"
      },
      "source": [
        "## **Product of Array Except Self**\r\n",
        "Given an array nums of n integers where n > 1, return an array output such that output[i] is equal to the product of all the elements of nums except nums[i]."
      ]
    },
    {
      "cell_type": "code",
      "metadata": {
        "id": "1v2tGayVjO9I"
      },
      "source": [
        "class Solution:\r\n",
        "    def productExceptSelf(self, nums: List[int]) -> List[int]:\r\n",
        "        l = len(nums)\r\n",
        "        res = [1] * l\r\n",
        "        # l -> r         for i in range(1, l):\r\n",
        "            res[i] = res[i - 1] * nums[i - 1]\r\n",
        "        # r -> l         productR = 1\r\n",
        "        for i in range(l-1, -1, -1):\r\n",
        "            res[i] *= productR\r\n",
        "            productR *= nums[i]\r\n",
        "        return res"
      ],
      "execution_count": null,
      "outputs": []
    },
    {
      "cell_type": "markdown",
      "metadata": {
        "id": "ngY97y-WjRoT"
      },
      "source": [
        "## **Sliding Window Maximum**\r\n",
        "You are given an array of integers nums, there is a sliding window of size k which is moving from the very left of the array to the very right. You can only see the k numbers in the window. Each time the sliding window moves right by one position.Return the max sliding window."
      ]
    },
    {
      "cell_type": "code",
      "metadata": {
        "id": "Ki-32TUYjcX1"
      },
      "source": [
        "from collections import deque\r\n",
        "class Solution:\r\n",
        "    def maxSlidingWindow(self, nums: List[int], k: int) -> List[int]:\r\n",
        "        n = len(nums)\r\n",
        "        res = []\r\n",
        "        q = deque()\r\n",
        "        for i in range(n):\r\n",
        "            while q and nums[q[-1]] < nums[i]:\r\n",
        "                q.pop()\r\n",
        "            q.append(i)\r\n",
        "            if q[0] == i - k:\r\n",
        "                q.popleft()\r\n",
        "            if i >= k - 1:\r\n",
        "                res.append(nums[q[0]])\r\n",
        "        return res"
      ],
      "execution_count": null,
      "outputs": []
    },
    {
      "cell_type": "markdown",
      "metadata": {
        "id": "YUur8JVPjh1o"
      },
      "source": [
        "## **Add Digits**\r\n",
        "Given a non-negative integer num, repeatedly add all its digits until the result has only one digit."
      ]
    },
    {
      "cell_type": "code",
      "metadata": {
        "id": "Zgc40AjsjnAz"
      },
      "source": [
        "class Solution:\r\n",
        "    def addDigits(self, num: int) -> int:\r\n",
        "        if num <= 9:\r\n",
        "            return num\r\n",
        "        tmp = 0\r\n",
        "        while num > 0:\r\n",
        "            tmp += num % 10\r\n",
        "            num //= 10\r\n",
        "        return self.addDigits(tmp)"
      ],
      "execution_count": null,
      "outputs": []
    },
    {
      "cell_type": "code",
      "metadata": {
        "id": "K5KLvti6jrmI"
      },
      "source": [
        "class Solution:\r\n",
        "    def addDigits(self, num: int) -> int:\r\n",
        "        return (num - 1) % 9 + 1 if num else 0"
      ],
      "execution_count": null,
      "outputs": []
    },
    {
      "cell_type": "markdown",
      "metadata": {
        "id": "-9ovs7FUnCvh"
      },
      "source": [
        "## **H-Index**\r\n",
        "Given an array of citations (each citation is a non-negative integer) of a researcher, write a function to compute the researcher’s h-index. According to the definition of h-index on Wikipedia: “A scientist has index h if h of his/her N papers have at least h citations each, and the other N − h papers have no more than h citations each.”"
      ]
    },
    {
      "cell_type": "code",
      "metadata": {
        "id": "_ZnzEF72nCS5"
      },
      "source": [
        "class Solution:\r\n",
        "    def hIndex(self, citations: List[int]) -> int:\r\n",
        "        n = len(citations)\r\n",
        "        paper = [0] * (n + 1)\r\n",
        "        for c in citations:\r\n",
        "            paper[min(n, c)] += 1\r\n",
        "        s, h = paper[-1], n\r\n",
        "        while h > s:\r\n",
        "            h -= 1\r\n",
        "            s += paper[h]\r\n",
        "        return h"
      ],
      "execution_count": null,
      "outputs": []
    },
    {
      "cell_type": "markdown",
      "metadata": {
        "id": "jRmOxQpenMNG"
      },
      "source": [
        "## **H-Index II**\r\n",
        "Given an array of citations sorted in ascending order (each citation is a non-negative integer) of a researcher, write a function to compute the researcher’s h-index.\r\n",
        "According to the definition of h-index on Wikipedia: “A scientist has index h if h of his/her N papers have at least h citations each, and the other N − h papers have no more than h citations each.”"
      ]
    },
    {
      "cell_type": "code",
      "metadata": {
        "id": "7KkWnpl3nWlT"
      },
      "source": [
        "class Solution:\r\n",
        "    def hIndex(self, citations: List[int]) -> int:\r\n",
        "        n = len(citations)\r\n",
        "        l, r = 0, n - 1\r\n",
        "        while l <= r:\r\n",
        "            mid = (l + r) // 2\r\n",
        "            if citations[mid] == n - mid:\r\n",
        "                return n - mid\r\n",
        "            if citations[mid] > n - mid:\r\n",
        "                r = mid - 1\r\n",
        "            else:\r\n",
        "                l = mid + 1\r\n",
        "        return n - l"
      ],
      "execution_count": null,
      "outputs": []
    },
    {
      "cell_type": "markdown",
      "metadata": {
        "id": "xWyE3F5znbXj"
      },
      "source": [
        "## **First Bad Version**\r\n",
        "You are a product manager and currently leading a team to develop a new product. Unfortunately, the latest version of your product fails the quality check. Since each version is developed based on the previous version, all the versions after a bad version are also bad.\r\n",
        "Suppose you have n versions [1, 2, …, n] and you want to find out the first bad one, which causes all the following ones to be bad.\r\n",
        "You are given an API bool isBadVersion(version) which will return whether version is bad. Implement a function to find the first bad version. You should minimize the number of calls to the API."
      ]
    },
    {
      "cell_type": "code",
      "metadata": {
        "id": "OcjzyCu4nhAz"
      },
      "source": [
        "class Solution:\r\n",
        "    def firstBadVersion(self, n):\r\n",
        "        \"\"\" :type n: int :rtype: int \"\"\"\r\n",
        "        l, r = 1, n\r\n",
        "        while l < r:\r\n",
        "            m = (l + r) // 2\r\n",
        "            if isBadVersion(m):\r\n",
        "                r = m\r\n",
        "            else:\r\n",
        "                l = m + 1\r\n",
        "        return l"
      ],
      "execution_count": null,
      "outputs": []
    },
    {
      "cell_type": "markdown",
      "metadata": {
        "id": "9zUfaeMKnmPZ"
      },
      "source": [
        "## **Perfect Squares**\r\n",
        "Given a positive integer n, find the least number of perfect square numbers (for example, 1, 4, 9, 16, …) which sum to n."
      ]
    },
    {
      "cell_type": "code",
      "metadata": {
        "id": "513Obn1intdF"
      },
      "source": [
        "class Solution:\r\n",
        "    def numSquares(self, n: int) -> int:\r\n",
        "        square_nums = [i**2 for i in range(1, int(math.sqrt(n)) + 1)]\r\n",
        "        dp = [float('inf')] * (n + 1)\r\n",
        "        dp[0] = 0\r\n",
        "        for i in range(1, n+1):\r\n",
        "            for square in square_nums:\r\n",
        "                if i < square:\r\n",
        "                    break\r\n",
        "                dp[i] = min(dp[i], dp[i - square] + 1)\r\n",
        "        return dp[-1]"
      ],
      "execution_count": null,
      "outputs": []
    },
    {
      "cell_type": "code",
      "metadata": {
        "id": "tHZzEXLSnuDb"
      },
      "source": [
        "class Solution:\r\n",
        "    def numSquares(self, n: int) -> int:\r\n",
        "        square_nums = [i**2 for i in range(1, int(math.sqrt(n)) + 1)]\r\n",
        "        level = 0\r\n",
        "        queue = {n}\r\n",
        "        while queue:\r\n",
        "            level += 1\r\n",
        "            tmp = set()\r\n",
        "            for num in queue:\r\n",
        "                for sq in square_nums:    \r\n",
        "                    if num == sq:\r\n",
        "                        return level\r\n",
        "                    elif num < sq:\r\n",
        "                        break\r\n",
        "                    else:\r\n",
        "                        tmp.add(num - sq)\r\n",
        "            queue = tmp"
      ],
      "execution_count": null,
      "outputs": []
    },
    {
      "cell_type": "code",
      "metadata": {
        "id": "KHgCFsS7nxx7"
      },
      "source": [
        "class Solution:\r\n",
        "    def numSquares(self, n: int) -> int:\r\n",
        "        def check(n):\r\n",
        "            return (math.sqrt(n) - int(math.sqrt(n)) < 0.00000001)\r\n",
        "            \r\n",
        "        if check(n):\r\n",
        "            return 1\r\n",
        "        while n % 4 == 0:\r\n",
        "            n /= 4\r\n",
        "        if (n - 7) % 8 == 0:\r\n",
        "            return 4\r\n",
        "        for i in range(int(math.sqrt(n))):\r\n",
        "            if check(n-(i+1)*(i+1)):\r\n",
        "                return 2\r\n",
        "        return 3"
      ],
      "execution_count": null,
      "outputs": []
    },
    {
      "cell_type": "markdown",
      "metadata": {
        "id": "AqyJo27ch_N4"
      },
      "source": [
        "## **Find the three elements that sum to zero from a set (array) of n real numbers.**"
      ]
    },
    {
      "cell_type": "code",
      "metadata": {
        "colab": {
          "base_uri": "https://localhost:8080/"
        },
        "id": "28rp0l1JiDTW",
        "outputId": "fc4dea41-7f81-45e1-e3e6-f28223bc4725"
      },
      "source": [
        "class py_solution:\r\n",
        " def threeSum(self, nums):\r\n",
        "        nums, result, i = sorted(nums), [], 0\r\n",
        "        while i < len(nums) - 2:\r\n",
        "            j, k = i + 1, len(nums) - 1\r\n",
        "            while j < k:\r\n",
        "                if nums[i] + nums[j] + nums[k] < 0:\r\n",
        "                    j += 1\r\n",
        "                elif nums[i] + nums[j] + nums[k] > 0:\r\n",
        "                    k -= 1\r\n",
        "                else:\r\n",
        "                    result.append([nums[i], nums[j], nums[k]])\r\n",
        "                    j, k = j + 1, k - 1\r\n",
        "                    while j < k and nums[j] == nums[j - 1]:\r\n",
        "                        j += 1\r\n",
        "                    while j < k and nums[k] == nums[k + 1]:\r\n",
        "                        k -= 1\r\n",
        "            i += 1\r\n",
        "            while i < len(nums) - 2 and nums[i] == nums[i - 1]:\r\n",
        "                i += 1\r\n",
        "        return result\r\n",
        "\r\n",
        "print(py_solution().threeSum([-25, -10, -7, -3, 2, 4, 8, 10]))"
      ],
      "execution_count": null,
      "outputs": [
        {
          "output_type": "stream",
          "text": [
            "[[-10, 2, 8], [-7, -3, 10]]\n"
          ],
          "name": "stdout"
        }
      ]
    },
    {
      "cell_type": "markdown",
      "metadata": {
        "id": "waF4Faskiqlv"
      },
      "source": [
        ""
      ]
    },
    {
      "cell_type": "markdown",
      "metadata": {
        "id": "6DoDBZgMiquR"
      },
      "source": [
        "## **Reverse a string word by word**"
      ]
    },
    {
      "cell_type": "code",
      "metadata": {
        "colab": {
          "base_uri": "https://localhost:8080/"
        },
        "id": "U_EUeY6pi5AG",
        "outputId": "44ba1f4d-0c92-4c0d-c6af-8e14d1b19f24"
      },
      "source": [
        "class py_solution:\r\n",
        "    def reverse_words(self, s):\r\n",
        "        return ' '.join(reversed(s.split()))\r\n",
        "print(py_solution().reverse_words('This is It'))"
      ],
      "execution_count": null,
      "outputs": [
        {
          "output_type": "stream",
          "text": [
            "It is This\n"
          ],
          "name": "stdout"
        }
      ]
    },
    {
      "cell_type": "markdown",
      "metadata": {
        "id": "9eD3lnPIjZih"
      },
      "source": [
        "## **Implement pow(x, n)**"
      ]
    },
    {
      "cell_type": "code",
      "metadata": {
        "colab": {
          "base_uri": "https://localhost:8080/"
        },
        "id": "LMgxIAmWjjq3",
        "outputId": "c5504e67-1481-40e1-db8a-fe07cdb1ff10"
      },
      "source": [
        "class py_solution:\r\n",
        "   def pow(self, x, n):\r\n",
        "        if x==0 or x==1 or n==1:\r\n",
        "            return x \r\n",
        "        if x==-1:\r\n",
        "            if n%2 ==0:\r\n",
        "                return 1\r\n",
        "            else:\r\n",
        "                return -1\r\n",
        "        if n==0:\r\n",
        "            return 1\r\n",
        "        if n<0:\r\n",
        "            return 1/self.pow(x,-n)\r\n",
        "        val = self.pow(x,n//2)\r\n",
        "        if n%2 ==0:\r\n",
        "            return val*val\r\n",
        "        return val*val*x\r\n",
        "print(py_solution().pow(2, -3));\r\n",
        "print(py_solution().pow(3, 5));\r\n",
        "print(py_solution().pow(100, 0));"
      ],
      "execution_count": null,
      "outputs": [
        {
          "output_type": "stream",
          "text": [
            "0.125\n",
            "243\n",
            "1\n"
          ],
          "name": "stdout"
        }
      ]
    },
    {
      "cell_type": "markdown",
      "metadata": {
        "id": "ZCRZf1XajN-J"
      },
      "source": [
        "## **Pair Sum to Target**\r\n",
        "Find a pair of elements (indices of the two numbers) from a given array whose sum equals a specific target number."
      ]
    },
    {
      "cell_type": "code",
      "metadata": {
        "colab": {
          "base_uri": "https://localhost:8080/"
        },
        "id": "3U-jWNKBk4YX",
        "outputId": "e0eac7d1-2f9b-40e1-fb59-88a71fea109f"
      },
      "source": [
        "class Solution:\r\n",
        "   def twoSum(self, nums, target):\r\n",
        "        lookup = {}\r\n",
        "        for i, num in enumerate(nums):\r\n",
        "            if target - num in lookup:\r\n",
        "                return (lookup[target - num], i )\r\n",
        "            lookup[num] = i\r\n",
        "print(\"index1=%d, index2=%d\" %  Solution().twoSum((10,20,10,40,50,60,70),50))"
      ],
      "execution_count": null,
      "outputs": [
        {
          "output_type": "stream",
          "text": [
            "index1=2, index2=3\n"
          ],
          "name": "stdout"
        }
      ]
    },
    {
      "cell_type": "markdown",
      "metadata": {
        "id": "F0ss0doZlQ44"
      },
      "source": [
        "## **Unique subsets from a set**\r\n",
        "Find all possible unique subsets from a set of distinct integers"
      ]
    },
    {
      "cell_type": "code",
      "metadata": {
        "id": "vpXXwhCSla0D"
      },
      "source": [
        "class py_solution:\r\n",
        "    def sub_sets(self, sset):\r\n",
        "        return self.subsetsRecur([], sorted(sset))\r\n",
        "    \r\n",
        "    def subsetsRecur(self, current, sset):\r\n",
        "        if sset:\r\n",
        "            return self.subsetsRecur(current, sset[1:]) + self.subsetsRecur(current + [sset[0]], sset[1:])\r\n",
        "        return [current]\r\n",
        "\r\n",
        "print(py_solution().sub_sets([4,5,6]))"
      ],
      "execution_count": null,
      "outputs": []
    },
    {
      "cell_type": "markdown",
      "metadata": {
        "id": "KRCb23wZluZv"
      },
      "source": [
        "## **First Bad Version**\r\n",
        "You are a product manager and currently leading a team to develop a new product. Unfortunately, the latest version of your product fails the quality check. Since each version is developed based on the previous version, all the versions after a bad version are also bad.Suppose you have n versions [1, 2, …, n] and you want to find out the first bad one, which causes all the following ones to be bad.You are given an API bool isBadVersion(version) which will return whether version is bad. Implement a function to find the first bad version. You should minimize the number of calls to the API."
      ]
    },
    {
      "cell_type": "code",
      "metadata": {
        "id": "lvWJTiUUl1D5"
      },
      "source": [
        "class Solution:\r\n",
        "    def firstBadVersion(self, n):\r\n",
        "        \"\"\" :type n: int :rtype: int \"\"\"\r\n",
        "        l, r = 1, n\r\n",
        "        while l < r:\r\n",
        "            m = (l + r) // 2\r\n",
        "            if isBadVersion(m):\r\n",
        "                r = m\r\n",
        "            else:\r\n",
        "                l = m + 1\r\n",
        "        return l"
      ],
      "execution_count": null,
      "outputs": []
    },
    {
      "cell_type": "markdown",
      "metadata": {
        "id": "zqiAWgzunuAq"
      },
      "source": [
        "## **Perfect Squares**\r\n",
        "Given a positive integer n, find the least number of perfect square numbers (for example, 1, 4, 9, 16, …) which sum to n."
      ]
    },
    {
      "cell_type": "code",
      "metadata": {
        "id": "ovFzpGVYoJ3Q"
      },
      "source": [
        "class Solution:\r\n",
        "    def numSquares(self, n: int) -> int:\r\n",
        "        square_nums = [i**2 for i in range(1, int(math.sqrt(n)) + 1)]\r\n",
        "        dp = [float('inf')] * (n + 1)\r\n",
        "        dp[0] = 0\r\n",
        "        for i in range(1, n+1):\r\n",
        "            for square in square_nums:\r\n",
        "                if i < square:\r\n",
        "                    break\r\n",
        "                dp[i] = min(dp[i], dp[i - square] + 1)\r\n",
        "        return dp[-1]"
      ],
      "execution_count": null,
      "outputs": []
    },
    {
      "cell_type": "code",
      "metadata": {
        "id": "eaweHHOzoDFb"
      },
      "source": [
        "class Solution:\r\n",
        "    def numSquares(self, n: int) -> int:\r\n",
        "        square_nums = [i**2 for i in range(1, int(math.sqrt(n)) + 1)]\r\n",
        "        level = 0\r\n",
        "        queue = {n}\r\n",
        "        while queue:\r\n",
        "            level += 1\r\n",
        "            tmp = set()\r\n",
        "            for num in queue:\r\n",
        "                for sq in square_nums:    \r\n",
        "                    if num == sq:\r\n",
        "                        return level\r\n",
        "                    elif num < sq:\r\n",
        "                        break\r\n",
        "                    else:\r\n",
        "                        tmp.add(num - sq)\r\n",
        "            queue = tmp"
      ],
      "execution_count": null,
      "outputs": []
    },
    {
      "cell_type": "code",
      "metadata": {
        "id": "Cuv6zcQQoEGf"
      },
      "source": [
        "class Solution:\r\n",
        "    def numSquares(self, n: int) -> int:\r\n",
        "        def check(n):\r\n",
        "            return (math.sqrt(n) - int(math.sqrt(n)) < 0.00000001)\r\n",
        "            \r\n",
        "        if check(n):\r\n",
        "            return 1\r\n",
        "        while n % 4 == 0:\r\n",
        "            n /= 4\r\n",
        "        if (n - 7) % 8 == 0:\r\n",
        "            return 4\r\n",
        "        for i in range(int(math.sqrt(n))):\r\n",
        "            if check(n-(i+1)*(i+1)):\r\n",
        "                return 2\r\n",
        "        return 3"
      ],
      "execution_count": null,
      "outputs": []
    },
    {
      "cell_type": "markdown",
      "metadata": {
        "id": "jdrVWntjoLC7"
      },
      "source": [
        "## **Move Zeroes**\r\n",
        "Given an array nums, write a function to move all 0’s to the end of it while maintaining the relative order of the non-zero elements."
      ]
    },
    {
      "cell_type": "code",
      "metadata": {
        "id": "-_qsg6VLoVcv"
      },
      "source": [
        "class Solution:\r\n",
        "    def moveZeros(self, nums):\r\n",
        "        \"\"\" Do not return anything, modify nums in-place instead. \"\"\"\r\n",
        "        nums = list(nums)\r\n",
        "        l, r, n = 0, 0, len(nums)\r\n",
        "        while r < n:\r\n",
        "            if nums[r] != 0:\r\n",
        "                nums[l] = nums[r]\r\n",
        "                l += 1\r\n",
        "            r += 1\r\n",
        "        while l < n:\r\n",
        "            nums[l] = 0\r\n",
        "            l += 1"
      ],
      "execution_count": null,
      "outputs": []
    },
    {
      "cell_type": "markdown",
      "metadata": {
        "id": "cYIJ-KxBpUzH"
      },
      "source": [
        "## **Find the Duplicate Number**\r\n",
        "Given an array nums containing n + 1 integers where each integer is between 1 and n (inclusive), prove that at least one duplicate number must exist. Assume that there is only one duplicate number, find the duplicate one."
      ]
    },
    {
      "cell_type": "code",
      "metadata": {
        "id": "eUCj7kj9pX5O"
      },
      "source": [
        "class Solution:\r\n",
        "    def findDuplicate(self, nums: List[int]) -> int:\r\n",
        "        slow, fast = nums[0], nums[nums[0]]\r\n",
        "        while slow != fast:\r\n",
        "            slow = nums[slow]\r\n",
        "            fast = nums[nums[fast]]\r\n",
        "        slow = 0\r\n",
        "        while slow != fast:\r\n",
        "            slow = nums[slow]\r\n",
        "            fast = nums[fast]\r\n",
        "        return fast"
      ],
      "execution_count": null,
      "outputs": []
    },
    {
      "cell_type": "markdown",
      "metadata": {
        "id": "RDdkG2chplAq"
      },
      "source": [
        "## **Reconstruct Itinerary**\r\n",
        "Given a list of airline tickets represented by pairs of departure and arrival airports [from, to], reconstruct the itinerary in order. All of the tickets belong to a man who departs from JFK. Thus, the itinerary must begin with JFK.\r\n",
        "\r\n",
        "Note:\r\n",
        "\r\n",
        "If there are multiple valid itineraries, you should return the itinerary that has the smallest lexical order when read as a single string. For example, the itinerary [“JFK”, “LGA”] has a smaller lexical order than [“JFK”, “LGB”].\r\n",
        "All airports are represented by three capital letters (IATA code).\r\n",
        "You may assume all tickets form at least one valid itinerary.\r\n",
        "One must use all the tickets once and only once."
      ]
    },
    {
      "cell_type": "code",
      "metadata": {
        "id": "U-l5z0ILfi8f"
      },
      "source": [
        "class Solution:\r\n",
        "    def findItinerary(self, tickets: List[List[str]]) -> List[str]:\r\n",
        "        def dfs(dep):\r\n",
        "            arr = paths[dep]\r\n",
        "            while arr:\r\n",
        "                dfs(arr.pop())\r\n",
        "            res.append(dep)\r\n",
        "\r\n",
        "        res = []\r\n",
        "        paths = defaultdict(list)\r\n",
        "        tickets.sort(key=lambda x: x[1], reverse=True)\r\n",
        "        for s, t in tickets:\r\n",
        "            paths[s].append(t)\r\n",
        "        dfs('JFK')\r\n",
        "        return res[::-1]"
      ],
      "execution_count": null,
      "outputs": []
    },
    {
      "cell_type": "markdown",
      "metadata": {
        "id": "dgoLKnRwfmSk"
      },
      "source": [
        "## **Increasing Triplet Subsequence**\r\n",
        "Given an integer array nums, return true if there exists a triple of indices (i, j, k) such that i < j < k and nums[i] < nums[j] < nums[k]. If no such indices exists, return false."
      ]
    },
    {
      "cell_type": "code",
      "metadata": {
        "id": "lky2TTGof0vt"
      },
      "source": [
        "class Solution:\r\n",
        "    def increasingTriplet(self, nums: List[int]) -> bool:\r\n",
        "        first = second = float('inf')\r\n",
        "        for n in nums:\r\n",
        "            if n <= first:\r\n",
        "                first = n\r\n",
        "            elif n <= second:\r\n",
        "                second = n\r\n",
        "            else:\r\n",
        "                return True\r\n",
        "        return False"
      ],
      "execution_count": null,
      "outputs": []
    },
    {
      "cell_type": "markdown",
      "metadata": {
        "id": "mi5TzkrAf1vW"
      },
      "source": [
        "## **Counting Bits**\r\n",
        "Given a non negative integer number num. For every numbers i in the range 0 ≤ i ≤ num calculate the number of 1’s in their binary representation and return them as an array."
      ]
    },
    {
      "cell_type": "code",
      "metadata": {
        "id": "dPFU3JTaguvX"
      },
      "source": [
        "class Solution:\r\n",
        "    def countBits(self, num: int) -> List[int]:\r\n",
        "        res = [0] * (num + 1)\r\n",
        "        for i in range(num + 1):\r\n",
        "            res[i] = res[i >> 1] + (i & 1)\r\n",
        "        return res"
      ],
      "execution_count": null,
      "outputs": []
    },
    {
      "cell_type": "markdown",
      "metadata": {
        "id": "-T9w-bzihITz"
      },
      "source": [
        "## **Reverse String**\r\n",
        "Write a function that reverses a string. The input string is given as an array of characters char[].\r\n",
        "\r\n",
        "Do not allocate extra space for another array, you must do this by modifying the input array in-place with O(1) extra memory.\r\n",
        "\r\n",
        "You may assume all the characters consist of printable ascii characters."
      ]
    },
    {
      "cell_type": "code",
      "metadata": {
        "id": "AbbUHdZngp02"
      },
      "source": [
        "# two pointers class Solution:\r\n",
        "    def reverseString(self, s: List[str]) -> None:\r\n",
        "        \"\"\" Do not return anything, modify s in-place instead. \"\"\"\r\n",
        "        l, r = 0, len(s) - 1\r\n",
        "        while l < r:\r\n",
        "            s[l], s[r] = s[r], s[l]\r\n",
        "            l += 1\r\n",
        "            r -= 1\r\n",
        "\r\n",
        "# one pointer class Solution:\r\n",
        "    def reverseString(self, s: List[str]) -> None:\r\n",
        "        \"\"\" Do not return anything, modify s in-place instead. \"\"\"\r\n",
        "        for i in range(len(s) // 2):\r\n",
        "            s[i], s[-i - 1] = s[-i - 1], s[i]"
      ],
      "execution_count": null,
      "outputs": []
    },
    {
      "cell_type": "markdown",
      "metadata": {
        "id": "2umBBDXvhVl4"
      },
      "source": [
        "## **Moving Average from Data Stream**\r\n",
        "Given a stream of integers and a window size, calculate the moving average of all integers in the sliding window.\r\n"
      ]
    },
    {
      "cell_type": "code",
      "metadata": {
        "id": "He3XAGRChfec"
      },
      "source": [
        "class MovingAverage:\r\n",
        "\r\n",
        "    def __init__(self, size: int):\r\n",
        "        \"\"\" Initialize your data structure here. \"\"\"\r\n",
        "        self.size = size\r\n",
        "        self.q = deque()\r\n",
        "        self.count = 0\r\n",
        "        self.sum = 0\r\n",
        "\r\n",
        "    def next(self, val: int) -> float:\r\n",
        "        self.count += 1\r\n",
        "        self.q.append(val)\r\n",
        "        tail = self.q.popleft() if self.count > self.size else 0\r\n",
        "        self.sum = self.sum - tail + val\r\n",
        "        return self.sum / min(self.size, self.count)"
      ],
      "execution_count": null,
      "outputs": []
    },
    {
      "cell_type": "markdown",
      "metadata": {
        "id": "9a1xyDZ8hj5K"
      },
      "source": [
        "## **Top K Frequent Elements**\r\n",
        "Given a non-empty array of integers, return the k most frequent elements."
      ]
    },
    {
      "cell_type": "code",
      "metadata": {
        "id": "I_zp1wwshp2-"
      },
      "source": [
        "class Solution:\r\n",
        "    def topKFrequent(self, nums: List[int], k: int) -> List[int]:\r\n",
        "        q = []\r\n",
        "        for num, freq in Counter(nums).items():\r\n",
        "            if len(q) == k:\r\n",
        "                heappushpop(q, (freq, num))\r\n",
        "            else:\r\n",
        "                heappush(q, (freq, num))\r\n",
        "        return [x[1] for x in q]"
      ],
      "execution_count": null,
      "outputs": []
    },
    {
      "cell_type": "code",
      "metadata": {
        "id": "P2LrLIOahr4i"
      },
      "source": [
        "class Solution:\r\n",
        "    def topKFrequent(self, nums: List[int], k: int) -> List[int]:\r\n",
        "        ct = Counter(nums)\r\n",
        "        return heapq.nlargest(k, ct.keys(), key=ct.get) "
      ],
      "execution_count": null,
      "outputs": []
    },
    {
      "cell_type": "markdown",
      "metadata": {
        "id": "z17K344Mh4l-"
      },
      "source": [
        "## **Logger Rate Limiter**\r\n",
        "esign a logger system that receive stream of messages along with its timestamps, each message should be printed if and only if it is not printed in the last 10 seconds.\r\n",
        "\r\n",
        "Given a message and a timestamp (in seconds granularity), return true if the message should be printed in the given timestamp, otherwise returns false.\r\n",
        "\r\n",
        "It is possible that several messages arrive roughly at the same time."
      ]
    },
    {
      "cell_type": "code",
      "metadata": {
        "id": "pmrezuJDiBuW"
      },
      "source": [
        "class Logger:\r\n",
        "    def __init__(self):\r\n",
        "        \"\"\" Initialize your data structure here. \"\"\"\r\n",
        "        self.dic = {}\r\n",
        "    def shouldPrintMessage(self, timestamp: int, message: str) -> bool:\r\n",
        "        \"\"\" Returns true if the message should be printed in the given timestamp, otherwise returns false. If this method returns false, the message will not be printed. The timestamp is in seconds granularity. \"\"\"\r\n",
        "        if message not in self.dic or self.dic[message] + 10 <= timestamp:\r\n",
        "            self.dic[message] = timestamp\r\n",
        "            return True\r\n",
        "        return False"
      ],
      "execution_count": null,
      "outputs": []
    },
    {
      "cell_type": "markdown",
      "metadata": {
        "id": "EL2pVPewiTlB"
      },
      "source": [
        "## **Valid Perfect Square**\r\n",
        "Given a positive integer num, write a function which returns True if num is a perfect square else False.\r\n",
        "\r\n",
        "Note: Do not use any built-in library function such as sqrt."
      ]
    },
    {
      "cell_type": "code",
      "metadata": {
        "id": "G_CCZwvSibLZ"
      },
      "source": [
        "class Solution:\r\n",
        "    def isPerfectSquare(self, num: int) -> bool:\r\n",
        "        l, r = 0, num\r\n",
        "        while l <= r:\r\n",
        "            m = (l + r) // 2\r\n",
        "            t = m * m\r\n",
        "            if t == num:\r\n",
        "                return True\r\n",
        "            if t < num:\r\n",
        "                l = m + 1\r\n",
        "            else:\r\n",
        "                r = m - 1\r\n",
        "        return False"
      ],
      "execution_count": null,
      "outputs": []
    },
    {
      "cell_type": "markdown",
      "metadata": {
        "id": "_1Dlj3nmikMu"
      },
      "source": [
        "## **Largest Divisible Subset**\r\n",
        "Given a set of distinct positive integers, find the largest subset such that every pair (Si, Sj) of elements in this subset satisfies:\r\n",
        "\r\n",
        "Si % Sj = 0 or Sj % Si = 0.\r\n",
        "\r\n",
        "If there are multiple solutions, return any subset is fine."
      ]
    },
    {
      "cell_type": "code",
      "metadata": {
        "id": "KvWxecyZi58j"
      },
      "source": [
        "class Solution:\r\n",
        "    def largestDivisibleSubset(self, nums: List[int]) -> List[int]:\r\n",
        "        if not nums:\r\n",
        "            return []\r\n",
        "        nums.sort()\r\n",
        "        dp = [[0, i] for i in range(len(nums))]\r\n",
        "        idx = max_len = 0\r\n",
        "        for i, num in enumerate(nums):\r\n",
        "            tmp = 0\r\n",
        "            for k in range(i):\r\n",
        "                if nums[i] % nums[k] == 0:\r\n",
        "                    if tmp < dp[k][0]:\r\n",
        "                        tmp = dp[k][0]\r\n",
        "                        dp[i][1] = k\r\n",
        "            dp[i][0] = tmp + 1\r\n",
        "            if dp[i][0] > max_len:\r\n",
        "                max_len = dp[i][0]\r\n",
        "                idx = i\r\n",
        "\r\n",
        "        res = [nums[idx]]\r\n",
        "        while idx != dp[idx][1]:\r\n",
        "            idx = dp[idx][1]\r\n",
        "            res.append(nums[idx])\r\n",
        "        return res[::-1]"
      ],
      "execution_count": null,
      "outputs": []
    },
    {
      "cell_type": "markdown",
      "metadata": {
        "id": "djNxhZh_jBfH"
      },
      "source": [
        "## **Insert Delete GetRandom O(1)**\r\n",
        "Design a data structure that supports all following operations in average O(1) time.\r\n",
        "\r\n",
        "insert(val): Inserts an item val to the set if not already present.\r\n",
        "remove(val): Removes an item val from the set if present.\r\n",
        "getRandom: Returns a random element from current set of elements. Each element must have the same probability of being returned."
      ]
    },
    {
      "cell_type": "code",
      "metadata": {
        "id": "T16p69EcjUMl"
      },
      "source": [
        "class RandomizedSet:\r\n",
        "\r\n",
        "    def __init__(self):\r\n",
        "        \"\"\" Initialize your data structure here. \"\"\"\r\n",
        "        self.list = []\r\n",
        "        self.dic = {}\r\n",
        "\r\n",
        "    def insert(self, val: int) -> bool:\r\n",
        "        \"\"\" Inserts a value to the set. Returns true if the set did not already contain the specified element. \"\"\"\r\n",
        "        if val in self.dic:\r\n",
        "            return False\r\n",
        "        self.dic[val] = len(self.list)\r\n",
        "        self.list.append(val)\r\n",
        "        return True\r\n",
        "\r\n",
        "    def remove(self, val: int) -> bool:\r\n",
        "        \"\"\" Removes a value from the set. Returns true if the set contained the specified element. \"\"\"\r\n",
        "        if val not in self.dic:\r\n",
        "            return False\r\n",
        "        last, idx = self.list[-1], self.dic[val]\r\n",
        "        self.list[idx], self.dic[last] = last, idx\r\n",
        "        del self.list[-1]\r\n",
        "        del self.dic[val]\r\n",
        "        return True\r\n",
        "\r\n",
        "    def getRandom(self) -> int:\r\n",
        "        \"\"\" Get a random element from the set. \"\"\"\r\n",
        "        return random.choice(self.list)\r\n"
      ],
      "execution_count": null,
      "outputs": []
    },
    {
      "cell_type": "markdown",
      "metadata": {
        "id": "jpOWsdrdjWSY"
      },
      "source": [
        "## **Linked List Random Node**\r\n",
        "Given a singly linked list, return a random node’s value from the linked list. Each node must have the same probability of being chosen.\r\n",
        "Follow up: What if the linked list is extremely large and its length is unknown to you? Could you solve this efficiently without using extra space?"
      ]
    },
    {
      "cell_type": "code",
      "metadata": {
        "id": "KHaBtTBMjfyK"
      },
      "source": [
        "class Solution:\r\n",
        "\r\n",
        "    def __init__(self, head: ListNode):\r\n",
        "        \"\"\" @param head The linked list's head. Note that the head is guaranteed to be not null, so it contains at least one node. \"\"\"\r\n",
        "        self.head = head\r\n",
        "        \r\n",
        "\r\n",
        "    def getRandom(self) -> int:\r\n",
        "        \"\"\" Returns a random node's value. \"\"\"\r\n",
        "        count = res = 0\r\n",
        "        cur = self.head\r\n",
        "        while cur:\r\n",
        "            count += 1\r\n",
        "            if random.random() <= 1 / count:\r\n",
        "                res = cur.val\r\n",
        "            cur = cur.next\r\n",
        "        return res"
      ],
      "execution_count": null,
      "outputs": []
    },
    {
      "cell_type": "markdown",
      "metadata": {
        "id": "gHWTcl6cjpbJ"
      },
      "source": [
        "## **Ransom Note**\r\n",
        "Given an arbitrary ransom note string and another string containing letters from all the magazines, write a function that will return true if the ransom note can be constructed from the magazines ; otherwise, it will return false.\r\n",
        "\r\n",
        "Each letter in the magazine string can only be used once in your ransom note."
      ]
    },
    {
      "cell_type": "code",
      "metadata": {
        "id": "75sZBEp2jy_S"
      },
      "source": [
        "from collections import Counter\r\n",
        "class Solution:\r\n",
        "    def canConstruct(self, ransomNote: str, magazine: str) -> bool:\r\n",
        "        ct_ransom = Counter(ransomNote)\r\n",
        "        ct_magazine = Counter(magazine)\r\n",
        "        for key in ct_ransom:\r\n",
        "            if ct_ransom[key] > ct_magazine[key]:\r\n",
        "                return False\r\n",
        "        return True"
      ],
      "execution_count": null,
      "outputs": []
    },
    {
      "cell_type": "markdown",
      "metadata": {
        "id": "7lq5wfHRj17T"
      },
      "source": [
        "## **First Unique Character in a String**\r\n",
        "Given a string, find the first non-repeating character in it and return it’s index. If it doesn’t exist, return -1."
      ]
    },
    {
      "cell_type": "code",
      "metadata": {
        "id": "G3mqpKW1j8jU"
      },
      "source": [
        "from collections import Counter\r\n",
        "class Solution:\r\n",
        "    def firstUniqChar(self, s: str) -> int:\r\n",
        "        ct = Counter(s)\r\n",
        "        for i, c in enumerate(s):\r\n",
        "            if ct[c] == 1:\r\n",
        "                return i\r\n",
        "        return -1"
      ],
      "execution_count": null,
      "outputs": []
    },
    {
      "cell_type": "markdown",
      "metadata": {
        "id": "5jg_LLfVkCzB"
      },
      "source": [
        "## **Find the Difference**\r\n",
        "Given two strings s and t which consist of only lowercase letters.\r\n",
        "\r\n",
        "String t is generated by random shuffling string s and then add one more letter at a random position.\r\n",
        "\r\n",
        "Find the letter that was added in t."
      ]
    },
    {
      "cell_type": "code",
      "metadata": {
        "id": "slQ6Fd5JkOfa"
      },
      "source": [
        "class Solution:\r\n",
        "    def findTheDifference(self, s: str, t: str) -> str:\r\n",
        "        dic = defaultdict(int)\r\n",
        "        for c in s:\r\n",
        "            dic[c] += 1\r\n",
        "        for c in t:\r\n",
        "            dic[c] -= 1\r\n",
        "        for k in dic:\r\n",
        "            if dic[k] != 0:\r\n",
        "                return k"
      ],
      "execution_count": null,
      "outputs": []
    },
    {
      "cell_type": "markdown",
      "metadata": {
        "id": "mVdwFuMMjelY"
      },
      "source": [
        "## **Is SubsequenceIs Subsequence**\r\n",
        "Given a string s and a string t, check if s is subsequence of t.\r\n",
        "\r\n",
        "A subsequence of a string is a new string which is formed from the original string by deleting some (can be none) of the characters without disturbing the relative positions of the remaining characters. (ie, “ace” is a subsequence of “abcde” while “aec” is not).\r\n",
        "\r\n",
        "Follow up:\r\n",
        "If there are lots of incoming S, say S1, S2, … , Sk where k >= 1B, and you want to check one by one to see if T has its subsequence. In this scenario, how would you change your code?"
      ]
    },
    {
      "cell_type": "code",
      "metadata": {
        "id": "EDJD6K-ukgEi"
      },
      "source": [
        "class Solution:\r\n",
        "    def isSubsequence(self, s: str, t: str) -> bool:\r\n",
        "        pt = -1\r\n",
        "        for c in s:\r\n",
        "            while pt < len(t) - 1:\r\n",
        "                pt += 1\r\n",
        "                if c == t[pt]:\r\n",
        "                    break\r\n",
        "            else:\r\n",
        "                return False\r\n",
        "        return True"
      ],
      "execution_count": null,
      "outputs": []
    },
    {
      "cell_type": "code",
      "metadata": {
        "id": "X9WhW-4gkkTc"
      },
      "source": [
        "class Solution:\r\n",
        "    def isSubsequence(self, s: str, t: str) -> bool:\r\n",
        "        q = list(q)\r\n",
        "        for c in t:\r\n",
        "            if not q: return True\r\n",
        "            if c == q[0]:\r\n",
        "                q.pop(0)\r\n",
        "        return not q"
      ],
      "execution_count": null,
      "outputs": []
    },
    {
      "cell_type": "code",
      "metadata": {
        "id": "w3ny_DHDkkt0"
      },
      "source": [
        "class Solution:\r\n",
        "    def isSubsequence(self, s: str, t: str) -> bool:\r\n",
        "        dic = collections.defaultdict(list)\r\n",
        "        for i, c in enumerate(t):\r\n",
        "            dic[c].append(i)\r\n",
        "        cur = -1\r\n",
        "        for c in s:\r\n",
        "            if c not in dic:\r\n",
        "                return False\r\n",
        "            l = dic[c]\r\n",
        "            p = bisect.bisect_left(l, cur)\r\n",
        "            if p == len(l):\r\n",
        "                return False\r\n",
        "            cur = l[p] + 1\r\n",
        "        return True"
      ],
      "execution_count": null,
      "outputs": []
    },
    {
      "cell_type": "markdown",
      "metadata": {
        "id": "fzTun-FJkthZ"
      },
      "source": [
        "## **Decode String**\r\n",
        "Given an encoded string, return its decoded string.\r\n",
        "\r\n",
        "The encoding rule is: k[encoded_string], where the encoded_string inside the square brackets is being repeated exactly k times. Note that k is guaranteed to be a positive integer.\r\n",
        "\r\n",
        "You may assume that the input string is always valid; No extra white spaces, square brackets are well-formed, etc.\r\n",
        "\r\n",
        "Furthermore, you may assume that the original data does not contain any digits and that digits are only for those repeat numbers, k. For example, there won’t be input like 3a or 2[4].\r\n"
      ]
    },
    {
      "cell_type": "code",
      "metadata": {
        "id": "-lh4UOzXk4Im"
      },
      "source": [
        "class Solution:\r\n",
        "    def decodeString(self, s: str) -> str:\r\n",
        "        stack = []\r\n",
        "        cur_num = cur_str = ''\r\n",
        "        for c in s:\r\n",
        "            if c == '[':\r\n",
        "                stack.append(cur_str)\r\n",
        "                stack.append(int(cur_num))\r\n",
        "                cur_num = cur_str = ''\r\n",
        "            elif c == ']':\r\n",
        "                num = stack.pop()\r\n",
        "                prev_str = stack.pop()\r\n",
        "                cur_str = prev_str + cur_str * num\r\n",
        "            elif c.isdigit():\r\n",
        "                cur_num += c\r\n",
        "            else:\r\n",
        "                cur_str += c\r\n",
        "        return cur_str"
      ],
      "execution_count": null,
      "outputs": []
    },
    {
      "cell_type": "markdown",
      "metadata": {
        "id": "C25cJaKBk6XF"
      },
      "source": [
        "## **Longest Substring with At Least K Repeating Characters**\r\n",
        "Given a string s and an integer k, return the length of the longest substring of s such that the frequency of each character in this substring is less than or equal to k."
      ]
    },
    {
      "cell_type": "code",
      "metadata": {
        "id": "MXuR2qlolXEv"
      },
      "source": [
        "class Solution:\r\n",
        "    def longestSubstring(self, s: str, k: int) -> int:\r\n",
        "        res = 0\r\n",
        "        for i in range(1, len(set(s)) + 1):\r\n",
        "            times = [0] * 26\r\n",
        "            l = r = ct = dif_ct = 0\r\n",
        "            while r < len(s):\r\n",
        "                ind = ord(s[r]) - ord('a')\r\n",
        "                times[ind] += 1\r\n",
        "                if times[ind] == 1:\r\n",
        "                    dif_ct += 1\r\n",
        "                if times[ind] == k:\r\n",
        "                    ct += 1\r\n",
        "                r += 1\r\n",
        "                \r\n",
        "                while l < r and dif_ct > i:\r\n",
        "                    ind = ord(s[l]) - ord('a')\r\n",
        "                    if times[ind] == k:\r\n",
        "                        ct -= 1\r\n",
        "                    if times[ind] == 1:\r\n",
        "                        dif_ct -= 1\r\n",
        "                    times[ind] -= 1\r\n",
        "                    l += 1\r\n",
        "                if dif_ct == ct == i:\r\n",
        "                    res = max(res, r - l)\r\n",
        "        return res"
      ],
      "execution_count": null,
      "outputs": []
    },
    {
      "cell_type": "markdown",
      "metadata": {
        "id": "0o62SJt2laFm"
      },
      "source": [
        "## **Evaluate Division**\r\n",
        "You are given equations in the format A / B = k, where A and B are variables represented as strings, and k is a real number (floating-point number). Given some queries, return the answers. If the answer does not exist, return -1.0.\r\n",
        "\r\n",
        "The input is always valid. You may assume that evaluating the queries will result in no division by zero and there is no contradiction."
      ]
    },
    {
      "cell_type": "code",
      "metadata": {
        "id": "q1_Nm7zkli7x"
      },
      "source": [
        "class Solution:\r\n",
        "    def calcEquation(self, equations: List[List[str]], values: List[float], queries: List[List[str]]) -> List[float]:\r\n",
        "        edge = defaultdict(list)\r\n",
        "        for i in range(len(equations)):\r\n",
        "            x, y = equations[i]\r\n",
        "            v = values[i]\r\n",
        "            edge[x].append((y, v))\r\n",
        "            edge[y].append((x, 1.0 / v))\r\n",
        "        clusters = []\r\n",
        "        visit = set()\r\n",
        "        for x, y in equations:\r\n",
        "            dic = {}\r\n",
        "            if x not in visit:\r\n",
        "                start = x\r\n",
        "                visit.add(start)\r\n",
        "                dic[start] = 1\r\n",
        "                q = [start]\r\n",
        "                while q:\r\n",
        "                    cur = q.pop()\r\n",
        "                    for n, v in edge[cur]:\r\n",
        "                        if n not in visit:\r\n",
        "                            visit.add(n)\r\n",
        "                            q.append(n)\r\n",
        "                            dic[n] = dic[cur] * v\r\n",
        "            clusters.append(dic)\r\n",
        "        res = []\r\n",
        "        for x, y in queries:\r\n",
        "            for cluster in clusters:\r\n",
        "                if x in cluster and y in cluster:\r\n",
        "                    res.append(cluster[y] / cluster[x])\r\n",
        "                    break\r\n",
        "            else:\r\n",
        "                res.append(-1)\r\n",
        "        return res"
      ],
      "execution_count": null,
      "outputs": []
    },
    {
      "cell_type": "markdown",
      "metadata": {
        "id": "ztvL8YzHln1x"
      },
      "source": [
        "## **Remove K Digits**\r\n",
        "Given a non-negative integer num represented as a string, remove k digits from the number so that the new number is the smallest possible.\r\n",
        "\r\n",
        "Note:\r\n",
        "\r\n",
        "The length of num is less than 10002 and will be ≥ k.\r\n",
        "The given num does not contain any leading zero."
      ]
    },
    {
      "cell_type": "code",
      "metadata": {
        "id": "RFGmwbOdluiH"
      },
      "source": [
        "class Solution:\r\n",
        "    def removeKdigits(self, num: str, k: int) -> str:\r\n",
        "        if k == len(num):\r\n",
        "            return '0'\r\n",
        "        stack = []\r\n",
        "        for n in num:\r\n",
        "            while k and stack and n < stack[-1]:\r\n",
        "                stack.pop()\r\n",
        "                k -= 1\r\n",
        "            stack.append(n)\r\n",
        "        for i in range(k):\r\n",
        "            stack.pop()\r\n",
        "        return ''.join(stack).lstrip('0') or '0'"
      ],
      "execution_count": null,
      "outputs": []
    },
    {
      "cell_type": "markdown",
      "metadata": {
        "id": "EKbvGyFklwus"
      },
      "source": [
        "## **Sum of Left Leaves**\r\n",
        "Find the sum of all left leaves in a given binary tree.\r\n"
      ]
    },
    {
      "cell_type": "code",
      "metadata": {
        "id": "wxn3JLNBmJNW"
      },
      "source": [
        "class Solution:\r\n",
        "    def sumOfLeftLeaves(self, root: TreeNode) -> int:\r\n",
        "        def sumOfLeft(root, flag):\r\n",
        "            if not root:\r\n",
        "                return 0\r\n",
        "            if flag and not root.left and not root.right:\r\n",
        "                return root.val\r\n",
        "            return sumOfLeft(root.left, True) + sumOfLeft(root.right, False)\r\n",
        "        \r\n",
        "        return sumOfLeft(root, False)"
      ],
      "execution_count": null,
      "outputs": []
    },
    {
      "cell_type": "markdown",
      "metadata": {
        "id": "jCCRNo9SmOoV"
      },
      "source": [
        "## **Queue Reconstruction by Height**\r\n",
        "Suppose you have a random list of people standing in a queue. Each person is described by a pair of integers (h, k), where h is the height of the person and k is the number of people in front of this person who have a height greater than or equal to h. Write an algorithm to reconstruct the queue.\r\n",
        "\r\n",
        "Note: The number of people is less than 1,100."
      ]
    },
    {
      "cell_type": "code",
      "metadata": {
        "id": "GSYQGbz6mjr7"
      },
      "source": [
        "class Solution:\r\n",
        "    def reconstructQueue(self, people: List[List[int]]) -> List[List[int]]:\r\n",
        "        people.sort(key = lambda x: (-x[0], x[1]))\r\n",
        "        res = []\r\n",
        "        for p in people:\r\n",
        "            res.insert(p[1], p)\r\n",
        "        return res"
      ],
      "execution_count": null,
      "outputs": []
    },
    {
      "cell_type": "markdown",
      "metadata": {
        "id": "pKRRWHAmmo1H"
      },
      "source": [
        "## **Longest Palindrome**\r\n",
        "Given a string which consists of lowercase or uppercase letters, find the length of the longest palindromes that can be built with those letters.\r\n",
        "This is case sensitive, for example “Aa” is not considered a palindrome here."
      ]
    },
    {
      "cell_type": "code",
      "metadata": {
        "id": "ydpvnJ_fnTkW"
      },
      "source": [
        "class Solution:\r\n",
        "    def longestPalindrome(self, s: str) -> int:\r\n",
        "        ct = Counter(s)\r\n",
        "        res = 0\r\n",
        "        f = 0\r\n",
        "        for v in ct.values():\r\n",
        "            if v % 2 == 0:\r\n",
        "                res += v\r\n",
        "            else:\r\n",
        "                res += v - 1\r\n",
        "                f = 1\r\n",
        "        return res + f"
      ],
      "execution_count": null,
      "outputs": []
    },
    {
      "cell_type": "markdown",
      "metadata": {
        "id": "V0YvZ1dfnaMX"
      },
      "source": [
        "## **Fizz Buzz**\r\n",
        "Write a program that outputs the string representation of numbers from 1 to n.\r\n",
        "\r\n",
        "But for multiples of three it should output “Fizz” instead of the number and for the multiples of five output “Buzz”. For numbers which are multiples of both three and five output “FizzBuzz”."
      ]
    },
    {
      "cell_type": "code",
      "metadata": {
        "id": "rLlhA7Vsk84V"
      },
      "source": [
        "class Solution:\r\n",
        "    def fizzBuzz(self, n)\r\n",
        "        res = []\r\n",
        "        for i in range(1, n + 1):\r\n",
        "            if i % 15 == 0:\r\n",
        "                res.append(\"FizzBuzz\")\r\n",
        "            elif i % 3 == 0:\r\n",
        "                res.append(\"Fizz\")\r\n",
        "            elif i % 5 == 0:\r\n",
        "                res.append(\"Buzz\")\r\n",
        "            else:\r\n",
        "                res.append(str(i))\r\n",
        "        return res\r\n",
        "  "
      ],
      "execution_count": null,
      "outputs": []
    },
    {
      "cell_type": "code",
      "metadata": {
        "id": "wa0jZsjel7Xz"
      },
      "source": [
        "class Solution:\r\n",
        "    def fizzBuzz(self, n: int) -> List[str]:\r\n",
        "        return [\"FizzBuzz\" if n % 15 == 0 else \"Fizz\" if n % 3 == 0 else \"Buzz\" if n % 5 == 0 else str(n) for n in range(1, n + 1)]"
      ],
      "execution_count": null,
      "outputs": []
    },
    {
      "cell_type": "markdown",
      "metadata": {
        "id": "wP_pbC2bmI80"
      },
      "source": [
        "## **Partition Equal Subset Sum**\r\n",
        "Given a non-empty array nums containing only positive integers, find if the array can be partitioned into two subsets such that the sum of elements in both subsets is equal."
      ]
    },
    {
      "cell_type": "code",
      "metadata": {
        "id": "VMh_mm8vmUYu"
      },
      "source": [
        "class Solution:\r\n",
        "    def canPartition(self, nums: List[int]) -> bool:\r\n",
        "        if len(nums) < 2:\r\n",
        "            return False\r\n",
        "        total = sum(nums)\r\n",
        "        if total % 2 != 0:\r\n",
        "            return False\r\n",
        "        target = total // 2\r\n",
        "        dp = [True] + [False] * target\r\n",
        "        for i, n in enumerate(nums):\r\n",
        "            for j in range(target, n - 1, -1):\r\n",
        "                dp[j] |= dp[j - n]\r\n",
        "        return dp[target]"
      ],
      "execution_count": null,
      "outputs": []
    },
    {
      "cell_type": "markdown",
      "metadata": {
        "id": "dL1YybFGmWHi"
      },
      "source": [
        "## **Maximum XOR of Two Numbers in an Array**\r\n",
        "Given a non-empty array of numbers, a0, a1, a2, … , an-1, where 0 ≤ ai < 231.\r\n",
        "Find the maximum result of ai XOR aj, where 0 ≤ i, j < n.Could you do this in O(n) runtime?"
      ]
    },
    {
      "cell_type": "code",
      "metadata": {
        "id": "szEMYnZNpxkl"
      },
      "source": [
        "class Solution:\r\n",
        "    def findMaximumXOR(self, nums: List[int]) -> int:\r\n",
        "        res = 0\r\n",
        "        for i in range(31, -1, -1):\r\n",
        "            res <<= 1\r\n",
        "            pre = {n >> i for n in nums}\r\n",
        "            res += any(res ^ 1 ^ p in pre for p in pre)\r\n",
        "        return res"
      ],
      "execution_count": null,
      "outputs": []
    },
    {
      "cell_type": "markdown",
      "metadata": {
        "id": "Dho7n-LIp66F"
      },
      "source": [
        "## **Flatten a Multilevel Doubly Linked List**\r\n",
        "You are given a doubly linked list which in addition to the next and previous pointers, it could have a child pointer, which may or may not point to a separate doubly linked list. These child lists may have one or more children of their own, and so on, to produce a multilevel data structure, as shown in the example below.\r\n",
        "\r\n",
        "Flatten the list so that all the nodes appear in a single-level, doubly linked list. You are given the head of the first level of the list."
      ]
    },
    {
      "cell_type": "code",
      "metadata": {
        "id": "3honQU-9qV9w"
      },
      "source": [
        "class Solution:\r\n",
        "    def flatten(self, head: 'Node') -> 'Node':\r\n",
        "        if not head:\r\n",
        "            return\r\n",
        "        dummy = Node(0,None,head,None)\r\n",
        "        pre = dummy\r\n",
        "        stack = [head]\r\n",
        "        while stack:\r\n",
        "            cur = stack.pop()\r\n",
        "            if cur.next:\r\n",
        "                stack.append(cur.next)\r\n",
        "            if cur.child:\r\n",
        "                stack.append(cur.child)\r\n",
        "                cur.child = None\r\n",
        "            cur.prev = pre\r\n",
        "            pre.next = cur\r\n",
        "            pre = cur\r\n",
        "        dummy.next.prev = None\r\n",
        "        return dummy.next"
      ],
      "execution_count": null,
      "outputs": []
    },
    {
      "cell_type": "markdown",
      "metadata": {
        "id": "wascR_z0qeFo"
      },
      "source": [
        "## **Non-overlapping Intervals**\r\n",
        "Given a collection of intervals, find the minimum number of intervals you need to remove to make the rest of the intervals non-overlapping"
      ]
    },
    {
      "cell_type": "code",
      "metadata": {
        "id": "H_jiahfuqpa8"
      },
      "source": [
        "lass Solution:\r\n",
        "    def eraseOverlapIntervals(self, intervals: List[List[int]]) -> int:\r\n",
        "        if len(intervals) == 0:\r\n",
        "            return 0\r\n",
        "        intervals.sort()\r\n",
        "        now = intervals[0][1]\r\n",
        "        res = 0\r\n",
        "        for i in intervals[1:]:\r\n",
        "            if i[0] < now:\r\n",
        "                now = min(i[1], now)\r\n",
        "                res += 1\r\n",
        "            else:\r\n",
        "                now = i[1]\r\n",
        "        return res"
      ],
      "execution_count": null,
      "outputs": []
    },
    {
      "cell_type": "markdown",
      "metadata": {
        "id": "EiFayzHKqvFx"
      },
      "source": [
        "## **Find Right Interval**\r\n",
        "Given a set of intervals, for each of the interval i, check if there exists an interval j whose start point is bigger than or equal to the end point of the interval i, which can be called that j is on the “right” of i.\r\n",
        "\r\n",
        "For any interval i, you need to store the minimum interval j’s index, which means that the interval j has the minimum start point to build the “right” relationship for interval i. If the interval j doesn’t exist, store -1 for the interval i. Finally, you need output the stored value of each interval as an array.\r\n",
        "\r\n",
        "Note:\r\n",
        "\r\n",
        "You may assume the interval’s end point is always bigger than its start point.\r\n",
        "You may assume none of these intervals have the same start point."
      ]
    },
    {
      "cell_type": "code",
      "metadata": {
        "id": "7nEJGyCYq1mI"
      },
      "source": [
        "class Solution:\r\n",
        "    def findRightInterval(self, intervals: List[List[int]]) -> List[int]:\r\n",
        "        intervals = sorted((e[0], i, e[1]) for i, e in enumerate(intervals))\r\n",
        "        l = len(intervals)\r\n",
        "        res = [0] * l\r\n",
        "        for e in intervals:\r\n",
        "            r = bisect.bisect_left(intervals, (e[2], ))\r\n",
        "            res[e[1]] = intervals[r][1] if r < l else -1\r\n",
        "        return res"
      ],
      "execution_count": null,
      "outputs": []
    },
    {
      "cell_type": "markdown",
      "metadata": {
        "id": "I06ARiUeq3W9"
      },
      "source": [
        "## **Path Sum III**\r\n",
        "You are given a binary tree in which each node contains an integer value.\r\n",
        "\r\n",
        "Find the number of paths that sum to a given value.\r\n",
        "\r\n",
        "The path does not need to start or end at the root or a leaf, but it must go downwards (traveling only from parent nodes to child nodes).\r\n",
        "\r\n",
        "The tree has no more than 1,000 nodes and the values are in the range -1,000,000 to 1,000,000."
      ]
    },
    {
      "cell_type": "code",
      "metadata": {
        "id": "p7QOM6bCrBOV"
      },
      "source": [
        "class Solution:\r\n",
        "    def pathSum(self, root: TreeNode, val: int) -> int:\r\n",
        "        def dfs(root, val, cur, dic):\r\n",
        "            if not root: \r\n",
        "                return\r\n",
        "            cur += root.val\r\n",
        "            pre = cur - val\r\n",
        "            self.res += dic.get(pre, 0)\r\n",
        "            dic[cur] = dic.get(cur, 0) + 1\r\n",
        "            dfs(root.left, val, cur, dic)\r\n",
        "            dfs(root.right, val, cur, dic)\r\n",
        "            dic[cur] -= 1 \r\n",
        "\r\n",
        "        self.res = 0\r\n",
        "        dic = {0: 1}\r\n",
        "        dfs(root, val, 0, dic)\r\n",
        "        return self.res"
      ],
      "execution_count": null,
      "outputs": []
    },
    {
      "cell_type": "markdown",
      "metadata": {
        "id": "rzuxJiYRrFBa"
      },
      "source": [
        "## **Find All Anagrams in a String**\r\n",
        "Given a string s and a non-empty string p, find all the start indices of p’s anagrams in s.\r\n",
        "\r\n",
        "Strings consists of lowercase English letters only and the length of both strings s and p will not be larger than 20,100.\r\n",
        "\r\n",
        "The order of output does not matter."
      ]
    },
    {
      "cell_type": "code",
      "metadata": {
        "id": "XbF8sO_zrRKb"
      },
      "source": [
        "class Solution:\r\n",
        "    def findAnagrams(self, s: str, p: str) -> List[int]:\r\n",
        "        def f(c):\r\n",
        "            return ord(c) - 97\r\n",
        "    \r\n",
        "        ct_p, ct_s = [0] * 26, [0] * 26\r\n",
        "        for c in p:\r\n",
        "            ct_p[f(c)] += 1\r\n",
        "        l = len(p)\r\n",
        "        for c in s[:l - 1]:\r\n",
        "            ct_s[f(c)] += 1\r\n",
        "        res = []\r\n",
        "        for i, c in enumerate(s[l - 1:]):\r\n",
        "            ct_s[f(c)] += 1\r\n",
        "            if ct_s == ct_p:\r\n",
        "                res.append(i)\r\n",
        "            ct_s[f(s[i])] -= 1\r\n",
        "        return res"
      ],
      "execution_count": null,
      "outputs": []
    },
    {
      "cell_type": "markdown",
      "metadata": {
        "id": "elCwKLpqrQYx"
      },
      "source": [
        "## **Arranging Coins**\r\n",
        "You have a total of n coins that you want to form in a staircase shape, where every k-th row must have exactly k coins.\r\n",
        "\r\n",
        "Given n, find the total number of full staircase rows that can be formed.\r\n",
        "\r\n",
        "n is a non-negative integer and fits within the range of a 32-bit signed integer."
      ]
    },
    {
      "cell_type": "code",
      "metadata": {
        "id": "UcPYUeBwrEYx"
      },
      "source": [
        "class Solution:\r\n",
        "    def arrangeCoins(self, n: int) -> int:\r\n",
        "        return int((-1 + math.sqrt(1 + 8 * n)) / 2)"
      ],
      "execution_count": null,
      "outputs": []
    },
    {
      "cell_type": "markdown",
      "metadata": {
        "id": "xWHtQuEErmc3"
      },
      "source": [
        "## **Find All Duplicates in an Array**\r\n",
        "Given an array of integers, 1 ≤ a[i] ≤ n (n = size of array), some elements appear twice and others appear once.\r\n",
        "\r\n",
        "Find all the elements that appear twice in this array.\r\n",
        "\r\n",
        "Could you do it without extra space and in O(n) runtime?"
      ]
    },
    {
      "cell_type": "code",
      "metadata": {
        "id": "qr5du_RzqZI5"
      },
      "source": [
        "class Solution:\r\n",
        "    def findDuplicates(self, nums: List[int]) -> List[int]:\r\n",
        "        res = []\r\n",
        "        for i in range(len(nums)):\r\n",
        "            ind = abs(nums[i]) - 1\r\n",
        "            if nums[ind] < 0:\r\n",
        "                res.append(ind + 1)\r\n",
        "            else:\r\n",
        "                nums[ind] *= -1\r\n",
        "        return res"
      ],
      "execution_count": null,
      "outputs": []
    },
    {
      "cell_type": "markdown",
      "metadata": {
        "id": "EOuIMqXhr2YE"
      },
      "source": [
        "## **Add Two Numbers II**\r\n",
        "You are given two non-empty linked lists representing two non-negative integers. The most significant digit comes first and each of their nodes contain a single digit. Add the two numbers and return it as a linked list.\r\n",
        "\r\n",
        "You may assume the two numbers do not contain any leading zero, except the number 0 itself.\r\n",
        "\r\n",
        "Follow up: What if you cannot modify the input lists? In other words, reversing the lists is not allowed."
      ]
    },
    {
      "cell_type": "code",
      "metadata": {
        "id": "F-ZDxQqWr_-o"
      },
      "source": [
        "class Solution:\r\n",
        "    def addTwoNumbers(self, l1: ListNode, l2: ListNode) -> ListNode:\r\n",
        "        s1 = []\r\n",
        "        s2 = []\r\n",
        "        while l1 is not None:\r\n",
        "            s1.append(l1.val)\r\n",
        "            l1 = l1.next\r\n",
        "        while l2 is not None:\r\n",
        "            s2.append(l2.val)\r\n",
        "            l2 = l2.next\r\n",
        "        tmp = 0\r\n",
        "        res = ListNode(0)\r\n",
        "        while len(s1) != 0 or len(s2) != 0:\r\n",
        "            if len(s1) != 0:\r\n",
        "                tmp += s1.pop()\r\n",
        "            if len(s2) != 0:\r\n",
        "                tmp += s2.pop()\r\n",
        "            res.val = tmp % 10\r\n",
        "            head = ListNode(tmp // 10)\r\n",
        "            head.next = res\r\n",
        "            res = head\r\n",
        "            tmp //= 10\r\n",
        "        return res.next if res.val == 0 else res"
      ],
      "execution_count": null,
      "outputs": []
    },
    {
      "cell_type": "markdown",
      "metadata": {
        "id": "yJe3NHPFsFOu"
      },
      "source": [
        "## **Serialize and Deserialize BST**\r\n",
        "Serialization is converting a data structure or object into a sequence of bits so that it can be stored in a file or memory buffer, or transmitted across a network connection link to be reconstructed later in the same or another computer environment.\r\n",
        "\r\n",
        "Design an algorithm to serialize and deserialize a binary search tree. There is no restriction on how your serialization/deserialization algorithm should work. You need to ensure that a binary search tree can be serialized to a string, and this string can be deserialized to the original tree structure.\r\n",
        "\r\n",
        "The encoded string should be as compact as possible."
      ]
    },
    {
      "cell_type": "code",
      "metadata": {
        "id": "f3wOGA10sM17"
      },
      "source": [
        "class Codec:\r\n",
        "\r\n",
        "    def serialize(self, root: TreeNode) -> str:\r\n",
        "        \"\"\"Encodes a tree to a single string. \"\"\"\r\n",
        "        if not root:\r\n",
        "            return '^'\r\n",
        "        return str(root.val) + ' ' + self.serialize(root.left) + ' ' + self.serialize(root.right)\r\n",
        "\r\n",
        "    def deserialize(self, data: str) -> TreeNode:\r\n",
        "        \"\"\"Decodes your encoded data to tree. \"\"\"\r\n",
        "        data = deque(data.split(' '))\r\n",
        "        def build(data):\r\n",
        "            v = data.popleft()\r\n",
        "            if v == '^':  \r\n",
        "                return None\r\n",
        "            node = TreeNode(int(v))\r\n",
        "            node.left = build(data)\r\n",
        "            node.right = build(data)\r\n",
        "            return node\r\n",
        "        return build(data)"
      ],
      "execution_count": null,
      "outputs": []
    },
    {
      "cell_type": "code",
      "metadata": {
        "id": "Rk2vSaVDsPa_"
      },
      "source": [
        "class Codec:\r\n",
        "\r\n",
        "    def serialize(self, root: TreeNode) -> str:\r\n",
        "        \"\"\"Encodes a tree to a single string. \"\"\"\r\n",
        "        ret = []\r\n",
        "        def preorder(root):\r\n",
        "            if root:\r\n",
        "                ret.append(root.val)\r\n",
        "                preorder(root.left)\r\n",
        "                preorder(root.right)\r\n",
        "        preorder(root)\r\n",
        "        return ' '.join(map(str, ret))\r\n",
        "\r\n",
        "    def deserialize(self, data: str) -> TreeNode:\r\n",
        "        \"\"\"Decodes your encoded data to tree. \"\"\"\r\n",
        "        nums = deque(int(n) for n in data.split())\r\n",
        "        def build(mmin, mmax):\r\n",
        "            if nums and mmin < nums[0] < mmax:\r\n",
        "                n = nums.popleft()\r\n",
        "                node = TreeNode(n)\r\n",
        "                node.left = build(mmin, n)\r\n",
        "                node.right = build(n, mmax)\r\n",
        "                return node\r\n",
        "            \r\n",
        "        return build(float('-inf'), float('inf'))"
      ],
      "execution_count": null,
      "outputs": []
    },
    {
      "cell_type": "markdown",
      "metadata": {
        "id": "Z-BKnKEFsR6I"
      },
      "source": [
        "## **Delete Node in a BST**\r\n",
        "Given a root node reference of a BST and a key, delete the node with the given key in the BST. Return the root node reference (possibly updated) of the BST.\r\n",
        "\r\n",
        "Basically, the deletion can be divided into two stages:\r\n",
        "\r\n",
        "Search for a node to remove.\r\n",
        "If the node is found, delete the node. Note: Time complexity should be O(height of tree)."
      ]
    },
    {
      "cell_type": "code",
      "metadata": {
        "id": "0iPlrE9CsdI5"
      },
      "source": [
        "class Solution:\r\n",
        "    def deleteNode(self, root: TreeNode, key: int) -> TreeNode:\r\n",
        "        if root is None:\r\n",
        "            return root\r\n",
        "        if root.val > key:\r\n",
        "            root.left = self.deleteNode(root.left, key)\r\n",
        "        elif root.val < key:\r\n",
        "            root.right = self.deleteNode(root.right, key)\r\n",
        "        else:\r\n",
        "            if not root.left:\r\n",
        "                return root.right\r\n",
        "            if not root.right:\r\n",
        "                return root.left\r\n",
        "            tmp = root.right\r\n",
        "            while tmp.left:\r\n",
        "                tmp = tmp.left\r\n",
        "            root.val = tmp.val\r\n",
        "            root.right = self.deleteNode(root.right, tmp.val)\r\n",
        "        return root"
      ],
      "execution_count": null,
      "outputs": []
    },
    {
      "cell_type": "markdown",
      "metadata": {
        "id": "ObfMcWs2sktA"
      },
      "source": [
        "## **Sort Characters By Frequency**\r\n",
        "Given a string, sort it in decreasing order based on the frequency of characters."
      ]
    },
    {
      "cell_type": "code",
      "metadata": {
        "id": "es-z_Xu9tGSL"
      },
      "source": [
        "from collections import Counter\r\n",
        "class Solution:\r\n",
        "    def frequencySort(self, s):\r\n",
        "        return ''.join(k * v for k, v in sorted(Counter(s).items(), key=lambda x: x[1], reverse=True))"
      ],
      "execution_count": null,
      "outputs": []
    },
    {
      "cell_type": "markdown",
      "metadata": {
        "id": "xZRQJIyetQ9Z"
      },
      "source": [
        "## **Minimum Number of Arrows to Burst Balloons**\r\n",
        "There are some spherical balloons spread in two-dimensional space. For each balloon, provided input is the start and end coordinates of the horizontal diameter. Since it’s horizontal, y-coordinates don’t matter, and hence the x-coordinates of start and end of the diameter suffice. The start is always smaller than the end.\r\n",
        "\r\n",
        "An arrow can be shot up exactly vertically from different points along the x-axis. A balloon with xstart and xend bursts by an arrow shot at x if xstart ≤ x ≤ xend. There is no limit to the number of arrows that can be shot. An arrow once shot keeps traveling up infinitely.\r\n",
        "\r\n",
        "Given an array points where points[i] = [xstart, xend], return the minimum number of arrows that must be shot to burst all balloons.\r\n"
      ]
    },
    {
      "cell_type": "code",
      "metadata": {
        "id": "LDzwNsgutkJU"
      },
      "source": [
        "class Solution:\r\n",
        "    def findMinArrowShots(self, points: List[List[int]]) -> int:\r\n",
        "        if not points:\r\n",
        "            return 0\r\n",
        "        points.sort(key=lambda x: x[1])\r\n",
        "        res = 1\r\n",
        "        cur = points[0][1]\r\n",
        "        for p in points[1:]:\r\n",
        "            if cur < p[0]:\r\n",
        "                res += 1\r\n",
        "                cur = p[1]\r\n",
        "        return res"
      ],
      "execution_count": null,
      "outputs": []
    },
    {
      "cell_type": "markdown",
      "metadata": {
        "id": "CQMLpVYztsJq"
      },
      "source": [
        "## **4Sum II**\r\n",
        "Given four lists A, B, C, D of integer values, compute how many tuples (i, j, k, l) there are such that A[i] + B[j] + C[k] + D[l] is zero.To make problem a bit easier, all A, B, C, D have same length of N where 0 ≤ N ≤ 500. All integers are in the range of -228 to 228 - 1 and the result is guaranteed to be at most 231 - 1.\r\n"
      ]
    },
    {
      "cell_type": "code",
      "metadata": {
        "id": "Rf3-92Blt6px"
      },
      "source": [
        "class Solution:\r\n",
        "    def fourSumCount(self, A: List[int], B: List[int], C: List[int], D: List[int]) -> int:\r\n",
        "        ct = defaultdict(int)\r\n",
        "        for a in A:\r\n",
        "            for b in B:\r\n",
        "                ct[a + b] += 1\r\n",
        "        res = 0\r\n",
        "        for c in C:\r\n",
        "            for d in D:\r\n",
        "                if -(c + d) in ct:\r\n",
        "                    res += ct[-(c + d)]\r\n",
        "        return res"
      ],
      "execution_count": null,
      "outputs": []
    },
    {
      "cell_type": "markdown",
      "metadata": {
        "id": "TwwBE3MSt-dd"
      },
      "source": [
        "## **Pattern**\r\n",
        "Given an array of n integers nums, a 132 pattern is a subsequence of three integers nums[i], nums[j] and nums[k] such that i < j < k and nums[i] < nums[k] < nums[j].\r\n",
        "\r\n",
        "Return true if there is a 132 pattern in nums, otherwise, return false.\r\n",
        "\r\n",
        "Follow up: The O(n^2) is trivial, could you come up with the O(n logn) or the O(n) solution?"
      ]
    },
    {
      "cell_type": "code",
      "metadata": {
        "id": "Mi5UoLAMtrl4"
      },
      "source": [
        "class Solution:\r\n",
        "    def find132pattern(self, nums: List[int]) -> bool:\r\n",
        "        l = len(nums)\r\n",
        "        if l <= 2:\r\n",
        "            return False\r\n",
        "        premin = [nums[0]]\r\n",
        "        for n in nums[1:]:\r\n",
        "            premin.append(min(premin[-1], n))\r\n",
        "        stack = []\r\n",
        "        for i in range(l - 1, -1, -1):\r\n",
        "            if nums[i] > premin[i]:\r\n",
        "                while stack and stack[-1] <= premin[i]:\r\n",
        "                    stack.pop()\r\n",
        "                if stack and stack[-1] < nums[i]:\r\n",
        "                    return True\r\n",
        "                stack.append(nums[i])\r\n",
        "        return False"
      ],
      "execution_count": null,
      "outputs": []
    },
    {
      "cell_type": "markdown",
      "metadata": {
        "id": "ybveqBKHtnxu"
      },
      "source": [
        "## **Poor Pigs**\r\n",
        "There are 1000 buckets, one and only one of them is poisonous, while the rest are filled with water. They all look identical. If a pig drinks the poison it will die within 15 minutes. What is the minimum amount of pigs you need to figure out which bucket is poisonous within one hour?\r\n",
        "\r\n",
        "Answer this question, and write an algorithm for the general case.\r\n",
        "\r\n",
        "General case:\r\n",
        "\r\n",
        "If there are n buckets and a pig drinking poison will die within m minutes, how many pigs (x) you need to figure out the poisonous bucket within p minutes? There is exactly one bucket with poison.\r\n",
        "\r\n",
        "Note:\r\n",
        "\r\n",
        "A pig can be allowed to drink simultaneously on as many buckets as one would like, and the feeding takes no time.\r\n",
        "After a pig has instantly finished drinking buckets, there has to be a cool down time of m minutes. During this time, only observation is allowed and no feedings at all.\r\n",
        "Any given bucket can be sampled an infinite number of times (by an unlimited number of pigs)."
      ]
    },
    {
      "cell_type": "code",
      "metadata": {
        "id": "FaGyrk0TuWf7"
      },
      "source": [
        "class Solution:\r\n",
        "    def poorPigs(self, buckets: int, minutesToDie: int, minutesToTest: int) -> int:\r\n",
        "        tmp = minutesToTest / minutesToDie + 1\r\n",
        "        return math.ceil(math.log(buckets) / math.log(tmp))"
      ],
      "execution_count": null,
      "outputs": []
    },
    {
      "cell_type": "markdown",
      "metadata": {
        "id": "100kS2O7uYzL"
      },
      "source": [
        "## **Repeated Substring Pattern**\r\n",
        "Given a non-empty string check if it can be constructed by taking a substring of it and appending multiple copies of the substring together. You may assume the given string consists of lowercase English letters only and its length will not exceed 10000."
      ]
    },
    {
      "cell_type": "code",
      "metadata": {
        "id": "Hk_rN3ZGujjk"
      },
      "source": [
        "lass Solution:\r\n",
        "    def repeatedSubstringPattern(self, s: str) -> bool:\r\n",
        "        return (s + s).find(s, 1) != len(s)"
      ],
      "execution_count": null,
      "outputs": []
    },
    {
      "cell_type": "markdown",
      "metadata": {
        "id": "O86mdjEpum9V"
      },
      "source": [
        "## **Hamming Distance**\r\n",
        "The Hamming distance between two integers is the number of positions at which the corresponding bits are different.\r\n",
        "\r\n",
        "Given two integers x and y, calculate the Hamming distance"
      ]
    },
    {
      "cell_type": "code",
      "metadata": {
        "id": "mrhaBO5Ru0V_"
      },
      "source": [
        "class Solution:\r\n",
        "    def hammingDistance(self, x: int, y: int) -> int:\r\n",
        "        tmp = x ^ y\r\n",
        "        res = 0\r\n",
        "        while tmp > 0:\r\n",
        "            res += tmp & 1\r\n",
        "            tmp >>= 1\r\n",
        "        return res"
      ],
      "execution_count": null,
      "outputs": []
    },
    {
      "cell_type": "code",
      "metadata": {
        "id": "p5RZ4caNuvs0"
      },
      "source": [
        "class Solution:\r\n",
        "    def hammingDistance(self, x: int, y: int) -> int:\r\n",
        "        return bin(x ^ y).count('1')"
      ],
      "execution_count": null,
      "outputs": []
    },
    {
      "cell_type": "markdown",
      "metadata": {
        "id": "0ndSeFRhu4uW"
      },
      "source": [
        "## **Island Perimeter**\r\n",
        "You are given a map in form of a two-dimensional integer grid where 1 represents land and 0 represents water.\r\n",
        "\r\n",
        "Grid cells are connected horizontally/vertically (not diagonally). The grid is completely surrounded by water, and there is exactly one island (i.e., one or more connected land cells).\r\n",
        "\r\n",
        "The island doesn’t have “lakes” (water inside that isn’t connected to the water around the island). One cell is a square with side length 1. The grid is rectangular, width and height don’t exceed 100. Determine the perimeter of the island."
      ]
    },
    {
      "cell_type": "code",
      "metadata": {
        "id": "EhcJX9_RvJ7x"
      },
      "source": [
        "class Solution:\r\n",
        "    def islandPerimeter(self, grid: List[List[int]]) -> int:\r\n",
        "        m = len(grid)\r\n",
        "        n = len(grid[0])\r\n",
        "        res = 0\r\n",
        "        for i in range(m):\r\n",
        "            for j in range(n):\r\n",
        "                if grid[i][j] == 1:\r\n",
        "                    res += 4\r\n",
        "                    if i > 0 and grid[i - 1][j] == 1:\r\n",
        "                        res -= 2\r\n",
        "                    if j > 0 and grid[i][j - 1] == 1:\r\n",
        "                        res -= 2\r\n",
        "        return res"
      ],
      "execution_count": null,
      "outputs": []
    },
    {
      "cell_type": "markdown",
      "metadata": {
        "id": "-glpwJa_vK0S"
      },
      "source": [
        "## **Validate IP Address**\r\n",
        "Write a function to check whether an input string is a valid IPv4 address or IPv6 address or neither.\r\n",
        "\r\n",
        "IPv4 addresses are canonically represented in dot-decimal notation, which consists of four decimal numbers, each ranging from 0 to 255, separated by dots (“.”), e.g.,172.16.254.1;\r\n",
        "\r\n",
        "Besides, leading zeros in the IPv4 is invalid. For example, the address 172.16.254.01 is invalid.\r\n",
        "\r\n",
        "IPv6 addresses are represented as eight groups of four hexadecimal digits, each group representing 16 bits. The groups are separated by colons (“:”). For example, the address 2001:0db8:85a3:0000:0000:8a2e:0370:7334 is a valid one. Also, we could omit some leading zeros among four hexadecimal digits and some low-case characters in the address to upper-case ones, so 2001:db8:85a3:0:0:8A2E:0370:7334 is also a valid IPv6 address(Omit leading zeros and using upper cases).\r\n",
        "\r\n",
        "However, we don’t replace a consecutive group of zero value with a single empty group using two consecutive colons (::) to pursue simplicity. For example, 2001:0db8:85a3::8A2E:0370:7334 is an invalid IPv6 address.\r\n",
        "\r\n",
        "Besides, extra leading zeros in the IPv6 is also invalid. For example, the address 02001:0db8:85a3:0000:0000:8a2e:0370:7334 is invalid.\r\n",
        "\r\n",
        "Note: You may assume there is no extra space or special characters in the input string."
      ]
    },
    {
      "cell_type": "code",
      "metadata": {
        "id": "b0Lx_BvsvTbe"
      },
      "source": [
        "class Solution:\r\n",
        "    def validIPAddress(self, IP: str) -> str:\r\n",
        "        pv4 = re.compile(r'^(([0-9]|[1-9][0-9]|1[0-9][0-9]|2[0-4][0-9]|25[0-5])\\.){3}([0-9]|[1-9][0-9]|1[0-9][0-9]|2[0-4][0-9]|25[0-5])$')\r\n",
        "        if pv4.match(IP):\r\n",
        "            return \"IPv4\"\r\n",
        "        pv6 = re.compile(r'^(([0-9a-f]{1,4}):){7}([0-9a-f]{1,4})$')\r\n",
        "        if pv6.match(IP.lower()):\r\n",
        "            return \"IPv6\"\r\n",
        "        return \"Neither\""
      ],
      "execution_count": null,
      "outputs": []
    },
    {
      "cell_type": "code",
      "metadata": {
        "id": "VKG5firUvV-a"
      },
      "source": [
        "lass Solution:\r\n",
        "    def validIPAddress(self, IP: str) -> str:\r\n",
        "        def isIPv4(IP):\r\n",
        "            ip = IP.split('.')\r\n",
        "            for s in ip:\r\n",
        "                if len(s) == 0 or len(s) > 3:\r\n",
        "                    return 'Neither'\r\n",
        "                if ((s[0] == '0' and len(s) != 1) or not s.isdigit() or int(s) > 255):\r\n",
        "                    return 'Neither'\r\n",
        "            return 'IPv4'\r\n",
        "\r\n",
        "        def isIPv6(IP: str) -> str:\r\n",
        "            ip = IP.split(':') \r\n",
        "            for s in ip:\r\n",
        "                if len(s) == 0 or len(s) > 4:\r\n",
        "                    return \"Neither\"\r\n",
        "                for c in s:\r\n",
        "                     if c not in '0123456789abcdef':\r\n",
        "                        return \"Neither\"\r\n",
        "            return 'IPv6'\r\n",
        "\r\n",
        "        if len(IP.split('.'))-1 == 3:\r\n",
        "            return isIPv4(IP)\r\n",
        "        elif len(IP.split(':'))-1 == 7:\r\n",
        "            return isIPv6(IP.lower())\r\n",
        "        return \"Neither\""
      ],
      "execution_count": null,
      "outputs": []
    },
    {
      "cell_type": "markdown",
      "metadata": {
        "id": "heysX8UpvYx1"
      },
      "source": [
        "## **Implement Rand10() Using Rand7()**\r\n",
        "Given a function rand7 which generates a uniform random integer in the range 1 to 7, write a function rand10 which generates a uniform random integer in the range 1 to 10.\r\n",
        "\r\n",
        "Do NOT use system’s Math.random()."
      ]
    },
    {
      "cell_type": "code",
      "metadata": {
        "id": "IFePL5IMvmeI"
      },
      "source": [
        "class Solution:\r\n",
        "    def rand10(self):\r\n",
        "        \"\"\" :rtype: int \"\"\"\r\n",
        "        while True:\r\n",
        "            r1, r2 = rand7(), rand7()\r\n",
        "            t = r1 + (r2 - 1) * 7\r\n",
        "            if t <= 40:\r\n",
        "                return t % 10 + 1"
      ],
      "execution_count": null,
      "outputs": []
    },
    {
      "cell_type": "markdown",
      "metadata": {
        "id": "-wroR2pivsFT"
      },
      "source": [
        "## **Number Complement **\r\n",
        "Given a positive integer, output its complement number. The complement strategy is to flip the bits of its binary representation."
      ]
    },
    {
      "cell_type": "code",
      "metadata": {
        "id": "MpnRaqpfv1Am"
      },
      "source": [
        "class Solution:\r\n",
        "    def findComplement(self, num: int) -> int:\r\n",
        "        x = 1\r\n",
        "        while x <= num:\r\n",
        "            x <<= 1\r\n",
        "        return (x - 1) ^ num"
      ],
      "execution_count": null,
      "outputs": []
    },
    {
      "cell_type": "markdown",
      "metadata": {
        "id": "8g57mvqRv3_-"
      },
      "source": [
        "## **Find Permutation**\r\n",
        "By now, you are given a secret signature consisting of character ‘D’ and ‘I’. ‘D’ represents a decreasing relationship between two numbers, ‘I’ represents an increasing relationship between two numbers. And our secret signature was constructed by a special integer array, which contains uniquely all the different number from 1 to n (n is the length of the secret signature plus 1). For example, the secret signature “DI” can be constructed by array [2,1,3] or [3,1,2], but won’t be constructed by array [3,2,4] or [2,1,3,4], which are both illegal constructing special string that can’t represent the “DI” secret signature.\r\n",
        "\r\n",
        "On the other hand, now your job is to find the lexicographically smallest permutation of [1, 2, … n] could refer to the given secret signature in the input.\r\n"
      ]
    },
    {
      "cell_type": "code",
      "metadata": {
        "id": "rtjjoKqYwBvj"
      },
      "source": [
        "class Solution:\r\n",
        "    def findPermutation(self, s: str) -> List[int]:\r\n",
        "        res = list(range(1, len(s) + 2))\r\n",
        "        for m in re.finditer('D+', s):\r\n",
        "            i, j = m.start(), m.end() + 1\r\n",
        "            res[i: j] = res[i: j][::-1]\r\n",
        "        return res"
      ],
      "execution_count": null,
      "outputs": []
    },
    {
      "cell_type": "markdown",
      "metadata": {
        "id": "PC8fr7NMwPQQ"
      },
      "source": [
        "## **The Maze**\r\n",
        "There is a ball in a maze with empty spaces and walls. The ball can go through empty spaces by rolling up, down, left or right, but it won’t stop rolling until hitting a wall. When the ball stops, it could choose the next direction.\r\n",
        "\r\n",
        "Given the ball’s start position, the destination and the maze, determine whether the ball could stop at the destination.\r\n",
        "\r\n",
        "The maze is represented by a binary 2D array. 1 means the wall and 0 means the empty space. You may assume that the borders of the maze are all walls. The start and destination coordinates are represented by row and column indexes."
      ]
    },
    {
      "cell_type": "code",
      "metadata": {
        "id": "0fNHzgbJwTbZ"
      },
      "source": [
        "class Solution:\r\n",
        "    def hasPath(self, maze: List[List[int]], start: List[int], destination: List[int]) -> bool:\r\n",
        "        m, n, visit = len(maze), len(maze[0]), set()\r\n",
        "        directions = [(1, 0), (-1, 0), (0, -1), (0, 1)]\r\n",
        "        stack = [start]\r\n",
        "        while stack:\r\n",
        "            curx, cury = stack.pop()\r\n",
        "            if [curx, cury] == destination:\r\n",
        "                    return True\r\n",
        "            for dirx, diry in directions:\r\n",
        "                tx, ty = curx, cury\r\n",
        "                while 0 <= tx + dirx < m and 0 <= ty + diry < n and not maze[tx + dirx][ty + diry]:\r\n",
        "                    tx, ty = tx + dirx, ty + diry\r\n",
        "                if (tx, ty) not in visit:\r\n",
        "                    visit.add((tx, ty))\r\n",
        "                    stack.append((tx, ty))\r\n",
        "        return False"
      ],
      "execution_count": null,
      "outputs": []
    },
    {
      "cell_type": "markdown",
      "metadata": {
        "id": "B0BTTBeCwgis"
      },
      "source": [
        "## **Teemo Attacking**\r\n",
        "In LOL world, there is a hero called Teemo and his attacking can make his enemy Ashe be in poisoned condition. Now, given the Teemo’s attacking ascending time series towards Ashe and the poisoning time duration per Teemo’s attacking, you need to output the total time that Ashe is in poisoned condition.\r\n",
        "\r\n",
        "You may assume that Teemo attacks at the very beginning of a specific time point, and makes Ashe be in poisoned condition immediately."
      ]
    },
    {
      "cell_type": "code",
      "metadata": {
        "id": "p0lD2DezwOh-"
      },
      "source": [
        "class Solution:\r\n",
        "    def findPoisonedDuration(self, timeSeries: List[int], duration: int) -> int:\r\n",
        "        l = len(timeSeries)\r\n",
        "        if l == 0:\r\n",
        "            return 0\r\n",
        "        if l == 1:\r\n",
        "            return duration\r\n",
        "        res = duration\r\n",
        "        for i in range(1, l):\r\n",
        "            res += min(timeSeries[i] - timeSeries[i - 1], duration)\r\n",
        "        return res"
      ],
      "execution_count": null,
      "outputs": []
    },
    {
      "cell_type": "markdown",
      "metadata": {
        "id": "uiCKMjL1wz3n"
      },
      "source": [
        "## **Random Point in Non-overlapping Rectangles**\r\n",
        "Given a list of non-overlapping axis-aligned rectangles rects, write a function pick which randomly and uniformily picks an integer point in the space covered by the rectangles.\r\n",
        "\r\n",
        "Note:\r\n",
        "\r\n",
        "An integer point is a point that has integer coordinates.\r\n",
        "A point on the perimeter of a rectangle is included in the space covered by the rectangles.\r\n",
        "ith rectangle = rects[i] = [x1,y1,x2,y2], where [x1, y1] are the integer coordinates of the bottom-left corner, and [x2, y2] are the integer coordinates of the top-right corner.\r\n",
        "length and width of each rectangle does not exceed 2000.\r\n",
        "1 <= rects.length <= 100\r\n",
        "pick return a point as an array of integer coordinates [p_x, p_y]\r\n",
        "pick is called at most 10000 times."
      ]
    },
    {
      "cell_type": "code",
      "metadata": {
        "id": "EepPH2S4w6_J"
      },
      "source": [
        "class Solution:\r\n",
        "\r\n",
        "    def __init__(self, rects: List[List[int]]):\r\n",
        "        self.rects = rects\r\n",
        "        rect = rects[0]\r\n",
        "        self.areas = [(rect[2] - rect[0] + 1) * (rect[3] - rect[1] + 1)]\r\n",
        "        for rect in rects[1:]:\r\n",
        "            curarea = (rect[2] - rect[0] + 1) * (rect[3] - rect[1] + 1)\r\n",
        "            self.areas.append(self.areas[-1] + curarea)\r\n",
        "        self.sum = self.areas[-1]\r\n",
        "            \r\n",
        "    def pick(self) -> List[int]:\r\n",
        "        ran = random.randint(1, self.sum)\r\n",
        "        ind = bisect.bisect_left(self.areas, ran)\r\n",
        "        rect = self.rects[ind]\r\n",
        "        return [random.randint(rect[0], rect[2]), random.randint(rect[1], rect[3])]"
      ],
      "execution_count": null,
      "outputs": []
    },
    {
      "cell_type": "code",
      "metadata": {
        "id": "lFLm2OjEwFfq"
      },
      "source": [
        "class Solution:\r\n",
        "\r\n",
        "    def __init__(self, rects: List[List[int]]):\r\n",
        "        self.rects = rects\r\n",
        "        self.areas = [(rect[2] - rect[0] + 1) * (rect[3] - rect[1] + 1) for rect in rects]\r\n",
        "            \r\n",
        "    def pick(self) -> List[int]:\r\n",
        "        rect = random.choices(population = self.rects, weights = self.areas)[0]\r\n",
        "        return [random.randint(rect[0], rect[2]), random.randint(rect[1], rect[3])]"
      ],
      "execution_count": null,
      "outputs": []
    },
    {
      "cell_type": "markdown",
      "metadata": {
        "id": "3xTwitFhw9uu"
      },
      "source": [
        "## **Coin Change 2**\r\n",
        "You are given coins of different denominations and a total amount of money. Write a function to compute the number of combinations that make up that amount. You may assume that you have infinite number of each kind of coin."
      ]
    },
    {
      "cell_type": "code",
      "metadata": {
        "id": "n6qNP_0NxNaD"
      },
      "source": [
        "class Solution:\r\n",
        "    def change(self, amount: int, coins: List[int]) -> int:\r\n",
        "        dp = [1] + [0] * amount\r\n",
        "        for c in coins:\r\n",
        "            for i in range(c, amount + 1):\r\n",
        "                dp[i] += dp[i - c]\r\n",
        "        return dp[amount]"
      ],
      "execution_count": null,
      "outputs": []
    },
    {
      "cell_type": "markdown",
      "metadata": {
        "id": "GdMrC50ExPo6"
      },
      "source": [
        "## **Detect Capital**\r\n",
        "Given a word, you need to judge whether the usage of capitals in it is right or not.\r\n",
        "\r\n",
        "We define the usage of capitals in a word to be right when one of the following cases holds:\r\n",
        "\r\n",
        "All letters in this word are capitals, like “USA”.\r\n",
        "All letters in this word are not capitals, like “leetcode”.\r\n",
        "Only the first letter in this word is capital, like “Google”. Otherwise, we define that this word doesn’t use capitals in a right way."
      ]
    },
    {
      "cell_type": "code",
      "metadata": {
        "id": "sc1DOgU_xYN5"
      },
      "source": [
        "class Solution:\r\n",
        "    def detectCapitalUse(self, word: str) -> bool:\r\n",
        "        return word.isupper() or word.islower() or word.istitle()"
      ],
      "execution_count": null,
      "outputs": []
    },
    {
      "cell_type": "code",
      "metadata": {
        "id": "2h9fDytpxcsX"
      },
      "source": [
        "class Solution:\r\n",
        "    def detectCapitalUse(self, word: str) -> bool:\r\n",
        "        if word[0].isupper():\r\n",
        "            if len(word)==1:\r\n",
        "                return True\r\n",
        "            else:\r\n",
        "                if word[1].isupper():\r\n",
        "                    for s in word[1:]:\r\n",
        "                        if not s.isupper():\r\n",
        "                            return False\r\n",
        "                else:\r\n",
        "                    for s in word[1:]:\r\n",
        "                        if s.isupper():\r\n",
        "                            return False\r\n",
        "        else:\r\n",
        "            for s in word[1:]:\r\n",
        "                if s.isupper():\r\n",
        "                    return False\r\n",
        "        return True"
      ],
      "execution_count": null,
      "outputs": []
    },
    {
      "cell_type": "markdown",
      "metadata": {
        "id": "np0oMqCCyR3M"
      },
      "source": [
        "## **Contiguous Array**\r\n",
        "Given a binary array, find the maximum length of a contiguous subarray with equal number of 0 and 1."
      ]
    },
    {
      "cell_type": "code",
      "metadata": {
        "id": "UxGhb0WVyYZp"
      },
      "source": [
        "class Solution:\r\n",
        "    def findMaxLength(self, nums: List[int]) -> int:\r\n",
        "        res = ct = 0\r\n",
        "        dic = {0: 0}\r\n",
        "        for i, n in enumerate(nums, 1):\r\n",
        "            ct += 1 if n else -1\r\n",
        "            if ct in dic:\r\n",
        "                res = max(res, i - dic[ct])\r\n",
        "            else:\r\n",
        "                dic[ct] = i\r\n",
        "        return res"
      ],
      "execution_count": null,
      "outputs": []
    },
    {
      "cell_type": "markdown",
      "metadata": {
        "id": "nWOH8lcVybQm"
      },
      "source": [
        "## **Beautiful Arrangement**\r\n",
        "Suppose you have n integers from 1 to n. We define a beautiful arrangement as an array that is constructed by these n numbers successfully if one of the following is true for the ith position (1 <= i <= n) in this array:\r\n",
        "\r\n",
        "The number at the ith position is divisible by i.\r\n",
        "i is divisible by the number at the ith position. Given an integer n, return the number of the beautiful arrangements that you can construct."
      ]
    },
    {
      "cell_type": "code",
      "metadata": {
        "id": "hLGrlCqryqJq"
      },
      "source": [
        "class Solution:\r\n",
        "    def countArrangement(self, n: int) -> int:\r\n",
        "        def dfs(num, now):\r\n",
        "            if now == 0:\r\n",
        "                res[0] += 1\r\n",
        "                return\r\n",
        "            for i in range(now, 0, -1):\r\n",
        "                num[i], num[now] = num[now], num[i]\r\n",
        "                if num[now] % now == 0 or now % num[now] == 0:\r\n",
        "                    dfs(num, now - 1)\r\n",
        "                num[now], num[i] = num[i], num[now]\r\n",
        "\r\n",
        "        res = [0]\r\n",
        "        dfs([i for i in range(n + 1)], n)\r\n",
        "        return res[0]"
      ],
      "execution_count": null,
      "outputs": []
    },
    {
      "cell_type": "markdown",
      "metadata": {
        "id": "1saHfgu1yrhy"
      },
      "source": [
        "## **Random Pick with Weight**\r\n",
        "Given an array w of positive integers, where w[i] describes the weight of index i, write a function pickIndex which randomly picks an index in proportion to its weight.\r\n",
        "\r\n",
        "Note:\r\n",
        "\r\n",
        "1 <= w.length <= 10000\r\n",
        "1 <= w[i] <= 10^5\r\n",
        "pickIndex will be called at most 10000 times."
      ]
    },
    {
      "cell_type": "markdown",
      "metadata": {
        "id": "9DbBYY2TzgI_"
      },
      "source": [
        "## **K-diff Pairs in an Array**\r\n",
        "Given an array of integers nums and an integer k, return the number of unique k-diff pairs in the array.\r\n",
        "\r\n",
        "A k-diff pair is an integer pair (nums[i], nums[j]), where the following are true:\r\n",
        "\r\n",
        "0 <= i, j < nums.length\r\n",
        "i != j\r\n",
        "a <= b\r\n",
        "b - a == k"
      ]
    },
    {
      "cell_type": "code",
      "metadata": {
        "id": "KPyfONLBzod4"
      },
      "source": [
        "class Solution:\r\n",
        "    def findPairs(self, nums: List[int], k: int) -> int:\r\n",
        "        ct = Counter(nums)\r\n",
        "        res = 0\r\n",
        "        if k == 0:\r\n",
        "            for v in ct.values():\r\n",
        "                res += v > 1\r\n",
        "        else:\r\n",
        "            for n in ct:\r\n",
        "                res += k + n in ct\r\n",
        "        return res"
      ],
      "execution_count": null,
      "outputs": []
    },
    {
      "cell_type": "markdown",
      "metadata": {
        "id": "MjIU2iHNz0wI"
      },
      "source": [
        "## **Single Element in a Sorted Array**\r\n",
        "You are given a sorted array consisting of only integers where every element appears exactly twice, except for one element which appears exactly once. Find this single element that appears only once."
      ]
    },
    {
      "cell_type": "code",
      "metadata": {
        "id": "_gxOCekY0Bra"
      },
      "source": [
        "class Solution:\r\n",
        "    def singleNonDuplicate(self, nums: List[int]) -> int:\r\n",
        "        l, r = 0, len(nums) - 1\r\n",
        "        while l < r:\r\n",
        "            mid = (l + r) // 2\r\n",
        "            if nums[mid] != nums[mid-1] and nums[mid] != nums[mid+1]:\r\n",
        "                return nums[mid]\r\n",
        "            if (mid % 2 == 0 and nums[mid] == nums[mid+1]) or (mid % 2 == 1 and nums[mid] == nums[mid-1]):\r\n",
        "                    l = mid + 1\r\n",
        "            else:\r\n",
        "                r = mid - 1\r\n",
        "        return nums[l]"
      ],
      "execution_count": null,
      "outputs": []
    },
    {
      "cell_type": "markdown",
      "metadata": {
        "id": "lV9MDbUK0IZ0"
      },
      "source": [
        "## **Diameter of Binary Tree**\r\n",
        "Given a binary tree, you need to compute the length of the diameter of the tree. The diameter of a binary tree is the length of the longest path between any two nodes in a tree. This path may or may not pass through the root."
      ]
    },
    {
      "cell_type": "code",
      "metadata": {
        "id": "TvRGCRYv0PA7"
      },
      "source": [
        "class Solution:\r\n",
        "    res = 0\r\n",
        "    def diameterOfBinaryTree(self, root: TreeNode) -> int:\r\n",
        "        def dfs(root):\r\n",
        "            if not root:\r\n",
        "                return 0\r\n",
        "            l = dfs(root.left)\r\n",
        "            r = dfs(root.right)\r\n",
        "            self.res = max(self.res, l + r)\r\n",
        "            return max(l, r) + 1\r\n",
        "        \r\n",
        "        if not root:\r\n",
        "            return 0\r\n",
        "        dfs(root)\r\n",
        "        return self.res"
      ],
      "execution_count": null,
      "outputs": []
    },
    {
      "cell_type": "markdown",
      "metadata": {
        "id": "y34t0zw10Vow"
      },
      "source": [
        "## **Next Greater Element III**\r\n",
        "Given a positive integer n, find the smallest integer which has exactly the same digits existing in the integer n and is greater in value than n. If no such positive integer exists, return -1.\r\n",
        "\r\n",
        "Note that the returned integer should fit in 32-bit integer, if there is a valid answer but it does not fit in 32-bit integer, return -1."
      ]
    },
    {
      "cell_type": "code",
      "metadata": {
        "id": "WX7DSCzU0mQe"
      },
      "source": [
        "class Solution:\r\n",
        "    def nextGreaterElement(self, n: int) -> int:\r\n",
        "        s = list(str(n))\r\n",
        "        l = len(s)\r\n",
        "        i = l - 2\r\n",
        "        while i >= 0:\r\n",
        "            if s[i] < s[i + 1]:\r\n",
        "                break\r\n",
        "            i -= 1\r\n",
        "        if i < 0:\r\n",
        "            return -1\r\n",
        "        for j in range(l - 1, i, -1):\r\n",
        "            if s[j] > s[i]:\r\n",
        "                s[i], s[j] = s[j], s[i]\r\n",
        "                break\r\n",
        "        s[i + 1:] = s[i + 1:][::-1]\r\n",
        "        res = ''.join(s)\r\n",
        "        return res if int(res) <= 0x7fffffff else -1"
      ],
      "execution_count": null,
      "outputs": []
    },
    {
      "cell_type": "markdown",
      "metadata": {
        "id": "NLQE7EMI0tyK"
      },
      "source": [
        "## **Subarray Sum Equals K**\r\n",
        "Given an array of integers and an integer k, you need to find the total number of continuous subarrays whose sum equals to k."
      ]
    },
    {
      "cell_type": "code",
      "metadata": {
        "id": "MLZiyzT-05ZZ"
      },
      "source": [
        "from collections import defaultdict\r\n",
        "class Solution:\r\n",
        "    def subarraySum(self, nums: List[int], k: int) -> int:\r\n",
        "        dic = defaultdict(int)\r\n",
        "        s = 0\r\n",
        "        dic[0] = 1\r\n",
        "        res = 0\r\n",
        "        for n in nums:\r\n",
        "            s += n\r\n",
        "            if s - k in dic:\r\n",
        "                res += dic[s - k]\r\n",
        "            dic[s] += 1\r\n",
        "        return res"
      ],
      "execution_count": null,
      "outputs": []
    },
    {
      "cell_type": "markdown",
      "metadata": {
        "id": "UYguRh4z0nVZ"
      },
      "source": [
        "## **Binary Tree Tilt**\r\n",
        "Given the root of a binary tree, return the sum of every tree node’s tilt.\r\n",
        "\r\n",
        "The tilt of a tree node is the absolute difference between the sum of all left subtree node values and all right subtree node values. If a node does not have a left child, then the sum of the left subtree node values is treated as 0. The rule is similar if there the node does not have a right child."
      ]
    },
    {
      "cell_type": "code",
      "metadata": {
        "id": "6PpEPJpB1Sko"
      },
      "source": [
        "class Solution:\r\n",
        "    def findTilt(self, root: TreeNode) -> int:\r\n",
        "        def dfs(root):\r\n",
        "            if not root:\r\n",
        "                return 0\r\n",
        "            left = dfs(root.left)\r\n",
        "            right = dfs(root.right)\r\n",
        "            self.res += abs(left - right)\r\n",
        "            return left + right + root.val\r\n",
        "        \r\n",
        "        self.res = 0\r\n",
        "        dfs(root)\r\n",
        "        return self.res"
      ],
      "execution_count": null,
      "outputs": []
    },
    {
      "cell_type": "markdown",
      "metadata": {
        "id": "iGnK9URj1dgx"
      },
      "source": [
        "## **Permutation in String**\r\n",
        "Given two strings s1 and s2, write a function to return true if s2 contains the permutation of s1. In other words, one of the first string’s permutations is the substring of the second string."
      ]
    },
    {
      "cell_type": "code",
      "metadata": {
        "id": "LIfJXIOE1n0A"
      },
      "source": [
        "class Solution:\r\n",
        "    def checkInclusion(self, p: str, s: str) -> bool:\r\n",
        "        def f(c):\r\n",
        "            return ord(c) - 97\r\n",
        "        \r\n",
        "        ct_s, ct_p = [0] * 26, [0] * 26\r\n",
        "        for c in p:\r\n",
        "            ct_p[f(c)] += 1\r\n",
        "        l = len(p)\r\n",
        "        for c in s[: l - 1]:\r\n",
        "            ct_s[f(c)] += 1\r\n",
        "        for i, c in enumerate(s[l - 1:]):\r\n",
        "            ct_s[f(c)] += 1\r\n",
        "            if ct_s == ct_p:\r\n",
        "                return True\r\n",
        "            ct_s[f(s[i])] -= 1\r\n",
        "        return False"
      ],
      "execution_count": null,
      "outputs": []
    },
    {
      "cell_type": "markdown",
      "metadata": {
        "id": "rXeAevrG1qXe"
      },
      "source": [
        "## **Valid Square**\r\n"
      ]
    },
    {
      "cell_type": "code",
      "metadata": {
        "id": "YQnnEaug1zat"
      },
      "source": [
        "class Solution:\r\n",
        "    def validSquare(self, p1: List[int], p2: List[int], p3: List[int], p4: List[int]) -> bool:\r\n",
        "        dis = []\r\n",
        "        dis.append((p1[0] - p2[0]) ** 2 + (p1[1] - p2[1]) ** 2)\r\n",
        "        dis.append((p1[0] - p3[0]) ** 2 + (p1[1] - p3[1]) ** 2)\r\n",
        "        dis.append((p1[0] - p4[0]) ** 2 + (p1[1] - p4[1]) ** 2)\r\n",
        "        dis.append((p2[0] - p3[0]) ** 2 + (p2[1] - p3[1]) ** 2)\r\n",
        "        dis.append((p2[0] - p4[0]) ** 2 + (p2[1] - p4[1]) ** 2)\r\n",
        "        dis.append((p3[0] - p4[0]) ** 2 + (p3[1] - p4[1]) ** 2)\r\n",
        "        dis.sort()\r\n",
        "        return dis[0] != 0 and dis[0] == dis[1] == dis[2] == dis[3] and dis[4] == dis[5]"
      ],
      "execution_count": null,
      "outputs": []
    },
    {
      "cell_type": "markdown",
      "metadata": {
        "id": "RiRiSCru14Rk"
      },
      "source": [
        "## **Can Place Flowers**\r\n",
        "You have a long flowerbed in which some of the plots are planted, and some are not. However, flowers cannot be planted in adjacent plots.\r\n",
        "\r\n",
        "Given an integer array flowerbed containing 0’s and 1’s, where 0 means empty and 1 means not empty, and an integer n, return if n new flowers can be planted in the flowerbed without violating the no-adjacent-flowers rule."
      ]
    },
    {
      "cell_type": "code",
      "metadata": {
        "id": "U-Gq1HsN1-L2"
      },
      "source": [
        "class Solution:\r\n",
        "    def canPlaceFlowers(self, flowerbed: List[int], n: int) -> bool:\r\n",
        "        count = 0\r\n",
        "        flowerbed.extend([0, 0])\r\n",
        "        for i in range(len(flowerbed) - 2):\r\n",
        "            if flowerbed[i - 1] == flowerbed[i] == flowerbed[i + 1] == 0:\r\n",
        "                flowerbed[i] = 1\r\n",
        "                count += 1\r\n",
        "        return count >= n"
      ],
      "execution_count": null,
      "outputs": []
    },
    {
      "cell_type": "markdown",
      "metadata": {
        "id": "ocpT3z442Ajy"
      },
      "source": [
        "## **Task Scheduler**\r\n",
        "You are given a char array representing tasks CPU need to do. It contains capital letters A to Z where each letter represents a different task. Tasks could be done without the original order of the array. Each task is done in one unit of time. For each unit of time, the CPU could complete either one task or just be idle.\r\n",
        "\r\n",
        "However, there is a non-negative integer n that represents the cooldown period between two same tasks (the same letter in the array), that is that there must be at least n units of time between any two same tasks.\r\n",
        "\r\n",
        "You need to return the least number of units of times that the CPU will take to finish all the given tasks."
      ]
    },
    {
      "cell_type": "code",
      "metadata": {
        "id": "LwswXZM42M9v"
      },
      "source": [
        "class Solution:\r\n",
        "    def leastInterval(self, tasks: List[str], n: int) -> int:\r\n",
        "        ct = Counter(tasks)\r\n",
        "        maxx = max(ct.values())\r\n",
        "        nmax = len([v for v in ct.values() if v == maxx])\r\n",
        "        return max(len(tasks), (maxx - 1) * (n + 1) + nmax)"
      ],
      "execution_count": null,
      "outputs": []
    },
    {
      "cell_type": "markdown",
      "metadata": {
        "id": "Mpl-LzXc19ev"
      },
      "source": [
        "## **Maximum Width of Binary Tree**\r\n",
        "Given a binary tree, write a function to get the maximum width of the given tree. The width of a tree is the maximum width among all levels. The binary tree has the same structure as a full binary tree, but some nodes are null.\r\n",
        "\r\n",
        "The width of one level is defined as the length between the end-nodes (the leftmost and right most non-null nodes in the level, where the null nodes between the end-nodes are also counted into the length calculation."
      ]
    },
    {
      "cell_type": "code",
      "metadata": {
        "id": "53Zg3-7V2N28"
      },
      "source": [
        "class Solution:\r\n",
        "    def widthOfBinaryTree(self, root: TreeNode) -> int:\r\n",
        "        q = [(root, 0)]\r\n",
        "        res = 1\r\n",
        "        while q:\r\n",
        "            res = max(res, q[-1][1] - q[0][1] + 1)\r\n",
        "            tmp = []\r\n",
        "            for node, pos in q:\r\n",
        "                if node.left:\r\n",
        "                    tmp.append((node.left, pos * 2))\r\n",
        "                if node.right:\r\n",
        "                    tmp.append((node.right, pos * 2 + 1))\r\n",
        "            q = tmp\r\n",
        "        return res"
      ],
      "execution_count": null,
      "outputs": []
    },
    {
      "cell_type": "markdown",
      "metadata": {
        "id": "eAus17CD2aKp"
      },
      "source": [
        "## **Number of Longest Increasing Subsequence**\r\n",
        "Given an integer array nums, return the number of longest increasing subsequences."
      ]
    },
    {
      "cell_type": "code",
      "metadata": {
        "id": "CkqN2wfJ0H31"
      },
      "source": [
        "class Solution:\r\n",
        "    def findNumberOfLIS(self, nums):\r\n",
        "        dp = collections.defaultdict(collections.Counter)\r\n",
        "        dp[-1][float('-inf')] = 1\r\n",
        "        table = []\r\n",
        "        for n in nums:\r\n",
        "            i = bisect.bisect_left(table, n)\r\n",
        "            if i == len(table):\r\n",
        "                table.append(n)\r\n",
        "            else:\r\n",
        "                table[i] = n\r\n",
        "            dp[i][n] += sum(dp[i - 1][j] for j in dp[i - 1] if j < n)\r\n",
        "        return sum(dp[max(0, len(table) - 1)].values())"
      ],
      "execution_count": null,
      "outputs": []
    },
    {
      "cell_type": "markdown",
      "metadata": {
        "id": "sdmyL3ZS2qRF"
      },
      "source": [
        "## **Valid Parenthesis String**\r\n",
        "Given a string containing only three types of characters: ‘(‘, ‘)’ and ‘*’, write a function to check whether this string is valid. We define the validity of a string by these rules:\r\n",
        "\r\n",
        "Any left parenthesis ‘(‘ must have a corresponding right parenthesis ‘)’.\r\n",
        "Any right parenthesis ‘)’ must have a corresponding left parenthesis ‘(‘.\r\n",
        "Left parenthesis ‘(‘ must go before the corresponding right parenthesis ‘)’.\r\n",
        "‘*’ could be treated as a single right parenthesis ‘)’ or a single left parenthesis ‘(‘ or an empty string.\r\n",
        "An empty string is also valid."
      ]
    },
    {
      "cell_type": "code",
      "metadata": {
        "id": "Jp7n2VQXymWM"
      },
      "source": [
        "class Solution:\r\n",
        "    def checkValidString(self, s: str) -> bool:\r\n",
        "        l = r = 0\r\n",
        "        for c in s:\r\n",
        "            if c == '(':\r\n",
        "                l += 1\r\n",
        "                r += 1\r\n",
        "            elif c == ')':\r\n",
        "                if l > 0:\r\n",
        "                    l -= 1\r\n",
        "                r -= 1\r\n",
        "            else:\r\n",
        "                if l > 0:\r\n",
        "                    l -= 1\r\n",
        "                r += 1\r\n",
        "            if r < 0:\r\n",
        "                return False\r\n",
        "        return l == 0"
      ],
      "execution_count": null,
      "outputs": []
    },
    {
      "cell_type": "markdown",
      "metadata": {
        "id": "UmVWPHWn20-J"
      },
      "source": [
        "## **Search in a Binary Search Tree**\r\n",
        "Given the root node of a binary search tree (BST) and a value. You need to find the node in the BST that the node’s value equals the given value. Return the subtree rooted with that node. If such node doesn’t exist, you should return NULL."
      ]
    },
    {
      "cell_type": "code",
      "metadata": {
        "id": "hppQI9ya2-KJ"
      },
      "source": [
        "class Solution:\r\n",
        "    def searchBST(self, root: TreeNode, val: int) -> TreeNode:\r\n",
        "        if not root:\r\n",
        "            return None\r\n",
        "        while root:\r\n",
        "            if root.val == val:\r\n",
        "                return root\r\n",
        "            if root.val > val:\r\n",
        "                root = root.left\r\n",
        "            else:\r\n",
        "                root = root.right"
      ],
      "execution_count": null,
      "outputs": []
    },
    {
      "cell_type": "markdown",
      "metadata": {
        "id": "jjZDipmb3x7y"
      },
      "source": [
        "## **Insert into a Binary Search Tree**\r\n",
        "You are given the root node of a binary search tree (BST) and a value to insert into the tree. Return the root node of the BST after the insertion. It is guaranteed that the new value does not exist in the original BST.\r\n",
        "\r\n",
        "Notice that there may exist multiple valid ways for the insertion, as long as the tree remains a BST after insertion. You can return any of them."
      ]
    },
    {
      "cell_type": "code",
      "metadata": {
        "id": "sDhyqJ4CxadA"
      },
      "source": [
        "class Solution:\r\n",
        "    def insertIntoBST(self, root, val):\r\n",
        "        if not root:\r\n",
        "            return TreeNode(val)\r\n",
        "        if val > root.val:\r\n",
        "            root.right = self.insertIntoBST(root.right, val)\r\n",
        "        else:\r\n",
        "            root.left = self.insertIntoBST(root.left, val)\r\n",
        "        return root"
      ],
      "execution_count": null,
      "outputs": []
    },
    {
      "cell_type": "markdown",
      "metadata": {
        "id": "9lWMiH-f45lt"
      },
      "source": [
        "## **Binary Search**\r\n",
        "Given a sorted (in ascending order) integer array nums of n elements and a target value, write a function to search target in nums. If target exists, then return its index, otherwise return -1"
      ]
    },
    {
      "cell_type": "code",
      "metadata": {
        "id": "Te-dMOXh4_UC"
      },
      "source": [
        "lass Solution:\r\n",
        "    def search(self, nums: List[int], target: int) -> int:\r\n",
        "        l, r = 0, len(nums) - 1\r\n",
        "        while l <= r:\r\n",
        "            m = (l + r) // 2\r\n",
        "            if nums[m] == target:\r\n",
        "                return m\r\n",
        "            if nums[m] < target:\r\n",
        "                l = m + 1\r\n",
        "            else:\r\n",
        "                r = m - 1\r\n",
        "        return -1"
      ],
      "execution_count": null,
      "outputs": []
    },
    {
      "cell_type": "markdown",
      "metadata": {
        "id": "ul-_9VGJ5a7e"
      },
      "source": [
        "## **Design HashSet** \r\n",
        "Design a HashSet without using any built-in hash table libraries.\r\n",
        "\r\n",
        "To be specific, your design should include these functions:\r\n",
        "\r\n",
        "add(value): Insert a value into the HashSet.\r\n",
        "contains(value) : Return whether the value exists in the HashSet or not.\r\n",
        "remove(value): Remove a value in the HashSet. If the value does not exist in the HashSet, do nothing."
      ]
    },
    {
      "cell_type": "code",
      "metadata": {
        "id": "EuI4jO4m5m1d"
      },
      "source": [
        "class Node:\r\n",
        "    \r\n",
        "    def __init__(self, value, nextNode=None):\r\n",
        "        self.val = value\r\n",
        "        self.next = nextNode\r\n",
        "        \r\n",
        "class Bucket:\r\n",
        "    \r\n",
        "    def __init__(self):\r\n",
        "        self.head = Node(0)\r\n",
        "    \r\n",
        "    def exists(self, val):\r\n",
        "        cur = self.head.next\r\n",
        "        while cur:\r\n",
        "            if cur.val == val:\r\n",
        "                return True\r\n",
        "            cur = cur.next\r\n",
        "        return False\r\n",
        "    \r\n",
        "    def insert(self, val):\r\n",
        "        if not self.exists(val):\r\n",
        "            node = Node(val, self.head.next)\r\n",
        "            self.head.next = node\r\n",
        "            \r\n",
        "    def delete(self, val):\r\n",
        "        pre = self.head\r\n",
        "        cur = self.head.next\r\n",
        "        while cur:\r\n",
        "            if cur.val == val:\r\n",
        "                pre.next = cur.next\r\n",
        "                return\r\n",
        "            pre = cur\r\n",
        "            cur = cur.next\r\n",
        "    \r\n",
        "class MyHashSet:\r\n",
        "\r\n",
        "    def __init__(self):\r\n",
        "        \"\"\" Initialize your data structure here. \"\"\"\r\n",
        "        self.m = 1009\r\n",
        "        self.bucket = [Bucket() for i in range(self.m)]\r\n",
        "\r\n",
        "    def _hash(self, key):\r\n",
        "        return key % self.m\r\n",
        "    \r\n",
        "    def add(self, key: int) -> None:\r\n",
        "        self.bucket[self._hash(key)].insert(key)\r\n",
        "\r\n",
        "    def remove(self, key: int) -> None:\r\n",
        "        self.bucket[self._hash(key)].delete(key)\r\n",
        "\r\n",
        "    def contains(self, key: int) -> bool:\r\n",
        "        \"\"\" Returns true if this set contains the specified element \"\"\"\r\n",
        "        return self.bucket[self._hash(key)].exists(key)"
      ],
      "execution_count": null,
      "outputs": []
    },
    {
      "cell_type": "markdown",
      "metadata": {
        "id": "YyhtgWUT5na-"
      },
      "source": [
        "## **Subarray Product Less Than K**\r\n",
        "Your are given an array of positive integers nums.\r\n",
        "\r\n",
        "Count and print the number of (contiguous) subarrays where the product of all the elements in the subarray is less than k."
      ]
    },
    {
      "cell_type": "code",
      "metadata": {
        "id": "4loaJ2Ez52P7"
      },
      "source": [
        "class Solution:\r\n",
        "    def numSubarrayProductLessThanK(self, nums: List[int], k: int) -> int:\r\n",
        "        if k <= 1:\r\n",
        "            return 0\r\n",
        "        prod = 1\r\n",
        "        res = l = 0\r\n",
        "        for r, val in enumerate(nums):\r\n",
        "            prod *= val\r\n",
        "            while prod >= k:\r\n",
        "                prod /= nums[l]\r\n",
        "                l += 1\r\n",
        "            res += r - l + 1\r\n",
        "        return res"
      ],
      "execution_count": null,
      "outputs": []
    },
    {
      "cell_type": "markdown",
      "metadata": {
        "id": "qBZrgUx053OG"
      },
      "source": [
        "## **Flood Fill**\r\n",
        "An image is represented by a 2-D array of integers, each integer representing the pixel value of the image (from 0 to 65535).Given a coordinate (sr, sc) representing the starting pixel (row and column) of the flood fill, and a pixel value newColor, “flood fill” the image.To perform a “flood fill”, consider the starting pixel, plus any pixels connected 4-directionally to the starting pixel of the same color as the starting pixel, plus any pixels connected 4-directionally to those pixels (also with the same color as the starting pixel), and so on. Replace the color of all of the aforementioned pixels with the newColor.At the end, return the modified image."
      ]
    },
    {
      "cell_type": "code",
      "metadata": {
        "id": "Zssr5Cma6nSo"
      },
      "source": [
        "class Solution:\r\n",
        "    def floodFill(self, image: List[List[int]], sr: int, sc: int, newColor: int) -> List[List[int]]:\r\n",
        "        m, n = len(image), len(image[0])\r\n",
        "        directions = [(-1, 0), (1, 0), (0, -1), (0, 1)]\r\n",
        "        q = [(sr, sc)]\r\n",
        "        visited = {(sr, sc)}\r\n",
        "        color = image[sr][sc]\r\n",
        "        while q:\r\n",
        "            x, y = q.pop()\r\n",
        "            image[x][y] = newColor\r\n",
        "            for dirx, diry in directions:\r\n",
        "                tx, ty = x + dirx, y + diry\r\n",
        "                if 0 <= tx < m and 0 <= ty < n and image[tx][ty] == color and (tx, ty) not in visited:\r\n",
        "                    q.append((tx, ty))\r\n",
        "                    visited.add((tx, ty))\r\n",
        "        return image"
      ],
      "execution_count": null,
      "outputs": []
    },
    {
      "cell_type": "markdown",
      "metadata": {
        "id": "394r3SB96wxz"
      },
      "source": [
        "## **Asteroid Collision**\r\n",
        "We are given an array asteroids of integers representing asteroids in a row.\r\n",
        "For each asteroid, the absolute value represents its size, and the sign represents its direction (positive meaning right, negative meaning left). Each asteroid moves at the same speed.Find out the state of the asteroids after all collisions. If two asteroids meet, the smaller one will explode. If both are the same size, both will explode. Two asteroids moving in the same direction will never meet.\r\n"
      ]
    },
    {
      "cell_type": "code",
      "metadata": {
        "id": "Hsy2TMKW7J-Z"
      },
      "source": [
        "class Solution:\r\n",
        "    def asteroidCollision(self, asteroids: List[int]) -> List[int]:\r\n",
        "        stack = []\r\n",
        "        for n in asteroids:\r\n",
        "            if not stack or stack[-1] < 0 or n > 0:\r\n",
        "                stack.append(n)\r\n",
        "                continue\r\n",
        "            while stack and stack[-1] > 0:\r\n",
        "                if stack[-1] > abs(n):\r\n",
        "                    break\r\n",
        "                x = stack.pop()\r\n",
        "                if x + n == 0:\r\n",
        "                    break\r\n",
        "            else:\r\n",
        "                stack.append(n)\r\n",
        "        return stack"
      ],
      "execution_count": null,
      "outputs": []
    },
    {
      "cell_type": "markdown",
      "metadata": {
        "id": "EcOsGUq_7KmB"
      },
      "source": [
        "## **Partition Labels**\r\n",
        "A string S of lowercase English letters is given. We want to partition this string into as many parts as possible so that each letter appears in at most one part, and return a list of integers representing the size of these parts."
      ]
    },
    {
      "cell_type": "code",
      "metadata": {
        "id": "5I98_moC7U5T"
      },
      "source": [
        "class Solution:\r\n",
        "    def partitionLabels(self, S: str) -> List[int]:\r\n",
        "        last = {c: i for i, c in enumerate(S)}\r\n",
        "        pre = cur = 0\r\n",
        "        res = []\r\n",
        "        for i, c in enumerate(S):\r\n",
        "            cur = max(cur, last[c])\r\n",
        "            if i == cur:\r\n",
        "                res.append(i - pre + 1)\r\n",
        "                pre = i + 1   \r\n",
        "        return res"
      ],
      "execution_count": null,
      "outputs": []
    },
    {
      "cell_type": "markdown",
      "metadata": {
        "id": "lBSEXn487ViJ"
      },
      "source": [
        "## **Jewels and Stones**\r\n",
        "ou’re given strings J representing the types of stones that are jewels, and S representing the stones you have. Each character in S is a type of stone you have. You want to know how many of the stones you have are also jewels.\r\n",
        "\r\n",
        "The letters in J are guaranteed distinct, and all characters in J and S are letters. Letters are case sensitive, so “a” is considered a different type of stone from “A”."
      ]
    },
    {
      "cell_type": "code",
      "metadata": {
        "id": "SVGrEwoh7ii6"
      },
      "source": [
        "class Solution:\r\n",
        "    def numJewelsInStones(self, J, S):\r\n",
        "        res = 0\r\n",
        "        for s in S:\r\n",
        "            if s in set(J):\r\n",
        "                res += 1\r\n",
        "        return res"
      ],
      "execution_count": null,
      "outputs": []
    },
    {
      "cell_type": "markdown",
      "metadata": {
        "id": "Fm6Nu8bk709J"
      },
      "source": [
        "## **Cheapest Flights Within K Stops**\r\n",
        "here are n cities connected by m flights. Each flight starts from city u and arrives at v with a price w.\r\n",
        "\r\n",
        "Now given all the cities and flights, together with starting city src and the destination dst, your task is to find the cheapest price from src to dst with up to k stops. If there is no such route, output -1.\r\n",
        "\r\n",
        "Constraints:\r\n",
        "\r\n",
        "The number of nodes n will be in range [1, 100], with nodes labeled from 0 to n - 1.\r\n",
        "The size of flights will be in range [0, n * (n - 1) / 2].\r\n",
        "The format of each flight will be (src, dst, price).\r\n",
        "The price of each flight will be in the range [1, 10000].\r\n",
        "k is in the range of [0, n - 1].\r\n",
        "There will not be any duplicated flights or self cycles."
      ]
    },
    {
      "cell_type": "code",
      "metadata": {
        "id": "MaY_pk1R70SI"
      },
      "source": [
        "from collections import defaultdict\r\n",
        "import heapq\r\n",
        "class Solution:\r\n",
        "    def findCheapestPrice(self, n: int, flights: List[List[int]], src: int, dst: int, K: int) -> int:\r\n",
        "        edge = defaultdict(list)\r\n",
        "        for u, v, w in flights:\r\n",
        "            edge[u].append((v, w))\r\n",
        "        dist = {}\r\n",
        "        q = [(0, src, 0)]\r\n",
        "        while q:\r\n",
        "            cost, cur, k = heapq.heappop(q)\r\n",
        "            if k > K + 1 or cost > dist.get((cur, k), float('inf')):\r\n",
        "                continue\r\n",
        "            if cur == dst:\r\n",
        "                return cost\r\n",
        "            for node, w in edge[cur]:\r\n",
        "                tmp = cost + w\r\n",
        "                if tmp < dist.get((node, k + 1), float('inf')):\r\n",
        "                    heapq.heappush(q, (tmp, node, k + 1))\r\n",
        "                    dist[(node, k + 1)] = tmp\r\n",
        "        return -1"
      ],
      "execution_count": null,
      "outputs": []
    },
    {
      "cell_type": "markdown",
      "metadata": {
        "id": "VXc0K93z79uV"
      },
      "source": [
        "## **All Paths From Source to Target**\r\n",
        "Given a directed, acyclic graph of N nodes. Find all possible paths from node 0 to node N-1, and return them in any order.\r\n",
        "\r\n",
        "The graph is given as follows: the nodes are 0, 1, …, graph.length - 1. graph[i] is a list of all nodes j for which the edge (i, j) exists."
      ]
    },
    {
      "cell_type": "code",
      "metadata": {
        "id": "7NvdqKdi8It-"
      },
      "source": [
        "class Solution:\r\n",
        "    def allPathsSourceTarget(self, graph: List[List[int]]) -> List[List[int]]:\r\n",
        "        n = len(graph)\r\n",
        "        res = []\r\n",
        "        paths = [[0]]\r\n",
        "        while paths:\r\n",
        "            tmp = []\r\n",
        "            for path in paths:\r\n",
        "                if path[-1] == n - 1:\r\n",
        "                    res.append(path)\r\n",
        "                    continue\r\n",
        "                for node in graph[path[-1]]:\r\n",
        "                    tmp.append(path + [node])\r\n",
        "            paths = tmp\r\n",
        "        return res"
      ],
      "execution_count": null,
      "outputs": []
    },
    {
      "cell_type": "markdown",
      "metadata": {
        "id": "Rqq8VQqO8N82"
      },
      "source": [
        "## **Champagne Tower**\r\n",
        "We stack glasses in a pyramid, where the first row has 1 glass, the second row has 2 glasses, and so on until the 100th row. Each glass holds one cup (250ml) of champagne.\r\n",
        "\r\n",
        "Then, some champagne is poured in the first glass at the top. When the topmost glass is full, any excess liquid poured will fall equally to the glass immediately to the left and right of it. When those glasses become full, any excess champagne will fall equally to the left and right of those glasses, and so on. (A glass at the bottom row has its excess champagne fall on the floor.)\r\n",
        "\r\n",
        "For example, after one cup of champagne is poured, the top most glass is full. After two cups of champagne are poured, the two glasses on the second row are half full. After three cups of champagne are poured, those two cups become full - there are 3 full glasses total now. After four cups of champagne are poured, the third row has the middle glass half full, and the two outside glasses are a quarter full, as pictured below.\r\n",
        "\r\n",
        "Now after pouring some non-negative integer cups of champagne, return how full the jth glass in the ith row is (both i and j are 0-indexed.)"
      ]
    },
    {
      "cell_type": "code",
      "metadata": {
        "id": "0CBV7G718Wge"
      },
      "source": [
        "class Solution:\r\n",
        "    def champagneTower(self, poured: int, query_row: int, query_glass: int) -> float:\r\n",
        "        q = [poured]\r\n",
        "        for r in range(query_row):\r\n",
        "            q2 = [0] * (len(q) + 1)\r\n",
        "            for i, amount in enumerate(q):\r\n",
        "                if amount <= 1:\r\n",
        "                    continue\r\n",
        "                tmp = (amount - 1) / 2\r\n",
        "                q2[i] += tmp\r\n",
        "                q2[i + 1] += tmp\r\n",
        "            q = q2\r\n",
        "        return min(q[query_glass], 1)"
      ],
      "execution_count": null,
      "outputs": []
    },
    {
      "cell_type": "markdown",
      "metadata": {
        "id": "5DbMaAjL8XzZ"
      },
      "source": [
        "## **Unique Morse Code Words**\r\n",
        "International Morse Code defines a standard encoding where each letter is mapped to a series of dots and dashes, as follows: “a” maps to “.-“, “b” maps to “-…”, “c” maps to “-.-.”, and so on.\r\n",
        "\r\n",
        "For convenience, the full table for the 26 letters of the English alphabet is given below:"
      ]
    },
    {
      "cell_type": "markdown",
      "metadata": {
        "id": "T958HPpH8sXt"
      },
      "source": [
        "## **Goat Latin**\r\n",
        "A sentence S is given, composed of words separated by spaces. Each word consists of lowercase and uppercase letters only.\r\n",
        "\r\n",
        "We would like to convert the sentence to “Goat Latin” (a made-up language similar to Pig Latin.)\r\n",
        "\r\n",
        "The rules of Goat Latin are as follows:\r\n",
        "\r\n",
        "If a word begins with a vowel (a, e, i, o, or u), append “ma” to the end of the word. For example, the word ‘apple’ becomes ‘applema’.\r\n",
        "\r\n",
        "If a word begins with a consonant (i.e. not a vowel), remove the first letter and append it to the end, then add “ma”. For example, the word “goat” becomes “oatgma”.\r\n",
        "\r\n",
        "Add one letter ‘a’ to the end of each word per its word index in the sentence, starting with 1. For example, the first word gets “a” added to the end, the second word gets “aa” added to the end and so on. Return the final sentence representing the conversion from S to Goat Latin."
      ]
    },
    {
      "cell_type": "code",
      "metadata": {
        "id": "hs8V7GLV81AJ"
      },
      "source": [
        "lass Solution:\r\n",
        "    def toGoatLatin(self, S: str) -> str:\r\n",
        "        res = []\r\n",
        "        for i, word in enumerate(S.split()):\r\n",
        "            if word[0].lower() in ('aeiou'):\r\n",
        "                res.append(word + \"ma\" + \"a\" * (i + 1))\r\n",
        "            else:\r\n",
        "                res.append(word[1:] + word[0] + \"ma\" + \"a\" * (i + 1))\r\n",
        "        return ' '.join(res)"
      ],
      "execution_count": null,
      "outputs": []
    },
    {
      "cell_type": "markdown",
      "metadata": {
        "id": "6N2NeGHw83Rs"
      },
      "source": [
        "## **Flipping an Image**\r\n",
        "Given a binary matrix A, we want to flip the image horizontally, then invert it, and return the resulting image.\r\n",
        "\r\n",
        "To flip an image horizontally means that each row of the image is reversed. For example, flipping [1, 1, 0] horizontally results in [0, 1, 1].\r\n",
        "\r\n",
        "To invert an image means that each 0 is replaced by 1, and each 1 is replaced by 0. For example, inverting [0, 1, 1] results in [1, 0, 0].\r\n",
        "\r\n",
        "解题思路"
      ]
    },
    {
      "cell_type": "code",
      "metadata": {
        "id": "OEn157ER88nr"
      },
      "source": [
        "class Solution:\r\n",
        "    def flipAndInvertImage(self, A: List[List[int]]) -> List[List[int]]:\r\n",
        "        for row in A:\r\n",
        "            for i in range((len(row) + 1) // 2):\r\n",
        "                row[i], row[~i] = row[~i] ^ 1, row[i] ^ 1\r\n",
        "        return A"
      ],
      "execution_count": null,
      "outputs": []
    },
    {
      "cell_type": "markdown",
      "metadata": {
        "id": "Pd7ptEiV8-bc"
      },
      "source": [
        "## **Image Overlap**\r\n",
        "Two images A and B are given, represented as binary, square matrices of the same size. (A binary matrix has only 0s and 1s as values.)\r\n",
        "\r\n",
        "We translate one image however we choose (sliding it left, right, up, or down any number of units), and place it on top of the other image. After, the overlap of this translation is the number of positions that have a 1 in both images.\r\n",
        "\r\n",
        "(Note also that a translation does not include any kind of rotation.)\r\n",
        "\r\n",
        "What is the largest possible overlap?"
      ]
    },
    {
      "cell_type": "code",
      "metadata": {
        "id": "fVWPOPLH9Qkf"
      },
      "source": [
        "class Solution:\r\n",
        "    def largestOverlap(self, A: List[List[int]], B: List[List[int]]) -> int:\r\n",
        "        N = len(A)\r\n",
        "        ct = collections.Counter()\r\n",
        "        for i, row in enumerate(A):\r\n",
        "            for j, col in enumerate(row):\r\n",
        "                if col:\r\n",
        "                    for i2, row2 in enumerate(B):\r\n",
        "                        for j2, col2 in enumerate(row2):\r\n",
        "                            if col2:\r\n",
        "                                ct[i - i2, j - j2] += 1\r\n",
        "        return max(ct.values() or [0])"
      ],
      "execution_count": null,
      "outputs": []
    },
    {
      "cell_type": "markdown",
      "metadata": {
        "id": "mZLjl7-_9ROc"
      },
      "source": [
        "## **Backspace String Compare**\r\n",
        "Given two strings S and T, return if they are equal when both are typed into empty text editors. # means a backspace character.\r\n",
        "\r\n",
        "Note that after backspacing an empty text, the text will continue empty."
      ]
    },
    {
      "cell_type": "code",
      "metadata": {
        "id": "fLWMBq_K9clO"
      },
      "source": [
        "class Solution:\r\n",
        "    def backspaceCompare(self, S: str, T: str) -> bool:\r\n",
        "        def build(s):\r\n",
        "            s = list(s)\r\n",
        "            i = 0\r\n",
        "            for c in s:\r\n",
        "                if c != '#':\r\n",
        "                    s[i] = c\r\n",
        "                    i += 1\r\n",
        "                else:\r\n",
        "                    if i:\r\n",
        "                        i -= 1\r\n",
        "            return ''.join(s[:i])\r\n",
        "        return build(S) == build(T)"
      ],
      "execution_count": null,
      "outputs": []
    },
    {
      "cell_type": "markdown",
      "metadata": {
        "id": "9E0RNDP_9e3F"
      },
      "source": [
        "## **Longest Mountain in Array**\r\n",
        "Let’s call any (contiguous) subarray B (of A) a mountain if the following properties hold:\r\n",
        "\r\n",
        "B.length >= 3\r\n",
        "There exists some 0 < i < B.length - 1 such that B[0] < B[1] < … B[i-1] < B[i] > B[i+1] > … > B[B.length - 1] (Note that B could be any subarray of A, including the entire array A.)\r\n",
        "Given an array A of integers, return the length of the longest mountain.\r\n",
        "\r\n",
        "Return 0 if there is no mountain."
      ]
    },
    {
      "cell_type": "code",
      "metadata": {
        "id": "TNRyYJwL9lkc"
      },
      "source": [
        "class Solution:\r\n",
        "    def longestMountain(self, A: List[int]) -> int:\r\n",
        "        n = len(A)\r\n",
        "        res = l = 0\r\n",
        "        while l + 2 < n:\r\n",
        "            r = l + 1\r\n",
        "            if A[l] < A[l + 1]:\r\n",
        "                while r + 1 < n and A[r] < A[r + 1]:\r\n",
        "                    r += 1\r\n",
        "                if r < n - 1 and A[r] > A[r + 1]:\r\n",
        "                    while r + 1 < n and A[r] > A[r + 1]:\r\n",
        "                        r += 1\r\n",
        "                    res = max(res, r - l + 1)\r\n",
        "                else:\r\n",
        "                    r += 1\r\n",
        "            l = r\r\n",
        "        return res"
      ],
      "execution_count": null,
      "outputs": []
    },
    {
      "cell_type": "markdown",
      "metadata": {
        "id": "UGXpQnwf9pOh"
      },
      "source": [
        "## **Maximize Distance to Closest Person**\r\n",
        "You are given an array representing a row of seats where seats[i] = 1 represents a person sitting in the ith seat, and seats[i] = 0 represents that the ith seat is empty (0-indexed).\r\n",
        "\r\n",
        "There is at least one empty seat, and at least one person sitting.\r\n",
        "\r\n",
        "Alex wants to sit in the seat such that the distance between him and the closest person to him is maximized.\r\n",
        "\r\n",
        "Return that maximum distance to the closest person."
      ]
    },
    {
      "cell_type": "code",
      "metadata": {
        "id": "bqF5M0DP907Q"
      },
      "source": [
        "class Solution:\r\n",
        "    def maxDistToClosest(self, seats: List[int]) -> int:\r\n",
        "        cur, n = 0, len(seats)\r\n",
        "        for k in range(n):\r\n",
        "            if seats[k]:\r\n",
        "                break\r\n",
        "            else:\r\n",
        "                cur += 1\r\n",
        "        res = cur\r\n",
        "        zeros = cur = 0\r\n",
        "        for i in range(k, n):\r\n",
        "            if seats[i]:\r\n",
        "                zeros = max(zeros, cur)\r\n",
        "                cur = 0\r\n",
        "            else:\r\n",
        "                cur += 1\r\n",
        "        res = max(res, (zeros + 1) // 2, cur)\r\n",
        "        return res"
      ],
      "execution_count": null,
      "outputs": []
    },
    {
      "cell_type": "markdown",
      "metadata": {
        "id": "a9IwLxQT-RbF"
      },
      "source": [
        "## **Mirror Reflection**\r\n",
        "There is a special square room with mirrors on each of the four walls. Except for the southwest corner, there are receptors on each of the remaining corners, numbered 0, 1, and 2.\r\n",
        "\r\n",
        "The square room has walls of length p, and a laser ray from the southwest corner first meets the east wall at a distance q from the 0th receptor.\r\n",
        "\r\n",
        "Return the number of the receptor that the ray meets first. (It is guaranteed that the ray will meet a receptor eventually.) "
      ]
    },
    {
      "cell_type": "code",
      "metadata": {
        "id": "SnvPtvNv-aYG"
      },
      "source": [
        "class Solution:\r\n",
        "    def mirrorReflection(self, p: int, q: int) -> int:\r\n",
        "        from fractions import gcd\r\n",
        "        g = gcd(p, q)\r\n",
        "        if (p // g) % 2 == 0:\r\n",
        "            return 2\r\n",
        "        return (q // g) % 2"
      ],
      "execution_count": null,
      "outputs": []
    },
    {
      "cell_type": "markdown",
      "metadata": {
        "id": "XjyM_3Fv-ZcC"
      },
      "source": [
        "## **Buddy Strings**\r\n",
        "Given two strings A and B of lowercase letters, return true if you can swap two letters in A so the result is equal to B, otherwise, return false.\r\n",
        "\r\n",
        "Swapping letters is defined as taking two indices i and j (0-indexed) such that i != j and swapping the characters at A[i] and A[j]. For example, swapping at indices 0 and 2 in “abcd” results in “cbad”"
      ]
    },
    {
      "cell_type": "code",
      "metadata": {
        "id": "YNfpTbtu-77X"
      },
      "source": [
        "class Solution:\r\n",
        "    def buddyStrings(self, A: str, B: str) -> bool:\r\n",
        "        if len(A) != len(B):\r\n",
        "            return False\r\n",
        "        if A == B:\r\n",
        "            s = set()\r\n",
        "            for a in A:\r\n",
        "                if a in s:\r\n",
        "                    return True\r\n",
        "                s.add(a)\r\n",
        "            return False\r\n",
        "        pair = []\r\n",
        "        for a, b in zip(A, B):\r\n",
        "            if a != b:\r\n",
        "                pair.append((a, b))\r\n",
        "            if len(pair) > 2:\r\n",
        "                return False\r\n",
        "        return len(pair) == 2 and pair[0] == pair[1][::-1]"
      ],
      "execution_count": null,
      "outputs": []
    },
    {
      "cell_type": "markdown",
      "metadata": {
        "id": "C7IJmDWB_jMa"
      },
      "source": [
        "## **Smallest Subtree with all the Deepest Nodes**\r\n",
        "Given the root of a binary tree, the depth of each node is the shortest distance to the root.\r\n",
        "\r\n",
        "Return the smallest subtree such that it contains all the deepest nodes in the original tree.\r\n",
        "\r\n",
        "A node is called the deepest if it has the largest depth possible among any node in the entire tree.\r\n",
        "\r\n",
        "The subtree of a node is tree consisting of that node, plus the set of all descendants of that node.\r\n",
        "\r\n",
        "Note: This question is the same as 1123: https://leetcode.com/problems/lowest-common-ancestor-of-deepest-leaves/"
      ]
    },
    {
      "cell_type": "code",
      "metadata": {
        "id": "08niBmE7BVUg"
      },
      "source": [
        "class Solution:\r\n",
        "    def subtreeWithAllDeepest(self, root: TreeNode) -> TreeNode:\r\n",
        "        def dfs(root):\r\n",
        "            if not root:\r\n",
        "                return (None, 0)\r\n",
        "            l = dfs(root.left)\r\n",
        "            r = dfs(root.right)\r\n",
        "            depth = max(l[1], r[1]) + 1\r\n",
        "            if l[1] < r[1]:\r\n",
        "                return (r[0], depth)\r\n",
        "            elif l[1] > r[1]:\r\n",
        "                return (l[0], depth)\r\n",
        "            return (root, depth)\r\n",
        "\r\n",
        "        return dfs(root)[0]"
      ],
      "execution_count": null,
      "outputs": []
    },
    {
      "cell_type": "markdown",
      "metadata": {
        "id": "5Emuab9iBaIr"
      },
      "source": [
        "## **Middle of the Linked List**\r\n",
        "Given a non-empty, singly linked list with head node head, return a middle node of linked list.\r\n",
        "\r\n",
        "If there are two middle nodes, return the second middle node."
      ]
    },
    {
      "cell_type": "code",
      "metadata": {
        "id": "Fw2Grcc5Bkgf"
      },
      "source": [
        "# Definition for singly-linked list. # class ListNode: # def __init__(self, x): # self.val = x # self.next = None \r\n",
        "class Solution:\r\n",
        "    def middleNode(self, head: ListNode) -> ListNode:\r\n",
        "        fast = slow = head\r\n",
        "        while fast and fast.next:\r\n",
        "            fast = fast.next.next\r\n",
        "            slow = slow.next\r\n",
        "        return slow"
      ],
      "execution_count": null,
      "outputs": []
    },
    {
      "cell_type": "markdown",
      "metadata": {
        "id": "kUEXwJ7-Bw06"
      },
      "source": [
        "## **Decoded String at Index**\r\n",
        "An encoded string S is given. To find and write the decoded string to a tape, the encoded string is read one character at a time and the following steps are taken:\r\n",
        "\r\n",
        "If the character read is a letter, that letter is written onto the tape.\r\n",
        "If the character read is a digit (say d), the entire current tape is repeatedly written d-1 more times in total. Now for some encoded string S, and an index K, find and return the K-th letter (1 indexed) in the decoded string."
      ]
    },
    {
      "cell_type": "code",
      "metadata": {
        "id": "OdcQdeLuBYx2"
      },
      "source": [
        "class Solution:\r\n",
        "    def decodeAtIndex(self, S: str, K: int) -> str:\r\n",
        "        size = 0\r\n",
        "        for i, c in enumerate(S):\r\n",
        "            if c.isdigit():\r\n",
        "                size *= int(c)\r\n",
        "            else:\r\n",
        "                size += 1\r\n",
        "            if K <= size:\r\n",
        "                break\r\n",
        "        for c in S[i::-1]:\r\n",
        "            if c.isdigit():\r\n",
        "                size /= int(c)\r\n",
        "                K %= size\r\n",
        "            else:\r\n",
        "                if K % size == 0:\r\n",
        "                    return c\r\n",
        "                size -= 1"
      ],
      "execution_count": null,
      "outputs": []
    },
    {
      "cell_type": "markdown",
      "metadata": {
        "id": "kehEmSUnB954"
      },
      "source": [
        "## **Boats to Save People**\r\n",
        "The i-th person has weight people[i], and each boat can carry a maximum weight of limit.\r\n",
        "\r\n",
        "Each boat carries at most 2 people at the same time, provided the sum of the weight of those people is at most limit.\r\n",
        "\r\n",
        "Return the minimum number of boats to carry every given person. (It is guaranteed each person can be carried by a boat.)"
      ]
    },
    {
      "cell_type": "code",
      "metadata": {
        "id": "KtufZqRvCIg_"
      },
      "source": [
        "class Solution:\r\n",
        "    def numRescueBoats(self, people: List[int], limit: int) -> int:\r\n",
        "        people.sort(reverse=True)\r\n",
        "        i, j = 0, len(people) - 1\r\n",
        "        while i <= j:\r\n",
        "            if people[i] + people[j] <= limit:\r\n",
        "                j -= 1\r\n",
        "            i += 1\r\n",
        "        return i"
      ],
      "execution_count": null,
      "outputs": []
    },
    {
      "cell_type": "markdown",
      "metadata": {
        "id": "F5iGuBIwCKdv"
      },
      "source": [
        "## **Possible Bipartition**"
      ]
    },
    {
      "cell_type": "markdown",
      "metadata": {
        "id": "eYA3DjVc-_aT"
      },
      "source": [
        ""
      ]
    },
    {
      "cell_type": "code",
      "metadata": {
        "id": "xrwVXG419oO3"
      },
      "source": [
        ""
      ],
      "execution_count": null,
      "outputs": []
    },
    {
      "cell_type": "code",
      "metadata": {
        "id": "Y3tMZZ8O8XeR"
      },
      "source": [
        "class Solution:\r\n",
        "    def uniqueMorseRepresentations(self, words: List[str]) -> int:\r\n",
        "        morse = [\".-\",\"-...\",\"-.-.\",\"-..\",\".\",\"..-.\",\"--.\",\"....\",\"..\",\".---\",\"-.-\",\".-..\",\"--\",\"-.\",\"---\",\".--.\",\"--.-\",\".-.\",\"...\",\"-\",\"..-\",\"...-\",\".--\",\"-..-\",\"-.--\",\"--..\"]\r\n",
        "        translate = {''.join([morse[ord(c)-97] for c in word]) for word in words}\r\n",
        "        return len(translate)"
      ],
      "execution_count": null,
      "outputs": []
    }
  ]
}